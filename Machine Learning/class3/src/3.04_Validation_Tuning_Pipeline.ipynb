{
 "cells": [
  {
   "cell_type": "markdown",
   "id": "5cb9bfef",
   "metadata": {},
   "source": [
    "### __Cross Validation Techniques__"
   ]
  },
  {
   "cell_type": "markdown",
   "id": "c13bb58f",
   "metadata": {},
   "source": [
    "Cross-validation is a machine learning technique that evaluates model performance on unseen data by dividing the data into multiple folds. In each iteration, one fold is used as a validation set and the remaining as training data. This process is repeated such that each fold serves as the validation set once. The results from all iterations are averaged to provide a robust estimate of model performance. Some of the common cross-validation techniques are:\n",
    "\n",
    "\n",
    "\n"
   ]
  },
  {
   "cell_type": "markdown",
   "id": "719cadfa",
   "metadata": {},
   "source": [
    "**1. K-Fold Cross-Validation**\n",
    "\n",
    "In K-Fold Cross validation, the dataset is divided into k equally sized folds. The model is trained on k-1 folds and tested on the remaining fold. This process is repeated k times, with each fold used exactly once as the test set. The results are averaged to produce a single performance estimate.\n",
    "* Pros: Provides a more accurate estimate of model performance.\n",
    "* Cons: Computationally intensive for large datasets.\n",
    "\n"
   ]
  },
  {
   "cell_type": "markdown",
   "id": "12220391",
   "metadata": {},
   "source": [
    "**2. Stratified K-Fold Cross-Validation**\n",
    "\n",
    "Similar to K-Fold but ensures that each fold has the same proportion of different classes as the original dataset. This is especially useful for imbalanced datasets.\n",
    "* Pros: More reliable performance estimates for imbalanced datasets.\n",
    "* Cons: Still computationally intensive.\n",
    "\n"
   ]
  },
  {
   "cell_type": "markdown",
   "id": "3aa6a4fb",
   "metadata": {},
   "source": [
    "**3. Holdout Method**\n",
    "\n",
    "In holdout method, the dataset is divided into two sets, a training set and a test set. The model is trained on the training set and evaluated on the test set.\n",
    "\n",
    "* Pros: Simple and fast.\n",
    "* Cons: The evaluation may be noisy due to the variability in the training/test split.\n"
   ]
  },
  {
   "cell_type": "markdown",
   "id": "a9ad022d",
   "metadata": {},
   "source": [
    "**4. Leave-One-Out Cross-Validation (LOOCV)**\n",
    "\n",
    "A special case of k-fold cross-validation where k is equal to the number of data points in the dataset. Each observation is used once as a test set, and the model is trained on all remaining data points.\n",
    "* Pros: Maximizes the amount of training data used.\n",
    "* Cons: Extremely computationally expensive, especially for large datasets."
   ]
  },
  {
   "cell_type": "markdown",
   "id": "923cc1d8",
   "metadata": {},
   "source": [
    "**Now, let's build a linear regression model, perform analysis on it, and evaluate the model's performance:**"
   ]
  },
  {
   "cell_type": "markdown",
   "id": "c374a4e7",
   "metadata": {},
   "source": [
    "#### Step 1: Set up and Data Loading\n",
    "- Import the necessary libraries: numpy, pandas, matplotlib.pyplot from sklearn.datasets.\n",
    "- Load the housing dataset."
   ]
  },
  {
   "cell_type": "code",
   "execution_count": 1,
   "id": "6daa18db",
   "metadata": {},
   "outputs": [],
   "source": [
    "# Import necessary libraries\n",
    "import pandas as pd\n",
    "import matplotlib.pyplot as plt\n",
    "from sklearn.model_selection import train_test_split, cross_val_score\n",
    "from sklearn.model_selection import KFold, StratifiedKFold, LeaveOneOut\n",
    "from sklearn.linear_model import LinearRegression\n",
    "from sklearn.metrics import mean_squared_error, mean_absolute_error, r2_score\n",
    "import numpy as np\n"
   ]
  },
  {
   "cell_type": "markdown",
   "id": "c3adb494",
   "metadata": {},
   "source": [
    "#### Step 2: Initial Data Exploration\n",
    "- Explore the first few rows, get data type info, generate statistical summaries, and check for missing values using __.head()__, __info()__,  __.describe()__, and __.isna().sum()__."
   ]
  },
  {
   "cell_type": "code",
   "execution_count": 2,
   "id": "c9a529b2",
   "metadata": {},
   "outputs": [],
   "source": [
    "# Load the dataset\n",
    "housing_data = pd.read_csv('../dataset/housing_with_ocean_proximity.csv')"
   ]
  },
  {
   "cell_type": "code",
   "execution_count": 3,
   "id": "0664f0cc",
   "metadata": {},
   "outputs": [
    {
     "data": {
      "text/html": [
       "<div>\n",
       "<style scoped>\n",
       "    .dataframe tbody tr th:only-of-type {\n",
       "        vertical-align: middle;\n",
       "    }\n",
       "\n",
       "    .dataframe tbody tr th {\n",
       "        vertical-align: top;\n",
       "    }\n",
       "\n",
       "    .dataframe thead th {\n",
       "        text-align: right;\n",
       "    }\n",
       "</style>\n",
       "<table border=\"1\" class=\"dataframe\">\n",
       "  <thead>\n",
       "    <tr style=\"text-align: right;\">\n",
       "      <th></th>\n",
       "      <th>longitude</th>\n",
       "      <th>latitude</th>\n",
       "      <th>housing_median_age</th>\n",
       "      <th>total_rooms</th>\n",
       "      <th>total_bedrooms</th>\n",
       "      <th>population</th>\n",
       "      <th>households</th>\n",
       "      <th>median_income</th>\n",
       "      <th>median_house_value</th>\n",
       "      <th>ocean_proximity</th>\n",
       "    </tr>\n",
       "  </thead>\n",
       "  <tbody>\n",
       "    <tr>\n",
       "      <th>0</th>\n",
       "      <td>-122.23</td>\n",
       "      <td>37.88</td>\n",
       "      <td>41.0</td>\n",
       "      <td>880.0</td>\n",
       "      <td>129.0</td>\n",
       "      <td>322.0</td>\n",
       "      <td>126.0</td>\n",
       "      <td>8.3252</td>\n",
       "      <td>452600.0</td>\n",
       "      <td>NEAR BAY</td>\n",
       "    </tr>\n",
       "    <tr>\n",
       "      <th>1</th>\n",
       "      <td>-122.22</td>\n",
       "      <td>37.86</td>\n",
       "      <td>21.0</td>\n",
       "      <td>7099.0</td>\n",
       "      <td>1106.0</td>\n",
       "      <td>2401.0</td>\n",
       "      <td>1138.0</td>\n",
       "      <td>8.3014</td>\n",
       "      <td>358500.0</td>\n",
       "      <td>NEAR BAY</td>\n",
       "    </tr>\n",
       "    <tr>\n",
       "      <th>2</th>\n",
       "      <td>-122.24</td>\n",
       "      <td>37.85</td>\n",
       "      <td>52.0</td>\n",
       "      <td>1467.0</td>\n",
       "      <td>190.0</td>\n",
       "      <td>496.0</td>\n",
       "      <td>177.0</td>\n",
       "      <td>7.2574</td>\n",
       "      <td>352100.0</td>\n",
       "      <td>NEAR BAY</td>\n",
       "    </tr>\n",
       "    <tr>\n",
       "      <th>3</th>\n",
       "      <td>-122.25</td>\n",
       "      <td>37.85</td>\n",
       "      <td>52.0</td>\n",
       "      <td>1274.0</td>\n",
       "      <td>235.0</td>\n",
       "      <td>558.0</td>\n",
       "      <td>219.0</td>\n",
       "      <td>5.6431</td>\n",
       "      <td>341300.0</td>\n",
       "      <td>NEAR BAY</td>\n",
       "    </tr>\n",
       "    <tr>\n",
       "      <th>4</th>\n",
       "      <td>-122.25</td>\n",
       "      <td>37.85</td>\n",
       "      <td>52.0</td>\n",
       "      <td>1627.0</td>\n",
       "      <td>280.0</td>\n",
       "      <td>565.0</td>\n",
       "      <td>259.0</td>\n",
       "      <td>3.8462</td>\n",
       "      <td>342200.0</td>\n",
       "      <td>NEAR BAY</td>\n",
       "    </tr>\n",
       "  </tbody>\n",
       "</table>\n",
       "</div>"
      ],
      "text/plain": [
       "   longitude  latitude  housing_median_age  total_rooms  total_bedrooms  \\\n",
       "0    -122.23     37.88                41.0        880.0           129.0   \n",
       "1    -122.22     37.86                21.0       7099.0          1106.0   \n",
       "2    -122.24     37.85                52.0       1467.0           190.0   \n",
       "3    -122.25     37.85                52.0       1274.0           235.0   \n",
       "4    -122.25     37.85                52.0       1627.0           280.0   \n",
       "\n",
       "   population  households  median_income  median_house_value ocean_proximity  \n",
       "0       322.0       126.0         8.3252            452600.0        NEAR BAY  \n",
       "1      2401.0      1138.0         8.3014            358500.0        NEAR BAY  \n",
       "2       496.0       177.0         7.2574            352100.0        NEAR BAY  \n",
       "3       558.0       219.0         5.6431            341300.0        NEAR BAY  \n",
       "4       565.0       259.0         3.8462            342200.0        NEAR BAY  "
      ]
     },
     "execution_count": 3,
     "metadata": {},
     "output_type": "execute_result"
    }
   ],
   "source": [
    "housing_data.head()"
   ]
  },
  {
   "cell_type": "code",
   "execution_count": 4,
   "id": "f2537a77",
   "metadata": {},
   "outputs": [
    {
     "name": "stdout",
     "output_type": "stream",
     "text": [
      "<class 'pandas.core.frame.DataFrame'>\n",
      "RangeIndex: 20640 entries, 0 to 20639\n",
      "Data columns (total 10 columns):\n",
      " #   Column              Non-Null Count  Dtype  \n",
      "---  ------              --------------  -----  \n",
      " 0   longitude           20640 non-null  float64\n",
      " 1   latitude            20640 non-null  float64\n",
      " 2   housing_median_age  20640 non-null  float64\n",
      " 3   total_rooms         20640 non-null  float64\n",
      " 4   total_bedrooms      20433 non-null  float64\n",
      " 5   population          20640 non-null  float64\n",
      " 6   households          20640 non-null  float64\n",
      " 7   median_income       20640 non-null  float64\n",
      " 8   median_house_value  20640 non-null  float64\n",
      " 9   ocean_proximity     20640 non-null  object \n",
      "dtypes: float64(9), object(1)\n",
      "memory usage: 1.6+ MB\n"
     ]
    }
   ],
   "source": [
    "housing_data.info()"
   ]
  },
  {
   "cell_type": "code",
   "execution_count": 5,
   "id": "f8df863b",
   "metadata": {},
   "outputs": [
    {
     "data": {
      "text/html": [
       "<div>\n",
       "<style scoped>\n",
       "    .dataframe tbody tr th:only-of-type {\n",
       "        vertical-align: middle;\n",
       "    }\n",
       "\n",
       "    .dataframe tbody tr th {\n",
       "        vertical-align: top;\n",
       "    }\n",
       "\n",
       "    .dataframe thead th {\n",
       "        text-align: right;\n",
       "    }\n",
       "</style>\n",
       "<table border=\"1\" class=\"dataframe\">\n",
       "  <thead>\n",
       "    <tr style=\"text-align: right;\">\n",
       "      <th></th>\n",
       "      <th>longitude</th>\n",
       "      <th>latitude</th>\n",
       "      <th>housing_median_age</th>\n",
       "      <th>total_rooms</th>\n",
       "      <th>total_bedrooms</th>\n",
       "      <th>population</th>\n",
       "      <th>households</th>\n",
       "      <th>median_income</th>\n",
       "      <th>median_house_value</th>\n",
       "    </tr>\n",
       "  </thead>\n",
       "  <tbody>\n",
       "    <tr>\n",
       "      <th>count</th>\n",
       "      <td>20640.000000</td>\n",
       "      <td>20640.000000</td>\n",
       "      <td>20640.000000</td>\n",
       "      <td>20640.000000</td>\n",
       "      <td>20433.000000</td>\n",
       "      <td>20640.000000</td>\n",
       "      <td>20640.000000</td>\n",
       "      <td>20640.000000</td>\n",
       "      <td>20640.000000</td>\n",
       "    </tr>\n",
       "    <tr>\n",
       "      <th>mean</th>\n",
       "      <td>-119.569704</td>\n",
       "      <td>35.631861</td>\n",
       "      <td>28.639486</td>\n",
       "      <td>2635.763081</td>\n",
       "      <td>537.870553</td>\n",
       "      <td>1425.476744</td>\n",
       "      <td>499.539680</td>\n",
       "      <td>3.870671</td>\n",
       "      <td>206855.816909</td>\n",
       "    </tr>\n",
       "    <tr>\n",
       "      <th>std</th>\n",
       "      <td>2.003532</td>\n",
       "      <td>2.135952</td>\n",
       "      <td>12.585558</td>\n",
       "      <td>2181.615252</td>\n",
       "      <td>421.385070</td>\n",
       "      <td>1132.462122</td>\n",
       "      <td>382.329753</td>\n",
       "      <td>1.899822</td>\n",
       "      <td>115395.615874</td>\n",
       "    </tr>\n",
       "    <tr>\n",
       "      <th>min</th>\n",
       "      <td>-124.350000</td>\n",
       "      <td>32.540000</td>\n",
       "      <td>1.000000</td>\n",
       "      <td>2.000000</td>\n",
       "      <td>1.000000</td>\n",
       "      <td>3.000000</td>\n",
       "      <td>1.000000</td>\n",
       "      <td>0.499900</td>\n",
       "      <td>14999.000000</td>\n",
       "    </tr>\n",
       "    <tr>\n",
       "      <th>25%</th>\n",
       "      <td>-121.800000</td>\n",
       "      <td>33.930000</td>\n",
       "      <td>18.000000</td>\n",
       "      <td>1447.750000</td>\n",
       "      <td>296.000000</td>\n",
       "      <td>787.000000</td>\n",
       "      <td>280.000000</td>\n",
       "      <td>2.563400</td>\n",
       "      <td>119600.000000</td>\n",
       "    </tr>\n",
       "    <tr>\n",
       "      <th>50%</th>\n",
       "      <td>-118.490000</td>\n",
       "      <td>34.260000</td>\n",
       "      <td>29.000000</td>\n",
       "      <td>2127.000000</td>\n",
       "      <td>435.000000</td>\n",
       "      <td>1166.000000</td>\n",
       "      <td>409.000000</td>\n",
       "      <td>3.534800</td>\n",
       "      <td>179700.000000</td>\n",
       "    </tr>\n",
       "    <tr>\n",
       "      <th>75%</th>\n",
       "      <td>-118.010000</td>\n",
       "      <td>37.710000</td>\n",
       "      <td>37.000000</td>\n",
       "      <td>3148.000000</td>\n",
       "      <td>647.000000</td>\n",
       "      <td>1725.000000</td>\n",
       "      <td>605.000000</td>\n",
       "      <td>4.743250</td>\n",
       "      <td>264725.000000</td>\n",
       "    </tr>\n",
       "    <tr>\n",
       "      <th>max</th>\n",
       "      <td>-114.310000</td>\n",
       "      <td>41.950000</td>\n",
       "      <td>52.000000</td>\n",
       "      <td>39320.000000</td>\n",
       "      <td>6445.000000</td>\n",
       "      <td>35682.000000</td>\n",
       "      <td>6082.000000</td>\n",
       "      <td>15.000100</td>\n",
       "      <td>500001.000000</td>\n",
       "    </tr>\n",
       "  </tbody>\n",
       "</table>\n",
       "</div>"
      ],
      "text/plain": [
       "          longitude      latitude  housing_median_age   total_rooms  \\\n",
       "count  20640.000000  20640.000000        20640.000000  20640.000000   \n",
       "mean    -119.569704     35.631861           28.639486   2635.763081   \n",
       "std        2.003532      2.135952           12.585558   2181.615252   \n",
       "min     -124.350000     32.540000            1.000000      2.000000   \n",
       "25%     -121.800000     33.930000           18.000000   1447.750000   \n",
       "50%     -118.490000     34.260000           29.000000   2127.000000   \n",
       "75%     -118.010000     37.710000           37.000000   3148.000000   \n",
       "max     -114.310000     41.950000           52.000000  39320.000000   \n",
       "\n",
       "       total_bedrooms    population    households  median_income  \\\n",
       "count    20433.000000  20640.000000  20640.000000   20640.000000   \n",
       "mean       537.870553   1425.476744    499.539680       3.870671   \n",
       "std        421.385070   1132.462122    382.329753       1.899822   \n",
       "min          1.000000      3.000000      1.000000       0.499900   \n",
       "25%        296.000000    787.000000    280.000000       2.563400   \n",
       "50%        435.000000   1166.000000    409.000000       3.534800   \n",
       "75%        647.000000   1725.000000    605.000000       4.743250   \n",
       "max       6445.000000  35682.000000   6082.000000      15.000100   \n",
       "\n",
       "       median_house_value  \n",
       "count        20640.000000  \n",
       "mean        206855.816909  \n",
       "std         115395.615874  \n",
       "min          14999.000000  \n",
       "25%         119600.000000  \n",
       "50%         179700.000000  \n",
       "75%         264725.000000  \n",
       "max         500001.000000  "
      ]
     },
     "execution_count": 5,
     "metadata": {},
     "output_type": "execute_result"
    }
   ],
   "source": [
    "# Display summary statistics for the DataFrame 'housing_df'\n",
    "housing_data.describe()"
   ]
  },
  {
   "cell_type": "markdown",
   "id": "e814b3fb",
   "metadata": {},
   "source": [
    "__Observations:__\n",
    "- The house price lies mostly in the price bracket between 1.1 million and 2.6 million.\n",
    "-  Most houses are 18 to 37 years old.\n"
   ]
  },
  {
   "cell_type": "code",
   "execution_count": 6,
   "id": "c756aac6",
   "metadata": {},
   "outputs": [
    {
     "data": {
      "text/plain": [
       "longitude               0\n",
       "latitude                0\n",
       "housing_median_age      0\n",
       "total_rooms             0\n",
       "total_bedrooms        207\n",
       "population              0\n",
       "households              0\n",
       "median_income           0\n",
       "median_house_value      0\n",
       "ocean_proximity         0\n",
       "dtype: int64"
      ]
     },
     "execution_count": 6,
     "metadata": {},
     "output_type": "execute_result"
    }
   ],
   "source": [
    "housing_data.isna().sum()"
   ]
  },
  {
   "cell_type": "markdown",
   "id": "0d825109",
   "metadata": {},
   "source": [
    "- Note that `total_bedrooms` is the only feature with **207** null values.\n",
    "- Since the null values makes up only 1% of the total data, we can quickly and safely remove them.\n",
    "- `ocean_proximity` is a categorial variable for which we need to create dummy variables"
   ]
  },
  {
   "cell_type": "code",
   "execution_count": 7,
   "id": "be2daf96",
   "metadata": {},
   "outputs": [],
   "source": [
    "# Remove all the rows with null values:\n",
    "housing_data = housing_data.dropna()"
   ]
  },
  {
   "cell_type": "code",
   "execution_count": 8,
   "id": "6a0ffe99",
   "metadata": {},
   "outputs": [
    {
     "data": {
      "text/plain": [
       "longitude             0\n",
       "latitude              0\n",
       "housing_median_age    0\n",
       "total_rooms           0\n",
       "total_bedrooms        0\n",
       "population            0\n",
       "households            0\n",
       "median_income         0\n",
       "median_house_value    0\n",
       "ocean_proximity       0\n",
       "dtype: int64"
      ]
     },
     "execution_count": 8,
     "metadata": {},
     "output_type": "execute_result"
    }
   ],
   "source": [
    "# Recheck for missing values in the DataFrame 'housing_df'\n",
    "housing_data.isna().sum()"
   ]
  },
  {
   "cell_type": "markdown",
   "id": "c1120479",
   "metadata": {},
   "source": [
    "### Let's create dummy variables for ocean_proximity"
   ]
  },
  {
   "cell_type": "markdown",
   "id": "a9bc102a",
   "metadata": {},
   "source": [
    "- `housing_data`: This is the DataFrame containing your housing data.\n",
    "\n",
    "- `pd.get_dummies`: This is the pandas function that performs the one-hot encoding. It converts categorical variables into a series of binary variables (0 or 1). Each category in the original variable is represented by a separate column.\n",
    "\n",
    "\n",
    "- `drop_first=True`: This parameter drops the first category for each variable. This is done to avoid the dummy variable trap, which is a situation where the dummy variables are highly collinear, causing issues in statistical models. By dropping the first category, you can reduce multicollinearity.\n",
    "\n",
    "- `dtype='int'`: This ensures that the resulting dummy variables are of integer type (0 or 1), which can save memory compared to the default float type.\n",
    "\n",
    "- `prefix='op'`: This parameter adds a prefix to the new dummy variable columns. Here, the prefix 'op' will be added to the beginning of each new column name created by the one-hot encoding process."
   ]
  },
  {
   "cell_type": "code",
   "execution_count": 9,
   "id": "200c7c30",
   "metadata": {},
   "outputs": [],
   "source": [
    "housing_data = pd.get_dummies(housing_data, drop_first=True, dtype='int',prefix='op')"
   ]
  },
  {
   "cell_type": "code",
   "execution_count": 10,
   "id": "d729b4d1",
   "metadata": {},
   "outputs": [
    {
     "data": {
      "text/plain": [
       "(20433, 13)"
      ]
     },
     "execution_count": 10,
     "metadata": {},
     "output_type": "execute_result"
    }
   ],
   "source": [
    "housing_data.shape"
   ]
  },
  {
   "cell_type": "code",
   "execution_count": 11,
   "id": "87266260",
   "metadata": {},
   "outputs": [
    {
     "data": {
      "text/html": [
       "<div>\n",
       "<style scoped>\n",
       "    .dataframe tbody tr th:only-of-type {\n",
       "        vertical-align: middle;\n",
       "    }\n",
       "\n",
       "    .dataframe tbody tr th {\n",
       "        vertical-align: top;\n",
       "    }\n",
       "\n",
       "    .dataframe thead th {\n",
       "        text-align: right;\n",
       "    }\n",
       "</style>\n",
       "<table border=\"1\" class=\"dataframe\">\n",
       "  <thead>\n",
       "    <tr style=\"text-align: right;\">\n",
       "      <th></th>\n",
       "      <th>longitude</th>\n",
       "      <th>latitude</th>\n",
       "      <th>housing_median_age</th>\n",
       "      <th>total_rooms</th>\n",
       "      <th>total_bedrooms</th>\n",
       "      <th>population</th>\n",
       "      <th>households</th>\n",
       "      <th>median_income</th>\n",
       "      <th>median_house_value</th>\n",
       "      <th>op_INLAND</th>\n",
       "      <th>op_ISLAND</th>\n",
       "      <th>op_NEAR BAY</th>\n",
       "      <th>op_NEAR OCEAN</th>\n",
       "    </tr>\n",
       "  </thead>\n",
       "  <tbody>\n",
       "    <tr>\n",
       "      <th>0</th>\n",
       "      <td>-122.23</td>\n",
       "      <td>37.88</td>\n",
       "      <td>41.0</td>\n",
       "      <td>880.0</td>\n",
       "      <td>129.0</td>\n",
       "      <td>322.0</td>\n",
       "      <td>126.0</td>\n",
       "      <td>8.3252</td>\n",
       "      <td>452600.0</td>\n",
       "      <td>0</td>\n",
       "      <td>0</td>\n",
       "      <td>1</td>\n",
       "      <td>0</td>\n",
       "    </tr>\n",
       "    <tr>\n",
       "      <th>1</th>\n",
       "      <td>-122.22</td>\n",
       "      <td>37.86</td>\n",
       "      <td>21.0</td>\n",
       "      <td>7099.0</td>\n",
       "      <td>1106.0</td>\n",
       "      <td>2401.0</td>\n",
       "      <td>1138.0</td>\n",
       "      <td>8.3014</td>\n",
       "      <td>358500.0</td>\n",
       "      <td>0</td>\n",
       "      <td>0</td>\n",
       "      <td>1</td>\n",
       "      <td>0</td>\n",
       "    </tr>\n",
       "    <tr>\n",
       "      <th>2</th>\n",
       "      <td>-122.24</td>\n",
       "      <td>37.85</td>\n",
       "      <td>52.0</td>\n",
       "      <td>1467.0</td>\n",
       "      <td>190.0</td>\n",
       "      <td>496.0</td>\n",
       "      <td>177.0</td>\n",
       "      <td>7.2574</td>\n",
       "      <td>352100.0</td>\n",
       "      <td>0</td>\n",
       "      <td>0</td>\n",
       "      <td>1</td>\n",
       "      <td>0</td>\n",
       "    </tr>\n",
       "    <tr>\n",
       "      <th>3</th>\n",
       "      <td>-122.25</td>\n",
       "      <td>37.85</td>\n",
       "      <td>52.0</td>\n",
       "      <td>1274.0</td>\n",
       "      <td>235.0</td>\n",
       "      <td>558.0</td>\n",
       "      <td>219.0</td>\n",
       "      <td>5.6431</td>\n",
       "      <td>341300.0</td>\n",
       "      <td>0</td>\n",
       "      <td>0</td>\n",
       "      <td>1</td>\n",
       "      <td>0</td>\n",
       "    </tr>\n",
       "    <tr>\n",
       "      <th>4</th>\n",
       "      <td>-122.25</td>\n",
       "      <td>37.85</td>\n",
       "      <td>52.0</td>\n",
       "      <td>1627.0</td>\n",
       "      <td>280.0</td>\n",
       "      <td>565.0</td>\n",
       "      <td>259.0</td>\n",
       "      <td>3.8462</td>\n",
       "      <td>342200.0</td>\n",
       "      <td>0</td>\n",
       "      <td>0</td>\n",
       "      <td>1</td>\n",
       "      <td>0</td>\n",
       "    </tr>\n",
       "  </tbody>\n",
       "</table>\n",
       "</div>"
      ],
      "text/plain": [
       "   longitude  latitude  housing_median_age  total_rooms  total_bedrooms  \\\n",
       "0    -122.23     37.88                41.0        880.0           129.0   \n",
       "1    -122.22     37.86                21.0       7099.0          1106.0   \n",
       "2    -122.24     37.85                52.0       1467.0           190.0   \n",
       "3    -122.25     37.85                52.0       1274.0           235.0   \n",
       "4    -122.25     37.85                52.0       1627.0           280.0   \n",
       "\n",
       "   population  households  median_income  median_house_value  op_INLAND  \\\n",
       "0       322.0       126.0         8.3252            452600.0          0   \n",
       "1      2401.0      1138.0         8.3014            358500.0          0   \n",
       "2       496.0       177.0         7.2574            352100.0          0   \n",
       "3       558.0       219.0         5.6431            341300.0          0   \n",
       "4       565.0       259.0         3.8462            342200.0          0   \n",
       "\n",
       "   op_ISLAND  op_NEAR BAY  op_NEAR OCEAN  \n",
       "0          0            1              0  \n",
       "1          0            1              0  \n",
       "2          0            1              0  \n",
       "3          0            1              0  \n",
       "4          0            1              0  "
      ]
     },
     "execution_count": 11,
     "metadata": {},
     "output_type": "execute_result"
    }
   ],
   "source": [
    "housing_data.head()"
   ]
  },
  {
   "cell_type": "markdown",
   "id": "1053fe07",
   "metadata": {},
   "source": [
    "#### Step 3: Prepare the dataset\n",
    "\n",
    "**Steps to be followed:**\n",
    "\n",
    "- Prepare your input features (X) and target (y) for modeling.\n",
    "   * The target feature, which is the feature we are trying to predict, is `median_house_value`. This is assigned to the variable y.\n",
    "   * The features used to predict the target are the independent variables (X).\n",
    "  \n"
   ]
  },
  {
   "cell_type": "code",
   "execution_count": 12,
   "id": "08e7d79e",
   "metadata": {},
   "outputs": [],
   "source": [
    "#Assign values to X and y\n",
    "X = housing_data.drop(['median_house_value'], axis=1)\n",
    "y = housing_data['median_house_value']\n",
    "\n",
    "# Splitting the data into training and testing sets to avoid data leakage\n",
    "X_train, X_test, y_train, y_test = train_test_split(X, y, test_size=0.30, random_state=42)"
   ]
  },
  {
   "cell_type": "markdown",
   "id": "6d030f0f",
   "metadata": {},
   "source": [
    "#### Step 4: Perform K Fold validation"
   ]
  },
  {
   "cell_type": "markdown",
   "id": "1b6a8477",
   "metadata": {},
   "source": [
    "**Key components**\n",
    "\n",
    "- KFold: Implements K-fold cross-validation.\n",
    "- n_splits=10: Divides the dataset into 10 folds.\n",
    "- random_state=42: Ensures reproducible shuffling.\n",
    "- shuffle=True: Shuffles the data before splitting."
   ]
  },
  {
   "cell_type": "code",
   "execution_count": 13,
   "id": "aae9a483",
   "metadata": {},
   "outputs": [],
   "source": [
    "kf = KFold(n_splits=10, random_state=42, shuffle=True)"
   ]
  },
  {
   "cell_type": "markdown",
   "id": "f2ae1a5b",
   "metadata": {},
   "source": [
    "#### Step 5: Initialize the model\n",
    "\n",
    "\n"
   ]
  },
  {
   "cell_type": "code",
   "execution_count": 14,
   "id": "8d5a4345",
   "metadata": {},
   "outputs": [],
   "source": [
    "model = LinearRegression()"
   ]
  },
  {
   "cell_type": "markdown",
   "id": "940f55a0",
   "metadata": {},
   "source": [
    "**Evaluate the model**\n",
    "\n",
    "- cross_val_score: Evaluates the model using cross-validation.\n",
    "- model: The machine learning model to evaluate.\n",
    "- X_train and y_train: Training features and target variables.\n",
    "- scoring='neg_mean_absolute_error': Uses negative MAE as the performance metric.\n",
    "- cv=kf: Cross-validation strategy (e.g., KFold).\n",
    "- n_jobs=-1: Utilizes all available processors for parallel computation."
   ]
  },
  {
   "cell_type": "code",
   "execution_count": 15,
   "id": "86b50653",
   "metadata": {},
   "outputs": [],
   "source": [
    "k_fold_scores = cross_val_score(model, X_train, y_train, scoring='neg_mean_absolute_error', cv=kf, n_jobs=-1)"
   ]
  },
  {
   "cell_type": "markdown",
   "id": "ea6a8cb5",
   "metadata": {},
   "source": [
    "**Evaluating Cross-Validation Scores:**\n",
    "\n",
    "\n",
    "Calculate metrics (e.g., Mean Absolute Error, Mean Squared Error) from cross-validation scores to evaluate the model's performance.\n",
    "\n",
    "- np.abs(scores): Converts negative MAE values to positive MAE values.\n",
    "- np.mean(scores): Calculates the average MAE across all 10 cross-validation folds."
   ]
  },
  {
   "cell_type": "code",
   "execution_count": 16,
   "id": "9b0ab399",
   "metadata": {},
   "outputs": [
    {
     "name": "stdout",
     "output_type": "stream",
     "text": [
      "K-Fold Mean Absolute Error: 49936.92\n"
     ]
    }
   ],
   "source": [
    "# Convert negative scores to positive for interpretation\n",
    "kf_mean = np.mean(np.abs(k_fold_scores))\n",
    "print(f'K-Fold Mean Absolute Error: {kf_mean:.2f}')"
   ]
  },
  {
   "cell_type": "markdown",
   "id": "8eb04086",
   "metadata": {},
   "source": [
    "#### Step 6: Train the Model and Evaluate on Test Set"
   ]
  },
  {
   "cell_type": "markdown",
   "id": "1eb45933",
   "metadata": {},
   "source": [
    "**Now fit the model with train data and calculate MSE for test data.**\n",
    "- Train the model using the training data `X_train` and `y_train`.\n",
    "- Uses the trained model to make predictions on the test data `X_test`.\n",
    "- Calculates the Mean Squared Error (MSE) between the actual test target values `y_test` and the predicted values `y_test_pred`.\n",
    "- Print the calculated Test MSE."
   ]
  },
  {
   "cell_type": "code",
   "execution_count": 17,
   "id": "0cb21d71",
   "metadata": {},
   "outputs": [
    {
     "name": "stdout",
     "output_type": "stream",
     "text": [
      "Test MSE: 4614164009.9586735\n",
      "Test RMSE: 67927.63804195369\n",
      "Test R-squared: 0.6538753735673442\n"
     ]
    }
   ],
   "source": [
    "# Evaluate the model on the test set\n",
    "model.fit(X_train, y_train)\n",
    "y_test_pred = model.predict(X_test)\n",
    "test_mse = mean_squared_error(y_test, y_test_pred)\n",
    "print(f\"Test MSE: {test_mse}\")\n",
    "\n",
    "test_rmse = np.sqrt(test_mse)\n",
    "print(f\"Test RMSE: {test_rmse}\")\n",
    "\n",
    "# Calculate R-squared score\n",
    "test_r2 = r2_score(y_test, y_test_pred)\n",
    "print(f\"Test R-squared: {test_r2}\")\n"
   ]
  },
  {
   "cell_type": "markdown",
   "id": "985b3b61",
   "metadata": {},
   "source": [
    "**Observation**\n",
    "- An MSE of `4614164009.958683` is quite large, indicating that on average, the squared prediction errors are large. This can be interpreted in the context of the units of the dependent variable (`median_house_value`), which are likely in dollars.\n",
    "\n",
    "- This can further be mitigated by Scaling the features. Feature scaling is critical in machine learning to ensure that all features contribute equally to the model’s prediction. We'll discuss about it in detail, further in the lesson\n",
    "\n",
    "- An R2 score of `0.65` means that approximately `65%` of the variance in `median_house_value` is explained by the model. This suggests that while the model captures a significant portion of the variability, there is still `35%` of the variance unexplained by the model\n"
   ]
  },
  {
   "cell_type": "markdown",
   "id": "e546e755",
   "metadata": {},
   "source": [
    "**Repeat the process to demonstrate LOOCV:**\n",
    "\n",
    "* X_train, y_train  is same across all CV implementation\n",
    "\n",
    "\n",
    "\n",
    "\n"
   ]
  },
  {
   "cell_type": "code",
   "execution_count": 18,
   "id": "7fcebca3",
   "metadata": {},
   "outputs": [
    {
     "name": "stdout",
     "output_type": "stream",
     "text": [
      "LOOCV Mean Absolute Error: 49931.81\n",
      "K-Fold Mean Absolute Error: 49936.92\n"
     ]
    }
   ],
   "source": [
    "# Perform LOOCV\n",
    "loo = LeaveOneOut()\n",
    "\n",
    "# Compute Cross-validation scores\n",
    "loocv_scores = cross_val_score(model, X_train, y_train, scoring='neg_mean_absolute_error', cv=loo, n_jobs=-1)\n",
    "\n",
    "loo_mean = np.mean(np.abs(loocv_scores))\n",
    "print(f'LOOCV Mean Absolute Error: {loo_mean:.2f}')\n",
    "# Compare to K-Fold\n",
    "print(f'K-Fold Mean Absolute Error: {kf_mean:.2f}')"
   ]
  },
  {
   "cell_type": "code",
   "execution_count": 19,
   "id": "cd0c77a7",
   "metadata": {},
   "outputs": [
    {
     "data": {
      "text/plain": [
       "array([  -1683.70145041,   -4045.52563742,  -42891.32675324, ...,\n",
       "       -120574.22431376,  -23077.34917914,   -2677.73695918],\n",
       "      shape=(14303,))"
      ]
     },
     "execution_count": 19,
     "metadata": {},
     "output_type": "execute_result"
    }
   ],
   "source": [
    "loocv_scores"
   ]
  },
  {
   "cell_type": "markdown",
   "id": "1a4c1a24",
   "metadata": {},
   "source": [
    "**Note: Stratified K-Fold is typically used for classification problems. For regression, standard K-Fold is preferred.**"
   ]
  },
  {
   "cell_type": "markdown",
   "id": "c3db40a9",
   "metadata": {},
   "source": [
    "**Observation**\n",
    "\n",
    "Mean Absolute Error is quite high. To improve the model, more complex model should be considered."
   ]
  },
  {
   "cell_type": "markdown",
   "id": "cb0428ef",
   "metadata": {},
   "source": [
    "## Parameter Tuning with Regularized Regression\n",
    "\n",
    "- Recall that regularized regression (e.g., Ridge, Lasso) introduces a penalty term that controls model complexity, helping prevent overfitting by shrinking or selecting coefficients.\n",
    "- Parameter tuning involves adjusting the regularization strength (e.g., α or λ) to balance bias and variance, typically using cross-validation to find the value that yields the best generalization performance."
   ]
  },
  {
   "cell_type": "markdown",
   "id": "0cdce872",
   "metadata": {},
   "source": [
    "### First, Tune Lasso regression."
   ]
  },
  {
   "cell_type": "markdown",
   "id": "345d5257",
   "metadata": {},
   "source": [
    "Import the required libraries.\n"
   ]
  },
  {
   "cell_type": "code",
   "execution_count": 20,
   "id": "8f32d426",
   "metadata": {},
   "outputs": [],
   "source": [
    "# Import necessary libraries\n",
    "import numpy as np\n",
    "import pandas as pd\n",
    "from sklearn.linear_model import Lasso\n",
    "from sklearn.model_selection import train_test_split, cross_val_score\n",
    "from sklearn.metrics import mean_squared_error, r2_score\n",
    "from sklearn.linear_model import LassoCV\n",
    "import matplotlib.pyplot as plt"
   ]
  },
  {
   "cell_type": "markdown",
   "id": "53ca6ad2",
   "metadata": {},
   "source": [
    "- You will now read the **Hitters.csv** dataset. Be sure to copy it into your local directory for ease of access.\n",
    "- Let us now check the head of the data."
   ]
  },
  {
   "cell_type": "markdown",
   "id": "b9666181",
   "metadata": {},
   "source": [
    "**Description of the Dataset**\n",
    "\n",
    "A data frame with 322 observations of major league players on the following 20 variables (see more about the dataset in this [documentation](https://cran.r-project.org/web/packages/ISLR/ISLR.pdf))\n",
    "\n",
    "\n"
   ]
  },
  {
   "cell_type": "markdown",
   "id": "2139cf89",
   "metadata": {},
   "source": [
    "**We want to predict a baseball player's salary based on various statistics associated with performance in the previous year.**\n"
   ]
  },
  {
   "cell_type": "code",
   "execution_count": 21,
   "id": "22c03612",
   "metadata": {},
   "outputs": [
    {
     "data": {
      "text/html": [
       "<div>\n",
       "<style scoped>\n",
       "    .dataframe tbody tr th:only-of-type {\n",
       "        vertical-align: middle;\n",
       "    }\n",
       "\n",
       "    .dataframe tbody tr th {\n",
       "        vertical-align: top;\n",
       "    }\n",
       "\n",
       "    .dataframe thead th {\n",
       "        text-align: right;\n",
       "    }\n",
       "</style>\n",
       "<table border=\"1\" class=\"dataframe\">\n",
       "  <thead>\n",
       "    <tr style=\"text-align: right;\">\n",
       "      <th></th>\n",
       "      <th>Unnamed: 0</th>\n",
       "      <th>AtBat</th>\n",
       "      <th>Hits</th>\n",
       "      <th>HmRun</th>\n",
       "      <th>Runs</th>\n",
       "      <th>RBI</th>\n",
       "      <th>Walks</th>\n",
       "      <th>Years</th>\n",
       "      <th>CAtBat</th>\n",
       "      <th>CHits</th>\n",
       "      <th>...</th>\n",
       "      <th>CRuns</th>\n",
       "      <th>CRBI</th>\n",
       "      <th>CWalks</th>\n",
       "      <th>League</th>\n",
       "      <th>Division</th>\n",
       "      <th>PutOuts</th>\n",
       "      <th>Assists</th>\n",
       "      <th>Errors</th>\n",
       "      <th>Salary</th>\n",
       "      <th>NewLeague</th>\n",
       "    </tr>\n",
       "  </thead>\n",
       "  <tbody>\n",
       "    <tr>\n",
       "      <th>0</th>\n",
       "      <td>-Andy Allanson</td>\n",
       "      <td>293</td>\n",
       "      <td>66</td>\n",
       "      <td>1</td>\n",
       "      <td>30</td>\n",
       "      <td>29</td>\n",
       "      <td>14</td>\n",
       "      <td>1</td>\n",
       "      <td>293</td>\n",
       "      <td>66</td>\n",
       "      <td>...</td>\n",
       "      <td>30</td>\n",
       "      <td>29</td>\n",
       "      <td>14</td>\n",
       "      <td>A</td>\n",
       "      <td>E</td>\n",
       "      <td>446</td>\n",
       "      <td>33</td>\n",
       "      <td>20</td>\n",
       "      <td>NaN</td>\n",
       "      <td>A</td>\n",
       "    </tr>\n",
       "    <tr>\n",
       "      <th>1</th>\n",
       "      <td>-Alan Ashby</td>\n",
       "      <td>315</td>\n",
       "      <td>81</td>\n",
       "      <td>7</td>\n",
       "      <td>24</td>\n",
       "      <td>38</td>\n",
       "      <td>39</td>\n",
       "      <td>14</td>\n",
       "      <td>3449</td>\n",
       "      <td>835</td>\n",
       "      <td>...</td>\n",
       "      <td>321</td>\n",
       "      <td>414</td>\n",
       "      <td>375</td>\n",
       "      <td>N</td>\n",
       "      <td>W</td>\n",
       "      <td>632</td>\n",
       "      <td>43</td>\n",
       "      <td>10</td>\n",
       "      <td>475.0</td>\n",
       "      <td>N</td>\n",
       "    </tr>\n",
       "    <tr>\n",
       "      <th>2</th>\n",
       "      <td>-Alvin Davis</td>\n",
       "      <td>479</td>\n",
       "      <td>130</td>\n",
       "      <td>18</td>\n",
       "      <td>66</td>\n",
       "      <td>72</td>\n",
       "      <td>76</td>\n",
       "      <td>3</td>\n",
       "      <td>1624</td>\n",
       "      <td>457</td>\n",
       "      <td>...</td>\n",
       "      <td>224</td>\n",
       "      <td>266</td>\n",
       "      <td>263</td>\n",
       "      <td>A</td>\n",
       "      <td>W</td>\n",
       "      <td>880</td>\n",
       "      <td>82</td>\n",
       "      <td>14</td>\n",
       "      <td>480.0</td>\n",
       "      <td>A</td>\n",
       "    </tr>\n",
       "    <tr>\n",
       "      <th>3</th>\n",
       "      <td>-Andre Dawson</td>\n",
       "      <td>496</td>\n",
       "      <td>141</td>\n",
       "      <td>20</td>\n",
       "      <td>65</td>\n",
       "      <td>78</td>\n",
       "      <td>37</td>\n",
       "      <td>11</td>\n",
       "      <td>5628</td>\n",
       "      <td>1575</td>\n",
       "      <td>...</td>\n",
       "      <td>828</td>\n",
       "      <td>838</td>\n",
       "      <td>354</td>\n",
       "      <td>N</td>\n",
       "      <td>E</td>\n",
       "      <td>200</td>\n",
       "      <td>11</td>\n",
       "      <td>3</td>\n",
       "      <td>500.0</td>\n",
       "      <td>N</td>\n",
       "    </tr>\n",
       "    <tr>\n",
       "      <th>4</th>\n",
       "      <td>-Andres Galarraga</td>\n",
       "      <td>321</td>\n",
       "      <td>87</td>\n",
       "      <td>10</td>\n",
       "      <td>39</td>\n",
       "      <td>42</td>\n",
       "      <td>30</td>\n",
       "      <td>2</td>\n",
       "      <td>396</td>\n",
       "      <td>101</td>\n",
       "      <td>...</td>\n",
       "      <td>48</td>\n",
       "      <td>46</td>\n",
       "      <td>33</td>\n",
       "      <td>N</td>\n",
       "      <td>E</td>\n",
       "      <td>805</td>\n",
       "      <td>40</td>\n",
       "      <td>4</td>\n",
       "      <td>91.5</td>\n",
       "      <td>N</td>\n",
       "    </tr>\n",
       "  </tbody>\n",
       "</table>\n",
       "<p>5 rows × 21 columns</p>\n",
       "</div>"
      ],
      "text/plain": [
       "          Unnamed: 0  AtBat  Hits  HmRun  Runs  RBI  Walks  Years  CAtBat  \\\n",
       "0     -Andy Allanson    293    66      1    30   29     14      1     293   \n",
       "1        -Alan Ashby    315    81      7    24   38     39     14    3449   \n",
       "2       -Alvin Davis    479   130     18    66   72     76      3    1624   \n",
       "3      -Andre Dawson    496   141     20    65   78     37     11    5628   \n",
       "4  -Andres Galarraga    321    87     10    39   42     30      2     396   \n",
       "\n",
       "   CHits  ...  CRuns  CRBI  CWalks  League Division PutOuts  Assists  Errors  \\\n",
       "0     66  ...     30    29      14       A        E     446       33      20   \n",
       "1    835  ...    321   414     375       N        W     632       43      10   \n",
       "2    457  ...    224   266     263       A        W     880       82      14   \n",
       "3   1575  ...    828   838     354       N        E     200       11       3   \n",
       "4    101  ...     48    46      33       N        E     805       40       4   \n",
       "\n",
       "   Salary  NewLeague  \n",
       "0     NaN          A  \n",
       "1   475.0          N  \n",
       "2   480.0          A  \n",
       "3   500.0          N  \n",
       "4    91.5          N  \n",
       "\n",
       "[5 rows x 21 columns]"
      ]
     },
     "execution_count": 21,
     "metadata": {},
     "output_type": "execute_result"
    }
   ],
   "source": [
    "# Load the data from a CSV file into a DataFrame and display 5 rows\n",
    "df = pd.read_csv('../dataset/Hitters.csv')\n",
    "df.head()"
   ]
  },
  {
   "cell_type": "markdown",
   "id": "2651f459",
   "metadata": {},
   "source": [
    "Let's remove that Unamed: 0 feature."
   ]
  },
  {
   "cell_type": "code",
   "execution_count": 22,
   "id": "3e354c0f",
   "metadata": {},
   "outputs": [],
   "source": [
    "# Remove \"Unnamed: 0\" from the dataframe\n",
    "df.drop('Unnamed: 0', axis=1, inplace=True)"
   ]
  },
  {
   "cell_type": "code",
   "execution_count": 23,
   "id": "14d5d847",
   "metadata": {},
   "outputs": [
    {
     "data": {
      "text/html": [
       "<div>\n",
       "<style scoped>\n",
       "    .dataframe tbody tr th:only-of-type {\n",
       "        vertical-align: middle;\n",
       "    }\n",
       "\n",
       "    .dataframe tbody tr th {\n",
       "        vertical-align: top;\n",
       "    }\n",
       "\n",
       "    .dataframe thead th {\n",
       "        text-align: right;\n",
       "    }\n",
       "</style>\n",
       "<table border=\"1\" class=\"dataframe\">\n",
       "  <thead>\n",
       "    <tr style=\"text-align: right;\">\n",
       "      <th></th>\n",
       "      <th>AtBat</th>\n",
       "      <th>Hits</th>\n",
       "      <th>HmRun</th>\n",
       "      <th>Runs</th>\n",
       "      <th>RBI</th>\n",
       "      <th>Walks</th>\n",
       "      <th>Years</th>\n",
       "      <th>CAtBat</th>\n",
       "      <th>CHits</th>\n",
       "      <th>CHmRun</th>\n",
       "      <th>CRuns</th>\n",
       "      <th>CRBI</th>\n",
       "      <th>CWalks</th>\n",
       "      <th>League</th>\n",
       "      <th>Division</th>\n",
       "      <th>PutOuts</th>\n",
       "      <th>Assists</th>\n",
       "      <th>Errors</th>\n",
       "      <th>Salary</th>\n",
       "      <th>NewLeague</th>\n",
       "    </tr>\n",
       "  </thead>\n",
       "  <tbody>\n",
       "    <tr>\n",
       "      <th>0</th>\n",
       "      <td>293</td>\n",
       "      <td>66</td>\n",
       "      <td>1</td>\n",
       "      <td>30</td>\n",
       "      <td>29</td>\n",
       "      <td>14</td>\n",
       "      <td>1</td>\n",
       "      <td>293</td>\n",
       "      <td>66</td>\n",
       "      <td>1</td>\n",
       "      <td>30</td>\n",
       "      <td>29</td>\n",
       "      <td>14</td>\n",
       "      <td>A</td>\n",
       "      <td>E</td>\n",
       "      <td>446</td>\n",
       "      <td>33</td>\n",
       "      <td>20</td>\n",
       "      <td>NaN</td>\n",
       "      <td>A</td>\n",
       "    </tr>\n",
       "    <tr>\n",
       "      <th>1</th>\n",
       "      <td>315</td>\n",
       "      <td>81</td>\n",
       "      <td>7</td>\n",
       "      <td>24</td>\n",
       "      <td>38</td>\n",
       "      <td>39</td>\n",
       "      <td>14</td>\n",
       "      <td>3449</td>\n",
       "      <td>835</td>\n",
       "      <td>69</td>\n",
       "      <td>321</td>\n",
       "      <td>414</td>\n",
       "      <td>375</td>\n",
       "      <td>N</td>\n",
       "      <td>W</td>\n",
       "      <td>632</td>\n",
       "      <td>43</td>\n",
       "      <td>10</td>\n",
       "      <td>475.0</td>\n",
       "      <td>N</td>\n",
       "    </tr>\n",
       "    <tr>\n",
       "      <th>2</th>\n",
       "      <td>479</td>\n",
       "      <td>130</td>\n",
       "      <td>18</td>\n",
       "      <td>66</td>\n",
       "      <td>72</td>\n",
       "      <td>76</td>\n",
       "      <td>3</td>\n",
       "      <td>1624</td>\n",
       "      <td>457</td>\n",
       "      <td>63</td>\n",
       "      <td>224</td>\n",
       "      <td>266</td>\n",
       "      <td>263</td>\n",
       "      <td>A</td>\n",
       "      <td>W</td>\n",
       "      <td>880</td>\n",
       "      <td>82</td>\n",
       "      <td>14</td>\n",
       "      <td>480.0</td>\n",
       "      <td>A</td>\n",
       "    </tr>\n",
       "    <tr>\n",
       "      <th>3</th>\n",
       "      <td>496</td>\n",
       "      <td>141</td>\n",
       "      <td>20</td>\n",
       "      <td>65</td>\n",
       "      <td>78</td>\n",
       "      <td>37</td>\n",
       "      <td>11</td>\n",
       "      <td>5628</td>\n",
       "      <td>1575</td>\n",
       "      <td>225</td>\n",
       "      <td>828</td>\n",
       "      <td>838</td>\n",
       "      <td>354</td>\n",
       "      <td>N</td>\n",
       "      <td>E</td>\n",
       "      <td>200</td>\n",
       "      <td>11</td>\n",
       "      <td>3</td>\n",
       "      <td>500.0</td>\n",
       "      <td>N</td>\n",
       "    </tr>\n",
       "    <tr>\n",
       "      <th>4</th>\n",
       "      <td>321</td>\n",
       "      <td>87</td>\n",
       "      <td>10</td>\n",
       "      <td>39</td>\n",
       "      <td>42</td>\n",
       "      <td>30</td>\n",
       "      <td>2</td>\n",
       "      <td>396</td>\n",
       "      <td>101</td>\n",
       "      <td>12</td>\n",
       "      <td>48</td>\n",
       "      <td>46</td>\n",
       "      <td>33</td>\n",
       "      <td>N</td>\n",
       "      <td>E</td>\n",
       "      <td>805</td>\n",
       "      <td>40</td>\n",
       "      <td>4</td>\n",
       "      <td>91.5</td>\n",
       "      <td>N</td>\n",
       "    </tr>\n",
       "  </tbody>\n",
       "</table>\n",
       "</div>"
      ],
      "text/plain": [
       "   AtBat  Hits  HmRun  Runs  RBI  Walks  Years  CAtBat  CHits  CHmRun  CRuns  \\\n",
       "0    293    66      1    30   29     14      1     293     66       1     30   \n",
       "1    315    81      7    24   38     39     14    3449    835      69    321   \n",
       "2    479   130     18    66   72     76      3    1624    457      63    224   \n",
       "3    496   141     20    65   78     37     11    5628   1575     225    828   \n",
       "4    321    87     10    39   42     30      2     396    101      12     48   \n",
       "\n",
       "   CRBI  CWalks League Division  PutOuts  Assists  Errors  Salary NewLeague  \n",
       "0    29      14      A        E      446       33      20     NaN         A  \n",
       "1   414     375      N        W      632       43      10   475.0         N  \n",
       "2   266     263      A        W      880       82      14   480.0         A  \n",
       "3   838     354      N        E      200       11       3   500.0         N  \n",
       "4    46      33      N        E      805       40       4    91.5         N  "
      ]
     },
     "execution_count": 23,
     "metadata": {},
     "output_type": "execute_result"
    }
   ],
   "source": [
    "df.head()"
   ]
  },
  {
   "cell_type": "code",
   "execution_count": 24,
   "id": "859218fb",
   "metadata": {},
   "outputs": [
    {
     "name": "stdout",
     "output_type": "stream",
     "text": [
      "<class 'pandas.core.frame.DataFrame'>\n",
      "RangeIndex: 322 entries, 0 to 321\n",
      "Data columns (total 20 columns):\n",
      " #   Column     Non-Null Count  Dtype  \n",
      "---  ------     --------------  -----  \n",
      " 0   AtBat      322 non-null    int64  \n",
      " 1   Hits       322 non-null    int64  \n",
      " 2   HmRun      322 non-null    int64  \n",
      " 3   Runs       322 non-null    int64  \n",
      " 4   RBI        322 non-null    int64  \n",
      " 5   Walks      322 non-null    int64  \n",
      " 6   Years      322 non-null    int64  \n",
      " 7   CAtBat     322 non-null    int64  \n",
      " 8   CHits      322 non-null    int64  \n",
      " 9   CHmRun     322 non-null    int64  \n",
      " 10  CRuns      322 non-null    int64  \n",
      " 11  CRBI       322 non-null    int64  \n",
      " 12  CWalks     322 non-null    int64  \n",
      " 13  League     322 non-null    object \n",
      " 14  Division   322 non-null    object \n",
      " 15  PutOuts    322 non-null    int64  \n",
      " 16  Assists    322 non-null    int64  \n",
      " 17  Errors     322 non-null    int64  \n",
      " 18  Salary     263 non-null    float64\n",
      " 19  NewLeague  322 non-null    object \n",
      "dtypes: float64(1), int64(16), object(3)\n",
      "memory usage: 50.4+ KB\n"
     ]
    }
   ],
   "source": [
    "df.info()"
   ]
  },
  {
   "cell_type": "markdown",
   "id": "a72e38bc",
   "metadata": {},
   "source": [
    "**Observations**\n",
    "- Overall, it includes 322 observations and 21 features.\n",
    "- Note that the **Salary** field has null values."
   ]
  },
  {
   "cell_type": "code",
   "execution_count": 25,
   "id": "5677a132",
   "metadata": {},
   "outputs": [
    {
     "name": "stdout",
     "output_type": "stream",
     "text": [
      "Number of missing values in 'Salary': 59\n"
     ]
    }
   ],
   "source": [
    "print(\"Number of missing values in 'Salary':\", len(df[df['Salary'].isnull()]))"
   ]
  },
  {
   "cell_type": "markdown",
   "id": "bf27a224",
   "metadata": {},
   "source": [
    "There are 59 rows out 322 observations with null values corresponding to the target variable `Salary`, about 18%.\n",
    "- Best Practice for dealing with missing values of our target variable is to drop them."
   ]
  },
  {
   "cell_type": "code",
   "execution_count": 26,
   "id": "e5e39519",
   "metadata": {},
   "outputs": [
    {
     "name": "stdout",
     "output_type": "stream",
     "text": [
      "Number of missing values in 'Salary' after cleaning: 0\n"
     ]
    }
   ],
   "source": [
    "# Remove rows with missing values in the 'Salary' column\n",
    "df_clean = df.dropna(subset=['Salary'])\n",
    "\n",
    "# Verify that there are no missing values in the 'Salary' column after cleaning\n",
    "print(\"Number of missing values in 'Salary' after cleaning:\", len(df_clean[df_clean['Salary'].isnull()]))\n"
   ]
  },
  {
   "cell_type": "markdown",
   "id": "50589bf4",
   "metadata": {},
   "source": [
    "Since we will use the lasso algorithm from scikit learn, we need to encode our categorical features as one-hot numeric features (dummy variables):\n",
    "\n",
    "**Note: Lasso regression assumes that the features are numeric and continuous, and does not work well with categorical variables.**"
   ]
  },
  {
   "cell_type": "code",
   "execution_count": 27,
   "id": "702f45cb",
   "metadata": {},
   "outputs": [
    {
     "name": "stdout",
     "output_type": "stream",
     "text": [
      "<class 'pandas.core.frame.DataFrame'>\n",
      "Index: 263 entries, 1 to 321\n",
      "Data columns (total 6 columns):\n",
      " #   Column       Non-Null Count  Dtype\n",
      "---  ------       --------------  -----\n",
      " 0   League_A     263 non-null    int64\n",
      " 1   League_N     263 non-null    int64\n",
      " 2   Division_E   263 non-null    int64\n",
      " 3   Division_W   263 non-null    int64\n",
      " 4   NewLeague_A  263 non-null    int64\n",
      " 5   NewLeague_N  263 non-null    int64\n",
      "dtypes: int64(6)\n",
      "memory usage: 14.4 KB\n"
     ]
    }
   ],
   "source": [
    "# creating dummies for all the variable of object type\n",
    "dummies = pd.get_dummies(df_clean[['League', 'Division','NewLeague']])\n",
    "# Convert boolean True/False to integer 1/0\n",
    "dummies = dummies.astype(int)\n",
    "dummies.info()"
   ]
  },
  {
   "cell_type": "code",
   "execution_count": 28,
   "id": "877ac91c",
   "metadata": {},
   "outputs": [
    {
     "data": {
      "text/html": [
       "<div>\n",
       "<style scoped>\n",
       "    .dataframe tbody tr th:only-of-type {\n",
       "        vertical-align: middle;\n",
       "    }\n",
       "\n",
       "    .dataframe tbody tr th {\n",
       "        vertical-align: top;\n",
       "    }\n",
       "\n",
       "    .dataframe thead th {\n",
       "        text-align: right;\n",
       "    }\n",
       "</style>\n",
       "<table border=\"1\" class=\"dataframe\">\n",
       "  <thead>\n",
       "    <tr style=\"text-align: right;\">\n",
       "      <th></th>\n",
       "      <th>League_A</th>\n",
       "      <th>League_N</th>\n",
       "      <th>Division_E</th>\n",
       "      <th>Division_W</th>\n",
       "      <th>NewLeague_A</th>\n",
       "      <th>NewLeague_N</th>\n",
       "    </tr>\n",
       "  </thead>\n",
       "  <tbody>\n",
       "    <tr>\n",
       "      <th>1</th>\n",
       "      <td>0</td>\n",
       "      <td>1</td>\n",
       "      <td>0</td>\n",
       "      <td>1</td>\n",
       "      <td>0</td>\n",
       "      <td>1</td>\n",
       "    </tr>\n",
       "    <tr>\n",
       "      <th>2</th>\n",
       "      <td>1</td>\n",
       "      <td>0</td>\n",
       "      <td>0</td>\n",
       "      <td>1</td>\n",
       "      <td>1</td>\n",
       "      <td>0</td>\n",
       "    </tr>\n",
       "    <tr>\n",
       "      <th>3</th>\n",
       "      <td>0</td>\n",
       "      <td>1</td>\n",
       "      <td>1</td>\n",
       "      <td>0</td>\n",
       "      <td>0</td>\n",
       "      <td>1</td>\n",
       "    </tr>\n",
       "    <tr>\n",
       "      <th>4</th>\n",
       "      <td>0</td>\n",
       "      <td>1</td>\n",
       "      <td>1</td>\n",
       "      <td>0</td>\n",
       "      <td>0</td>\n",
       "      <td>1</td>\n",
       "    </tr>\n",
       "    <tr>\n",
       "      <th>5</th>\n",
       "      <td>1</td>\n",
       "      <td>0</td>\n",
       "      <td>0</td>\n",
       "      <td>1</td>\n",
       "      <td>1</td>\n",
       "      <td>0</td>\n",
       "    </tr>\n",
       "  </tbody>\n",
       "</table>\n",
       "</div>"
      ],
      "text/plain": [
       "   League_A  League_N  Division_E  Division_W  NewLeague_A  NewLeague_N\n",
       "1         0         1           0           1            0            1\n",
       "2         1         0           0           1            1            0\n",
       "3         0         1           1           0            0            1\n",
       "4         0         1           1           0            0            1\n",
       "5         1         0           0           1            1            0"
      ]
     },
     "execution_count": 28,
     "metadata": {},
     "output_type": "execute_result"
    }
   ],
   "source": [
    "dummies.head()"
   ]
  },
  {
   "cell_type": "code",
   "execution_count": 29,
   "id": "1c46ce6d",
   "metadata": {},
   "outputs": [
    {
     "data": {
      "text/plain": [
       "Index(['AtBat', 'Hits', 'HmRun', 'Runs', 'RBI', 'Walks', 'Years', 'CAtBat',\n",
       "       'CHits', 'CHmRun', 'CRuns', 'CRBI', 'CWalks', 'PutOuts', 'Assists',\n",
       "       'Errors'],\n",
       "      dtype='object')"
      ]
     },
     "execution_count": 29,
     "metadata": {},
     "output_type": "execute_result"
    }
   ],
   "source": [
    "# create label X and y\n",
    "y = df_clean['Salary']\n",
    "\n",
    "# drop the features with the target variable (Salary), and categorical columns for which dummy variables is already created:\n",
    "X_numerical = df_clean.drop(['Salary', 'League', 'Division', 'NewLeague'], axis=1).astype('float64')\n",
    "\n",
    "#list of all numerical columns in X_numericals\n",
    "list_numerical = X_numerical.columns\n",
    "list_numerical"
   ]
  },
  {
   "cell_type": "markdown",
   "id": "d930d4c0",
   "metadata": {},
   "source": [
    "Concatenate the dummy variable dataframe and X_numerical to create X"
   ]
  },
  {
   "cell_type": "markdown",
   "id": "0d5aed5a",
   "metadata": {},
   "source": [
    "Creating dummy variables for `League`, `Division`, and `NewLeague` allows us to convert categorical data into a numerical format suitable for machine learning models, while avoiding multicollinearity by dropping one category. This ensures that the models can interpret and leverage these categorical distinctions effectively."
   ]
  },
  {
   "cell_type": "markdown",
   "id": "5f4ddf4b",
   "metadata": {},
   "source": [
    "**Data Description**\n",
    "* **League (A or N):** American League (A) or National League (N) as of the end of 1986.\n",
    "* **Division (E or W):** Eastern Division (E) or Western Division (W) as of the end of 1986.\n",
    "* **NewLeague (A or N):** American League (A) or National League (N) as of the beginning of 1987."
   ]
  },
  {
   "cell_type": "markdown",
   "id": "f074ae3d",
   "metadata": {},
   "source": [
    "`League_N`: 1 if the league is National League (N), 0 otherwise.\n",
    "\n",
    "`Division_W`: 1 if the division is Western Division (W), 0 otherwise.\n",
    "\n",
    "`NewLeague_N`: 1 if the new league is National League (N), 0 otherwise."
   ]
  },
  {
   "cell_type": "code",
   "execution_count": 30,
   "id": "b839b201",
   "metadata": {},
   "outputs": [
    {
     "name": "stdout",
     "output_type": "stream",
     "text": [
      "<class 'pandas.core.frame.DataFrame'>\n",
      "Index: 263 entries, 1 to 321\n",
      "Data columns (total 19 columns):\n",
      " #   Column       Non-Null Count  Dtype  \n",
      "---  ------       --------------  -----  \n",
      " 0   AtBat        263 non-null    float64\n",
      " 1   Hits         263 non-null    float64\n",
      " 2   HmRun        263 non-null    float64\n",
      " 3   Runs         263 non-null    float64\n",
      " 4   RBI          263 non-null    float64\n",
      " 5   Walks        263 non-null    float64\n",
      " 6   Years        263 non-null    float64\n",
      " 7   CAtBat       263 non-null    float64\n",
      " 8   CHits        263 non-null    float64\n",
      " 9   CHmRun       263 non-null    float64\n",
      " 10  CRuns        263 non-null    float64\n",
      " 11  CRBI         263 non-null    float64\n",
      " 12  CWalks       263 non-null    float64\n",
      " 13  PutOuts      263 non-null    float64\n",
      " 14  Assists      263 non-null    float64\n",
      " 15  Errors       263 non-null    float64\n",
      " 16  League_N     263 non-null    int64  \n",
      " 17  Division_W   263 non-null    int64  \n",
      " 18  NewLeague_N  263 non-null    int64  \n",
      "dtypes: float64(16), int64(3)\n",
      "memory usage: 41.1 KB\n"
     ]
    }
   ],
   "source": [
    "# Create X with dummy variables and numerical variables\n",
    "X = pd.concat([X_numerical, dummies[['League_N', 'Division_W', 'NewLeague_N']]], axis=1)\n",
    "X.info()"
   ]
  },
  {
   "cell_type": "markdown",
   "id": "8c96440d",
   "metadata": {},
   "source": [
    "Now we can test, train split, using the default shuffle."
   ]
  },
  {
   "cell_type": "code",
   "execution_count": 31,
   "id": "22423b3b",
   "metadata": {},
   "outputs": [],
   "source": [
    "# Split the dataset into training and testing sets before handling missing values\n",
    "X_train, X_test, y_train, y_test = train_test_split(X, y, test_size=0.25, random_state=42)"
   ]
  },
  {
   "cell_type": "markdown",
   "id": "0fe49bd6",
   "metadata": {},
   "source": [
    "- Lasso performs best when all numerical features are centered around 0 and have variance in the same order. If a feature has a variance that is orders of magnitude larger than others, it might dominate the objective function and make the estimator unable to learn from other features correctly as expected.\n",
    "\n",
    "- This means it is important to standardize our features. We do this by subtracting the mean from our observations and then dividing the difference by the standard deviation\n",
    "\n",
    "- To avoid data leakage, the standardization of numerical features should always be performed after data splitting and only from training data."
   ]
  },
  {
   "cell_type": "markdown",
   "id": "dcd96b0a",
   "metadata": {},
   "source": [
    "**Data leakage** occurs when information from outside the training dataset is used to create the model. This can happen if data that would not be available at the time of prediction is included in the training process. Data leakage can lead to optimistic performance estimates and models that fail to generalize well to new, unseen data.\n",
    "\n"
   ]
  },
  {
   "cell_type": "markdown",
   "id": "e01e6e1e",
   "metadata": {},
   "source": [
    "**Standard Scaler:**\n",
    "\n",
    "We use standardization to ensure that numerical features have a mean of 0 and a standard deviation of 1, which improves model performance, accelerates convergence, and ensures consistent feature impact in machine learning algorithms."
   ]
  },
  {
   "cell_type": "markdown",
   "id": "9f3e2d88",
   "metadata": {},
   "source": [
    "- **`StandardScaler()`**: Creates an instance of the StandardScaler.\n",
    "\n",
    "- **`.fit(X_train[list_numerical])`**: Computes the mean and standard deviation for each feature in the `X_train[list_numerical]` dataset. `X_train` is your training dataset, and list_numerical is a list of column names corresponding to the numerical features. This step calculates the parameters needed for scaling but does not yet apply the scaling.\n",
    "\n",
    "- **`scaler.transform(X_train[list_numerical])`**: Applies the standardization to the training data. This transforms each feature in the training dataset to have a mean of 0 and a standard deviation of 1.\n",
    "\n",
    "- **`X_train[list_numerical]`**: The transformed numerical features are assigned back to the `X_train` DataFrame, effectively replacing the original values.\n",
    "\n",
    "- **`scaler.transform(X_test[list_numerical])`**: Applies the same standardization parameters (mean and standard deviation) computed from the training data to the test data. This ensures that the test data is scaled in the same way as the training data.\n",
    "\n",
    "- **`X_test[list_numerical]`**: The transformed numerical features are assigned back to the `X_test` DataFrame, replacing the original values."
   ]
  },
  {
   "cell_type": "code",
   "execution_count": 32,
   "id": "4525b886",
   "metadata": {},
   "outputs": [],
   "source": [
    "# Perform Standardization on numerical features.\n",
    "\n",
    "from sklearn.preprocessing import StandardScaler\n",
    "\n",
    "scaler = StandardScaler().fit(X_train[list_numerical])\n",
    "X_train[list_numerical] = scaler.transform(X_train[list_numerical])\n",
    "X_test[list_numerical] = scaler.transform(X_test[list_numerical])"
   ]
  },
  {
   "cell_type": "markdown",
   "id": "0ca8a566",
   "metadata": {},
   "source": [
    "Here we are fitting a StandardScaler to the numerical features in `X_train` to compute their mean and standard deviation, then using this scaler to standardize the same numerical columns in both `X_train` and `X_test`, ensuring they have a mean of 0 and a standard deviation of 1. After standardizing, we replace the original values in `X_train` and `X_test` with the new standardized data."
   ]
  },
  {
   "cell_type": "code",
   "execution_count": 33,
   "id": "b6485169",
   "metadata": {},
   "outputs": [
    {
     "data": {
      "text/html": [
       "<div>\n",
       "<style scoped>\n",
       "    .dataframe tbody tr th:only-of-type {\n",
       "        vertical-align: middle;\n",
       "    }\n",
       "\n",
       "    .dataframe tbody tr th {\n",
       "        vertical-align: top;\n",
       "    }\n",
       "\n",
       "    .dataframe thead th {\n",
       "        text-align: right;\n",
       "    }\n",
       "</style>\n",
       "<table border=\"1\" class=\"dataframe\">\n",
       "  <thead>\n",
       "    <tr style=\"text-align: right;\">\n",
       "      <th></th>\n",
       "      <th>AtBat</th>\n",
       "      <th>Hits</th>\n",
       "      <th>HmRun</th>\n",
       "      <th>Runs</th>\n",
       "      <th>RBI</th>\n",
       "      <th>Walks</th>\n",
       "      <th>Years</th>\n",
       "      <th>CAtBat</th>\n",
       "      <th>CHits</th>\n",
       "      <th>CHmRun</th>\n",
       "      <th>CRuns</th>\n",
       "      <th>CRBI</th>\n",
       "      <th>CWalks</th>\n",
       "      <th>PutOuts</th>\n",
       "      <th>Assists</th>\n",
       "      <th>Errors</th>\n",
       "      <th>League_N</th>\n",
       "      <th>Division_W</th>\n",
       "      <th>NewLeague_N</th>\n",
       "    </tr>\n",
       "  </thead>\n",
       "  <tbody>\n",
       "    <tr>\n",
       "      <th>183</th>\n",
       "      <td>-0.522628</td>\n",
       "      <td>-0.366092</td>\n",
       "      <td>0.024062</td>\n",
       "      <td>-0.122668</td>\n",
       "      <td>-0.343697</td>\n",
       "      <td>-0.409632</td>\n",
       "      <td>-1.104715</td>\n",
       "      <td>-0.991146</td>\n",
       "      <td>-0.945558</td>\n",
       "      <td>-0.692815</td>\n",
       "      <td>-0.916302</td>\n",
       "      <td>-0.879180</td>\n",
       "      <td>-0.852284</td>\n",
       "      <td>-0.520074</td>\n",
       "      <td>-0.398678</td>\n",
       "      <td>-0.072544</td>\n",
       "      <td>1</td>\n",
       "      <td>0</td>\n",
       "      <td>1</td>\n",
       "    </tr>\n",
       "    <tr>\n",
       "      <th>229</th>\n",
       "      <td>0.782855</td>\n",
       "      <td>0.863756</td>\n",
       "      <td>-1.330312</td>\n",
       "      <td>0.524986</td>\n",
       "      <td>0.091599</td>\n",
       "      <td>1.790776</td>\n",
       "      <td>0.375753</td>\n",
       "      <td>0.910091</td>\n",
       "      <td>0.682733</td>\n",
       "      <td>-0.681018</td>\n",
       "      <td>0.664994</td>\n",
       "      <td>0.128285</td>\n",
       "      <td>1.046082</td>\n",
       "      <td>-0.247847</td>\n",
       "      <td>2.419075</td>\n",
       "      <td>1.038997</td>\n",
       "      <td>1</td>\n",
       "      <td>0</td>\n",
       "      <td>1</td>\n",
       "    </tr>\n",
       "    <tr>\n",
       "      <th>286</th>\n",
       "      <td>1.337335</td>\n",
       "      <td>1.049393</td>\n",
       "      <td>1.265572</td>\n",
       "      <td>0.605943</td>\n",
       "      <td>0.922619</td>\n",
       "      <td>0.547067</td>\n",
       "      <td>-0.258733</td>\n",
       "      <td>0.056545</td>\n",
       "      <td>-0.048862</td>\n",
       "      <td>0.734551</td>\n",
       "      <td>0.028909</td>\n",
       "      <td>0.158814</td>\n",
       "      <td>0.252220</td>\n",
       "      <td>0.030862</td>\n",
       "      <td>-0.749109</td>\n",
       "      <td>-0.390128</td>\n",
       "      <td>0</td>\n",
       "      <td>1</td>\n",
       "      <td>0</td>\n",
       "    </tr>\n",
       "    <tr>\n",
       "      <th>102</th>\n",
       "      <td>-1.189407</td>\n",
       "      <td>-1.340689</td>\n",
       "      <td>-1.104583</td>\n",
       "      <td>-0.527452</td>\n",
       "      <td>-1.135144</td>\n",
       "      <td>-1.127157</td>\n",
       "      <td>0.164258</td>\n",
       "      <td>-0.555293</td>\n",
       "      <td>-0.579003</td>\n",
       "      <td>-0.751797</td>\n",
       "      <td>-0.574481</td>\n",
       "      <td>-0.641052</td>\n",
       "      <td>-0.572323</td>\n",
       "      <td>-0.659429</td>\n",
       "      <td>0.123393</td>\n",
       "      <td>0.245039</td>\n",
       "      <td>0</td>\n",
       "      <td>0</td>\n",
       "      <td>0</td>\n",
       "    </tr>\n",
       "    <tr>\n",
       "      <th>153</th>\n",
       "      <td>-0.431384</td>\n",
       "      <td>-0.273273</td>\n",
       "      <td>-0.653125</td>\n",
       "      <td>-0.244103</td>\n",
       "      <td>-0.383269</td>\n",
       "      <td>-1.031487</td>\n",
       "      <td>0.587249</td>\n",
       "      <td>0.142591</td>\n",
       "      <td>0.135930</td>\n",
       "      <td>0.121138</td>\n",
       "      <td>0.058632</td>\n",
       "      <td>0.293143</td>\n",
       "      <td>-0.131288</td>\n",
       "      <td>-0.477944</td>\n",
       "      <td>-0.792019</td>\n",
       "      <td>-0.548919</td>\n",
       "      <td>1</td>\n",
       "      <td>1</td>\n",
       "      <td>1</td>\n",
       "    </tr>\n",
       "  </tbody>\n",
       "</table>\n",
       "</div>"
      ],
      "text/plain": [
       "        AtBat      Hits     HmRun      Runs       RBI     Walks     Years  \\\n",
       "183 -0.522628 -0.366092  0.024062 -0.122668 -0.343697 -0.409632 -1.104715   \n",
       "229  0.782855  0.863756 -1.330312  0.524986  0.091599  1.790776  0.375753   \n",
       "286  1.337335  1.049393  1.265572  0.605943  0.922619  0.547067 -0.258733   \n",
       "102 -1.189407 -1.340689 -1.104583 -0.527452 -1.135144 -1.127157  0.164258   \n",
       "153 -0.431384 -0.273273 -0.653125 -0.244103 -0.383269 -1.031487  0.587249   \n",
       "\n",
       "       CAtBat     CHits    CHmRun     CRuns      CRBI    CWalks   PutOuts  \\\n",
       "183 -0.991146 -0.945558 -0.692815 -0.916302 -0.879180 -0.852284 -0.520074   \n",
       "229  0.910091  0.682733 -0.681018  0.664994  0.128285  1.046082 -0.247847   \n",
       "286  0.056545 -0.048862  0.734551  0.028909  0.158814  0.252220  0.030862   \n",
       "102 -0.555293 -0.579003 -0.751797 -0.574481 -0.641052 -0.572323 -0.659429   \n",
       "153  0.142591  0.135930  0.121138  0.058632  0.293143 -0.131288 -0.477944   \n",
       "\n",
       "      Assists    Errors  League_N  Division_W  NewLeague_N  \n",
       "183 -0.398678 -0.072544         1           0            1  \n",
       "229  2.419075  1.038997         1           0            1  \n",
       "286 -0.749109 -0.390128         0           1            0  \n",
       "102  0.123393  0.245039         0           0            0  \n",
       "153 -0.792019 -0.548919         1           1            1  "
      ]
     },
     "execution_count": 33,
     "metadata": {},
     "output_type": "execute_result"
    }
   ],
   "source": [
    "X_train.head()"
   ]
  },
  {
   "cell_type": "markdown",
   "id": "71838782",
   "metadata": {},
   "source": [
    "### Create a Lasso Model.\n",
    "\n",
    "First, we apply lasso regression on the training set with regularization parameter `alpha = 1`\n",
    "\n",
    "`alpha = 1`: This value is commonly used as default and provides a good balance between maintaining model complexity and reducing overfitting.\n"
   ]
  },
  {
   "cell_type": "code",
   "execution_count": 34,
   "id": "b2e55660",
   "metadata": {},
   "outputs": [
    {
     "name": "stdout",
     "output_type": "stream",
     "text": [
      "Lasso intercept: 564.5937348315274\n",
      "Lasso coefficients: [-238.00979565  323.56148885   28.4077055   -29.58554927  -12.63135841\n",
      "   93.03568425    4.3223327  -132.82814362    0.           31.87389376\n",
      "  349.64238755   66.30102614 -115.47738549   80.17318737   26.49433691\n",
      "   -5.71897974   77.16958534  -99.00782893  -17.03496992]\n"
     ]
    }
   ],
   "source": [
    "# Create and fit the Lasso regression model to the training data\n",
    "lasso_model = Lasso(alpha=1, max_iter=10000).fit(X_train, y_train)\n",
    "print(\"Lasso intercept:\", lasso_model.intercept_)\n",
    "\n",
    "# Get the coefficients (weights) of the fitted Lasso regression model\n",
    "print(\"Lasso coefficients:\", lasso_model.coef_)"
   ]
  },
  {
   "cell_type": "markdown",
   "id": "404cd269",
   "metadata": {},
   "source": [
    "**Observation**\n",
    "\n",
    "* Lasso Intercept: 564.59\n",
    "\n",
    "This is the intercept term of your Lasso regression model. It represents the expected mean value of the dependent variable when all independent variables are set to zero. In practical terms, it's the baseline prediction when no other information (from the variables) is provided.\n",
    "Lasso Coefficients:\n",
    "\n",
    "* Lasso coefficients: represent the relationship between each independent variable and the dependent variable.\n",
    "Each coefficient estimates the change in the dependent variable for a one unit change in the respective independent variable, holding all other variables constant.\n",
    "    - A positive coefficient indicates that as the independent variable increases, the dependent variable also increases.\n",
    "    - A negative coefficient indicates that as the independent variable increases, the dependent variable decreases.\n",
    "    - The magnitude of the coefficient shows the strength of the impact. A larger absolute value indicates a stronger effect.\n",
    "\n"
   ]
  },
  {
   "cell_type": "markdown",
   "id": "838fc3d5",
   "metadata": {},
   "source": [
    "\n",
    "* Lasso regression is known for its ability to perform feature selection by shrinking some coefficients to zero, thus effectively removing those variables from the equation.\n",
    "\n",
    "* In this model, however, it seems that none of the coefficients are exactly zero, suggesting that all included variables have some impact on the model, though some impacts are very small (e.g., coefficients close to zero)."
   ]
  },
  {
   "cell_type": "markdown",
   "id": "f928084e",
   "metadata": {},
   "source": [
    "- Test the lasso model and make predictions\n",
    "- Evaluate the RMSE and R2 scores for model performance.\n",
    "- Optimize the model.\n"
   ]
  },
  {
   "cell_type": "markdown",
   "id": "ca7d034e",
   "metadata": {},
   "source": [
    "**Model Evaluation on Lasso model**"
   ]
  },
  {
   "cell_type": "code",
   "execution_count": 35,
   "id": "a1fbd3a8",
   "metadata": {},
   "outputs": [
    {
     "name": "stdout",
     "output_type": "stream",
     "text": [
      "MSE training set 84626.74\n",
      "R squared training set 57.24\n",
      "---------------------------\n",
      "MSE test set 128943.02\n",
      "R squared test set 40.44\n"
     ]
    }
   ],
   "source": [
    "# Training data\n",
    "pred_train = lasso_model.predict(X_train)\n",
    "mse_train = mean_squared_error(y_train, pred_train)\n",
    "print('MSE training set', round(mse_train, 2))\n",
    "print('R squared training set', round(r2_score(y_train, pred_train)*100,2))\n",
    "print(\"---------------------------\")\n",
    "\n",
    "# Test data\n",
    "pred_test = lasso_model.predict(X_test)\n",
    "mse_test =mean_squared_error(y_test, pred_test)\n",
    "print('MSE test set', round(mse_test, 2))\n",
    "print('R squared test set', round(r2_score(y_test, pred_test)*100,2))\n"
   ]
  },
  {
   "cell_type": "markdown",
   "id": "fad2adc8",
   "metadata": {},
   "source": [
    "To better understand the role of `alpha`(the regularization parameter), plot the lasso coefficients as a function of `alpha` (max_iter are the maximum number of iterations):"
   ]
  },
  {
   "cell_type": "code",
   "execution_count": 52,
   "id": "e37f6520",
   "metadata": {},
   "outputs": [
    {
     "data": {
      "image/png": "[encoded data removed]",
      "text/plain": [
       "<Figure size 640x480 with 1 Axes>"
      ]
     },
     "metadata": {},
     "output_type": "display_data"
    }
   ],
   "source": [
    "alphas = np.linspace(0.01,500,100)\n",
    "lasso = Lasso(max_iter=10000)\n",
    "coefs = []\n",
    "\n",
    "for a in alphas:\n",
    "    lasso.set_params(alpha=a)\n",
    "    lasso.fit(X_train, y_train)\n",
    "    coefs.append(lasso.coef_)\n",
    "\n",
    "ax = plt.gca()\n",
    "\n",
    "ax.plot(alphas, coefs)\n",
    "ax.set_xscale('log')\n",
    "plt.axis('tight')\n",
    "plt.xlabel('alpha')\n",
    "plt.ylabel('Coefficients')\n",
    "plt.title('Lasso coefficients as a function of alpha');\n"
   ]
  },
  {
   "cell_type": "markdown",
   "id": "921f4d31",
   "metadata": {},
   "source": [
    "Moving from left to right in the plot, observe that at first the lasso models contains many predictors with high magnitudes of coefficient estimates. With increasing `alpha`, the coefficient estimates approximate towards zero.\n",
    "\n",
    "Next, we use cross-validation to find the best value for  `alpha`. LassoCV comes with built-in cross-validation. This is how we tune the parameter for regularized regression.\n",
    "- LassoCV performs cross-validation across a grid of α values, automatically selecting the α that minimizes cross-validation error."
   ]
  },
  {
   "cell_type": "code",
   "execution_count": 63,
   "id": "7ae55099",
   "metadata": {},
   "outputs": [],
   "source": [
    "# Create and fit the LassoCV model to the training data with cross-validation\n",
    "\n",
    "# Create a range of alpha values for LassoCV\n",
    "alphas = np.logspace(-3, 1, 50)  # From 0.001 to 10 (log scale, 50 points)\n",
    "\n",
    "# Lasso with 5 fold cross-validation\n",
    "lasso_cv_model = LassoCV(alphas = alphas, cv=20, max_iter=10000, n_jobs=-1).fit(X_train, y_train)"
   ]
  },
  {
   "cell_type": "markdown",
   "id": "17a7044a",
   "metadata": {},
   "source": [
    "Let's check the best alpha value."
   ]
  },
  {
   "cell_type": "code",
   "execution_count": 64,
   "id": "10b5956c",
   "metadata": {},
   "outputs": [
    {
     "data": {
      "text/plain": [
       "np.float64(3.906939937054613)"
      ]
     },
     "execution_count": 64,
     "metadata": {},
     "output_type": "execute_result"
    }
   ],
   "source": [
    "# Get the best alpha (regularization strength) selected by cross-validation\n",
    "lasso_cv_model.alpha_"
   ]
  },
  {
   "cell_type": "markdown",
   "id": "dd41a0c4",
   "metadata": {},
   "source": [
    "**Visualize the coefficients of the LassoCV model**"
   ]
  },
  {
   "cell_type": "code",
   "execution_count": null,
   "id": "34101452",
   "metadata": {},
   "outputs": [],
   "source": []
  },
  {
   "cell_type": "code",
   "execution_count": 65,
   "id": "ac6c38fb",
   "metadata": {},
   "outputs": [
    {
     "data": {
      "image/png": "[encoded data removed]",
      "text/plain": [
       "<Figure size 800x600 with 1 Axes>"
      ]
     },
     "metadata": {},
     "output_type": "display_data"
    }
   ],
   "source": [
    "# Get MSEs across alphas\n",
    "mse_path = lasso_cv_model.mse_path_.mean(axis=1)  # Average MSE across folds\n",
    "alphas = lasso_cv_model.alphas_\n",
    "\n",
    "# Plot\n",
    "plt.figure(figsize=(8, 6))\n",
    "plt.plot(np.log10(alphas), mse_path, marker='o', linestyle='-')\n",
    "plt.axvline(np.log10(lasso_cv_model.alpha_), color='red', linestyle='--', label=f\"Best α = {lasso_cv_model.alpha_:.4f}\")\n",
    "plt.xlabel('log10(alpha)')\n",
    "plt.ylabel('Mean Squared Error')\n",
    "plt.title('LassoCV: MSE vs Regularization Strength')\n",
    "plt.legend()\n",
    "plt.show()"
   ]
  },
  {
   "cell_type": "code",
   "execution_count": 61,
   "id": "afde3015",
   "metadata": {},
   "outputs": [
    {
     "data": {
      "image/png": "[encoded data removed]",
      "text/plain": [
       "<Figure size 800x600 with 1 Axes>"
      ]
     },
     "metadata": {},
     "output_type": "display_data"
    }
   ],
   "source": [
    "#for different cv values plot the best alpha\n",
    "cv_values = [2, 5, 10, 20,100]\n",
    "mse_values = []\n",
    "alpha_values = []\n",
    "for cv in cv_values:\n",
    "    lasso_cv_model = LassoCV(alphas=alphas, cv=cv, max_iter=10000, n_jobs=-1).fit(X_train, y_train)\n",
    "    mse_values.append(lasso_cv_model.mse_path_.mean(axis=1).min())\n",
    "    alpha_values.append(lasso_cv_model.alpha_)\n",
    "# Plot the alpha values for different cv values\n",
    "plt.figure(figsize=(8, 6))\n",
    "plt.plot(cv_values, alpha_values, marker='o', linestyle='-')\n",
    "plt.xlabel('Cross-Validation Folds (cv)')\n",
    "plt.ylabel('alphas')\n",
    "plt.title('LassoCV: alphas vs Cross-Validation Folds')\n",
    "plt.xticks(cv_values)\n",
    "plt.grid()\n",
    "plt.show()\n",
    "\n"
   ]
  },
  {
   "cell_type": "markdown",
   "id": "e57d412d",
   "metadata": {},
   "source": [
    "Let's use the best alpha value, and see if you can tune it."
   ]
  },
  {
   "cell_type": "code",
   "execution_count": 66,
   "id": "86eebaeb",
   "metadata": {},
   "outputs": [],
   "source": [
    "# Create and fit the Lasso regression model using the best alpha found by cross-validation\n",
    "lasso_tuned = Lasso(alpha=lasso_cv_model.alpha_, max_iter=10000).fit(X_train, y_train)"
   ]
  },
  {
   "cell_type": "markdown",
   "id": "345defaf",
   "metadata": {},
   "source": [
    "**Model Evaluation on Lasso model with the best alpha**"
   ]
  },
  {
   "cell_type": "code",
   "execution_count": 67,
   "id": "2f7a1435",
   "metadata": {},
   "outputs": [
    {
     "name": "stdout",
     "output_type": "stream",
     "text": [
      "MSE training set post tuning 88207.79\n",
      "R squared training set post tuning 55.43\n",
      "---------------------------\n",
      "MSE test set post tuning 141405.43\n",
      "R squared test set post tuning 34.68\n"
     ]
    }
   ],
   "source": [
    "# Training data\n",
    "pred_train_tuned = lasso_tuned.predict(X_train)\n",
    "mse_train = mean_squared_error(y_train, pred_train_tuned)\n",
    "print('MSE training set post tuning', round(mse_train, 2))\n",
    "print('R squared training set post tuning', round(r2_score(y_train, pred_train_tuned)*100,2))\n",
    "print(\"---------------------------\")\n",
    "\n",
    "# Test data\n",
    "pred_test_tuned = lasso_tuned.predict(X_test)\n",
    "mse_test =mean_squared_error(y_test, pred_test_tuned)\n",
    "print('MSE test set post tuning', round(mse_test, 2))\n",
    "print('R squared test set post tuning', round(r2_score(y_test, pred_test_tuned)*100,2))\n"
   ]
  },
  {
   "cell_type": "markdown",
   "id": "cbaa70b1",
   "metadata": {},
   "source": [
    "Now, let's find the coefficient of the tuned model."
   ]
  },
  {
   "cell_type": "code",
   "execution_count": 68,
   "id": "965dc4c3",
   "metadata": {},
   "outputs": [
    {
     "data": {
      "text/plain": [
       "AtBat         -121.120576\n",
       "Hits           222.719851\n",
       "HmRun           10.674306\n",
       "Runs             0.000000\n",
       "RBI              0.000000\n",
       "Walks           53.193558\n",
       "Years            0.000000\n",
       "CAtBat          -0.000000\n",
       "CHits            0.000000\n",
       "CHmRun          13.379786\n",
       "CRuns          146.451556\n",
       "CRBI            48.282698\n",
       "CWalks          -0.000000\n",
       "PutOuts         76.680469\n",
       "Assists          0.722491\n",
       "Errors          -1.786828\n",
       "League_N        43.174029\n",
       "Division_W     -91.181194\n",
       "NewLeague_N      0.000000\n",
       "dtype: float64"
      ]
     },
     "execution_count": 68,
     "metadata": {},
     "output_type": "execute_result"
    }
   ],
   "source": [
    "# Create a Pandas Series of the coefficients from the tuned Lasso regression model\n",
    "pd.Series(lasso_tuned.coef_, index=X_train.columns)"
   ]
  },
  {
   "cell_type": "markdown",
   "id": "e8292889",
   "metadata": {},
   "source": [
    "**Observations**\n",
    "- Zero Coefficients: Features like Runs, RBI, etc. have coefficients shrunk to zero. This indicates that Lasso has deemed these features less important or irrelevant for predicting the target variable in the presence of other features.\n",
    "\n",
    "- Non-Zero Coefficients: Features such as Hits, Walks, CRuns, etc. have non-zero coefficients and are considered significant predictors in the model. The magnitude and sign of each coefficient indicate the strength and direction of the influence on the response variable:\n",
    "\n",
    "Positive Coefficients (e.g., Hits and CRuns) suggest that an increase in these variables is associated with an increase in the target variable.\n",
    "\n",
    "Negative Coefficients (e.g., AtBat and Division_W) suggest that an increase in these variables is associated with a decrease in the target variable\n",
    "\n",
    "---"
   ]
  },
  {
   "cell_type": "markdown",
   "id": "13e99eef",
   "metadata": {},
   "source": [
    "### __Parameter Tuning with Ridge Regression__"
   ]
  },
  {
   "cell_type": "markdown",
   "id": "e1a37fdc",
   "metadata": {},
   "source": [
    "**Ridge Regression** also known as L2 Regularization is a regularization technique used in linear regression to prevent overfitting. It is useful for handling multicollinear data, where two predictors/independent variables are highly correlated to each other.\n",
    "\n",
    "*Collinearity* refers to a situation where two or more predictor variables in a multiple regression model are highly correlated, meaning they have a linear relationship. This correlation makes it difficult to determine the individual effect of each predictor on the target variable, leading to unreliable and unstable estimates of regression coefficients.\n",
    "\n",
    "Ridge regression adds a regularization term to the loss function that penalizes large coefficients in the model and encourages the model to have smaller coefficients.\n",
    "It results in a simpler and more generalized model.\n",
    "\n",
    "Ridge Regression does shrink the coefficients, it does not force them to zero, meaning it does not perform feature selection\n",
    "\n"
   ]
  },
  {
   "cell_type": "markdown",
   "id": "504ba0a1",
   "metadata": {},
   "source": [
    "Let's see how to implement Ridge regression"
   ]
  },
  {
   "cell_type": "markdown",
   "id": "c50287c4",
   "metadata": {},
   "source": [
    "\n",
    "- First, import the required libraries."
   ]
  },
  {
   "cell_type": "code",
   "execution_count": 69,
   "id": "197ac53d",
   "metadata": {},
   "outputs": [],
   "source": [
    "# Import necessary libraries\n",
    "import pandas as pd\n",
    "import numpy as np\n",
    "from sklearn.model_selection import train_test_split, cross_val_score, RepeatedKFold\n",
    "from sklearn.linear_model import Ridge, RidgeCV\n",
    "from sklearn.metrics import mean_squared_error, r2_score"
   ]
  },
  {
   "cell_type": "markdown",
   "id": "eadb8aa2",
   "metadata": {},
   "source": [
    "- Starting the implementation using the train test data acquired from the Lasso implementation on **Hitters.csv** dataset\n"
   ]
  },
  {
   "cell_type": "markdown",
   "id": "a42d926c",
   "metadata": {},
   "source": [
    "- Let's fit the model and check what the intercept value is."
   ]
  },
  {
   "cell_type": "code",
   "execution_count": 70,
   "id": "9cf688b5",
   "metadata": {},
   "outputs": [
    {
     "data": {
      "text/plain": [
       "np.float64(567.9156813539818)"
      ]
     },
     "execution_count": 70,
     "metadata": {},
     "output_type": "execute_result"
    }
   ],
   "source": [
    "# Create and fit the Ridge regression model to the training data\n",
    "ridge_model = Ridge(alpha=1).fit(X_train, y_train)\n",
    "ridge_model.intercept_"
   ]
  },
  {
   "cell_type": "markdown",
   "id": "061c0297",
   "metadata": {},
   "source": [
    "__Observation:__\n",
    "- The intercept value for the Ridge model is 567.92."
   ]
  },
  {
   "cell_type": "markdown",
   "id": "81bead8f",
   "metadata": {},
   "source": [
    "**Model evaluation on Ridge model**\n"
   ]
  },
  {
   "cell_type": "code",
   "execution_count": 71,
   "id": "fa3287d3",
   "metadata": {},
   "outputs": [
    {
     "name": "stdout",
     "output_type": "stream",
     "text": [
      "MSE training set 84519.55\n",
      "R squared training set 57.29\n",
      "---------------------------\n",
      "MSE test set 128787.82\n",
      "R squared test set 40.51\n"
     ]
    }
   ],
   "source": [
    "# Training data\n",
    "pred_train = ridge_model.predict(X_train)\n",
    "mse_train = mean_squared_error(y_train, pred_train)\n",
    "print('MSE training set', round(mse_train, 2))\n",
    "print('R squared training set', round(r2_score(y_train, pred_train)*100,2))\n",
    "print(\"---------------------------\")\n",
    "\n",
    "# Test data\n",
    "pred_test = ridge_model.predict(X_test)\n",
    "mse_test =mean_squared_error(y_test, pred_test)\n",
    "print('MSE test set', round(mse_test, 2))\n",
    "print('R squared test set', round(r2_score(y_test, pred_test)*100,2))"
   ]
  },
  {
   "cell_type": "markdown",
   "id": "88a763c1",
   "metadata": {},
   "source": [
    "Let's check the coefficient of the model."
   ]
  },
  {
   "cell_type": "code",
   "execution_count": 72,
   "id": "3d083975",
   "metadata": {},
   "outputs": [
    {
     "data": {
      "text/plain": [
       "array([-214.36666581,  312.79699189,   44.54460538,  -35.71637884,\n",
       "        -34.82420084,   96.80224179,   13.90150535, -177.01810375,\n",
       "         53.88707691,   29.37250046,  316.33678896,   84.98474887,\n",
       "       -117.4459887 ,   80.97138253,   31.40258773,   -9.94921116,\n",
       "         96.54151823, -104.45690396,  -38.38032258])"
      ]
     },
     "execution_count": 72,
     "metadata": {},
     "output_type": "execute_result"
    }
   ],
   "source": [
    "# Get the coefficients (weights) of the fitted Ridge regression model\n",
    "ridge_model.coef_"
   ]
  },
  {
   "cell_type": "markdown",
   "id": "95ec1ba4",
   "metadata": {},
   "source": [
    "Next, we use cross-validation to find the best value for  `alpha`. Ridge regression just like lasso, comes with built-in cross-validation."
   ]
  },
  {
   "cell_type": "code",
   "execution_count": 73,
   "id": "52570c79",
   "metadata": {},
   "outputs": [
    {
     "data": {
      "text/plain": [
       "np.float64(323.745754281764)"
      ]
     },
     "execution_count": 73,
     "metadata": {},
     "output_type": "execute_result"
    }
   ],
   "source": [
    "alphas = np.logspace(-3, 3, 50)  # From 0.001 to 1000 (log scale, 50 points)\n",
    "\n",
    "ridge_cv_model = RidgeCV(alphas= alphas, cv=10).fit(X_train, y_train)\n",
    "\n",
    "# Get the best alpha (regularization strength) selected by cross-validation\n",
    "ridge_cv_model.alpha_"
   ]
  },
  {
   "cell_type": "code",
   "execution_count": 74,
   "id": "8d987679",
   "metadata": {},
   "outputs": [],
   "source": [
    "# Get MSEs across alphas (not provided by RidgeCV, so we compute it manually)\n",
    "alphas = np.logspace(-3, 3, 50)\n",
    "mean_mse = []\n",
    "\n",
    "# Iterate over the alphas to compute the mean squared error for each alpha\n",
    "for alpha in alphas:\n",
    "    ridge = Ridge(alpha=alpha)\n",
    "    neg_mse = cross_val_score(ridge, X_train, y_train, cv=10, scoring='neg_mean_squared_error')\n",
    "    mean_mse.append(-neg_mse.mean())\n",
    "    \n",
    "# Record the best\n",
    "best_idx = np.argmin(mean_mse)\n",
    "best_alpha = alphas[best_idx]\n",
    "best_mse = mean_mse[best_idx]\n"
   ]
  },
  {
   "cell_type": "markdown",
   "id": "eaf20d11",
   "metadata": {},
   "source": [
    "**Visualize the coefficients of the RidgeCV model**"
   ]
  },
  {
   "cell_type": "code",
   "execution_count": 75,
   "id": "ad726927",
   "metadata": {},
   "outputs": [
    {
     "data": {
      "image/png": "[encoded data removed]",
      "text/plain": [
       "<Figure size 800x600 with 1 Axes>"
      ]
     },
     "metadata": {},
     "output_type": "display_data"
    }
   ],
   "source": [
    "plt.figure(figsize=(8, 6))\n",
    "plt.plot(np.log10(alphas), mean_mse, marker='o', linestyle='-')\n",
    "\n",
    "# Mark best alpha\n",
    "plt.axvline(np.log10(best_alpha), color='red', linestyle='--', label=f\"Best α = {best_alpha:.4f}\")\n",
    "\n",
    "# Optionally annotate best MSE\n",
    "plt.annotate(f\"Min MSE: {best_mse:.2f}\",\n",
    "             xy=(np.log10(best_alpha), best_mse),\n",
    "             xytext=(np.log10(best_alpha)+0.2, best_mse+500),\n",
    "             arrowprops=dict(facecolor='black', arrowstyle='->'))\n",
    "\n",
    "plt.xlabel('log10(alpha)')\n",
    "plt.ylabel('Mean Squared Error')\n",
    "plt.title('Ridge: MSE vs Regularization Strength')\n",
    "plt.legend()\n",
    "plt.grid(True)\n",
    "plt.show()\n"
   ]
  },
  {
   "cell_type": "code",
   "execution_count": 76,
   "id": "0ddf1f45",
   "metadata": {},
   "outputs": [
    {
     "name": "stdout",
     "output_type": "stream",
     "text": [
      "MSE at 104.81: 107088.66\n",
      "MSE at 323.74: 109810.68\n"
     ]
    }
   ],
   "source": [
    "# Compare the MSE at specific alpha values\n",
    "print(f\"MSE at 104.81: {mean_mse[np.argmin(abs(alphas - 104.81))]:.2f}\")\n",
    "print(f\"MSE at 323.74: {mean_mse[np.argmin(abs(alphas - 323.74))]:.2f}\")\n"
   ]
  },
  {
   "cell_type": "code",
   "execution_count": 77,
   "id": "d6a07a02",
   "metadata": {},
   "outputs": [],
   "source": [
    "# Create and fit the ridge regression model using the best alpha found by cross-validation\n",
    "ridge_tuned = Ridge(alpha=ridge_cv_model.alpha_, max_iter=10000).fit(X_train, y_train)"
   ]
  },
  {
   "cell_type": "markdown",
   "id": "ceee5ee0",
   "metadata": {},
   "source": [
    "**Model evaluation on tuned Ridge model**"
   ]
  },
  {
   "cell_type": "code",
   "execution_count": 78,
   "id": "417438f6",
   "metadata": {},
   "outputs": [
    {
     "name": "stdout",
     "output_type": "stream",
     "text": [
      "MSE training set 102516.41\n",
      "R squared training set 48.2\n",
      "---------------------------\n",
      "MSE test set 153051.15\n",
      "R squared test set 29.3\n"
     ]
    }
   ],
   "source": [
    "# Training data\n",
    "pred_train_tuned = ridge_tuned.predict(X_train)\n",
    "mse_train = mean_squared_error(y_train, pred_train_tuned)\n",
    "print('MSE training set', round(mse_train, 2))\n",
    "print('R squared training set', round(r2_score(y_train, pred_train_tuned)*100,2))\n",
    "print(\"---------------------------\")\n",
    "\n",
    "# Test data\n",
    "pred_test_tuned = ridge_tuned.predict(X_test)\n",
    "mse_test =mean_squared_error(y_test, pred_test_tuned)\n",
    "print('MSE test set', round(mse_test, 2))\n",
    "print('R squared test set', round(r2_score(y_test, pred_test_tuned)*100,2))\n"
   ]
  },
  {
   "cell_type": "code",
   "execution_count": 79,
   "id": "011ad151",
   "metadata": {},
   "outputs": [
    {
     "data": {
      "text/plain": [
       "AtBat          22.210847\n",
       "Hits           34.206180\n",
       "HmRun          13.325044\n",
       "Runs           26.265263\n",
       "RBI            21.076731\n",
       "Walks          27.924606\n",
       "Years          17.895491\n",
       "CAtBat         25.853708\n",
       "CHits          29.558329\n",
       "CHmRun         20.994174\n",
       "CRuns          30.386000\n",
       "CRBI           27.826768\n",
       "CWalks         23.507093\n",
       "PutOuts        36.584064\n",
       "Assists         3.935249\n",
       "Errors         -2.709751\n",
       "League_N        7.285132\n",
       "Division_W    -16.375742\n",
       "NewLeague_N     5.568212\n",
       "dtype: float64"
      ]
     },
     "execution_count": 79,
     "metadata": {},
     "output_type": "execute_result"
    }
   ],
   "source": [
    "# Create a Pandas Series of the coefficients from the tuned Ridge regression model\n",
    "pd.Series(ridge_tuned.coef_, index=X_train.columns)"
   ]
  },
  {
   "cell_type": "markdown",
   "id": "cc5e78c6",
   "metadata": {},
   "source": [
    "**Observation**\n",
    "\n",
    "- The coefficients with the highest values suggest that cumulative career statistics like Hits, PutOuts, and CRuns scored historically have the most significant positive influence on the target variable.\n",
    "\n",
    "- Division_W: The only feature with a notably high negative coefficient is Division_W, which indicates that being in the Western division is associated with a negative effect on the target variable. This could reflect divisional performance differences or disparities in competitive levels.\n",
    "\n",
    "- Years, Assists, and NewLeague_N: These features have smaller positive coefficients, suggesting a modest but positive influence on the model’s predictions. This indicates that experience and being in a new league might have a slight positive impact."
   ]
  },
  {
   "cell_type": "markdown",
   "id": "bdf30af9",
   "metadata": {},
   "source": [
    "This analysis helps in understanding the relative importance and influence of different aspects of a baseball player's statistics on the predicted target\n",
    "\n",
    "---"
   ]
  },
  {
   "cell_type": "markdown",
   "id": "113c692c",
   "metadata": {},
   "source": [
    "### __Parameter Tuning With ElasticNet Regression__"
   ]
  },
  {
   "cell_type": "markdown",
   "id": "67ef839f",
   "metadata": {},
   "source": [
    "Elastic Net regression is a regularization technique that linearly combines the penalties of Lasso (L1) and Ridge (L2) methods. It is particularly useful when dealing with highly collinear data, where ordinary least squares might not perform well.\n"
   ]
  },
  {
   "cell_type": "markdown",
   "id": "b4f8025c",
   "metadata": {},
   "source": [
    "Let's see how to implement Elastic net regression"
   ]
  },
  {
   "cell_type": "markdown",
   "id": "4dca1dcf",
   "metadata": {},
   "source": [
    "\n",
    "- First, import the required libraries."
   ]
  },
  {
   "cell_type": "code",
   "execution_count": 80,
   "id": "eb9aba9b",
   "metadata": {},
   "outputs": [],
   "source": [
    "from sklearn.linear_model import ElasticNetCV, ElasticNet"
   ]
  },
  {
   "cell_type": "markdown",
   "id": "95e5e069",
   "metadata": {},
   "source": [
    "- Starting the implementation using the train test data acquired from the Lasso implementation on **Hitters.csv** dataset\n"
   ]
  },
  {
   "cell_type": "markdown",
   "id": "c3e6fa8e",
   "metadata": {},
   "source": [
    "- Let's fit the model and check what the intercept value is."
   ]
  },
  {
   "cell_type": "code",
   "execution_count": 81,
   "id": "4a96d281",
   "metadata": {},
   "outputs": [
    {
     "data": {
      "text/plain": [
       "np.float64(550.3617085410768)"
      ]
     },
     "execution_count": 81,
     "metadata": {},
     "output_type": "execute_result"
    }
   ],
   "source": [
    "# Initializing and fitting the ElasticNet model\n",
    "elastic_net = ElasticNet(alpha=1.0, l1_ratio=0.5)  # alpha is the regularization parameter\n",
    "elastic_net.fit(X_train, y_train)\n",
    "elastic_net.intercept_"
   ]
  },
  {
   "cell_type": "markdown",
   "id": "0cfc95fc",
   "metadata": {},
   "source": [
    "__Observation:__\n",
    "- The intercept value for the ElasticNet model is 550.36."
   ]
  },
  {
   "cell_type": "markdown",
   "id": "3a629215",
   "metadata": {},
   "source": [
    "**Model Evaluation of ElasticNet**"
   ]
  },
  {
   "cell_type": "code",
   "execution_count": 82,
   "id": "dba4ae12",
   "metadata": {},
   "outputs": [
    {
     "name": "stdout",
     "output_type": "stream",
     "text": [
      "MSE training set 95815.18\n",
      "R squared training set 51.58\n",
      "---------------------------\n",
      "MSE test set 150905.14\n",
      "R squared test set 30.29\n"
     ]
    }
   ],
   "source": [
    "# Training data\n",
    "pred_train = elastic_net.predict(X_train)\n",
    "mse_train = mean_squared_error(y_train, pred_train)\n",
    "print('MSE training set', round(mse_train, 2))\n",
    "print('R squared training set', round(r2_score(y_train, pred_train)*100,2))\n",
    "print(\"---------------------------\")\n",
    "\n",
    "# Test data\n",
    "pred_test = elastic_net.predict(X_test)\n",
    "mse_test =mean_squared_error(y_test, pred_test)\n",
    "print('MSE test set', round(mse_test, 2))\n",
    "print('R squared test set', round(r2_score(y_test, pred_test)*100,2))"
   ]
  },
  {
   "cell_type": "code",
   "execution_count": 83,
   "id": "1cf09d50",
   "metadata": {},
   "outputs": [
    {
     "name": "stdout",
     "output_type": "stream",
     "text": [
      "Root mean Squared Error(RMSE):  388.46510554977965\n"
     ]
    }
   ],
   "source": [
    "# Make predictions on the test set using the fitted Ridge regression model\n",
    "y_pred = elastic_net.predict(X_test)\n",
    "mean_squared_error(y_test, y_pred)\n",
    "\n",
    "print(\"Root mean Squared Error(RMSE): \", np.sqrt(mean_squared_error(y_test, y_pred)))"
   ]
  },
  {
   "cell_type": "markdown",
   "id": "8313d6f7",
   "metadata": {},
   "source": [
    "Let's check the coefficient of the model and the R2 score."
   ]
  },
  {
   "cell_type": "code",
   "execution_count": 84,
   "id": "90170fe4",
   "metadata": {},
   "outputs": [
    {
     "data": {
      "text/plain": [
       "array([ 15.97408   ,  52.78863051,   9.01324519,  30.79153659,\n",
       "        18.40819052,  35.68617146,  16.23936441,  27.75826969,\n",
       "        38.35995124,  20.56354692,  40.2986028 ,  33.65394714,\n",
       "        21.61386529,  58.44322336,   5.18968199,  -8.44381039,\n",
       "        16.97556768, -38.24639185,   9.54578801])"
      ]
     },
     "execution_count": 84,
     "metadata": {},
     "output_type": "execute_result"
    }
   ],
   "source": [
    "# Get the coefficients (weights) of the fitted Ridge regression model\n",
    "elastic_net.coef_"
   ]
  },
  {
   "cell_type": "markdown",
   "id": "defe6545",
   "metadata": {},
   "source": [
    "In Elastic Net regression,\n",
    "- `alpha` controls the overall strength of regularization, with higher values leading to more shrinkage of the coefficients to reduce overfitting.  It's better to use a log scale or more systematic approach to ensure that the alphas tested cover a suitable range, especially since very small or very large values might not be appropriate:\n",
    "\n",
    "- `l1_ratio` determines the mix of L1 (Lasso) and L2 (Ridge) regularization, ranging from 0 (pure Ridge) to 1 (pure Lasso). Intermediate values blend the two, leveraging Lasso's sparsity and Ridge's ability to handle multicollinearity. Ensure l1_ratio ranges from a small positive number to 1 (but not including 0 if you wish to avoid pure Ridge regression). This parameter is the mix ratio that controls the combination of L1 and L2 regularization\n",
    "\n",
    "Tuning these parameters allows Elastic Net to balance model performance and interpretability effectively.\n",
    "\n"
   ]
  },
  {
   "cell_type": "code",
   "execution_count": 85,
   "id": "266c743e",
   "metadata": {},
   "outputs": [],
   "source": [
    "# Define the parameter grid for alpha and l1_ratio\n",
    "alphas = np.logspace(-2, 2, 100)\n",
    "\n",
    "# start from 0.01 to include L1 regularization\n",
    "l1_ratios = np.linspace(0.01, 1, 100)\n",
    "\n",
    "# Create and fit the Elastic Net CV model, using 10-fold cross-validation\n",
    "elastic_cv_model = ElasticNetCV(alphas=alphas, l1_ratio=l1_ratios, cv=10, max_iter=10000).fit(X_train, y_train)"
   ]
  },
  {
   "cell_type": "code",
   "execution_count": 86,
   "id": "c1f4bd2e",
   "metadata": {},
   "outputs": [
    {
     "name": "stdout",
     "output_type": "stream",
     "text": [
      "Best alpha: 0.6579332246575682\n",
      "Best l1_ratio: 0.01\n"
     ]
    }
   ],
   "source": [
    "best_alpha = elastic_cv_model.alpha_\n",
    "best_l1_ratio = elastic_cv_model.l1_ratio_\n",
    "# Print the best alpha and l1_ratio found\n",
    "print('Best alpha:', best_alpha)\n",
    "print('Best l1_ratio:', best_l1_ratio)"
   ]
  },
  {
   "cell_type": "markdown",
   "id": "8d423977",
   "metadata": {},
   "source": [
    "**Visualize The Coefficients in ElasticNetCV At The Best L1 Ratio**"
   ]
  },
  {
   "cell_type": "code",
   "execution_count": 87,
   "id": "57f3af41",
   "metadata": {},
   "outputs": [
    {
     "data": {
      "image/png": "[encoded data removed]",
      "text/plain": [
       "<Figure size 800x600 with 1 Axes>"
      ]
     },
     "metadata": {},
     "output_type": "display_data"
    }
   ],
   "source": [
    "# Find best l1_ratio index\n",
    "best_l1_idx = np.where(np.isclose(elastic_cv_model.l1_ratio_, l1_ratios))[0][0]\n",
    "\n",
    "# Extract MSE for that l1_ratio\n",
    "mean_mse = elastic_cv_model.mse_path_[:, best_l1_idx, :].mean(axis=1)\n",
    "std_mse = elastic_cv_model.mse_path_[:, best_l1_idx, :].std(axis=1)\n",
    "\n",
    "# Now plot\n",
    "plt.figure(figsize=(8,6))\n",
    "plt.plot(np.log10(alphas), mean_mse, marker='o', linestyle='-', label='Mean MSE')\n",
    "plt.fill_between(np.log10(alphas),\n",
    "                 mean_mse - std_mse,\n",
    "                 mean_mse + std_mse,\n",
    "                 color='lightgrey', alpha=0.5, label='±1 std dev')\n",
    "\n",
    "plt.axvline(np.log10(elastic_cv_model.alpha_), color='red', linestyle='--',\n",
    "            label=f\"Best α = {elastic_cv_model.alpha_:.4f}\")\n",
    "\n",
    "plt.xlabel('log10(alpha)')\n",
    "plt.ylabel('Mean Squared Error')\n",
    "plt.title(f'ElasticNetCV: MSE vs Regularization Strength (l1_ratio={elastic_cv_model.l1_ratio_:.2f})')\n",
    "plt.legend()\n",
    "plt.grid(True)\n",
    "plt.show()\n"
   ]
  },
  {
   "cell_type": "code",
   "execution_count": 88,
   "id": "9bff52cd",
   "metadata": {},
   "outputs": [],
   "source": [
    "# Create and fit the Elastic Net regression model using the best alpha and l1_ratio found by cross-validation\n",
    "elastic_tuned = ElasticNet(alpha=best_alpha, l1_ratio=best_l1_ratio, max_iter=10000).fit(X_train, y_train)\n",
    "\n",
    "# Make predictions on the test set using the tuned Elastic Net regression model\n",
    "y_pred_tuned = elastic_tuned.predict(X_test)"
   ]
  },
  {
   "cell_type": "markdown",
   "id": "2552e804",
   "metadata": {},
   "source": [
    "**Evaluate the Tuned ElasticNet Model**"
   ]
  },
  {
   "cell_type": "code",
   "execution_count": 89,
   "id": "83d64e62",
   "metadata": {},
   "outputs": [
    {
     "name": "stdout",
     "output_type": "stream",
     "text": [
      "Root Mean Squared Error: 389.2628624957007\n"
     ]
    }
   ],
   "source": [
    "# Calculate and print the root mean squared error (RMSE) of the predictions\n",
    "rmse = np.sqrt(mean_squared_error(y_test, y_pred_tuned))\n",
    "print('Root Mean Squared Error:', rmse)"
   ]
  },
  {
   "cell_type": "code",
   "execution_count": 90,
   "id": "1708ecf5",
   "metadata": {},
   "outputs": [
    {
     "name": "stdout",
     "output_type": "stream",
     "text": [
      "MSE training set 96825.96\n",
      "R squared training set 51.07\n",
      "---------------------------\n",
      "MSE test set 151525.58\n",
      "R squared test set 30.0\n"
     ]
    }
   ],
   "source": [
    "# Training data\n",
    "pred_train = elastic_tuned.predict(X_train)\n",
    "mse_train = mean_squared_error(y_train, pred_train)\n",
    "print('MSE training set', round(mse_train, 2))\n",
    "print('R squared training set', round(r2_score(y_train, pred_train)*100,2))\n",
    "print(\"---------------------------\")\n",
    "\n",
    "# Test data\n",
    "pred_test = elastic_tuned.predict(X_test)\n",
    "mse_test =mean_squared_error(y_test, pred_test)\n",
    "print('MSE test set', round(mse_test, 2))\n",
    "print('R squared test set', round(r2_score(y_test, pred_test)*100,2))"
   ]
  },
  {
   "cell_type": "code",
   "execution_count": 91,
   "id": "97aebaf9",
   "metadata": {},
   "outputs": [
    {
     "name": "stdout",
     "output_type": "stream",
     "text": [
      "AtBat          18.952264\n",
      "Hits           47.839126\n",
      "HmRun          10.237971\n",
      "Runs           30.261344\n",
      "RBI            19.609824\n",
      "Walks          34.161751\n",
      "Years          17.256243\n",
      "CAtBat         27.894518\n",
      "CHits          36.334240\n",
      "CHmRun         20.898924\n",
      "CRuns          37.842142\n",
      "CRBI           32.342024\n",
      "CWalks         22.964286\n",
      "PutOuts        54.045755\n",
      "Assists         5.203644\n",
      "Errors         -7.482882\n",
      "League_N       14.828009\n",
      "Division_W    -32.698682\n",
      "NewLeague_N     9.277949\n",
      "dtype: float64\n"
     ]
    }
   ],
   "source": [
    "# Create a Pandas Series of the coefficients from the tuned Elastic Net regression model\n",
    "coefficients = pd.Series(elastic_tuned.coef_, index=X_train.columns)\n",
    "print(coefficients)"
   ]
  },
  {
   "cell_type": "markdown",
   "id": "55282aa2",
   "metadata": {},
   "source": [
    "\n",
    "## __Model Optimization__"
   ]
  },
  {
   "cell_type": "markdown",
   "id": "b5db34fa",
   "metadata": {},
   "source": [
    "### __Hyperparameter tuning__\n",
    "\n",
    "- Hyperparameter tuning is the process of finding the best settings for the parameters in a machine-learning model.\n",
    "- Hyperparameters are settings that are not learned during training but are set before the training process begins.\n",
    "- Hyperparameter tuning involves trying different combinations of hyperparameters and evaluating the model's performance using validation techniques.\n",
    "\n",
    "Some common techniques for Hyperparameter tuning are:\n",
    "\n",
    "1. **Grid Search**: It systematically works through multiple combinations of hyperparameters. It performs an exhaustive search on a specified parameter grid.\n",
    "\n",
    "\n",
    "  * **How it works:**\n",
    "    * Define a Parameter Grid: Specify a set of hyperparameters and their possible values.\n",
    "    * Combination Evaluation: The algorithm evaluates all possible combinations of these hyperparameters.\n",
    "    * Model Training: For each combination, the model is trained and evaluated using cross-validation.\n",
    "    * Optimal Parameters: The combination yielding the best performance (e.g., highest accuracy) is chosen as the optimal set.\n",
    "\n",
    "2. **Random Search:** It explores hyperparameter space by sampling a fixed number of parameter settings from the specified distributions.\n",
    "\n",
    "* **How it works:**\n",
    "  * Define Parameter Distributions: Specify distributions or ranges for the hyperparameters.\n",
    "  * Random Sampling: Randomly sample combinations of hyperparameters from these distributions.\n",
    "  * Model Training: For each sampled combination, the model is trained and evaluated using cross-validation.\n",
    "  * Optimal Parameters: The combination yielding the best performance is chosen as the optimal set.\n",
    "\n",
    "### Implementation of Gridsearch Cross validation technique (using the stored `Hitters.csv` data):"
   ]
  },
  {
   "cell_type": "code",
   "execution_count": 202,
   "id": "950447e0",
   "metadata": {},
   "outputs": [
    {
     "name": "stdout",
     "output_type": "stream",
     "text": [
      "MAE: -243.205\n",
      "Config: {'alpha': 0.9}\n"
     ]
    }
   ],
   "source": [
    "# Import the necessary classes from scikit-learn\n",
    "from sklearn.model_selection import GridSearchCV\n",
    "\n",
    "# Create a repeated K-fold cross-validator\n",
    "cv = RepeatedKFold(n_splits =10, n_repeats =3, random_state =1)\n",
    "\n",
    "# Define the grid of hyperparameters to search\n",
    "grid = dict()\n",
    "grid['alpha'] = np.arange(0, 1, 0.1)\n",
    "\n",
    "# Create an instance of the Ridge regression model\n",
    "model = Ridge()\n",
    "\n",
    "# Create the GridSearchCV object\n",
    "search = GridSearchCV(model, grid, scoring = 'neg_mean_absolute_error',cv = cv, n_jobs= -1)\n",
    "\n",
    "# Fit the GridSearchCV object to the training data\n",
    "results = search.fit(X_train, y_train)\n",
    "print('MAE: %.3f' % results.best_score_)\n",
    "print('Config: %s' % results.best_params_)"
   ]
  },
  {
   "cell_type": "markdown",
   "id": "f12766ff",
   "metadata": {},
   "source": [
    "__Observation:__\n",
    "\n",
    "- As you can see from the output, the Mean Absolute Error is **-243.205**, and the configuration fusion alpha is **0.9**.\n",
    "\n",
    ">Note: scikit-learn returns negative MAE because scoring functions are designed so that higher = better. We take the negative to interpret MAE as positive."
   ]
  },
  {
   "cell_type": "markdown",
   "id": "b7acbaec",
   "metadata": {},
   "source": [
    "- Let's try this with alpha points and predict it."
   ]
  },
  {
   "cell_type": "code",
   "execution_count": 203,
   "id": "b7b8719f",
   "metadata": {},
   "outputs": [
    {
     "data": {
      "text/plain": [
       "0.9"
      ]
     },
     "execution_count": 203,
     "metadata": {},
     "output_type": "execute_result"
    }
   ],
   "source": [
    "# Fetch the value from the key value pair in the dictionary, results\n",
    "results.best_params_.get('alpha')"
   ]
  },
  {
   "cell_type": "code",
   "execution_count": 204,
   "id": "6e213687",
   "metadata": {},
   "outputs": [
    {
     "data": {
      "text/plain": [
       "358.61325071497754"
      ]
     },
     "execution_count": 204,
     "metadata": {},
     "output_type": "execute_result"
    }
   ],
   "source": [
    "# Create and fit the Ridge regression model to the training data with the optimal alpha\n",
    "ridge_model_after_gridcv = Ridge(alpha = results.best_params_.get('alpha')).fit(X_train, y_train)\n",
    "y_pred_after_gridcv = ridge_model_after_gridcv.predict(X_test)\n",
    "np.sqrt(mean_squared_error(y_test, y_pred_after_gridcv))"
   ]
  },
  {
   "cell_type": "code",
   "execution_count": 205,
   "id": "84c00c74",
   "metadata": {},
   "outputs": [
    {
     "data": {
      "text/plain": [
       "0.40592233831910307"
      ]
     },
     "execution_count": 205,
     "metadata": {},
     "output_type": "execute_result"
    }
   ],
   "source": [
    "# Get the r2 score\n",
    "r2_score(y_test,y_pred_after_gridcv)"
   ]
  },
  {
   "cell_type": "markdown",
   "id": "930daefd",
   "metadata": {},
   "source": [
    "__Observation:__\n",
    "- The r2 score is 0.41. It suggests a moderate fit. The model captures some of the variability in the data but not a large portion."
   ]
  },
  {
   "cell_type": "markdown",
   "id": "4b6b99ed",
   "metadata": {},
   "source": [
    "- Let's check the coefficient of the ridge regression."
   ]
  },
  {
   "cell_type": "code",
   "execution_count": 206,
   "id": "6203870a",
   "metadata": {},
   "outputs": [
    {
     "data": {
      "text/plain": [
       "AtBat         -217.787057\n",
       "Hits           317.426254\n",
       "HmRun           45.445885\n",
       "Runs           -38.135549\n",
       "RBI            -35.667698\n",
       "Walks           97.982985\n",
       "Years           15.223909\n",
       "CAtBat        -187.544325\n",
       "CHits           50.727907\n",
       "CHmRun          27.833344\n",
       "CRuns          329.466393\n",
       "CRBI            88.954239\n",
       "CWalks        -120.935342\n",
       "PutOuts         80.960981\n",
       "Assists         31.900486\n",
       "Errors          -9.600874\n",
       "League_N        97.931462\n",
       "Division_W    -104.364617\n",
       "NewLeague_N    -39.367366\n",
       "dtype: float64"
      ]
     },
     "execution_count": 206,
     "metadata": {},
     "output_type": "execute_result"
    }
   ],
   "source": [
    "# Create a Pandas Series of the coefficients from the fitted Ridge regression model\n",
    "pd.Series(ridge_model_after_gridcv.coef_, index = X_train.columns)"
   ]
  },
  {
   "cell_type": "markdown",
   "id": "06996adc",
   "metadata": {},
   "source": [
    "__Observation:__\n",
    "\n",
    "- Penalization has occurred, as you can see in the negative values.\n",
    "\n",
    "---"
   ]
  },
  {
   "cell_type": "markdown",
   "id": "1efb3506",
   "metadata": {},
   "source": [
    "### __Sklearn Pipelines__"
   ]
  },
  {
   "cell_type": "markdown",
   "id": "a054c029",
   "metadata": {},
   "source": [
    "#### __Why sklearn pipelines?__"
   ]
  },
  {
   "cell_type": "markdown",
   "id": "f195b4ff",
   "metadata": {},
   "source": [
    "**Pipelines provide an organized approach to managing your data preprocessing and modeling code. They combine preprocessing and modeling steps into a single, streamlined process.**\n",
    "\n",
    " - **Cleaner Code**: Pipelines eliminate the need to manually manage training and validation data at each preprocessing step, reducing clutter and complexity.\n",
    "\n",
    " - **Fewer Bugs**: By bundling steps together, pipelines minimize the risk of misapplying or forgetting a preprocessing step.\n",
    "\n",
    " - **Easier to Productionize**: Pipelines simplify the transition from a prototype model to a scalable, deployable solution."
   ]
  },
  {
   "cell_type": "markdown",
   "id": "dbdbaf35",
   "metadata": {},
   "source": [
    "**Syntax**:\n",
    "```python\n",
    "class sklearn.pipeline.Pipeline(steps, *, memory=None, verbose=False)\n",
    "\n",
    "```"
   ]
  },
  {
   "cell_type": "markdown",
   "id": "32cc5695",
   "metadata": {},
   "source": [
    "**Before we start the application, let's pay attention to the following important points**:\n",
    "\n",
    " - A pipeline is a sequence of data transformers that can include a final predictor.\n",
    "\n",
    " - It lets you apply multiple preprocessing steps to your data in order, and optionally end with a predictor for modeling.\n",
    "\n",
    " - Each intermediate step in the pipeline must have fit and transform methods, while the final step only needs fit.\n",
    "\n",
    " - You can cache these transformers using the memory argument.\n",
    "\n",
    " - The pipeline's main goal is to combine multiple steps that can be cross-validated together and have their parameters adjusted.\n",
    "\n",
    " - You can set parameters for any step by using its name followed by a double underscore(__) and the parameter name.\n",
    "\n",
    " - You can replace any step's estimator with another estimator or remove a transformer by setting it to 'passthrough' or None."
   ]
  },
  {
   "cell_type": "markdown",
   "id": "469de3ed",
   "metadata": {},
   "source": [
    "#### Lets look at the housing data with `Ocean proximity` feature:"
   ]
  },
  {
   "cell_type": "code",
   "execution_count": 207,
   "id": "47ab39bd",
   "metadata": {},
   "outputs": [],
   "source": [
    "housing_data = pd.read_csv(\"housing_with_ocean_proximity.csv\")"
   ]
  },
  {
   "cell_type": "code",
   "execution_count": 208,
   "id": "8721ab31",
   "metadata": {},
   "outputs": [
    {
     "data": {
      "text/html": [
       "<div>\n",
       "<style scoped>\n",
       "    .dataframe tbody tr th:only-of-type {\n",
       "        vertical-align: middle;\n",
       "    }\n",
       "\n",
       "    .dataframe tbody tr th {\n",
       "        vertical-align: top;\n",
       "    }\n",
       "\n",
       "    .dataframe thead th {\n",
       "        text-align: right;\n",
       "    }\n",
       "</style>\n",
       "<table border=\"1\" class=\"dataframe\">\n",
       "  <thead>\n",
       "    <tr style=\"text-align: right;\">\n",
       "      <th></th>\n",
       "      <th>longitude</th>\n",
       "      <th>latitude</th>\n",
       "      <th>housing_median_age</th>\n",
       "      <th>total_rooms</th>\n",
       "      <th>total_bedrooms</th>\n",
       "      <th>population</th>\n",
       "      <th>households</th>\n",
       "      <th>median_income</th>\n",
       "      <th>median_house_value</th>\n",
       "      <th>ocean_proximity</th>\n",
       "    </tr>\n",
       "  </thead>\n",
       "  <tbody>\n",
       "    <tr>\n",
       "      <th>0</th>\n",
       "      <td>-122.23</td>\n",
       "      <td>37.88</td>\n",
       "      <td>41.0</td>\n",
       "      <td>880.0</td>\n",
       "      <td>129.0</td>\n",
       "      <td>322.0</td>\n",
       "      <td>126.0</td>\n",
       "      <td>8.3252</td>\n",
       "      <td>452600.0</td>\n",
       "      <td>NEAR BAY</td>\n",
       "    </tr>\n",
       "    <tr>\n",
       "      <th>1</th>\n",
       "      <td>-122.22</td>\n",
       "      <td>37.86</td>\n",
       "      <td>21.0</td>\n",
       "      <td>7099.0</td>\n",
       "      <td>1106.0</td>\n",
       "      <td>2401.0</td>\n",
       "      <td>1138.0</td>\n",
       "      <td>8.3014</td>\n",
       "      <td>358500.0</td>\n",
       "      <td>NEAR BAY</td>\n",
       "    </tr>\n",
       "    <tr>\n",
       "      <th>2</th>\n",
       "      <td>-122.24</td>\n",
       "      <td>37.85</td>\n",
       "      <td>52.0</td>\n",
       "      <td>1467.0</td>\n",
       "      <td>190.0</td>\n",
       "      <td>496.0</td>\n",
       "      <td>177.0</td>\n",
       "      <td>7.2574</td>\n",
       "      <td>352100.0</td>\n",
       "      <td>NEAR BAY</td>\n",
       "    </tr>\n",
       "    <tr>\n",
       "      <th>3</th>\n",
       "      <td>-122.25</td>\n",
       "      <td>37.85</td>\n",
       "      <td>52.0</td>\n",
       "      <td>1274.0</td>\n",
       "      <td>235.0</td>\n",
       "      <td>558.0</td>\n",
       "      <td>219.0</td>\n",
       "      <td>5.6431</td>\n",
       "      <td>341300.0</td>\n",
       "      <td>NEAR BAY</td>\n",
       "    </tr>\n",
       "    <tr>\n",
       "      <th>4</th>\n",
       "      <td>-122.25</td>\n",
       "      <td>37.85</td>\n",
       "      <td>52.0</td>\n",
       "      <td>1627.0</td>\n",
       "      <td>280.0</td>\n",
       "      <td>565.0</td>\n",
       "      <td>259.0</td>\n",
       "      <td>3.8462</td>\n",
       "      <td>342200.0</td>\n",
       "      <td>NEAR BAY</td>\n",
       "    </tr>\n",
       "  </tbody>\n",
       "</table>\n",
       "</div>"
      ],
      "text/plain": [
       "   longitude  latitude  housing_median_age  total_rooms  total_bedrooms  \\\n",
       "0    -122.23     37.88                41.0        880.0           129.0   \n",
       "1    -122.22     37.86                21.0       7099.0          1106.0   \n",
       "2    -122.24     37.85                52.0       1467.0           190.0   \n",
       "3    -122.25     37.85                52.0       1274.0           235.0   \n",
       "4    -122.25     37.85                52.0       1627.0           280.0   \n",
       "\n",
       "   population  households  median_income  median_house_value ocean_proximity  \n",
       "0       322.0       126.0         8.3252            452600.0        NEAR BAY  \n",
       "1      2401.0      1138.0         8.3014            358500.0        NEAR BAY  \n",
       "2       496.0       177.0         7.2574            352100.0        NEAR BAY  \n",
       "3       558.0       219.0         5.6431            341300.0        NEAR BAY  \n",
       "4       565.0       259.0         3.8462            342200.0        NEAR BAY  "
      ]
     },
     "execution_count": 208,
     "metadata": {},
     "output_type": "execute_result"
    }
   ],
   "source": [
    "housing_data.head(5)"
   ]
  },
  {
   "cell_type": "code",
   "execution_count": 209,
   "id": "f219bccc",
   "metadata": {},
   "outputs": [],
   "source": [
    "# Separate features and target variable\n",
    "# Assuming 'median_house_value' is the target variable in your dataset\n",
    "X = housing_data.drop('median_house_value', axis=1)\n",
    "y = housing_data['median_house_value']"
   ]
  },
  {
   "cell_type": "code",
   "execution_count": 210,
   "id": "76ad5a6f",
   "metadata": {},
   "outputs": [],
   "source": [
    "# Split the data into training and testing sets\n",
    "X_train, X_test, y_train, y_test = train_test_split(X, y, test_size=0.30, random_state=2024)"
   ]
  },
  {
   "cell_type": "code",
   "execution_count": 211,
   "id": "524ee3aa",
   "metadata": {},
   "outputs": [
    {
     "name": "stdout",
     "output_type": "stream",
     "text": [
      "<class 'pandas.core.frame.DataFrame'>\n",
      "Index: 14448 entries, 4722 to 7816\n",
      "Data columns (total 9 columns):\n",
      " #   Column              Non-Null Count  Dtype  \n",
      "---  ------              --------------  -----  \n",
      " 0   longitude           14448 non-null  float64\n",
      " 1   latitude            14448 non-null  float64\n",
      " 2   housing_median_age  14448 non-null  float64\n",
      " 3   total_rooms         14448 non-null  float64\n",
      " 4   total_bedrooms      14286 non-null  float64\n",
      " 5   population          14448 non-null  float64\n",
      " 6   households          14448 non-null  float64\n",
      " 7   median_income       14448 non-null  float64\n",
      " 8   ocean_proximity     14448 non-null  object \n",
      "dtypes: float64(8), object(1)\n",
      "memory usage: 1.1+ MB\n",
      "None\n",
      "longitude               0\n",
      "latitude                0\n",
      "housing_median_age      0\n",
      "total_rooms             0\n",
      "total_bedrooms        162\n",
      "population              0\n",
      "households              0\n",
      "median_income           0\n",
      "ocean_proximity         0\n",
      "dtype: int64\n"
     ]
    }
   ],
   "source": [
    "# Print info to check the structure of the training data\n",
    "print(X_train.info())\n",
    "print(X_train.isna().sum())"
   ]
  },
  {
   "cell_type": "markdown",
   "id": "0bcf9109",
   "metadata": {},
   "source": [
    "We're going to treat the `total_bedroom_` differently this time, in order to illustrate how sklearn pipelines work."
   ]
  },
  {
   "cell_type": "markdown",
   "id": "b0604d9a",
   "metadata": {},
   "source": [
    "#### Implementation for sklearn pipelines\n"
   ]
  },
  {
   "cell_type": "markdown",
   "id": "99cd110a",
   "metadata": {},
   "source": [
    "![link text](https://labcontent.simplicdn.net/data-content/content-assets/Data_and_AI/ML/Lesson_03/Sklearn_pipeline_1.png)"
   ]
  },
  {
   "cell_type": "markdown",
   "id": "10a107c8",
   "metadata": {},
   "source": [
    "![link text](https://labcontent.simplicdn.net/data-content/content-assets/Data_and_AI/ML/Lesson_03/Sklearn_pipeline_2.png)"
   ]
  },
  {
   "cell_type": "markdown",
   "id": "b08a735d",
   "metadata": {},
   "source": [
    "#### We need to perform following preprocessing steps before building the model\n",
    "\n",
    "1. Missing value treatment - 162 missing values in total_bedrooms(a numeric column)\n",
    "2. Dummy variable creation for categorical data\n",
    "3. Standardization of numeric variables"
   ]
  },
  {
   "cell_type": "code",
   "execution_count": 212,
   "id": "10f07943",
   "metadata": {},
   "outputs": [],
   "source": [
    "# import StandardScaler for standardization and OneHotEncoder for creating dummy variables\n",
    "from sklearn.preprocessing import StandardScaler, OneHotEncoder\n",
    "\n",
    "# import SimpleImputer for missing value treatment\n",
    "from sklearn.impute import SimpleImputer\n",
    "\n",
    "# importing pipeline class. The Pipeline class is used to create a sequence of data processing steps.\n",
    "from sklearn.pipeline import Pipeline\n",
    "\n",
    "# importing ColumnTransformer class to apply different preprocessing steps to different subsets of features in your dataset.\n",
    "from sklearn.compose import ColumnTransformer"
   ]
  },
  {
   "cell_type": "markdown",
   "id": "27a1d057",
   "metadata": {},
   "source": [
    "**A note about ColumnTransformer**\n",
    "\n",
    "* ColumnTransformer class allows you to apply different preprocessing steps to different subsets of features in your dataset.\n",
    "* This is particularly useful when you have a mix of numerical and categorical data that require different types of preprocessing.\n",
    "* ColumnTransformer ensures that each column or group of columns gets the appropriate transformation before combining the results for further processing or modeling."
   ]
  },
  {
   "cell_type": "markdown",
   "id": "76d4d6d7",
   "metadata": {},
   "source": [
    "### __Data preprocessing starts here:__"
   ]
  },
  {
   "cell_type": "code",
   "execution_count": 213,
   "id": "f32c0145",
   "metadata": {},
   "outputs": [],
   "source": [
    "# Set up preprocessing steps for numeric and categorical data\n",
    "housing_cat = X_train.select_dtypes(include='object').columns\n",
    "housing_num = X_train.select_dtypes(exclude='object').columns"
   ]
  },
  {
   "cell_type": "markdown",
   "id": "b43e0db4",
   "metadata": {},
   "source": [
    "------------------------------------"
   ]
  },
  {
   "cell_type": "markdown",
   "id": "7a6c6a66",
   "metadata": {},
   "source": [
    "#### Step 2: Set-up sklearn pipeline for numeric variables. We need to perform missing value imputation and then standardization."
   ]
  },
  {
   "cell_type": "code",
   "execution_count": 214,
   "id": "48fcc1be",
   "metadata": {},
   "outputs": [],
   "source": [
    "# Numeric variables pipeline\n",
    "num_pipeline = Pipeline([\n",
    "    ('imputer', SimpleImputer(strategy='median')),\n",
    "    ('std_scaler', StandardScaler())\n",
    "])"
   ]
  },
  {
   "cell_type": "markdown",
   "id": "413c100e",
   "metadata": {},
   "source": [
    "The num_pipeline is a pipeline that preprocesses numerical data in two steps:\n",
    "\n",
    "- Imputation: Fills missing values using the median value of each column (SimpleImputer(strategy='median')).\n",
    " - Standardization: Scales the data to have a mean of 0 and a standard deviation of 1 (StandardScaler()).\n",
    "\n",
    "This pipeline ensures consistent and streamlined preprocessing of numerical data."
   ]
  },
  {
   "cell_type": "markdown",
   "id": "64760919",
   "metadata": {},
   "source": [
    "------------------------------------"
   ]
  },
  {
   "cell_type": "markdown",
   "id": "bcf88ccf",
   "metadata": {},
   "source": [
    "#### Step 3: Unified Data Preprocessing with Pipelines and ColumnTransformer"
   ]
  },
  {
   "cell_type": "code",
   "execution_count": 215,
   "id": "e9efec8b",
   "metadata": {},
   "outputs": [],
   "source": [
    "# Unified preprocessing for both numeric and categorical data\n",
    "preprocessing = ColumnTransformer([\n",
    "    ('num', num_pipeline, housing_num),\n",
    "    ('cat', OneHotEncoder(handle_unknown='ignore'), housing_cat)\n",
    "])"
   ]
  },
  {
   "cell_type": "markdown",
   "id": "6ce40636",
   "metadata": {},
   "source": [
    "The preprocessing step uses ColumnTransformer to apply different preprocessing pipelines to different types of data in the dataset:\n",
    "\n",
    " - Numerical Data: Applies num_pipeline to columns in housing_num, performing imputation and standardization.\n",
    " - Categorical Data: Applies OneHotEncoder to columns in housing_cat, converting categorical variables into a one-hot encoded format, ignoring unknown categories.\n",
    "\n",
    "This ensures that both numerical and categorical data are preprocessed appropriately within a single, unified framework."
   ]
  },
  {
   "cell_type": "markdown",
   "id": "a38c9a14",
   "metadata": {},
   "source": [
    "------------------------------------"
   ]
  },
  {
   "cell_type": "markdown",
   "id": "12521758",
   "metadata": {},
   "source": [
    "#### Let's check how the pipeline we have created works with the data"
   ]
  },
  {
   "cell_type": "code",
   "execution_count": 216,
   "id": "9a5b72d0",
   "metadata": {},
   "outputs": [],
   "source": [
    "# applying preprocessing pipeline to train data\n",
    "check_train = preprocessing.fit_transform(X_train)"
   ]
  },
  {
   "cell_type": "code",
   "execution_count": 217,
   "id": "5789d954",
   "metadata": {},
   "outputs": [
    {
     "data": {
      "text/html": [
       "<div>\n",
       "<style scoped>\n",
       "    .dataframe tbody tr th:only-of-type {\n",
       "        vertical-align: middle;\n",
       "    }\n",
       "\n",
       "    .dataframe tbody tr th {\n",
       "        vertical-align: top;\n",
       "    }\n",
       "\n",
       "    .dataframe thead th {\n",
       "        text-align: right;\n",
       "    }\n",
       "</style>\n",
       "<table border=\"1\" class=\"dataframe\">\n",
       "  <thead>\n",
       "    <tr style=\"text-align: right;\">\n",
       "      <th></th>\n",
       "      <th>0</th>\n",
       "      <th>1</th>\n",
       "      <th>2</th>\n",
       "      <th>3</th>\n",
       "      <th>4</th>\n",
       "      <th>5</th>\n",
       "      <th>6</th>\n",
       "      <th>7</th>\n",
       "      <th>8</th>\n",
       "      <th>9</th>\n",
       "      <th>10</th>\n",
       "      <th>11</th>\n",
       "      <th>12</th>\n",
       "    </tr>\n",
       "  </thead>\n",
       "  <tbody>\n",
       "    <tr>\n",
       "      <th>0</th>\n",
       "      <td>0.604388</td>\n",
       "      <td>-0.741523</td>\n",
       "      <td>1.536729</td>\n",
       "      <td>-0.620001</td>\n",
       "      <td>-0.716387</td>\n",
       "      <td>-0.790880</td>\n",
       "      <td>-0.721514</td>\n",
       "      <td>0.072853</td>\n",
       "      <td>1.0</td>\n",
       "      <td>0.0</td>\n",
       "      <td>0.0</td>\n",
       "      <td>0.0</td>\n",
       "      <td>0.0</td>\n",
       "    </tr>\n",
       "    <tr>\n",
       "      <th>1</th>\n",
       "      <td>0.798753</td>\n",
       "      <td>-0.862998</td>\n",
       "      <td>0.501005</td>\n",
       "      <td>-0.119890</td>\n",
       "      <td>-0.131442</td>\n",
       "      <td>0.218924</td>\n",
       "      <td>-0.043175</td>\n",
       "      <td>0.129574</td>\n",
       "      <td>1.0</td>\n",
       "      <td>0.0</td>\n",
       "      <td>0.0</td>\n",
       "      <td>0.0</td>\n",
       "      <td>0.0</td>\n",
       "    </tr>\n",
       "    <tr>\n",
       "      <th>2</th>\n",
       "      <td>-0.845868</td>\n",
       "      <td>1.445014</td>\n",
       "      <td>-1.809456</td>\n",
       "      <td>0.736722</td>\n",
       "      <td>0.333637</td>\n",
       "      <td>0.298266</td>\n",
       "      <td>0.353837</td>\n",
       "      <td>0.825943</td>\n",
       "      <td>0.0</td>\n",
       "      <td>1.0</td>\n",
       "      <td>0.0</td>\n",
       "      <td>0.0</td>\n",
       "      <td>0.0</td>\n",
       "    </tr>\n",
       "  </tbody>\n",
       "</table>\n",
       "</div>"
      ],
      "text/plain": [
       "         0         1         2         3         4         5         6   \\\n",
       "0  0.604388 -0.741523  1.536729 -0.620001 -0.716387 -0.790880 -0.721514   \n",
       "1  0.798753 -0.862998  0.501005 -0.119890 -0.131442  0.218924 -0.043175   \n",
       "2 -0.845868  1.445014 -1.809456  0.736722  0.333637  0.298266  0.353837   \n",
       "\n",
       "         7    8    9    10   11   12  \n",
       "0  0.072853  1.0  0.0  0.0  0.0  0.0  \n",
       "1  0.129574  1.0  0.0  0.0  0.0  0.0  \n",
       "2  0.825943  0.0  1.0  0.0  0.0  0.0  "
      ]
     },
     "execution_count": 217,
     "metadata": {},
     "output_type": "execute_result"
    }
   ],
   "source": [
    "# converting array to dataframe to have a better look at it\n",
    "check_train_df = pd.DataFrame(check_train)\n",
    "check_train_df.head(3)"
   ]
  },
  {
   "cell_type": "code",
   "execution_count": 218,
   "id": "4d05ba60",
   "metadata": {},
   "outputs": [
    {
     "data": {
      "text/plain": [
       "0     0\n",
       "1     0\n",
       "2     0\n",
       "3     0\n",
       "4     0\n",
       "5     0\n",
       "6     0\n",
       "7     0\n",
       "8     0\n",
       "9     0\n",
       "10    0\n",
       "11    0\n",
       "12    0\n",
       "dtype: int64"
      ]
     },
     "execution_count": 218,
     "metadata": {},
     "output_type": "execute_result"
    }
   ],
   "source": [
    "check_train_df.isna().sum()"
   ]
  },
  {
   "cell_type": "markdown",
   "id": "3e317615",
   "metadata": {},
   "source": [
    "#### __Observation:__\n",
    "\n",
    "1. Good to see all the missing values are treated\n",
    "2. numeric variables are standardised\n",
    "3. ocean_proximity is converted to dummy variables"
   ]
  },
  {
   "cell_type": "markdown",
   "id": "903d7261",
   "metadata": {},
   "source": [
    "------------------------------------"
   ]
  },
  {
   "cell_type": "markdown",
   "id": "9f67084b",
   "metadata": {},
   "source": [
    "#### Step 4: Building Linear regression model and hyperparameter tuning"
   ]
  },
  {
   "cell_type": "code",
   "execution_count": 219,
   "id": "4da170d3",
   "metadata": {},
   "outputs": [],
   "source": [
    "from sklearn.model_selection import GridSearchCV\n",
    "from sklearn.linear_model import Ridge\n",
    "from sklearn.metrics import mean_absolute_error\n"
   ]
  },
  {
   "cell_type": "code",
   "execution_count": 220,
   "id": "b101d5e4",
   "metadata": {},
   "outputs": [],
   "source": [
    "# Create an instance of the Ridge regression model\n",
    "model = Ridge()"
   ]
  },
  {
   "cell_type": "code",
   "execution_count": 221,
   "id": "114f8d54",
   "metadata": {},
   "outputs": [],
   "source": [
    "# Build a Ridge regression model within a complete pipeline\n",
    "\n",
    "final_pipeline = Pipeline([\n",
    "    ('preprocessing', preprocessing),\n",
    "    ('model_ridge', model)\n",
    "])\n"
   ]
  },
  {
   "cell_type": "code",
   "execution_count": 222,
   "id": "70d0f2c3",
   "metadata": {},
   "outputs": [],
   "source": [
    "# Define the grid of hyperparameters to search\n",
    "\n",
    "# Note: You can set parameters for any step by using its name followed by a double underscore(__) and the parameter name.\n",
    "\n",
    "grid = dict()\n",
    "\n",
    "grid['model_ridge__alpha'] = np.arange(0.1,2.1,0.1)"
   ]
  },
  {
   "cell_type": "code",
   "execution_count": 223,
   "id": "e0395f91",
   "metadata": {},
   "outputs": [
    {
     "name": "stdout",
     "output_type": "stream",
     "text": [
      "MAE: 49789.360\n",
      "Config: {'model_ridge__alpha': 0.1}\n"
     ]
    }
   ],
   "source": [
    "search = GridSearchCV(estimator = final_pipeline, param_grid = grid, scoring = 'neg_mean_absolute_error',cv = 5, n_jobs= -1)\n",
    "# Fit the GridSearchCV object to the training data\n",
    "\n",
    "# Fit GridSearchCV to the training data\n",
    "results = search.fit(X_train, y_train)\n",
    "print('MAE: %.3f' % -results.best_score_)\n",
    "print('Config: %s' % results.best_params_)"
   ]
  },
  {
   "cell_type": "markdown",
   "id": "204251d8",
   "metadata": {},
   "source": [
    "------------------------------------"
   ]
  },
  {
   "cell_type": "markdown",
   "id": "19b78a82",
   "metadata": {},
   "source": [
    "#### Step 5: Using pipeline object to test the results"
   ]
  },
  {
   "cell_type": "code",
   "execution_count": 224,
   "id": "daa3d1ce",
   "metadata": {},
   "outputs": [
    {
     "name": "stdout",
     "output_type": "stream",
     "text": [
      "Mean Absolute Error: 50091.26322372467\n"
     ]
    }
   ],
   "source": [
    "# Predict on the test set using the trained model\n",
    "y_pred = search.predict(X_test)\n",
    "mae = mean_absolute_error(y_test, y_pred)\n",
    "print(\"Mean Absolute Error:\", mae)"
   ]
  },
  {
   "cell_type": "markdown",
   "id": "b7ea7d0e",
   "metadata": {},
   "source": [
    "![link text](https://labcontent.simplicdn.net/data-content/content-assets/Data_and_AI/ML/Lesson_03/sklearn_pipeline_3.png)"
   ]
  },
  {
   "cell_type": "markdown",
   "id": "8616c809",
   "metadata": {},
   "source": [
    "### __Conclusion__"
   ]
  },
  {
   "cell_type": "markdown",
   "id": "e325d8a7",
   "metadata": {},
   "source": [
    "Regression analysis is an essential method for examining and predicting variable relationships. In this lesson, we've delved into core types of regression—simple linear, multiple linear, and polynomial regression.\n",
    "\n",
    "You've acquired skills to assess model performance using metrics like MSE, RMSE, and R-squared. Furthermore, we explored regularization techniques such as Lasso, Ridge, and ElasticNet to mitigate overfitting, and learned the importance of hyperparameter tuning for optimizing model parameters to enhance results.\n",
    "\n",
    "In conclusion, this lesson has provided a comprehensive exploration of regression through theoretical insights and hands-on applications."
   ]
  }
 ],
 "metadata": {
  "kernelspec": {
   "display_name": "Python 3",
   "language": "python",
   "name": "python3"
  },
  "language_info": {
   "codemirror_mode": {
    "name": "ipython",
    "version": 3
   },
   "file_extension": ".py",
   "mimetype": "text/x-python",
   "name": "python",
   "nbconvert_exporter": "python",
   "pygments_lexer": "ipython3",
   "version": "3.10.11"
  }
 },
 "nbformat": 4,
 "nbformat_minor": 5
}
