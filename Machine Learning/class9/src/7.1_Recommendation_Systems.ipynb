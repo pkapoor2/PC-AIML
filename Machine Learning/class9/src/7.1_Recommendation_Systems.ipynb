{
 "cells": [
  {
   "cell_type": "markdown",
   "id": "60472855",
   "metadata": {
    "id": "60472855"
   },
   "source": [
    "# __Recommendation Systems__"
   ]
  },
  {
   "cell_type": "markdown",
   "id": "5931d107",
   "metadata": {
    "id": "5931d107"
   },
   "source": [
    "## __Agenda__"
   ]
  },
  {
   "cell_type": "markdown",
   "id": "h1HObxVdo0UJ",
   "metadata": {
    "id": "h1HObxVdo0UJ"
   },
   "source": [
    "* **Overview of Recommendation Systems**\n",
    "  * **What are Recommendation Systems?**\n",
    "  * **Importance and Applications**\n",
    "\n",
    "* **Examples of Recommendation Systems**\n",
    "  * **Enhanced Book Discovery Recommendations**\n",
    "  * **Hyper-Personalized Media Recommendations**\n",
    "  * **Viewed Items Recommendations**\n",
    "  * **Enhanced Product Discovery Recommendations**\n",
    "\n",
    "* **Types of Recommendation Systems**\n",
    "  * **Collaborative Filtering**\n",
    "    - **Memory-Based Collaborative Filtering**\n",
    "      - User-Based Collaborative Filtering\n",
    "      - Item-Based Collaborative Filtering\n",
    "    - **Model-Based Collaborative Filtering**\n",
    "      - Matrix Factorization (MF)\n",
    "      - Singular Value Decomposition (SVD)\n",
    "  * **Content-Based Filtering**\n",
    "  * **Hybrid Filtering**\n",
    "\n",
    "* **Advanced Techniques in Recommendation Systems**\n",
    "  * **The GetTopN Function**\n",
    "  * **Hit Rate**\n",
    "\n",
    "* **Addressing Challenges in Recommendation Systems**\n",
    "  * **Cold Start Problem**\n",
    "  * **Implicit and Explicit Feedback**\n"
   ]
  },
  {
   "cell_type": "markdown",
   "id": "LpHpiEinrh_G",
   "metadata": {
    "id": "LpHpiEinrh_G"
   },
   "source": [
    "# **1.1 Overview of Recommendation Systems**"
   ]
  },
  {
   "cell_type": "markdown",
   "id": "8199dfcd",
   "metadata": {
    "id": "8199dfcd"
   },
   "source": [
    "## **1.1.1 What are Recommendation Systems?**\n",
    "\n",
    "Recommendation Systems are software tools and algorithms that provide suggestions for products, services, or information to users. The suggestions are tailored to the user’s preferences, based on data about their previous behavior and preferences.\n",
    "\n",
    "\n",
    "The underlying function of a recommendation system can be represented as:\n",
    "$$ f: \\text{User} \\times \\text{Item} \\rightarrow \\text{Rating} $$\n",
    "\n",
    "\n",
    "\n",
    "- **f**: represents the predictive function that estimates the utility (or rating) of an item for a particular user.\n",
    "\n",
    "- **User**: represents the set of all users in the system. Each user is a potential recipient of recommendations.\n",
    "\n",
    "- **Item**: represents the set of all items available for recommendation. These can include products, services, media content, or any other entities that the system recommends.\n",
    "\n",
    "- **Rating**: represents predicted rating or preference score that a user would give to an item, which can be used to generate personalized recommendations.\n",
    "\n"
   ]
  },
  {
   "cell_type": "markdown",
   "id": "44f470b8",
   "metadata": {
    "id": "44f470b8"
   },
   "source": [
    "![link text](http://labcontent.simplicdn.net/data-content/content-assets/Data_and_AI/ML/Lesson_07/recommendation_system_edited.png)"
   ]
  },
  {
   "cell_type": "markdown",
   "id": "0c81ed07",
   "metadata": {
    "id": "0c81ed07"
   },
   "source": [
    "# __1.2 Examples of Recommendation System__"
   ]
  },
  {
   "cell_type": "markdown",
   "id": "LrAvwW1AINLM",
   "metadata": {
    "id": "LrAvwW1AINLM"
   },
   "source": [
    "Let's explore how recommendation systems enhance user experiences across various platforms by providing personalized suggestions, from books and media to products tailored to individual preferences. We'll delve into specific examples, showcasing the profound impact of these systems in different industries.\n"
   ]
  },
  {
   "cell_type": "markdown",
   "id": "50d7bde2",
   "metadata": {
    "id": "50d7bde2"
   },
   "source": [
    "### __1.2.1 Enhanced Book Discovery Recommendations__\n",
    "\n",
    "Goodreads' __READERS ALSO ENJOYED__ and __See similar books__ features suggest books based on user preferences and past reads, enhancing discovery and facilitating exploration of similar titles."
   ]
  },
  {
   "cell_type": "markdown",
   "id": "NVLAAhXJJj6u",
   "metadata": {
    "id": "NVLAAhXJJj6u"
   },
   "source": [
    "### Mathematical Concept:\n",
    "To calculate the similarity between two users or items, Pearson correlation may be used:\n",
    "\n",
    "$$\n",
    "r = \\frac{\\sum (x - \\overline{x})(y - \\overline{y})}{\\sqrt{\\sum (x - \\overline{x})^2} \\sqrt{\\sum (y - \\overline{y})^2}}\n",
    "$$\n",
    "\n",
    "Where:\n",
    "\n",
    "$$\n",
    "\\text{• } \\textbf{x} \\text{ and } \\textbf{y} \\text{ are the ratings given by two different users to the same items.}\n",
    "$$\n",
    "\n",
    "$$\n",
    "\\text{• } \\overline{x} \\text{ and } \\overline{y} \\text{ represent the average ratings given for those items by the two users.}\n",
    "$$\n",
    "\n",
    "\n",
    "\n",
    "\n",
    "\n",
    "\n",
    "\n",
    "\n",
    "This formula measures how closely the ratings by two users (or two items) align, indicating the degree of similarity between their preferences.\n"
   ]
  },
  {
   "cell_type": "markdown",
   "id": "ce4c5193",
   "metadata": {
    "id": "ce4c5193"
   },
   "source": [
    "![link text](https://labcontent.simplicdn.net/data-content/content-assets/Data_and_AI/ML/Lesson_08/Enhanced_Recommendations.png)"
   ]
  },
  {
   "cell_type": "markdown",
   "id": "8c7cff51",
   "metadata": {
    "id": "8c7cff51"
   },
   "source": [
    "### __1.2.2 Hyper-Personalized Media Recommendations__\n",
    "\n",
    "Netflix and Spotify deliver tailored media suggestions by leveraging complex algorithms to analyze users' viewing and listening habits, optimizing content personalization to enhance engagement and satisfaction."
   ]
  },
  {
   "cell_type": "markdown",
   "id": "7e40e36b",
   "metadata": {
    "id": "7e40e36b"
   },
   "source": [
    "![link text](https://labcontent.simplicdn.net/data-content/content-assets/Data_and_AI/ML/Lesson_08/Hyper_Personalized_Media_Recommendations.png)"
   ]
  },
  {
   "cell_type": "markdown",
   "id": "1289c7d0",
   "metadata": {
    "id": "1289c7d0"
   },
   "source": [
    "### __1.2.3 Viewed Items Recommendations__\n",
    "\n",
    "E-commerce platforms like Amazon enhance shopping experiences by recommending products related to items users have viewed, increasing product visibility and potential sales through smart, context-aware suggestions."
   ]
  },
  {
   "cell_type": "markdown",
   "id": "7ad19afa",
   "metadata": {
    "id": "7ad19afa"
   },
   "source": [
    "![link text](https://labcontent.simplicdn.net/data-content/content-assets/Data_and_AI/ML/Lesson_08/Viewed_Items_Recommendation.png)"
   ]
  },
  {
   "cell_type": "markdown",
   "id": "646d6a9f",
   "metadata": {
    "id": "646d6a9f"
   },
   "source": [
    "### __1.2.4 Enhanced Product Discovery Recommendations__\n",
    "\n",
    "Retailers like AlvaQ and Fisoew use recommendation systems to suggest more products based on user search behavior. This enhances product discovery and encourages additional purchases."
   ]
  },
  {
   "cell_type": "markdown",
   "id": "8d14f2e5",
   "metadata": {
    "id": "8d14f2e5"
   },
   "source": [
    "![link text](https://labcontent.simplicdn.net/data-content/content-assets/Data_and_AI/ML/Lesson_08/Enhanced_Product_Discovery_Recommendation.png)"
   ]
  },
  {
   "cell_type": "markdown",
   "id": "bcbeb519",
   "metadata": {
    "id": "bcbeb519"
   },
   "source": [
    "# __1.3 Types of Recommendation Systems__\n",
    "\n",
    "\n",
    "There are three types of recommendation systems, each utilizing different techniques to generate personalized recommendations:\n",
    "\n",
    "- Collaborative filtering\n",
    "- Content filtering\n",
    "- Hybrid filtering"
   ]
  },
  {
   "cell_type": "markdown",
   "id": "3bf9e053",
   "metadata": {
    "id": "3bf9e053"
   },
   "source": [
    "### __1.3.1 Collaborative Filtering__\n",
    "\n",
    "Collaborative filtering algorithms recommend items by analyzing user preferences collected from numerous users. They predict future behavior by identifying patterns in historical data, such as which movies users have enjoyed, allowing the system to suggest items with a high likelihood of user agreement.\n",
    "\n",
    "For example, if two users have similar tastes in movies, the system might recommend a new movie to one user that the other has favorably rated.\n",
    "\n",
    "## Mathematical Concept:\n",
    "\n",
    "To quantify the similarity between user preferences, collaborative filtering uses cosine similarity, where user ratings are vectors in a multidimensional space:\n",
    "$$\n",
    "\\text{similarity} = \\cos(\\theta) = \\frac{\\mathbf{A} \\cdot \\mathbf{B}}{\\|\\mathbf{A}\\|\\|\\mathbf{B}\\|}\n",
    "$$\n",
    "Where:\n",
    "- $\\mathbf{A}$ and $\\mathbf{B}$ are vectors representing user ratings.\n",
    "- $\\theta$ is the angle between these vectors, which indicates the degree of similarity in user preferences.\n",
    "\n",
    "\n",
    "A smaller angle (or higher cosine similarity) indicates more closely aligned preferences, suggesting that users will likely enjoy similar items. This approach enables more precise recommendations based on shared user interests.\n"
   ]
  },
  {
   "cell_type": "markdown",
   "id": "qTLHK7Wfzcg5",
   "metadata": {
    "id": "qTLHK7Wfzcg5"
   },
   "source": [
    "![link text](https://labcontent.simplicdn.net/data-content/content-assets/Data_and_AI/ML/updated/Lesson_08/Collaborative_Filtering.png)"
   ]
  },
  {
   "cell_type": "markdown",
   "id": "97fa5279",
   "metadata": {
    "id": "97fa5279"
   },
   "source": [
    "There are mainly two types of collaborative filtering techniques:\n",
    "\n",
    "- Memory-based collaborative filtering\n",
    "- Model-based collaborative filtering"
   ]
  },
  {
   "cell_type": "markdown",
   "id": "c8a40986",
   "metadata": {
    "id": "c8a40986"
   },
   "source": [
    "### __1.3.1.1 Memory-Based Collaborative Filtering__\n",
    "\n",
    "Memory-based collaborative filtering is a fundamental approach within recommendation systems that generates predictions based on the entire database of user-item interactions. This method leverages historical data from user ratings to recommend new items or predict user ratings. It operates on the assumption that those who agreed in the past will agree again in the future.\n",
    "\n",
    "There are two primary strategies within memory-based collaborative filtering:\n",
    "\n",
    "- User-based collaborative filtering\n",
    "- Item-based collaborative filtering"
   ]
  },
  {
   "cell_type": "markdown",
   "id": "ec4d1f68",
   "metadata": {
    "id": "ec4d1f68"
   },
   "source": [
    "### __1.3.1.1.1 User-Based Collaborative Filtering__\n",
    "\n",
    "User-based collaborative filtering is a recommendation technique that suggests items or content to a target user based on the preferences and behaviors of similar users. It operates under the assumption that users who have interacted with similar items in the past will continue to have similar preferences in the future."
   ]
  },
  {
   "cell_type": "markdown",
   "id": "sFUujxbxDwsw",
   "metadata": {
    "id": "sFUujxbxDwsw"
   },
   "source": [
    "#### To measure similarity between two users \\(u\\) and \\(v\\), cosine similarity can be used:\n",
    "\n",
    "The similarity between two users, \\( u \\) and \\( v \\), can be quantified using cosine similarity, which is particularly useful in user-based collaborative filtering. The formula for cosine similarity is as follows:\n",
    "\n",
    "$$\n",
    "\\text{similarity}(u, v) = \\cos(\\theta) = \\frac{\\sum_{i \\in I} r_{ui} \\cdot r_{vi}}{\\sqrt{\\sum_{i \\in I} r_{ui}^2} \\cdot \\sqrt{\\sum_{i \\in I} r_{vi}^2}}\n",
    "$$\n",
    "\n",
    "#### Variables:\n",
    "- $r_ui$ and r_vi: Ratings given by users u and v to item i.\n",
    "- I: The set of items that both users have rated.\n",
    "- theta: The angle between the rating vectors of u and v, where a smaller angle indicates a higher similarity.\n",
    "\n",
    "\n",
    "This approach calculates the cosine of the angle between the two users' rating vectors, effectively measuring their similarity based on the items they have both rated.\n"
   ]
  },
  {
   "cell_type": "markdown",
   "id": "82289fdf",
   "metadata": {
    "id": "82289fdf"
   },
   "source": [
    "#### __Example:__ Recommender System - User-Based Collaborative Filtering\n",
    "\n",
    "Let's explore an example of user-based collaborative filtering by combining two datasets: `anime.csv` and `rating.csv`. The `anime.csv` dataset tells us what each show is (genre, type, etc.), while the `rating.csv` dataset tells us how users feel about those shows. Merging these two datasets based on anime IDs (the matching key), you can construct a user-item interaction matrix. In this matrix, rows correspond to users, columns represent anime titles, and the values are the ratings. This matrix is crucial for performing similarity calculations.\n",
    "\n",
    "To measure the similarity between users' anime preferences, we'll use the `cosine_similarity` function. Here, each user's preferences are depicted as vectors in a high-dimensional space, where each dimension corresponds to an anime title. Cosine similarity quantifies the similarity of these vectors by calculating the cosine of the angle between them. Higher scores suggest a greater similarity among users' preferences."
   ]
  },
  {
   "cell_type": "code",
   "execution_count": 60,
   "id": "ceaac891",
   "metadata": {
    "id": "ceaac891"
   },
   "outputs": [],
   "source": [
    "import pandas as pd\n",
    "import numpy as np\n",
    "import scipy.stats\n",
    "import seaborn as sns\n",
    "from sklearn.metrics.pairwise import cosine_similarity\n",
    "import matplotlib.pyplot as plt\n",
    "import statistics\n",
    "import operator\n",
    "import matplotlib.pyplot as plt\n",
    "import seaborn as sns"
   ]
  },
  {
   "cell_type": "markdown",
   "id": "248d48d6",
   "metadata": {
    "id": "248d48d6"
   },
   "source": [
    "The anime.csv dataset contains metadata about each anime title:\n",
    "\n",
    "- anime_id: A unique identifier for the anime title\n",
    "- name: The name of the anime\n",
    "- genre: The genre(s) of the anime\n",
    "- type: The type of anime (e.g., TV, Movie)\n",
    "- episodes: The number of episodes (Note: This is an object type, suggesting some non-numeric values may be present.)\n",
    "- rating: The average rating of the anime, aggregated\n",
    "- members: The total number of members who have added this anime to their list"
   ]
  },
  {
   "cell_type": "code",
   "execution_count": 61,
   "id": "db4d0f1a",
   "metadata": {
    "colab": {
     "base_uri": "https://localhost:8080/"
    },
    "executionInfo": {
     "elapsed": 4,
     "status": "ok",
     "timestamp": 1718704561994,
     "user": {
      "displayName": "Kunal Guwalani",
      "userId": "06540083485482537728"
     },
     "user_tz": -330
    },
    "id": "db4d0f1a",
    "outputId": "6b2ab880-e51c-4952-a781-f0e21d6e5dc2"
   },
   "outputs": [
    {
     "data": {
      "text/html": [
       "<div>\n",
       "<style scoped>\n",
       "    .dataframe tbody tr th:only-of-type {\n",
       "        vertical-align: middle;\n",
       "    }\n",
       "\n",
       "    .dataframe tbody tr th {\n",
       "        vertical-align: top;\n",
       "    }\n",
       "\n",
       "    .dataframe thead th {\n",
       "        text-align: right;\n",
       "    }\n",
       "</style>\n",
       "<table border=\"1\" class=\"dataframe\">\n",
       "  <thead>\n",
       "    <tr style=\"text-align: right;\">\n",
       "      <th></th>\n",
       "      <th>anime_id</th>\n",
       "      <th>name</th>\n",
       "      <th>genre</th>\n",
       "      <th>type</th>\n",
       "      <th>episodes</th>\n",
       "      <th>rating</th>\n",
       "      <th>members</th>\n",
       "    </tr>\n",
       "  </thead>\n",
       "  <tbody>\n",
       "    <tr>\n",
       "      <th>0</th>\n",
       "      <td>32281</td>\n",
       "      <td>Kimi no Na wa.</td>\n",
       "      <td>Drama, Romance, School, Supernatural</td>\n",
       "      <td>Movie</td>\n",
       "      <td>1</td>\n",
       "      <td>9.37</td>\n",
       "      <td>200630</td>\n",
       "    </tr>\n",
       "    <tr>\n",
       "      <th>1</th>\n",
       "      <td>5114</td>\n",
       "      <td>Fullmetal Alchemist: Brotherhood</td>\n",
       "      <td>Action, Adventure, Drama, Fantasy, Magic, Mili...</td>\n",
       "      <td>TV</td>\n",
       "      <td>64</td>\n",
       "      <td>9.26</td>\n",
       "      <td>793665</td>\n",
       "    </tr>\n",
       "    <tr>\n",
       "      <th>2</th>\n",
       "      <td>28977</td>\n",
       "      <td>Gintama°</td>\n",
       "      <td>Action, Comedy, Historical, Parody, Samurai, S...</td>\n",
       "      <td>TV</td>\n",
       "      <td>51</td>\n",
       "      <td>9.25</td>\n",
       "      <td>114262</td>\n",
       "    </tr>\n",
       "    <tr>\n",
       "      <th>3</th>\n",
       "      <td>9253</td>\n",
       "      <td>Steins;Gate</td>\n",
       "      <td>Sci-Fi, Thriller</td>\n",
       "      <td>TV</td>\n",
       "      <td>24</td>\n",
       "      <td>9.17</td>\n",
       "      <td>673572</td>\n",
       "    </tr>\n",
       "    <tr>\n",
       "      <th>4</th>\n",
       "      <td>9969</td>\n",
       "      <td>Gintama&amp;#039;</td>\n",
       "      <td>Action, Comedy, Historical, Parody, Samurai, S...</td>\n",
       "      <td>TV</td>\n",
       "      <td>51</td>\n",
       "      <td>9.16</td>\n",
       "      <td>151266</td>\n",
       "    </tr>\n",
       "  </tbody>\n",
       "</table>\n",
       "</div>"
      ],
      "text/plain": [
       "   anime_id                              name  \\\n",
       "0     32281                    Kimi no Na wa.   \n",
       "1      5114  Fullmetal Alchemist: Brotherhood   \n",
       "2     28977                          Gintama°   \n",
       "3      9253                       Steins;Gate   \n",
       "4      9969                     Gintama&#039;   \n",
       "\n",
       "                                               genre   type episodes  rating  \\\n",
       "0               Drama, Romance, School, Supernatural  Movie        1    9.37   \n",
       "1  Action, Adventure, Drama, Fantasy, Magic, Mili...     TV       64    9.26   \n",
       "2  Action, Comedy, Historical, Parody, Samurai, S...     TV       51    9.25   \n",
       "3                                   Sci-Fi, Thriller     TV       24    9.17   \n",
       "4  Action, Comedy, Historical, Parody, Samurai, S...     TV       51    9.16   \n",
       "\n",
       "   members  \n",
       "0   200630  \n",
       "1   793665  \n",
       "2   114262  \n",
       "3   673572  \n",
       "4   151266  "
      ]
     },
     "metadata": {},
     "output_type": "display_data"
    },
    {
     "name": "stdout",
     "output_type": "stream",
     "text": [
      "<class 'pandas.core.frame.DataFrame'>\n",
      "RangeIndex: 12294 entries, 0 to 12293\n",
      "Data columns (total 7 columns):\n",
      " #   Column    Non-Null Count  Dtype  \n",
      "---  ------    --------------  -----  \n",
      " 0   anime_id  12294 non-null  int64  \n",
      " 1   name      12294 non-null  object \n",
      " 2   genre     12232 non-null  object \n",
      " 3   type      12269 non-null  object \n",
      " 4   episodes  12294 non-null  object \n",
      " 5   rating    12064 non-null  float64\n",
      " 6   members   12294 non-null  int64  \n",
      "dtypes: float64(1), int64(2), object(4)\n",
      "memory usage: 672.5+ KB\n"
     ]
    },
    {
     "data": {
      "text/plain": [
       "None"
      ]
     },
     "metadata": {},
     "output_type": "display_data"
    },
    {
     "data": {
      "text/html": [
       "<div>\n",
       "<style scoped>\n",
       "    .dataframe tbody tr th:only-of-type {\n",
       "        vertical-align: middle;\n",
       "    }\n",
       "\n",
       "    .dataframe tbody tr th {\n",
       "        vertical-align: top;\n",
       "    }\n",
       "\n",
       "    .dataframe thead th {\n",
       "        text-align: right;\n",
       "    }\n",
       "</style>\n",
       "<table border=\"1\" class=\"dataframe\">\n",
       "  <thead>\n",
       "    <tr style=\"text-align: right;\">\n",
       "      <th></th>\n",
       "      <th>anime_id</th>\n",
       "      <th>rating</th>\n",
       "      <th>members</th>\n",
       "    </tr>\n",
       "  </thead>\n",
       "  <tbody>\n",
       "    <tr>\n",
       "      <th>count</th>\n",
       "      <td>12294.000000</td>\n",
       "      <td>12064.000000</td>\n",
       "      <td>1.229400e+04</td>\n",
       "    </tr>\n",
       "    <tr>\n",
       "      <th>mean</th>\n",
       "      <td>14058.221653</td>\n",
       "      <td>6.473902</td>\n",
       "      <td>1.807134e+04</td>\n",
       "    </tr>\n",
       "    <tr>\n",
       "      <th>std</th>\n",
       "      <td>11455.294701</td>\n",
       "      <td>1.026746</td>\n",
       "      <td>5.482068e+04</td>\n",
       "    </tr>\n",
       "    <tr>\n",
       "      <th>min</th>\n",
       "      <td>1.000000</td>\n",
       "      <td>1.670000</td>\n",
       "      <td>5.000000e+00</td>\n",
       "    </tr>\n",
       "    <tr>\n",
       "      <th>25%</th>\n",
       "      <td>3484.250000</td>\n",
       "      <td>5.880000</td>\n",
       "      <td>2.250000e+02</td>\n",
       "    </tr>\n",
       "    <tr>\n",
       "      <th>50%</th>\n",
       "      <td>10260.500000</td>\n",
       "      <td>6.570000</td>\n",
       "      <td>1.550000e+03</td>\n",
       "    </tr>\n",
       "    <tr>\n",
       "      <th>75%</th>\n",
       "      <td>24794.500000</td>\n",
       "      <td>7.180000</td>\n",
       "      <td>9.437000e+03</td>\n",
       "    </tr>\n",
       "    <tr>\n",
       "      <th>max</th>\n",
       "      <td>34527.000000</td>\n",
       "      <td>10.000000</td>\n",
       "      <td>1.013917e+06</td>\n",
       "    </tr>\n",
       "  </tbody>\n",
       "</table>\n",
       "</div>"
      ],
      "text/plain": [
       "           anime_id        rating       members\n",
       "count  12294.000000  12064.000000  1.229400e+04\n",
       "mean   14058.221653      6.473902  1.807134e+04\n",
       "std    11455.294701      1.026746  5.482068e+04\n",
       "min        1.000000      1.670000  5.000000e+00\n",
       "25%     3484.250000      5.880000  2.250000e+02\n",
       "50%    10260.500000      6.570000  1.550000e+03\n",
       "75%    24794.500000      7.180000  9.437000e+03\n",
       "max    34527.000000     10.000000  1.013917e+06"
      ]
     },
     "metadata": {},
     "output_type": "display_data"
    }
   ],
   "source": [
    "# load the data from 'anime.csv' into a DataFrame named 'animes'.\n",
    "animes = pd.read_csv('anime.csv')\n",
    "# Display the first five rows of the DataFrame using the 'head()' method to provide a quick overview of the dataset structure and content.\n",
    "display(animes.head())\n",
    "# Use the 'info()' method to output a concise summary of the DataFrame, including the number of non-null entries in each column, the data type of each column, and memory usage.\n",
    "display(animes.info())\n",
    "# Display the basic statistics on the numeric features..\n",
    "display(animes.describe())"
   ]
  },
  {
   "cell_type": "markdown",
   "id": "bf459772",
   "metadata": {
    "id": "bf459772"
   },
   "source": [
    "__Observations:__\n",
    "\n",
    "- The __genre__ column has 62 missing values, while the __type__ column has 25 missing values.\n",
    "- The __rating__ column has 230 missing values, indicating a significant portion of the data is absent.\n",
    "- Other columns, such as __anime_id__, __name__, __episodes__, and __members__, have no missing values."
   ]
  },
  {
   "cell_type": "code",
   "execution_count": 62,
   "id": "0deb844a",
   "metadata": {
    "id": "0deb844a"
   },
   "outputs": [],
   "source": [
    "# Handle missing values\n",
    "animes['genre'] = animes['genre'].fillna('Unknown')\n",
    "animes['type'] = animes['type'].fillna('Unknown')\n",
    "animes['rating'] = animes['rating'].fillna(animes['rating'].mean())\n",
    "\n",
    "# Convert the 'episodes' column in the 'animes' dataframe to numeric data type using\n",
    "# the pd.to_numeric() function, with any non-convertible values replaced by 0\n",
    "animes['episodes'] = pd.to_numeric(animes['episodes'], errors='coerce').fillna(0)\n"
   ]
  },
  {
   "cell_type": "code",
   "execution_count": 63,
   "id": "f012f771",
   "metadata": {
    "colab": {
     "base_uri": "https://localhost:8080/",
     "height": 300
    },
    "executionInfo": {
     "elapsed": 9,
     "status": "ok",
     "timestamp": 1718704758248,
     "user": {
      "displayName": "Kunal Guwalani",
      "userId": "06540083485482537728"
     },
     "user_tz": -330
    },
    "id": "f012f771",
    "outputId": "296a79a5-7dbf-4235-90e2-606923117b1c"
   },
   "outputs": [
    {
     "data": {
      "text/html": [
       "<div>\n",
       "<style scoped>\n",
       "    .dataframe tbody tr th:only-of-type {\n",
       "        vertical-align: middle;\n",
       "    }\n",
       "\n",
       "    .dataframe tbody tr th {\n",
       "        vertical-align: top;\n",
       "    }\n",
       "\n",
       "    .dataframe thead th {\n",
       "        text-align: right;\n",
       "    }\n",
       "</style>\n",
       "<table border=\"1\" class=\"dataframe\">\n",
       "  <thead>\n",
       "    <tr style=\"text-align: right;\">\n",
       "      <th></th>\n",
       "      <th>anime_id</th>\n",
       "      <th>episodes</th>\n",
       "      <th>rating</th>\n",
       "      <th>members</th>\n",
       "    </tr>\n",
       "  </thead>\n",
       "  <tbody>\n",
       "    <tr>\n",
       "      <th>count</th>\n",
       "      <td>12294.000000</td>\n",
       "      <td>12294.000000</td>\n",
       "      <td>12294.000000</td>\n",
       "      <td>1.229400e+04</td>\n",
       "    </tr>\n",
       "    <tr>\n",
       "      <th>mean</th>\n",
       "      <td>14058.221653</td>\n",
       "      <td>12.040101</td>\n",
       "      <td>6.473902</td>\n",
       "      <td>1.807134e+04</td>\n",
       "    </tr>\n",
       "    <tr>\n",
       "      <th>std</th>\n",
       "      <td>11455.294701</td>\n",
       "      <td>46.257299</td>\n",
       "      <td>1.017096</td>\n",
       "      <td>5.482068e+04</td>\n",
       "    </tr>\n",
       "    <tr>\n",
       "      <th>min</th>\n",
       "      <td>1.000000</td>\n",
       "      <td>0.000000</td>\n",
       "      <td>1.670000</td>\n",
       "      <td>5.000000e+00</td>\n",
       "    </tr>\n",
       "    <tr>\n",
       "      <th>25%</th>\n",
       "      <td>3484.250000</td>\n",
       "      <td>1.000000</td>\n",
       "      <td>5.900000</td>\n",
       "      <td>2.250000e+02</td>\n",
       "    </tr>\n",
       "    <tr>\n",
       "      <th>50%</th>\n",
       "      <td>10260.500000</td>\n",
       "      <td>2.000000</td>\n",
       "      <td>6.550000</td>\n",
       "      <td>1.550000e+03</td>\n",
       "    </tr>\n",
       "    <tr>\n",
       "      <th>75%</th>\n",
       "      <td>24794.500000</td>\n",
       "      <td>12.000000</td>\n",
       "      <td>7.170000</td>\n",
       "      <td>9.437000e+03</td>\n",
       "    </tr>\n",
       "    <tr>\n",
       "      <th>max</th>\n",
       "      <td>34527.000000</td>\n",
       "      <td>1818.000000</td>\n",
       "      <td>10.000000</td>\n",
       "      <td>1.013917e+06</td>\n",
       "    </tr>\n",
       "  </tbody>\n",
       "</table>\n",
       "</div>"
      ],
      "text/plain": [
       "           anime_id      episodes        rating       members\n",
       "count  12294.000000  12294.000000  12294.000000  1.229400e+04\n",
       "mean   14058.221653     12.040101      6.473902  1.807134e+04\n",
       "std    11455.294701     46.257299      1.017096  5.482068e+04\n",
       "min        1.000000      0.000000      1.670000  5.000000e+00\n",
       "25%     3484.250000      1.000000      5.900000  2.250000e+02\n",
       "50%    10260.500000      2.000000      6.550000  1.550000e+03\n",
       "75%    24794.500000     12.000000      7.170000  9.437000e+03\n",
       "max    34527.000000   1818.000000     10.000000  1.013917e+06"
      ]
     },
     "execution_count": 63,
     "metadata": {},
     "output_type": "execute_result"
    }
   ],
   "source": [
    "# Generate descriptive statistics for the numerical columns of the 'animes' DataFrame\n",
    "animes.describe()"
   ]
  },
  {
   "cell_type": "code",
   "execution_count": 64,
   "id": "05daee48",
   "metadata": {
    "colab": {
     "base_uri": "https://localhost:8080/",
     "height": 416
    },
    "executionInfo": {
     "elapsed": 1424,
     "status": "ok",
     "timestamp": 1718704765254,
     "user": {
      "displayName": "Kunal Guwalani",
      "userId": "06540083485482537728"
     },
     "user_tz": -330
    },
    "id": "05daee48",
    "outputId": "26dbac38-bcae-4178-bb59-f1047b87d05b"
   },
   "outputs": [
    {
     "data": {
      "image/png": "[encoded data removed]",
      "text/plain": [
       "<Figure size 1400x600 with 2 Axes>"
      ]
     },
     "metadata": {},
     "output_type": "display_data"
    }
   ],
   "source": [
    "# Analyzing categorical variables\n",
    "type_counts = animes['type'].value_counts()\n",
    "genre_counts = animes['genre'].str.split(', ').explode().value_counts().head(10)\n",
    "\n",
    "# Plotting the distributions\n",
    "fig, ax = plt.subplots(1, 2, figsize=(14, 6))\n",
    "\n",
    "type_counts.plot(kind='bar', ax=ax[0], color='skyblue')\n",
    "ax[0].set_title('Distribution of Anime Types')\n",
    "ax[0].set_ylabel('Frequency')\n",
    "ax[0].set_xlabel('Type')\n",
    "\n",
    "genre_counts.plot(kind='bar', ax=ax[1], color='lightgreen')\n",
    "ax[1].set_title('Top 10 Most Common Genres')\n",
    "ax[1].set_ylabel('Frequency')\n",
    "ax[1].set_xlabel('Genre')\n",
    "\n",
    "plt.tight_layout()\n",
    "plt.show()"
   ]
  },
  {
   "cell_type": "markdown",
   "id": "1fb5b1a2",
   "metadata": {
    "id": "1fb5b1a2"
   },
   "source": [
    "__Observations:__\n",
    "\n",
    "__Distribution of anime types__\n",
    "- TV and OVA formats dominate the dataset, with movies also being notably common.\n",
    "- Specials, ONAs, and music types are less prevalent, indicating niche categories.\n",
    "\n",
    "__Top 10 most common genres__\n",
    "- Comedy, action, and adventure are the top genres, signifying popular themes in anime.\n",
    "- Fantasy and sci-fi also feature prominently, reflecting a taste for imaginative storytelling."
   ]
  },
  {
   "cell_type": "markdown",
   "id": "97e8052b",
   "metadata": {
    "id": "97e8052b"
   },
   "source": [
    "### Exploratory Data Analysis (EDA) on __rating__ dataset\n",
    "Now that we've explored the anime dataset, let's explore the second dataset in our collaborative filtering example - `rating.csv`"
   ]
  },
  {
   "cell_type": "code",
   "execution_count": 65,
   "id": "08bad819",
   "metadata": {
    "id": "08bad819"
   },
   "outputs": [],
   "source": [
    "# Read the rating.csv file and store its contents in the 'ratings' dataframe\n",
    "ratings = pd.read_csv('rating.csv')"
   ]
  },
  {
   "cell_type": "code",
   "execution_count": 66,
   "id": "2dcd36ac",
   "metadata": {
    "colab": {
     "base_uri": "https://localhost:8080/",
     "height": 206
    },
    "executionInfo": {
     "elapsed": 1567,
     "status": "ok",
     "timestamp": 1718705328694,
     "user": {
      "displayName": "Kunal Guwalani",
      "userId": "06540083485482537728"
     },
     "user_tz": -330
    },
    "id": "2dcd36ac",
    "outputId": "a266ec3c-c36e-4f61-860b-c1d45c9430de"
   },
   "outputs": [
    {
     "data": {
      "text/html": [
       "<div>\n",
       "<style scoped>\n",
       "    .dataframe tbody tr th:only-of-type {\n",
       "        vertical-align: middle;\n",
       "    }\n",
       "\n",
       "    .dataframe tbody tr th {\n",
       "        vertical-align: top;\n",
       "    }\n",
       "\n",
       "    .dataframe thead th {\n",
       "        text-align: right;\n",
       "    }\n",
       "</style>\n",
       "<table border=\"1\" class=\"dataframe\">\n",
       "  <thead>\n",
       "    <tr style=\"text-align: right;\">\n",
       "      <th></th>\n",
       "      <th>user_id</th>\n",
       "      <th>anime_id</th>\n",
       "      <th>rating</th>\n",
       "    </tr>\n",
       "  </thead>\n",
       "  <tbody>\n",
       "    <tr>\n",
       "      <th>0</th>\n",
       "      <td>1</td>\n",
       "      <td>20</td>\n",
       "      <td>-1</td>\n",
       "    </tr>\n",
       "    <tr>\n",
       "      <th>1</th>\n",
       "      <td>1</td>\n",
       "      <td>24</td>\n",
       "      <td>-1</td>\n",
       "    </tr>\n",
       "    <tr>\n",
       "      <th>2</th>\n",
       "      <td>1</td>\n",
       "      <td>79</td>\n",
       "      <td>-1</td>\n",
       "    </tr>\n",
       "    <tr>\n",
       "      <th>3</th>\n",
       "      <td>1</td>\n",
       "      <td>226</td>\n",
       "      <td>-1</td>\n",
       "    </tr>\n",
       "    <tr>\n",
       "      <th>4</th>\n",
       "      <td>1</td>\n",
       "      <td>241</td>\n",
       "      <td>-1</td>\n",
       "    </tr>\n",
       "  </tbody>\n",
       "</table>\n",
       "</div>"
      ],
      "text/plain": [
       "   user_id  anime_id  rating\n",
       "0        1        20      -1\n",
       "1        1        24      -1\n",
       "2        1        79      -1\n",
       "3        1       226      -1\n",
       "4        1       241      -1"
      ]
     },
     "execution_count": 66,
     "metadata": {},
     "output_type": "execute_result"
    }
   ],
   "source": [
    "# Display the first few rows of the filtered ratings dataset\n",
    "ratings.head()"
   ]
  },
  {
   "cell_type": "code",
   "execution_count": 67,
   "id": "33f6bc09",
   "metadata": {
    "colab": {
     "base_uri": "https://localhost:8080/"
    },
    "executionInfo": {
     "elapsed": 1073,
     "status": "ok",
     "timestamp": 1718705347203,
     "user": {
      "displayName": "Kunal Guwalani",
      "userId": "06540083485482537728"
     },
     "user_tz": -330
    },
    "id": "33f6bc09",
    "outputId": "2db853d7-0279-4ffc-a50a-10a47cf48970"
   },
   "outputs": [
    {
     "name": "stdout",
     "output_type": "stream",
     "text": [
      "<class 'pandas.core.frame.DataFrame'>\n",
      "RangeIndex: 7813737 entries, 0 to 7813736\n",
      "Data columns (total 3 columns):\n",
      " #   Column    Dtype\n",
      "---  ------    -----\n",
      " 0   user_id   int64\n",
      " 1   anime_id  int64\n",
      " 2   rating    int64\n",
      "dtypes: int64(3)\n",
      "memory usage: 178.8 MB\n"
     ]
    },
    {
     "data": {
      "text/plain": [
       "None"
      ]
     },
     "metadata": {},
     "output_type": "display_data"
    }
   ],
   "source": [
    "# Display concise summary information about the 'ratings' DataFrame\n",
    "display(ratings.info())"
   ]
  },
  {
   "cell_type": "code",
   "execution_count": 68,
   "id": "2822983b",
   "metadata": {
    "colab": {
     "base_uri": "https://localhost:8080/"
    },
    "executionInfo": {
     "elapsed": 443,
     "status": "ok",
     "timestamp": 1718705786063,
     "user": {
      "displayName": "Kunal Guwalani",
      "userId": "06540083485482537728"
     },
     "user_tz": -330
    },
    "id": "2822983b",
    "outputId": "459de600-f051-45eb-eed7-8ed3c05f9683"
   },
   "outputs": [
    {
     "data": {
      "text/plain": [
       "user_id     0\n",
       "anime_id    0\n",
       "rating      0\n",
       "dtype: int64"
      ]
     },
     "execution_count": 68,
     "metadata": {},
     "output_type": "execute_result"
    }
   ],
   "source": [
    "# Count the number of missing values in each column of the 'ratings' DataFrame\n",
    "ratings.isnull().sum()"
   ]
  },
  {
   "cell_type": "markdown",
   "id": "59bc78c7",
   "metadata": {
    "id": "59bc78c7"
   },
   "source": [
    "__Observation:__\n",
    "    \n",
    "- There are no missing values in the user_id, anime_id, and rating features, but we need to address the -1 rating."
   ]
  },
  {
   "cell_type": "code",
   "execution_count": 69,
   "id": "0968916c",
   "metadata": {},
   "outputs": [
    {
     "data": {
      "text/html": [
       "<div>\n",
       "<style scoped>\n",
       "    .dataframe tbody tr th:only-of-type {\n",
       "        vertical-align: middle;\n",
       "    }\n",
       "\n",
       "    .dataframe tbody tr th {\n",
       "        vertical-align: top;\n",
       "    }\n",
       "\n",
       "    .dataframe thead th {\n",
       "        text-align: right;\n",
       "    }\n",
       "</style>\n",
       "<table border=\"1\" class=\"dataframe\">\n",
       "  <thead>\n",
       "    <tr style=\"text-align: right;\">\n",
       "      <th></th>\n",
       "      <th>user_id</th>\n",
       "      <th>anime_id</th>\n",
       "      <th>rating</th>\n",
       "    </tr>\n",
       "  </thead>\n",
       "  <tbody>\n",
       "    <tr>\n",
       "      <th>47</th>\n",
       "      <td>1</td>\n",
       "      <td>8074</td>\n",
       "      <td>10</td>\n",
       "    </tr>\n",
       "    <tr>\n",
       "      <th>81</th>\n",
       "      <td>1</td>\n",
       "      <td>11617</td>\n",
       "      <td>10</td>\n",
       "    </tr>\n",
       "    <tr>\n",
       "      <th>83</th>\n",
       "      <td>1</td>\n",
       "      <td>11757</td>\n",
       "      <td>10</td>\n",
       "    </tr>\n",
       "    <tr>\n",
       "      <th>101</th>\n",
       "      <td>1</td>\n",
       "      <td>15451</td>\n",
       "      <td>10</td>\n",
       "    </tr>\n",
       "    <tr>\n",
       "      <th>153</th>\n",
       "      <td>2</td>\n",
       "      <td>11771</td>\n",
       "      <td>10</td>\n",
       "    </tr>\n",
       "  </tbody>\n",
       "</table>\n",
       "</div>"
      ],
      "text/plain": [
       "     user_id  anime_id  rating\n",
       "47         1      8074      10\n",
       "81         1     11617      10\n",
       "83         1     11757      10\n",
       "101        1     15451      10\n",
       "153        2     11771      10"
      ]
     },
     "execution_count": 69,
     "metadata": {},
     "output_type": "execute_result"
    }
   ],
   "source": [
    "# Exclude rows where the rating is -1 (implying missing or few ratings from individuals)\n",
    "ratings = ratings[ratings.rating != -1]\n",
    "ratings.head()"
   ]
  },
  {
   "cell_type": "code",
   "execution_count": 70,
   "id": "aee927f3",
   "metadata": {
    "colab": {
     "base_uri": "https://localhost:8080/",
     "height": 300
    },
    "executionInfo": {
     "elapsed": 1249,
     "status": "ok",
     "timestamp": 1718705831684,
     "user": {
      "displayName": "Kunal Guwalani",
      "userId": "06540083485482537728"
     },
     "user_tz": -330
    },
    "id": "aee927f3",
    "outputId": "269aeafd-c8ef-43a4-b481-afb126226ad5"
   },
   "outputs": [
    {
     "data": {
      "text/html": [
       "<div>\n",
       "<style scoped>\n",
       "    .dataframe tbody tr th:only-of-type {\n",
       "        vertical-align: middle;\n",
       "    }\n",
       "\n",
       "    .dataframe tbody tr th {\n",
       "        vertical-align: top;\n",
       "    }\n",
       "\n",
       "    .dataframe thead th {\n",
       "        text-align: right;\n",
       "    }\n",
       "</style>\n",
       "<table border=\"1\" class=\"dataframe\">\n",
       "  <thead>\n",
       "    <tr style=\"text-align: right;\">\n",
       "      <th></th>\n",
       "      <th>user_id</th>\n",
       "      <th>anime_id</th>\n",
       "      <th>rating</th>\n",
       "    </tr>\n",
       "  </thead>\n",
       "  <tbody>\n",
       "    <tr>\n",
       "      <th>count</th>\n",
       "      <td>6.337241e+06</td>\n",
       "      <td>6.337241e+06</td>\n",
       "      <td>6.337241e+06</td>\n",
       "    </tr>\n",
       "    <tr>\n",
       "      <th>mean</th>\n",
       "      <td>3.674791e+04</td>\n",
       "      <td>8.902866e+03</td>\n",
       "      <td>7.808497e+00</td>\n",
       "    </tr>\n",
       "    <tr>\n",
       "      <th>std</th>\n",
       "      <td>2.101340e+04</td>\n",
       "      <td>8.882000e+03</td>\n",
       "      <td>1.572496e+00</td>\n",
       "    </tr>\n",
       "    <tr>\n",
       "      <th>min</th>\n",
       "      <td>1.000000e+00</td>\n",
       "      <td>1.000000e+00</td>\n",
       "      <td>1.000000e+00</td>\n",
       "    </tr>\n",
       "    <tr>\n",
       "      <th>25%</th>\n",
       "      <td>1.898400e+04</td>\n",
       "      <td>1.239000e+03</td>\n",
       "      <td>7.000000e+00</td>\n",
       "    </tr>\n",
       "    <tr>\n",
       "      <th>50%</th>\n",
       "      <td>3.681500e+04</td>\n",
       "      <td>6.213000e+03</td>\n",
       "      <td>8.000000e+00</td>\n",
       "    </tr>\n",
       "    <tr>\n",
       "      <th>75%</th>\n",
       "      <td>5.487300e+04</td>\n",
       "      <td>1.407500e+04</td>\n",
       "      <td>9.000000e+00</td>\n",
       "    </tr>\n",
       "    <tr>\n",
       "      <th>max</th>\n",
       "      <td>7.351600e+04</td>\n",
       "      <td>3.447500e+04</td>\n",
       "      <td>1.000000e+01</td>\n",
       "    </tr>\n",
       "  </tbody>\n",
       "</table>\n",
       "</div>"
      ],
      "text/plain": [
       "            user_id      anime_id        rating\n",
       "count  6.337241e+06  6.337241e+06  6.337241e+06\n",
       "mean   3.674791e+04  8.902866e+03  7.808497e+00\n",
       "std    2.101340e+04  8.882000e+03  1.572496e+00\n",
       "min    1.000000e+00  1.000000e+00  1.000000e+00\n",
       "25%    1.898400e+04  1.239000e+03  7.000000e+00\n",
       "50%    3.681500e+04  6.213000e+03  8.000000e+00\n",
       "75%    5.487300e+04  1.407500e+04  9.000000e+00\n",
       "max    7.351600e+04  3.447500e+04  1.000000e+01"
      ]
     },
     "execution_count": 70,
     "metadata": {},
     "output_type": "execute_result"
    }
   ],
   "source": [
    "# Generate descriptive statistics for the numerical columns of the 'ratings' DataFrame\n",
    "ratings.describe()"
   ]
  },
  {
   "cell_type": "code",
   "execution_count": 71,
   "id": "b6c341a0",
   "metadata": {
    "colab": {
     "base_uri": "https://localhost:8080/"
    },
    "executionInfo": {
     "elapsed": 416,
     "status": "ok",
     "timestamp": 1718705940308,
     "user": {
      "displayName": "Kunal Guwalani",
      "userId": "06540083485482537728"
     },
     "user_tz": -330
    },
    "id": "b6c341a0",
    "outputId": "307027f5-9569-4e52-962c-27920480c4d3"
   },
   "outputs": [
    {
     "data": {
      "text/plain": [
       "6337241"
      ]
     },
     "execution_count": 71,
     "metadata": {},
     "output_type": "execute_result"
    }
   ],
   "source": [
    "# Calculate the length of the filtered ratings dataset\n",
    "len(ratings)"
   ]
  },
  {
   "cell_type": "code",
   "execution_count": 72,
   "id": "2d7e5c1e",
   "metadata": {
    "colab": {
     "base_uri": "https://localhost:8080/"
    },
    "executionInfo": {
     "elapsed": 404,
     "status": "ok",
     "timestamp": 1718705942656,
     "user": {
      "displayName": "Kunal Guwalani",
      "userId": "06540083485482537728"
     },
     "user_tz": -330
    },
    "id": "2d7e5c1e",
    "outputId": "027bc9d1-398d-4b8b-8958-13e172f80bee"
   },
   "outputs": [
    {
     "data": {
      "text/plain": [
       "69600"
      ]
     },
     "execution_count": 72,
     "metadata": {},
     "output_type": "execute_result"
    }
   ],
   "source": [
    "# Calculate the number of unique user IDs in the filtered ratings dataset\n",
    "len(ratings['user_id'].unique())"
   ]
  },
  {
   "cell_type": "code",
   "execution_count": 73,
   "id": "92491117",
   "metadata": {
    "colab": {
     "base_uri": "https://localhost:8080/"
    },
    "executionInfo": {
     "elapsed": 419,
     "status": "ok",
     "timestamp": 1718705947574,
     "user": {
      "displayName": "Kunal Guwalani",
      "userId": "06540083485482537728"
     },
     "user_tz": -330
    },
    "id": "92491117",
    "outputId": "91d40fcd-4779-4439-ca15-4f21f655c548"
   },
   "outputs": [
    {
     "data": {
      "text/plain": [
       "12294"
      ]
     },
     "execution_count": 73,
     "metadata": {},
     "output_type": "execute_result"
    }
   ],
   "source": [
    "# Calculate the number of unique anime IDs in the 'animes' dataset\n",
    "len(animes['anime_id'].unique())"
   ]
  },
  {
   "cell_type": "code",
   "execution_count": 74,
   "id": "e21beca7",
   "metadata": {
    "colab": {
     "base_uri": "https://localhost:8080/"
    },
    "executionInfo": {
     "elapsed": 550,
     "status": "ok",
     "timestamp": 1718705951800,
     "user": {
      "displayName": "Kunal Guwalani",
      "userId": "06540083485482537728"
     },
     "user_tz": -330
    },
    "id": "e21beca7",
    "outputId": "625bb5a9-bee1-4402-ca8b-3feea44186ea"
   },
   "outputs": [
    {
     "data": {
      "text/plain": [
       "91.05231321839081"
      ]
     },
     "execution_count": 74,
     "metadata": {},
     "output_type": "execute_result"
    }
   ],
   "source": [
    "# Calculate the number of ratings per user\n",
    "ratings_per_user = ratings.groupby('user_id')['rating'].count()\n",
    "\n",
    "# Calculate the mean number of ratings per user\n",
    "mean_ratings_per_user = statistics.mean(ratings_per_user.tolist())\n",
    "mean_ratings_per_user"
   ]
  },
  {
   "cell_type": "markdown",
   "id": "geUbzyGccppU",
   "metadata": {
    "id": "geUbzyGccppU"
   },
   "source": [
    "__Observations:__\n",
    "- The average user has rated about 91 items, indicating a moderately active engagement in rating items within the dataset."
   ]
  },
  {
   "cell_type": "code",
   "execution_count": 75,
   "id": "9365e4ae",
   "metadata": {
    "colab": {
     "base_uri": "https://localhost:8080/",
     "height": 472
    },
    "executionInfo": {
     "elapsed": 492,
     "status": "ok",
     "timestamp": 1718705962366,
     "user": {
      "displayName": "Kunal Guwalani",
      "userId": "06540083485482537728"
     },
     "user_tz": -330
    },
    "id": "9365e4ae",
    "outputId": "53e83019-bf70-44d4-88ac-6a2733db6cee"
   },
   "outputs": [
    {
     "data": {
      "image/png": "[encoded data removed]",
      "text/plain": [
       "<Figure size 640x480 with 1 Axes>"
      ]
     },
     "metadata": {},
     "output_type": "display_data"
    }
   ],
   "source": [
    "# Plot a histogram of the number of ratings per user\n",
    "ratings_per_user.hist(bins=20, range=(0,500))\n",
    "plt.xlabel('Number of Ratings per User')\n",
    "plt.ylabel('Frequency')\n",
    "plt.title('Distribution of Ratings per User')\n",
    "plt.show()"
   ]
  },
  {
   "cell_type": "markdown",
   "id": "ld6KXmrmYSvA",
   "metadata": {
    "id": "ld6KXmrmYSvA"
   },
   "source": [
    "__Observations:__\n",
    "- The histogram displays a right-skewed distribution, indicating that most users have rated fewer than 100 items.\n",
    "- A very small number of users have rated between 100 and 500 items, with the frequency decreasing as the number of ratings increases.\n",
    "- As shown by the bars approaching zero frequency, users providing a high number of ratings are exceedingly rare."
   ]
  },
  {
   "cell_type": "code",
   "execution_count": 76,
   "id": "9eb1988d",
   "metadata": {
    "colab": {
     "base_uri": "https://localhost:8080/"
    },
    "executionInfo": {
     "elapsed": 430,
     "status": "ok",
     "timestamp": 1718706013118,
     "user": {
      "displayName": "Kunal Guwalani",
      "userId": "06540083485482537728"
     },
     "user_tz": -330
    },
    "id": "9eb1988d",
    "outputId": "a6fa4ebc-746f-494b-d28f-7811a42ee199"
   },
   "outputs": [
    {
     "data": {
      "text/plain": [
       "anime_id\n",
       "1    13449\n",
       "5     5790\n",
       "6     9385\n",
       "7     2169\n",
       "8      308\n",
       "Name: rating, dtype: int64"
      ]
     },
     "metadata": {},
     "output_type": "display_data"
    },
    {
     "data": {
      "text/plain": [
       "638.3843054296364"
      ]
     },
     "execution_count": 76,
     "metadata": {},
     "output_type": "execute_result"
    }
   ],
   "source": [
    "# Calculate the number of ratings per anime\n",
    "ratings_per_anime = ratings.groupby('anime_id')['rating'].count()\n",
    "display(ratings_per_anime.head())\n",
    "\n",
    "# Calculate the mean number of ratings per anime\n",
    "mean_ratings_per_anime = statistics.mean(ratings_per_anime.tolist())\n",
    "mean_ratings_per_anime"
   ]
  },
  {
   "cell_type": "markdown",
   "id": "T5DG7E0ucXUn",
   "metadata": {
    "id": "T5DG7E0ucXUn"
   },
   "source": [
    "__Observations:__\n",
    "\n",
    "-On average, each anime title receives approximately 638 ratings, which implies a diverse range of viewer engagement levels."
   ]
  },
  {
   "cell_type": "code",
   "execution_count": 77,
   "id": "b0a869ad",
   "metadata": {
    "colab": {
     "base_uri": "https://localhost:8080/",
     "height": 472
    },
    "executionInfo": {
     "elapsed": 2195,
     "status": "ok",
     "timestamp": 1718706435618,
     "user": {
      "displayName": "Kunal Guwalani",
      "userId": "06540083485482537728"
     },
     "user_tz": -330
    },
    "id": "b0a869ad",
    "outputId": "98e02b5a-d6e0-437d-f612-fb876b227c57"
   },
   "outputs": [
    {
     "data": {
      "image/png": "[encoded data removed]",
      "text/plain": [
       "<Figure size 640x480 with 1 Axes>"
      ]
     },
     "metadata": {},
     "output_type": "display_data"
    }
   ],
   "source": [
    "# Plot a histogram of the number of ratings per anime\n",
    "ratings_per_anime.hist(bins=20, range=(0,2500))\n",
    "plt.xlabel('Number of Ratings per Anime')\n",
    "plt.ylabel('Frequency')\n",
    "plt.title('Distribution of Ratings per Anime')\n",
    "plt.show()"
   ]
  },
  {
   "cell_type": "markdown",
   "id": "mFE8LU0FbrIK",
   "metadata": {
    "id": "mFE8LU0FbrIK"
   },
   "source": [
    "__Observations:__\n",
    "- The highest frequency of anime titles has between 0 and 125 ratings, as depicted by the first bar in the histogram.\n",
    "- Very few anime titles receive more than 1500 ratings, highlighting a significant drop-off in frequency as the number of ratings increases."
   ]
  },
  {
   "cell_type": "markdown",
   "id": "e7944a59",
   "metadata": {
    "id": "e7944a59"
   },
   "source": [
    "### Build the Filtered User-Item Rating Matrix\n",
    "\n",
    "Now that we've loaded both datasets, and concluded our EDA, we can continue on our journey of creating a User-Based Collaborative Filtering system.\n",
    "\n",
    "By combining these datasets, we can build better recommendation systems — recommending anime either:\n",
    "- based on what **similar users liked**, or\n",
    "- based on what **similar anime** a user enjoyed."
   ]
  },
  {
   "cell_type": "markdown",
   "id": "ba7cb6cc",
   "metadata": {},
   "source": [
    "Our next steps are:\n",
    "- Focus only on **popular anime** (with 1000+ ratings)\n",
    "- Include only **prolific users** (who’ve rated 500+ shows)\n",
    "- Convert the rating data into a structured matrix to be used for modeling\n",
    "\n",
    "This will allow us to later apply techniques like matrix factorization, similarity scoring, or even deep learning for recommendations."
   ]
  },
  {
   "cell_type": "code",
   "execution_count": 78,
   "id": "45152c28",
   "metadata": {
    "id": "45152c28"
   },
   "outputs": [
    {
     "data": {
      "text/plain": [
       "[1, 5, 6, 7, 15, 16, 18, 19, 20, 22]"
      ]
     },
     "execution_count": 78,
     "metadata": {},
     "output_type": "execute_result"
    }
   ],
   "source": [
    "# Create a DataFrame from the ratings per anime data\n",
    "ratings_per_anime_df = pd.DataFrame(ratings_per_anime)\n",
    "\n",
    "# Filter the DataFrame to include only anime with 1000 or more ratings\n",
    "filtered_ratings_per_anime_df = ratings_per_anime_df[ratings_per_anime_df.rating >= 1000]\n",
    "\n",
    "# Extract the indices (anime IDs) of popular anime\n",
    "popular_anime = filtered_ratings_per_anime_df.index.tolist()\n",
    "popular_anime[:10]  # Display the first 10 popular anime IDs"
   ]
  },
  {
   "cell_type": "markdown",
   "id": "20767fee",
   "metadata": {
    "id": "20767fee"
   },
   "source": [
    "Create ratings per user dataframe, and filter ratings greater than 500 and create an index to list prolific users. This will create the entries in the rating matrix."
   ]
  },
  {
   "cell_type": "code",
   "execution_count": 79,
   "id": "1e43d119",
   "metadata": {
    "id": "1e43d119"
   },
   "outputs": [
    {
     "data": {
      "text/plain": [
       "[226, 271, 294, 392, 446, 478, 661, 741, 771, 786]"
      ]
     },
     "execution_count": 79,
     "metadata": {},
     "output_type": "execute_result"
    }
   ],
   "source": [
    "# Create a DataFrame from the ratings per user data\n",
    "ratings_per_user_df = pd.DataFrame(ratings_per_user)\n",
    "\n",
    "# Filter the DataFrame to include only users with 500 or more ratings\n",
    "filtered_ratings_per_user_df = ratings_per_user_df[ratings_per_user_df.rating >= 500]\n",
    "\n",
    "# Extract the indices (user IDs) of prolific users\n",
    "prolific_users = filtered_ratings_per_user_df.index.tolist()\n",
    "prolific_users[:10]  # Display the first 10 prolific user IDs"
   ]
  },
  {
   "cell_type": "markdown",
   "id": "40f3f346",
   "metadata": {},
   "source": [
    "### Filter Ratings for Matrix Construction\n",
    "\n",
    "We want to keep only:\n",
    "- Ratings for **popular anime** (rated 1000+ times)\n",
    "- Ratings from **prolific users** (who rated 500+ anime)\n",
    "\n",
    "The result is a much smaller, focused dataset ideal for collaborative filtering."
   ]
  },
  {
   "cell_type": "code",
   "execution_count": 80,
   "id": "a25c5620",
   "metadata": {},
   "outputs": [
    {
     "data": {
      "text/plain": [
       "657450"
      ]
     },
     "metadata": {},
     "output_type": "display_data"
    },
    {
     "data": {
      "text/html": [
       "<div>\n",
       "<style scoped>\n",
       "    .dataframe tbody tr th:only-of-type {\n",
       "        vertical-align: middle;\n",
       "    }\n",
       "\n",
       "    .dataframe tbody tr th {\n",
       "        vertical-align: top;\n",
       "    }\n",
       "\n",
       "    .dataframe thead th {\n",
       "        text-align: right;\n",
       "    }\n",
       "</style>\n",
       "<table border=\"1\" class=\"dataframe\">\n",
       "  <thead>\n",
       "    <tr style=\"text-align: right;\">\n",
       "      <th></th>\n",
       "      <th>user_id</th>\n",
       "      <th>anime_id</th>\n",
       "      <th>rating</th>\n",
       "    </tr>\n",
       "  </thead>\n",
       "  <tbody>\n",
       "    <tr>\n",
       "      <th>17304</th>\n",
       "      <td>226</td>\n",
       "      <td>1</td>\n",
       "      <td>8</td>\n",
       "    </tr>\n",
       "    <tr>\n",
       "      <th>17305</th>\n",
       "      <td>226</td>\n",
       "      <td>6</td>\n",
       "      <td>8</td>\n",
       "    </tr>\n",
       "    <tr>\n",
       "      <th>17306</th>\n",
       "      <td>226</td>\n",
       "      <td>20</td>\n",
       "      <td>7</td>\n",
       "    </tr>\n",
       "    <tr>\n",
       "      <th>17307</th>\n",
       "      <td>226</td>\n",
       "      <td>25</td>\n",
       "      <td>6</td>\n",
       "    </tr>\n",
       "    <tr>\n",
       "      <th>17308</th>\n",
       "      <td>226</td>\n",
       "      <td>27</td>\n",
       "      <td>7</td>\n",
       "    </tr>\n",
       "  </tbody>\n",
       "</table>\n",
       "</div>"
      ],
      "text/plain": [
       "       user_id  anime_id  rating\n",
       "17304      226         1       8\n",
       "17305      226         6       8\n",
       "17306      226        20       7\n",
       "17307      226        25       6\n",
       "17308      226        27       7"
      ]
     },
     "execution_count": 80,
     "metadata": {},
     "output_type": "execute_result"
    }
   ],
   "source": [
    "filtered_ratings = ratings[\n",
    "    ratings.anime_id.isin(popular_anime) & ratings.user_id.isin(prolific_users)\n",
    "]\n",
    "# Calculate the length of the filtered ratings dataset\n",
    "display(len(filtered_ratings))\n",
    "filtered_ratings.head()"
   ]
  },
  {
   "cell_type": "markdown",
   "id": "b9228b44",
   "metadata": {},
   "source": [
    "### Create the Dense Matrix\n",
    "- Now we can create the dense user-item matrix where each cell tells us how a particular user rated a particular anime\n",
    "- If a user hasn't rated that anime, fill it with a 0"
   ]
  },
  {
   "cell_type": "code",
   "execution_count": 81,
   "id": "cb72441f",
   "metadata": {
    "colab": {
     "base_uri": "https://localhost:8080/",
     "height": 287
    },
    "executionInfo": {
     "elapsed": 666,
     "status": "ok",
     "timestamp": 1718706508766,
     "user": {
      "displayName": "Kunal Guwalani",
      "userId": "06540083485482537728"
     },
     "user_tz": -330
    },
    "id": "cb72441f",
    "outputId": "da507852-80c0-48fd-f309-e74c3b246992"
   },
   "outputs": [
    {
     "data": {
      "text/html": [
       "<div>\n",
       "<style scoped>\n",
       "    .dataframe tbody tr th:only-of-type {\n",
       "        vertical-align: middle;\n",
       "    }\n",
       "\n",
       "    .dataframe tbody tr th {\n",
       "        vertical-align: top;\n",
       "    }\n",
       "\n",
       "    .dataframe thead th {\n",
       "        text-align: right;\n",
       "    }\n",
       "</style>\n",
       "<table border=\"1\" class=\"dataframe\">\n",
       "  <thead>\n",
       "    <tr style=\"text-align: right;\">\n",
       "      <th>anime_id</th>\n",
       "      <th>1</th>\n",
       "      <th>5</th>\n",
       "      <th>6</th>\n",
       "      <th>7</th>\n",
       "      <th>15</th>\n",
       "      <th>16</th>\n",
       "      <th>18</th>\n",
       "      <th>19</th>\n",
       "      <th>20</th>\n",
       "      <th>22</th>\n",
       "      <th>...</th>\n",
       "      <th>32281</th>\n",
       "      <th>32282</th>\n",
       "      <th>32379</th>\n",
       "      <th>32438</th>\n",
       "      <th>32542</th>\n",
       "      <th>32729</th>\n",
       "      <th>32828</th>\n",
       "      <th>32935</th>\n",
       "      <th>32998</th>\n",
       "      <th>34240</th>\n",
       "    </tr>\n",
       "    <tr>\n",
       "      <th>user_id</th>\n",
       "      <th></th>\n",
       "      <th></th>\n",
       "      <th></th>\n",
       "      <th></th>\n",
       "      <th></th>\n",
       "      <th></th>\n",
       "      <th></th>\n",
       "      <th></th>\n",
       "      <th></th>\n",
       "      <th></th>\n",
       "      <th></th>\n",
       "      <th></th>\n",
       "      <th></th>\n",
       "      <th></th>\n",
       "      <th></th>\n",
       "      <th></th>\n",
       "      <th></th>\n",
       "      <th></th>\n",
       "      <th></th>\n",
       "      <th></th>\n",
       "      <th></th>\n",
       "    </tr>\n",
       "  </thead>\n",
       "  <tbody>\n",
       "    <tr>\n",
       "      <th>226</th>\n",
       "      <td>8.0</td>\n",
       "      <td>0.0</td>\n",
       "      <td>8.0</td>\n",
       "      <td>0.0</td>\n",
       "      <td>0.0</td>\n",
       "      <td>0.0</td>\n",
       "      <td>0.0</td>\n",
       "      <td>0.0</td>\n",
       "      <td>7.0</td>\n",
       "      <td>0.0</td>\n",
       "      <td>...</td>\n",
       "      <td>0.0</td>\n",
       "      <td>0.0</td>\n",
       "      <td>0.0</td>\n",
       "      <td>0.0</td>\n",
       "      <td>8.0</td>\n",
       "      <td>0.0</td>\n",
       "      <td>0.0</td>\n",
       "      <td>0.0</td>\n",
       "      <td>0.0</td>\n",
       "      <td>0.0</td>\n",
       "    </tr>\n",
       "    <tr>\n",
       "      <th>271</th>\n",
       "      <td>0.0</td>\n",
       "      <td>0.0</td>\n",
       "      <td>0.0</td>\n",
       "      <td>0.0</td>\n",
       "      <td>0.0</td>\n",
       "      <td>0.0</td>\n",
       "      <td>0.0</td>\n",
       "      <td>0.0</td>\n",
       "      <td>1.0</td>\n",
       "      <td>0.0</td>\n",
       "      <td>...</td>\n",
       "      <td>10.0</td>\n",
       "      <td>0.0</td>\n",
       "      <td>0.0</td>\n",
       "      <td>4.0</td>\n",
       "      <td>0.0</td>\n",
       "      <td>7.0</td>\n",
       "      <td>9.0</td>\n",
       "      <td>0.0</td>\n",
       "      <td>0.0</td>\n",
       "      <td>10.0</td>\n",
       "    </tr>\n",
       "    <tr>\n",
       "      <th>294</th>\n",
       "      <td>7.0</td>\n",
       "      <td>7.0</td>\n",
       "      <td>0.0</td>\n",
       "      <td>0.0</td>\n",
       "      <td>0.0</td>\n",
       "      <td>0.0</td>\n",
       "      <td>0.0</td>\n",
       "      <td>0.0</td>\n",
       "      <td>10.0</td>\n",
       "      <td>0.0</td>\n",
       "      <td>...</td>\n",
       "      <td>0.0</td>\n",
       "      <td>0.0</td>\n",
       "      <td>0.0</td>\n",
       "      <td>0.0</td>\n",
       "      <td>0.0</td>\n",
       "      <td>0.0</td>\n",
       "      <td>0.0</td>\n",
       "      <td>0.0</td>\n",
       "      <td>0.0</td>\n",
       "      <td>0.0</td>\n",
       "    </tr>\n",
       "    <tr>\n",
       "      <th>392</th>\n",
       "      <td>7.0</td>\n",
       "      <td>0.0</td>\n",
       "      <td>7.0</td>\n",
       "      <td>0.0</td>\n",
       "      <td>0.0</td>\n",
       "      <td>0.0</td>\n",
       "      <td>7.0</td>\n",
       "      <td>0.0</td>\n",
       "      <td>7.0</td>\n",
       "      <td>0.0</td>\n",
       "      <td>...</td>\n",
       "      <td>0.0</td>\n",
       "      <td>8.0</td>\n",
       "      <td>6.0</td>\n",
       "      <td>4.0</td>\n",
       "      <td>0.0</td>\n",
       "      <td>0.0</td>\n",
       "      <td>0.0</td>\n",
       "      <td>8.0</td>\n",
       "      <td>0.0</td>\n",
       "      <td>0.0</td>\n",
       "    </tr>\n",
       "    <tr>\n",
       "      <th>446</th>\n",
       "      <td>9.0</td>\n",
       "      <td>8.0</td>\n",
       "      <td>9.0</td>\n",
       "      <td>0.0</td>\n",
       "      <td>0.0</td>\n",
       "      <td>0.0</td>\n",
       "      <td>0.0</td>\n",
       "      <td>10.0</td>\n",
       "      <td>0.0</td>\n",
       "      <td>0.0</td>\n",
       "      <td>...</td>\n",
       "      <td>0.0</td>\n",
       "      <td>8.0</td>\n",
       "      <td>0.0</td>\n",
       "      <td>5.0</td>\n",
       "      <td>0.0</td>\n",
       "      <td>7.0</td>\n",
       "      <td>0.0</td>\n",
       "      <td>0.0</td>\n",
       "      <td>8.0</td>\n",
       "      <td>9.0</td>\n",
       "    </tr>\n",
       "  </tbody>\n",
       "</table>\n",
       "<p>5 rows × 1462 columns</p>\n",
       "</div>"
      ],
      "text/plain": [
       "anime_id  1      5      6      7      15     16     18     19     20     \\\n",
       "user_id                                                                   \n",
       "226         8.0    0.0    8.0    0.0    0.0    0.0    0.0    0.0    7.0   \n",
       "271         0.0    0.0    0.0    0.0    0.0    0.0    0.0    0.0    1.0   \n",
       "294         7.0    7.0    0.0    0.0    0.0    0.0    0.0    0.0   10.0   \n",
       "392         7.0    0.0    7.0    0.0    0.0    0.0    7.0    0.0    7.0   \n",
       "446         9.0    8.0    9.0    0.0    0.0    0.0    0.0   10.0    0.0   \n",
       "\n",
       "anime_id  22     ...  32281  32282  32379  32438  32542  32729  32828  32935  \\\n",
       "user_id          ...                                                           \n",
       "226         0.0  ...    0.0    0.0    0.0    0.0    8.0    0.0    0.0    0.0   \n",
       "271         0.0  ...   10.0    0.0    0.0    4.0    0.0    7.0    9.0    0.0   \n",
       "294         0.0  ...    0.0    0.0    0.0    0.0    0.0    0.0    0.0    0.0   \n",
       "392         0.0  ...    0.0    8.0    6.0    4.0    0.0    0.0    0.0    8.0   \n",
       "446         0.0  ...    0.0    8.0    0.0    5.0    0.0    7.0    0.0    0.0   \n",
       "\n",
       "anime_id  32998  34240  \n",
       "user_id                 \n",
       "226         0.0    0.0  \n",
       "271         0.0   10.0  \n",
       "294         0.0    0.0  \n",
       "392         0.0    0.0  \n",
       "446         8.0    9.0  \n",
       "\n",
       "[5 rows x 1462 columns]"
      ]
     },
     "execution_count": 81,
     "metadata": {},
     "output_type": "execute_result"
    }
   ],
   "source": [
    "# Create a pivot table to construct the user-item rating matrix\n",
    "rating_matrix = filtered_ratings.pivot_table(index='user_id', columns='anime_id', values='rating')\n",
    "\n",
    "# Fill missing values (NaN) with 0\n",
    "rating_matrix = rating_matrix.fillna(0)\n",
    "\n",
    "# Display the first few rows of the user-item rating matrix\n",
    "rating_matrix.head()"
   ]
  },
  {
   "cell_type": "markdown",
   "id": "7fbd6bde",
   "metadata": {
    "id": "7fbd6bde"
   },
   "source": [
    "The __user-item rating matrix__ indicates the interactions between users and items in the form of ratings. Each row represents a user, each column represents an anime title, and the values in the matrix represent the ratings given by users to the corresponding anime titles. This matrix provides a structured representation of user preferences and behaviors, serving as the foundation for collaborative filtering techniques to generate personalized recommendations."
   ]
  },
  {
   "cell_type": "markdown",
   "id": "def2d096",
   "metadata": {
    "id": "def2d096"
   },
   "source": [
    "### Finding Similar Users\n",
    "\n",
    "To make personalized recommendations, we first identify users who are **similar** to a target user based on their rating patterns.\n",
    "\n",
    "Here, we use **cosine similarity** to measure how similar one user's ratings are to another's:\n",
    "- A similarity of **1.0** = perfect match\n",
    "- A similarity of **0.0** = completely different\n",
    "\n",
    "This function helps us find the top-k users whose preferences are most similar to a given user."
   ]
  },
  {
   "cell_type": "code",
   "execution_count": 82,
   "id": "73606d93",
   "metadata": {
    "id": "73606d93"
   },
   "outputs": [],
   "source": [
    "from sklearn.metrics.pairwise import cosine_similarity\n",
    "import operator\n",
    "\n",
    "def similar_users(user_id, matrix, k=3):\n",
    "    # Retrieve the user's vector from the rating matrix\n",
    "    user = matrix[matrix.index == user_id]\n",
    "\n",
    "    # Exclude the user's vector from the rating matrix\n",
    "    other_users = matrix[matrix.index != user_id]\n",
    "\n",
    "    # Calculate cosine similarity between the user and other users\n",
    "    similarities = cosine_similarity(user, other_users)[0].tolist()\n",
    "\n",
    "    # Get the indices (user IDs) of other users\n",
    "    indices = other_users.index.tolist()\n",
    "\n",
    "    # Create a dictionary mapping indices to similarity scores\n",
    "    index_similarity = dict(zip(indices, similarities))\n",
    "\n",
    "    # Sort the dictionary by similarity scores in descending order\n",
    "    index_similarity_sorted = sorted(index_similarity.items(), key=operator.itemgetter(1))\n",
    "    index_similarity_sorted.reverse()\n",
    "\n",
    "    # Get the top k similar users\n",
    "    top_users_similarities = index_similarity_sorted[:k]\n",
    "    users = [u[0] for u in top_users_similarities]\n",
    "\n",
    "    return users"
   ]
  },
  {
   "cell_type": "markdown",
   "id": "059694a1",
   "metadata": {
    "id": "059694a1"
   },
   "source": [
    "Test the similar_users function with a sample user ID."
   ]
  },
  {
   "cell_type": "code",
   "execution_count": 83,
   "id": "ffb79b8d",
   "metadata": {
    "colab": {
     "base_uri": "https://localhost:8080/"
    },
    "executionInfo": {
     "elapsed": 424,
     "status": "ok",
     "timestamp": 1718706528278,
     "user": {
      "displayName": "Kunal Guwalani",
      "userId": "06540083485482537728"
     },
     "user_tz": -330
    },
    "id": "ffb79b8d",
    "outputId": "c38a4b40-5ae1-4bd0-ced1-786698cec02f"
   },
   "outputs": [
    {
     "name": "stdout",
     "output_type": "stream",
     "text": [
      "[22642, 39021, 8820]\n"
     ]
    }
   ],
   "source": [
    "# Define the current user's ID\n",
    "current_user = 226\n",
    "\n",
    "# Find indices of similar users to the current user\n",
    "similar_user_indices = similar_users(current_user, rating_matrix)\n",
    "\n",
    "# Print the indices of similar users\n",
    "print(similar_user_indices)"
   ]
  },
  {
   "cell_type": "markdown",
   "id": "dc89be59",
   "metadata": {
    "id": "dc89be59"
   },
   "source": [
    "### People Like You Loved These Shows\n",
    "\n",
    "- Define a function to recommend items (animes) for a user based on the average ratings of similar users.\n",
    "- Test the recommend_item function with a sample user ID and similar user indices."
   ]
  },
  {
   "cell_type": "code",
   "execution_count": 84,
   "id": "a6959dc9",
   "metadata": {
    "colab": {
     "base_uri": "https://localhost:8080/",
     "height": 206
    },
    "executionInfo": {
     "elapsed": 474,
     "status": "ok",
     "timestamp": 1718706532546,
     "user": {
      "displayName": "Kunal Guwalani",
      "userId": "06540083485482537728"
     },
     "user_tz": -330
    },
    "id": "a6959dc9",
    "outputId": "8f1ebcf2-8d4d-49d6-c841-1ace6f281956"
   },
   "outputs": [
    {
     "data": {
      "text/html": [
       "<div>\n",
       "<style scoped>\n",
       "    .dataframe tbody tr th:only-of-type {\n",
       "        vertical-align: middle;\n",
       "    }\n",
       "\n",
       "    .dataframe tbody tr th {\n",
       "        vertical-align: top;\n",
       "    }\n",
       "\n",
       "    .dataframe thead th {\n",
       "        text-align: right;\n",
       "    }\n",
       "</style>\n",
       "<table border=\"1\" class=\"dataframe\">\n",
       "  <thead>\n",
       "    <tr style=\"text-align: right;\">\n",
       "      <th></th>\n",
       "      <th>anime_id</th>\n",
       "      <th>name</th>\n",
       "      <th>genre</th>\n",
       "      <th>type</th>\n",
       "      <th>episodes</th>\n",
       "      <th>rating</th>\n",
       "      <th>members</th>\n",
       "    </tr>\n",
       "  </thead>\n",
       "  <tbody>\n",
       "    <tr>\n",
       "      <th>61</th>\n",
       "      <td>28171</td>\n",
       "      <td>Shokugeki no Souma</td>\n",
       "      <td>Ecchi, School, Shounen</td>\n",
       "      <td>TV</td>\n",
       "      <td>24.0</td>\n",
       "      <td>8.61</td>\n",
       "      <td>348951</td>\n",
       "    </tr>\n",
       "    <tr>\n",
       "      <th>199</th>\n",
       "      <td>28223</td>\n",
       "      <td>Death Parade</td>\n",
       "      <td>Drama, Game, Mystery, Psychological, Thriller</td>\n",
       "      <td>TV</td>\n",
       "      <td>12.0</td>\n",
       "      <td>8.33</td>\n",
       "      <td>383914</td>\n",
       "    </tr>\n",
       "    <tr>\n",
       "      <th>554</th>\n",
       "      <td>28907</td>\n",
       "      <td>Gate: Jieitai Kanochi nite, Kaku Tatakaeri</td>\n",
       "      <td>Action, Adventure, Fantasy, Military</td>\n",
       "      <td>TV</td>\n",
       "      <td>12.0</td>\n",
       "      <td>7.97</td>\n",
       "      <td>244314</td>\n",
       "    </tr>\n",
       "    <tr>\n",
       "      <th>824</th>\n",
       "      <td>6956</td>\n",
       "      <td>Working!!</td>\n",
       "      <td>Comedy, Slice of Life</td>\n",
       "      <td>TV</td>\n",
       "      <td>13.0</td>\n",
       "      <td>7.82</td>\n",
       "      <td>189367</td>\n",
       "    </tr>\n",
       "    <tr>\n",
       "      <th>1547</th>\n",
       "      <td>5667</td>\n",
       "      <td>To LOVE-Ru OVA</td>\n",
       "      <td>Comedy, Ecchi, Harem, School, Sci-Fi, Shounen</td>\n",
       "      <td>OVA</td>\n",
       "      <td>6.0</td>\n",
       "      <td>7.51</td>\n",
       "      <td>79923</td>\n",
       "    </tr>\n",
       "  </tbody>\n",
       "</table>\n",
       "</div>"
      ],
      "text/plain": [
       "      anime_id                                        name  \\\n",
       "61       28171                          Shokugeki no Souma   \n",
       "199      28223                                Death Parade   \n",
       "554      28907  Gate: Jieitai Kanochi nite, Kaku Tatakaeri   \n",
       "824       6956                                   Working!!   \n",
       "1547      5667                              To LOVE-Ru OVA   \n",
       "\n",
       "                                              genre type  episodes  rating  \\\n",
       "61                           Ecchi, School, Shounen   TV      24.0    8.61   \n",
       "199   Drama, Game, Mystery, Psychological, Thriller   TV      12.0    8.33   \n",
       "554            Action, Adventure, Fantasy, Military   TV      12.0    7.97   \n",
       "824                           Comedy, Slice of Life   TV      13.0    7.82   \n",
       "1547  Comedy, Ecchi, Harem, School, Sci-Fi, Shounen  OVA       6.0    7.51   \n",
       "\n",
       "      members  \n",
       "61     348951  \n",
       "199    383914  \n",
       "554    244314  \n",
       "824    189367  \n",
       "1547    79923  "
      ]
     },
     "execution_count": 84,
     "metadata": {},
     "output_type": "execute_result"
    }
   ],
   "source": [
    "def recommend_item(user_index, similar_user_indices, matrix, items=5):\n",
    "    # Select rows corresponding to similar users\n",
    "    similar_users = matrix[matrix.index.isin(similar_user_indices)]\n",
    "\n",
    "    # Calculate the mean rating for each item among similar users\n",
    "    similar_users = similar_users.mean(axis=0)\n",
    "\n",
    "    # Convert the result to a DataFrame\n",
    "    similar_users_df = pd.DataFrame(similar_users, columns=['mean'])\n",
    "\n",
    "    # Select the target user's ratings\n",
    "    user_df = matrix[matrix.index == user_index]\n",
    "\n",
    "    # Transpose the DataFrame for easier manipulation\n",
    "    user_df_transposed = user_df.transpose()\n",
    "\n",
    "    # Rename the column for clarity\n",
    "    user_df_transposed.columns = ['rating']\n",
    "\n",
    "    # Filter out items that the target user has already rated\n",
    "    user_df_transposed = user_df_transposed[user_df_transposed['rating']==0]\n",
    "\n",
    "    # Extract the indices (anime IDs) of unseen items\n",
    "    animes_unseen = user_df_transposed.index.tolist()\n",
    "\n",
    "    # Filter the DataFrame to include only ratings for unseen items\n",
    "    similar_users_df_filtered = similar_users_df[similar_users_df.index.isin(animes_unseen)]\n",
    "\n",
    "    # Sort the filtered DataFrame by mean rating in descending order\n",
    "    similar_users_df_ordered = similar_users_df_filtered.sort_values(by=['mean'], ascending=False)\n",
    "\n",
    "    # Select the top n items with the highest mean rating\n",
    "    top_n_anime = similar_users_df_ordered.head(items)\n",
    "    top_n_anime_indices = top_n_anime.index.tolist()\n",
    "\n",
    "    # Retrieve information about the recommended anime from the 'animes' dataset\n",
    "    anime_information = animes[animes['anime_id'].isin(top_n_anime_indices)]\n",
    "\n",
    "    return anime_information\n",
    "\n",
    "recommend_item(226, similar_user_indices, rating_matrix)"
   ]
  },
  {
   "cell_type": "markdown",
   "id": "7fc8170e",
   "metadata": {
    "id": "7fc8170e"
   },
   "source": [
    "__Observation:__\n",
    "\n",
    "- The function successfully generates personalized anime recommendations for a user ID 226 by averaging the ratings of similar users and suggesting titles that the target user has not yet rated."
   ]
  },
  {
   "cell_type": "markdown",
   "id": "a9c4c73d",
   "metadata": {
    "id": "a9c4c73d"
   },
   "source": [
    "### __1.3.1.1.2 Item-Based Collaborative Filtering__\n",
    "\n",
    "Item-based collaborative filtering is a recommendation technique that suggests items to users based on the similarity between items rather than the similarity between users. It operates on the assumption that if a user has interacted positively with certain items in the past, they will likely interact positively with similar items in the future.\n",
    "\n"
   ]
  },
  {
   "cell_type": "markdown",
   "id": "Ayd_FeJOB0BS",
   "metadata": {
    "id": "Ayd_FeJOB0BS"
   },
   "source": [
    "The similarity between two items, \\(i\\) and \\(j\\), can be quantified using cosine similarity, which is particularly useful in item-based collaborative filtering. The formula for cosine similarity is as follows:\n",
    "\n",
    "$$\n",
    "\\text{similarity}(i, j) = \\cos(\\theta) = \\frac{\\sum_{u \\in U} r_{u,i} \\cdot r_{u,j}}{\\sqrt{\\sum_{u \\in U} r_{u,i}^2} \\cdot \\sqrt{\\sum_{u \\in U} r_{u,j}^2}}\n",
    "$$\n",
    "\n",
    "Where:\n",
    "\n",
    "$$\n",
    "\\begin{align*}\n",
    "&\\bullet \\, r_{u,i} \\text{ and } r_{u,j} \\text{ are ratings given by user } u \\text{ to items } i \\text{ and } j. \\\\\n",
    "&\\bullet \\, U \\text{ is the set of users who have rated both items.} \\\\\n",
    "&\\bullet \\, \\theta \\text{ is the angle between the rating vectors of items } i \\text{ and } j, \\text{ where a smaller angle indicates a higher similarity.}\n",
    "\\end{align*}\n",
    "$$\n",
    "\n",
    "This approach calculates the cosine of the angle between the two items' rating vectors, effectively measuring their similarity based on the ratings they have received from users.\n",
    "\n",
    "### Predicting User Ratings for Item-Based Collaborative Filtering\n",
    "\n",
    "\n"
   ]
  },
  {
   "cell_type": "markdown",
   "id": "UFJdlLzmB6Qj",
   "metadata": {
    "id": "UFJdlLzmB6Qj"
   },
   "source": [
    "To predict the rating that a user \\(u\\) would give to an item \\(i\\) using item-based collaborative filtering, we use the weighted sum of the user's ratings for similar items:\n",
    "\n",
    "$$\n",
    "\\hat{r}_{u,i} = \\frac{\\sum_{j \\in S} \\text{sim}(i, j) \\cdot r_{u,j}}{\\sum_{j \\in S} |\\text{sim}(i, j)|}\n",
    "$$\n",
    "\n",
    "Where:\n",
    "\n",
    "$$\n",
    "\\begin{align*}\n",
    "&\\bullet \\, \\hat{r}_{u,i} \\text{ is the predicted rating for user } u \\text{ on item } i. \\\\\n",
    "&\\bullet \\, S \\text{ is the set of items rated by user } u \\text{ that are similar to item } i. \\\\\n",
    "&\\bullet \\, \\text{sim}(i, j) \\text{ is the similarity between item } i \\text{ and item } j. \\\\\n",
    "&\\bullet \\, r_{u,j} \\text{ is the rating of user } u \\text{ for item } j.\n",
    "\\end{align*}\n",
    "$$"
   ]
  },
  {
   "cell_type": "markdown",
   "id": "a7a8d99d",
   "metadata": {
    "id": "a7a8d99d"
   },
   "source": [
    "__Example:__"
   ]
  },
  {
   "cell_type": "code",
   "execution_count": 85,
   "id": "16827988",
   "metadata": {
    "id": "16827988"
   },
   "outputs": [],
   "source": [
    "# Import the pandas library for data manipulation\n",
    "import pandas as pd\n",
    "\n",
    "# Import the cosine_similarity function from the sklearn.metrics.pairwise module\n",
    "from sklearn.metrics.pairwise import cosine_similarity"
   ]
  },
  {
   "cell_type": "markdown",
   "id": "d977f1f5",
   "metadata": {
    "id": "d977f1f5"
   },
   "source": [
    "- Create a dictionary with users and their ratings for different web series."
   ]
  },
  {
   "cell_type": "code",
   "execution_count": 86,
   "id": "b23ac669",
   "metadata": {
    "id": "b23ac669"
   },
   "outputs": [],
   "source": [
    "# Define the dataset representing ratings given by users to various TV shows\n",
    "dataset = {\n",
    "    'user1': {'Mindhunter': 5, 'You': 3, 'Dexter': 3, 'Mr. Robot': 3, 'True Detective': 2, 'Twin Peaks': 3},\n",
    "    'user2': {'Mindhunter': 5, 'You': 3, 'Mr. Robot': 5, 'Dexter': 5, 'Twin Peaks': 3, 'True Detective': 3},\n",
    "    'user3': {'Mindhunter': 2, 'Dexter': 5, 'Mr. Robot': 3, 'Twin Peaks': 4},\n",
    "    'user4': {'Dexter': 5, 'Twin Peaks': 4, 'Mr. Robot': 4},\n",
    "    'user5': {'Mindhunter': 4, 'You': 4, 'Dexter': 4, 'Twin Peaks': 3, 'True Detective': 2},\n",
    "    'user6': {'Mindhunter': 3, 'Dexter': 4, 'Twin Peaks': 3, 'Mr. Robot': 5, 'True Detective': 3},\n",
    "    'user7': {'Dexter': 4, 'True Detective': 1, 'Mr. Robot': 4}\n",
    "}"
   ]
  },
  {
   "cell_type": "markdown",
   "id": "93192798",
   "metadata": {
    "id": "93192798"
   },
   "source": [
    "__Observation:__\n",
    "- The dataset is based on the number of users, the web series they watched, and the rating given by them."
   ]
  },
  {
   "cell_type": "code",
   "execution_count": 87,
   "id": "1b73c31d",
   "metadata": {
    "colab": {
     "base_uri": "https://localhost:8080/",
     "height": 238
    },
    "executionInfo": {
     "elapsed": 510,
     "status": "ok",
     "timestamp": 1718706553255,
     "user": {
      "displayName": "Kunal Guwalani",
      "userId": "06540083485482537728"
     },
     "user_tz": -330
    },
    "id": "1b73c31d",
    "outputId": "78e7f6e4-b9a3-485a-def8-ae0a27863edb"
   },
   "outputs": [
    {
     "name": "stderr",
     "output_type": "stream",
     "text": [
      "C:\\Users\\jbenton\\AppData\\Local\\Temp\\ipykernel_22440\\635979391.py:5: FutureWarning: Setting an item of incompatible dtype is deprecated and will raise an error in a future version of pandas. Value 'Not Seen Yet' has dtype incompatible with float64, please explicitly cast to a compatible dtype first.\n",
      "  dataset_df.fillna(\"Not Seen Yet\", inplace=True)\n"
     ]
    },
    {
     "data": {
      "text/html": [
       "<div>\n",
       "<style scoped>\n",
       "    .dataframe tbody tr th:only-of-type {\n",
       "        vertical-align: middle;\n",
       "    }\n",
       "\n",
       "    .dataframe tbody tr th {\n",
       "        vertical-align: top;\n",
       "    }\n",
       "\n",
       "    .dataframe thead th {\n",
       "        text-align: right;\n",
       "    }\n",
       "</style>\n",
       "<table border=\"1\" class=\"dataframe\">\n",
       "  <thead>\n",
       "    <tr style=\"text-align: right;\">\n",
       "      <th></th>\n",
       "      <th>user1</th>\n",
       "      <th>user2</th>\n",
       "      <th>user3</th>\n",
       "      <th>user4</th>\n",
       "      <th>user5</th>\n",
       "      <th>user6</th>\n",
       "      <th>user7</th>\n",
       "    </tr>\n",
       "  </thead>\n",
       "  <tbody>\n",
       "    <tr>\n",
       "      <th>Mindhunter</th>\n",
       "      <td>5</td>\n",
       "      <td>5</td>\n",
       "      <td>2.0</td>\n",
       "      <td>Not Seen Yet</td>\n",
       "      <td>4.0</td>\n",
       "      <td>3.0</td>\n",
       "      <td>Not Seen Yet</td>\n",
       "    </tr>\n",
       "    <tr>\n",
       "      <th>You</th>\n",
       "      <td>3</td>\n",
       "      <td>3</td>\n",
       "      <td>Not Seen Yet</td>\n",
       "      <td>Not Seen Yet</td>\n",
       "      <td>4.0</td>\n",
       "      <td>Not Seen Yet</td>\n",
       "      <td>Not Seen Yet</td>\n",
       "    </tr>\n",
       "    <tr>\n",
       "      <th>Dexter</th>\n",
       "      <td>3</td>\n",
       "      <td>5</td>\n",
       "      <td>5.0</td>\n",
       "      <td>5.0</td>\n",
       "      <td>4.0</td>\n",
       "      <td>4.0</td>\n",
       "      <td>4.0</td>\n",
       "    </tr>\n",
       "    <tr>\n",
       "      <th>Mr. Robot</th>\n",
       "      <td>3</td>\n",
       "      <td>5</td>\n",
       "      <td>3.0</td>\n",
       "      <td>4.0</td>\n",
       "      <td>Not Seen Yet</td>\n",
       "      <td>5.0</td>\n",
       "      <td>4.0</td>\n",
       "    </tr>\n",
       "    <tr>\n",
       "      <th>True Detective</th>\n",
       "      <td>2</td>\n",
       "      <td>3</td>\n",
       "      <td>Not Seen Yet</td>\n",
       "      <td>Not Seen Yet</td>\n",
       "      <td>2.0</td>\n",
       "      <td>3.0</td>\n",
       "      <td>1.0</td>\n",
       "    </tr>\n",
       "    <tr>\n",
       "      <th>Twin Peaks</th>\n",
       "      <td>3</td>\n",
       "      <td>3</td>\n",
       "      <td>4.0</td>\n",
       "      <td>4.0</td>\n",
       "      <td>3.0</td>\n",
       "      <td>3.0</td>\n",
       "      <td>Not Seen Yet</td>\n",
       "    </tr>\n",
       "  </tbody>\n",
       "</table>\n",
       "</div>"
      ],
      "text/plain": [
       "                user1  user2         user3         user4         user5  \\\n",
       "Mindhunter          5      5           2.0  Not Seen Yet           4.0   \n",
       "You                 3      3  Not Seen Yet  Not Seen Yet           4.0   \n",
       "Dexter              3      5           5.0           5.0           4.0   \n",
       "Mr. Robot           3      5           3.0           4.0  Not Seen Yet   \n",
       "True Detective      2      3  Not Seen Yet  Not Seen Yet           2.0   \n",
       "Twin Peaks          3      3           4.0           4.0           3.0   \n",
       "\n",
       "                       user6         user7  \n",
       "Mindhunter               3.0  Not Seen Yet  \n",
       "You             Not Seen Yet  Not Seen Yet  \n",
       "Dexter                   4.0           4.0  \n",
       "Mr. Robot                5.0           4.0  \n",
       "True Detective           3.0           1.0  \n",
       "Twin Peaks               3.0  Not Seen Yet  "
      ]
     },
     "execution_count": 87,
     "metadata": {},
     "output_type": "execute_result"
    }
   ],
   "source": [
    "# Convert the dataset dictionary to a DataFrame\n",
    "dataset_df = pd.DataFrame(dataset)\n",
    "\n",
    "# Fill missing values (NaN) with \"Not Seen Yet\"\n",
    "dataset_df.fillna(\"Not Seen Yet\", inplace=True)\n",
    "\n",
    "# Display the DataFrame\n",
    "dataset_df"
   ]
  },
  {
   "cell_type": "markdown",
   "id": "09a535e6",
   "metadata": {
    "id": "09a535e6"
   },
   "source": [
    "Create a custom function to get the unique web series in the dataset."
   ]
  },
  {
   "cell_type": "code",
   "execution_count": 88,
   "id": "f4b920b3",
   "metadata": {
    "id": "f4b920b3"
   },
   "outputs": [],
   "source": [
    "def unique_items():\n",
    "    # Initialize an empty list to store unique items\n",
    "    unique_items_list = []\n",
    "\n",
    "    # Iterate through each person in the dataset\n",
    "    for person in dataset.keys():\n",
    "        # Iterate through the items rated by each person\n",
    "        for items in dataset[person]:\n",
    "            # Append each item to the unique_items_list\n",
    "            unique_items_list.append(items)\n",
    "\n",
    "    # Convert the list to a set to remove duplicates\n",
    "    s = set(unique_items_list)\n",
    "\n",
    "    # Convert the set back to a list to maintain the order of items\n",
    "    unique_items_list = list(s)\n",
    "\n",
    "    # Return the list of unique items\n",
    "    return unique_items_list"
   ]
  },
  {
   "cell_type": "code",
   "execution_count": 89,
   "id": "b2e95c97",
   "metadata": {
    "colab": {
     "base_uri": "https://localhost:8080/"
    },
    "id": "b2e95c97",
    "outputId": "1ae6d9f1-f83f-4601-bdd9-7cae8dbc40f0"
   },
   "outputs": [
    {
     "data": {
      "text/plain": [
       "['Dexter', 'Mr. Robot', 'Twin Peaks', 'True Detective', 'Mindhunter', 'You']"
      ]
     },
     "execution_count": 89,
     "metadata": {},
     "output_type": "execute_result"
    }
   ],
   "source": [
    "# Call the unique_items() function to obtain a list of unique items present in the dataset\n",
    "unique_items()"
   ]
  },
  {
   "cell_type": "markdown",
   "id": "4638acaa",
   "metadata": {
    "id": "4638acaa"
   },
   "source": [
    "Define a function that determines the similarity between two items based on their ratings. This function iterates through the dataset to identify individuals' common ratings for both items. It then calculates the cosine similarity between the ratings of item 1 and item 2."
   ]
  },
  {
   "cell_type": "code",
   "execution_count": 90,
   "id": "8d4a2c8a",
   "metadata": {
    "id": "8d4a2c8a"
   },
   "outputs": [],
   "source": [
    "def item_similarity(item1, item2):\n",
    "    # Initialize a dictionary to store ratings of both items by common users\n",
    "    both_rated = {}\n",
    "\n",
    "    # Iterate through each person in the dataset\n",
    "    for person in dataset.keys():\n",
    "        # Check if both items are rated by the current person\n",
    "        if item1 in dataset[person] and item2 in dataset[person]:\n",
    "            # Store the ratings of both items by the current person\n",
    "            both_rated[person] = [dataset[person][item1], dataset[person][item2]]\n",
    "\n",
    "    # Calculate the number of ratings both items share\n",
    "    number_of_ratings = len(both_rated)\n",
    "\n",
    "    # If there are no common ratings, return 0 (indicating no similarity)\n",
    "    if number_of_ratings == 0:\n",
    "        return 0\n",
    "\n",
    "    # Extract ratings of item1 and item2 by common users\n",
    "    item1_ratings = [[dataset[k][item1] for k, v in both_rated.items() if item1 in dataset[k] and item2 in dataset[k]]]\n",
    "    item2_ratings = [[dataset[k][item2] for k, v in both_rated.items() if item1 in dataset[k] and item2 in dataset[k]]]\n",
    "\n",
    "    # Calculate cosine similarity between item1 and item2 ratings\n",
    "    cs = cosine_similarity(item1_ratings, item2_ratings)\n",
    "\n",
    "    # Return the cosine similarity score\n",
    "    return cs[0][0]"
   ]
  },
  {
   "cell_type": "code",
   "execution_count": 91,
   "id": "63d93a9f",
   "metadata": {
    "colab": {
     "base_uri": "https://localhost:8080/"
    },
    "executionInfo": {
     "elapsed": 407,
     "status": "ok",
     "timestamp": 1718706797069,
     "user": {
      "displayName": "Kunal Guwalani",
      "userId": "06540083485482537728"
     },
     "user_tz": -330
    },
    "id": "63d93a9f",
    "outputId": "1e6dd566-3889-4d43-d6b0-a9847123e417"
   },
   "outputs": [
    {
     "name": "stdout",
     "output_type": "stream",
     "text": [
      "Cosine Similarity: 0.9749005254295223\n"
     ]
    }
   ],
   "source": [
    "# Print the cosine similarity between 'Dexter' and 'Mr. Robot' based on their ratings\n",
    "print(\"Cosine Similarity:\", item_similarity('Dexter', 'Mr. Robot'))"
   ]
  },
  {
   "cell_type": "markdown",
   "id": "0e08195e",
   "metadata": {
    "id": "0e08195e"
   },
   "source": [
    "Define a function to determine similar items to a specified target item. This function calculates the similarity scores between the target item and all other items in the dataset. Then, it sorts these similarity scores in descending order and returns the sorted list."
   ]
  },
  {
   "cell_type": "code",
   "execution_count": 92,
   "id": "ae4024c3",
   "metadata": {
    "id": "ae4024c3"
   },
   "outputs": [],
   "source": [
    "def most_similar_items(target_item):\n",
    "    # Obtain a list of all unique items\n",
    "    un_lst = unique_items()\n",
    "\n",
    "    # Calculate similarity scores between the target item and all other items\n",
    "    scores = [(item_similarity(target_item, other_item), target_item + \" --> \" + other_item) for other_item in un_lst if other_item != target_item]\n",
    "\n",
    "    # Sort the similarity scores in descending order\n",
    "    scores.sort(reverse=True)\n",
    "\n",
    "    # Return the sorted similarity scores\n",
    "    return scores"
   ]
  },
  {
   "cell_type": "code",
   "execution_count": 93,
   "id": "2745fac0",
   "metadata": {
    "colab": {
     "base_uri": "https://localhost:8080/"
    },
    "id": "2745fac0",
    "outputId": "e4d10833-a3cc-47b7-d33c-93ef27d91260"
   },
   "outputs": [
    {
     "name": "stdout",
     "output_type": "stream",
     "text": [
      "[(np.float64(0.990830168044299), 'Dexter --> Twin Peaks'), (np.float64(0.9749005254295223), 'Dexter --> Mr. Robot'), (np.float64(0.9701425001453318), 'Dexter --> You'), (np.float64(0.9563650695950073), 'Dexter --> True Detective'), (np.float64(0.9199418174856335), 'Dexter --> Mindhunter')]\n"
     ]
    }
   ],
   "source": [
    "# Print the most similar items to 'Dexter' based on their similarity scores\n",
    "print(most_similar_items('Dexter'))"
   ]
  },
  {
   "cell_type": "markdown",
   "id": "d7b8a64a",
   "metadata": {
    "id": "d7b8a64a"
   },
   "source": [
    "Define a function to recommend movies to a target user by identifying the movies they have not rated. The function collects the movies rated by the target user and calculates the set difference between all movies and the ones rated by the target user. It returns the list of recommended movies along with the list of movies rated by the target user."
   ]
  },
  {
   "cell_type": "code",
   "execution_count": 94,
   "id": "52097b6f",
   "metadata": {
    "id": "52097b6f"
   },
   "outputs": [],
   "source": [
    "def target_shows_to_users(target_person):\n",
    "    # Initialize a list to store tv shows rated by the target person\n",
    "    target_person_show_lst = []\n",
    "\n",
    "    # Obtain a list of all unique items (movies)\n",
    "    unique_list = unique_items()\n",
    "\n",
    "    # Collect tv sows rated by the target person\n",
    "    for shows in dataset[target_person]:\n",
    "        target_person_show_lst.append(shows)\n",
    "\n",
    "    # Convert the unique item list to a set to perform set difference operation\n",
    "    s = set(unique_list)\n",
    "\n",
    "    # Get the list of recommended tv shows by finding the set difference between all tv shows and those rated by the target person\n",
    "    recommended_shows = list(s.difference(target_person_show_lst))\n",
    "\n",
    "    # Calculate the number of recommended tv shows\n",
    "    a = len(recommended_shows)\n",
    "\n",
    "    # If there are no recommended tv shows, return 0\n",
    "    if a == 0:\n",
    "        return 0\n",
    "\n",
    "    # Otherwise, return the list of recommended tv shows and the list of tv shows rated by the target person\n",
    "    return recommended_shows, target_person_show_lst"
   ]
  },
  {
   "cell_type": "markdown",
   "id": "ba7db86b",
   "metadata": {
    "id": "ba7db86b"
   },
   "source": [
    "- The `target_shows_to_users` function is utilized to retrieve the lists of unseen and seen movies for user `user7`. Subsequently, a dictionary is generated to store these unseen and seen movies and then converted into a DataFrame for enhanced visualization."
   ]
  },
  {
   "cell_type": "code",
   "execution_count": 95,
   "id": "4cdbc484",
   "metadata": {
    "colab": {
     "base_uri": "https://localhost:8080/",
     "height": 143
    },
    "executionInfo": {
     "elapsed": 437,
     "status": "ok",
     "timestamp": 1718706815059,
     "user": {
      "displayName": "Kunal Guwalani",
      "userId": "06540083485482537728"
     },
     "user_tz": -330
    },
    "id": "4cdbc484",
    "outputId": "6e2bfa68-e2b5-4c0c-9d63-656984defa2c"
   },
   "outputs": [
    {
     "data": {
      "text/html": [
       "<div>\n",
       "<style scoped>\n",
       "    .dataframe tbody tr th:only-of-type {\n",
       "        vertical-align: middle;\n",
       "    }\n",
       "\n",
       "    .dataframe tbody tr th {\n",
       "        vertical-align: top;\n",
       "    }\n",
       "\n",
       "    .dataframe thead th {\n",
       "        text-align: right;\n",
       "    }\n",
       "</style>\n",
       "<table border=\"1\" class=\"dataframe\">\n",
       "  <thead>\n",
       "    <tr style=\"text-align: right;\">\n",
       "      <th></th>\n",
       "      <th>Seen Shows</th>\n",
       "      <th>Unseen Shows</th>\n",
       "    </tr>\n",
       "  </thead>\n",
       "  <tbody>\n",
       "    <tr>\n",
       "      <th>0</th>\n",
       "      <td>Dexter</td>\n",
       "      <td>Mindhunter</td>\n",
       "    </tr>\n",
       "    <tr>\n",
       "      <th>1</th>\n",
       "      <td>True Detective</td>\n",
       "      <td>Twin Peaks</td>\n",
       "    </tr>\n",
       "    <tr>\n",
       "      <th>2</th>\n",
       "      <td>Mr. Robot</td>\n",
       "      <td>You</td>\n",
       "    </tr>\n",
       "  </tbody>\n",
       "</table>\n",
       "</div>"
      ],
      "text/plain": [
       "       Seen Shows Unseen Shows\n",
       "0          Dexter   Mindhunter\n",
       "1  True Detective   Twin Peaks\n",
       "2       Mr. Robot          You"
      ]
     },
     "execution_count": 95,
     "metadata": {},
     "output_type": "execute_result"
    }
   ],
   "source": [
    "# Obtain lists of unseen and seen tv shows for user 'user7' using the target_shows_to_users function\n",
    "unseen_shows, seen_shows = target_shows_to_users('user7')\n",
    "\n",
    "# Create a dictionary to store unseen and seen movies\n",
    "dct = {\"Seen Shows\": seen_shows, \"Unseen Shows\": unseen_shows}\n",
    "\n",
    "# Convert the dictionary to a DataFrame for better visualization\n",
    "pd.DataFrame(dct)"
   ]
  },
  {
   "cell_type": "markdown",
   "id": "68ddb7fc",
   "metadata": {
    "id": "68ddb7fc"
   },
   "source": [
    "__Observation:__\n",
    "- The provided output displays TV shows that `user7` has already watched alongside those they have not, suggesting potential new interests."
   ]
  },
  {
   "cell_type": "markdown",
   "id": "47b069d9",
   "metadata": {
    "id": "47b069d9"
   },
   "source": [
    "This code functions as an item-based recommendation system, leveraging user\n",
    "ratings to compute how similar various TV shows are and then recommending new but similar shows to an individual user through collaborative filtering techniques."
   ]
  },
  {
   "cell_type": "markdown",
   "id": "1ea67c7c",
   "metadata": {
    "id": "1ea67c7c"
   },
   "source": [
    "## __1.3.1.2 Model-Based Collaborative Filtering__\n",
    "\n",
    "Model-based collaborative filtering is an advanced approach within the realm of recommendation systems. It leverages mathematical and statistical models to predict a user's preferences for items (e.g., movies, products, and articles) based on past interactions.\n",
    "\n",
    "Unlike memory-based collaborative filtering, which directly uses the entire user-item interaction database to find similarities and make recommendations, model-based collaborative filtering involves constructing predictive models. These models are trained on existing data to uncover underlying patterns and relationships, enabling the prediction of how a user might rate or interact with items they haven't encountered yet."
   ]
  },
  {
   "cell_type": "markdown",
   "id": "3f066c7d",
   "metadata": {
    "id": "3f066c7d"
   },
   "source": [
    "### __Matrix factorization :__\n",
    "\n",
    "- A popular technique in model-based collaborative filtering. Matrix factorization models work by decomposing the __user-item interaction matrix__ into lower-dimensional matrices, often representing __latent factors__ associated with users and items.\n",
    "\n",
    "__Example:__ In a movie recommendation system, latent factors might correspond to genres or themes like action, comedy, or drama."
   ]
  },
  {
   "cell_type": "code",
   "execution_count": 96,
   "id": "7c8bd8f3",
   "metadata": {
    "id": "7c8bd8f3"
   },
   "outputs": [],
   "source": [
    "# Make sure Numpy is imported\n",
    "import numpy as np"
   ]
  },
  {
   "cell_type": "markdown",
   "id": "e0c8d8c2",
   "metadata": {
    "id": "e0c8d8c2"
   },
   "source": [
    "- Define the matrix factorization function.\n",
    "\n",
    "- Start with matrices R, P, Q, and parameters K, steps = 5000, alpha, and beta.\n",
    "\n"
   ]
  },
  {
   "cell_type": "markdown",
   "id": "eInSuqGrBRck",
   "metadata": {
    "id": "eInSuqGrBRck"
   },
   "source": [
    "__R:__ This is the original rating matrix that contains the user-item interactions, or ratings. It's a 2D matrix where rows represent users and columns represent items. Each entry in this matrix represents the rating given by a user to an item. In collaborative filtering, this matrix is often sparse, as most users only rate a subset of items.\n",
    "\n"
   ]
  },
  {
   "cell_type": "markdown",
   "id": "-5p3vHHFBVmu",
   "metadata": {
    "id": "-5p3vHHFBVmu"
   },
   "source": [
    "__P:__ This matrix represents the latent factors associated with users. It's a 2D matrix where rows correspond to users and columns correspond to latent factors. Each entry in this matrix represents the strength of the association between a user and a latent factor. A latent factor is a hidden characteristic (not observed) that influences ratings. For example, if we were creating a pizza recommender engine, we might observe data like toppings and cheese, but hidden within our user preferences are latent factors such as spicyness and crust texture.\n",
    "\n"
   ]
  },
  {
   "cell_type": "markdown",
   "id": "4JEJHs5eBYgk",
   "metadata": {
    "id": "4JEJHs5eBYgk"
   },
   "source": [
    "__Q:__ This matrix represents the latent factors associated with items. It's also a 2D matrix where rows correspond to latent factors and columns correspond to items. Each entry in this matrix represents the strength of the association between a latent factor and an item.\n",
    "\n"
   ]
  },
  {
   "cell_type": "markdown",
   "id": "uoqsVtrhBbDo",
   "metadata": {
    "id": "uoqsVtrhBbDo"
   },
   "source": [
    "__K:__ This parameter represents the number of latent factors to consider during matrix factorization. It determines the dimensionality of the latent factor space. A higher value of K allows for a more complex representation of the interactions between users and items but may also lead to overfitting. Typically, K is chosen based on cross-validation or other model selection techniques.\n",
    "\n"
   ]
  },
  {
   "cell_type": "markdown",
   "id": "tEQM7aQsBeak",
   "metadata": {
    "id": "tEQM7aQsBeak"
   },
   "source": [
    "__Alpha (α):__ This serves as the learning rate in gradient descent, determining the magnitude of parameter updates. A higher α can lead to quicker convergence but may also cause overshooting of the optimal solution.\n",
    "\n"
   ]
  },
  {
   "cell_type": "markdown",
   "id": "edW1xMc9BhAn",
   "metadata": {
    "id": "edW1xMc9BhAn"
   },
   "source": [
    "__Beta (β):__ This acts as the regularization strength, mitigating overfitting by penalizing large parameter values. Increasing β enhances the penalty for large parameters, aiding in preventing overfitting of the model.\n",
    "\n"
   ]
  },
  {
   "cell_type": "markdown",
   "id": "FeKa2zBqBi2P",
   "metadata": {
    "id": "FeKa2zBqBi2P"
   },
   "source": [
    "The goal of matrix factorization is to find the optimal values of P and Q. Their product should approximate R, capturing the underlying patterns in user-item interactions."
   ]
  },
  {
   "cell_type": "code",
   "execution_count": 97,
   "id": "97b4d262",
   "metadata": {
    "id": "97b4d262"
   },
   "outputs": [],
   "source": [
    "def matrix_factorization(R, P, Q, K, steps=5000, alpha=0.0002, beta=0.02):\n",
    "    # Transpose Q matrix to match dimensions for matrix multiplication\n",
    "    Q = Q.T\n",
    "\n",
    "    # Iterate through the specified number of steps\n",
    "    for step in range(steps):\n",
    "        # Iterate through each element of the rating matrix R\n",
    "        for i in range(len(R)):\n",
    "            for j in range(len(R[i])):\n",
    "                # Check if the rating is non-zero\n",
    "                if R[i][j] > 0:\n",
    "                    # Calculate error between actual and predicted rating\n",
    "                    eij = R[i][j] - np.dot(P[i, :], Q[:, j])\n",
    "\n",
    "                    # Update P and Q matrices using gradient descent\n",
    "                    for k in range(K):\n",
    "                        P[i][k] += alpha * (2 * eij * Q[k][j] - beta * P[i][k])\n",
    "                        Q[k][j] += alpha * (2 * eij * P[i][k] - beta * Q[k][j])\n",
    "\n",
    "        # Compute the total error\n",
    "        e = 0\n",
    "        for i in range(len(R)):\n",
    "            for j in range(len(R[i])):\n",
    "                if R[i][j] > 0:\n",
    "                    e += pow(R[i][j] - np.dot(P[i, :], Q[:, j]), 2)\n",
    "                    for k in range(K):\n",
    "                        e += (beta / 2) * (pow(P[i][k], 2) + pow(Q[k][j], 2))\n",
    "\n",
    "        # Print the error at every 1000 steps\n",
    "        if step % 1000 == 0:\n",
    "            print(f'Step {step}, Error: {e:.4f}')\n",
    "\n",
    "        # Check if error is below the specified threshold\n",
    "        if e < 0.001:\n",
    "            break\n",
    "\n",
    "    # Return the updated P and Q matrices\n",
    "    return P, Q.T\n"
   ]
  },
  {
   "cell_type": "markdown",
   "id": "0114a598",
   "metadata": {
    "id": "0114a598"
   },
   "source": [
    "__Observation:__\n",
    "- This matrix factorization function predicts missing user-item interactions by decomposing the rating matrix \\(R\\) into two matrices, \\(P\\) (user features) and \\(Q\\) (item features). It uses gradient descent to minimize the error between actual and predicted ratings, with regularization to prevent overfitting. The function iterates until the total error is below a threshold or the maximum number of steps is reached, returning the optimized \\(P\\) and \\(Q\\) matrices."
   ]
  },
  {
   "cell_type": "markdown",
   "id": "067d77d1",
   "metadata": {
    "id": "067d77d1"
   },
   "source": [
    "Define the input matrix and parameters."
   ]
  },
  {
   "cell_type": "code",
   "execution_count": 98,
   "id": "ff05d7d2",
   "metadata": {
    "colab": {
     "base_uri": "https://localhost:8080/"
    },
    "executionInfo": {
     "elapsed": 729,
     "status": "ok",
     "timestamp": 1718706848796,
     "user": {
      "displayName": "Kunal Guwalani",
      "userId": "06540083485482537728"
     },
     "user_tz": -330
    },
    "id": "ff05d7d2",
    "outputId": "0503a30c-d69d-4e19-ee89-7ab81ac233e4"
   },
   "outputs": [
    {
     "name": "stdout",
     "output_type": "stream",
     "text": [
      "R (Rating matrix):\n",
      "[[5 3 0 1]\n",
      " [4 0 0 1]\n",
      " [1 1 0 5]\n",
      " [1 0 0 4]\n",
      " [0 1 5 4]]\n",
      "\n",
      "P (User latent factor matrix):\n",
      "[[0.53427574 0.63615047]\n",
      " [0.19450337 0.40052202]\n",
      " [0.5622116  0.01041712]\n",
      " [0.51614176 0.76804597]\n",
      " [0.73844549 0.99182185]]\n",
      "\n",
      "Q (Item latent factor matrix):\n",
      "[[0.86870269 0.1525134 ]\n",
      " [0.15925597 0.67298415]\n",
      " [0.33629579 0.56064579]\n",
      " [0.87323803 0.48305495]]\n"
     ]
    }
   ],
   "source": [
    "import numpy as np\n",
    "\n",
    "# Define the original rating matrix R\n",
    "R = [\n",
    "     [5, 3, 0, 1],\n",
    "     [4, 0, 0, 1],\n",
    "     [1, 1, 0, 5],\n",
    "     [1, 0, 0, 4],\n",
    "     [0, 1, 5, 4],\n",
    "    ]\n",
    "\n",
    "# Convert R into a NumPy array\n",
    "R = np.array(R)\n",
    "\n",
    "# Determine the number of users (N) and items (M)\n",
    "N = len(R)\n",
    "M = len(R[0])\n",
    "\n",
    "# Specify the number of latent factors (K) for matrix factorization\n",
    "K = 2\n",
    "\n",
    "# Initialize matrices P and Q with random values\n",
    "P = np.random.rand(N, K)  # Matrix representing user latent factors\n",
    "Q = np.random.rand(M, K)  # Matrix representing item latent factors\n",
    "\n",
    "# Print initialized matrices for verification\n",
    "print(\"R (Rating matrix):\")\n",
    "print(R)\n",
    "print(\"\\nP (User latent factor matrix):\")\n",
    "print(P)\n",
    "print(\"\\nQ (Item latent factor matrix):\")\n",
    "print(Q)\n"
   ]
  },
  {
   "cell_type": "markdown",
   "id": "0aa01b21",
   "metadata": {
    "id": "0aa01b21"
   },
   "source": [
    "Perform matrix factorization and calculate the approximated matrix."
   ]
  },
  {
   "cell_type": "code",
   "execution_count": 99,
   "id": "6fc1ea73",
   "metadata": {
    "colab": {
     "base_uri": "https://localhost:8080/"
    },
    "executionInfo": {
     "elapsed": 1077,
     "status": "ok",
     "timestamp": 1718706853108,
     "user": {
      "displayName": "Kunal Guwalani",
      "userId": "06540083485482537728"
     },
     "user_tz": -330
    },
    "id": "6fc1ea73",
    "outputId": "8db8ff43-8c4d-4222-a66e-9313a97c1578"
   },
   "outputs": [
    {
     "name": "stdout",
     "output_type": "stream",
     "text": [
      "Step 0, Error: 98.1222\n",
      "Step 1000, Error: 28.2726\n",
      "Step 2000, Error: 8.4064\n",
      "Step 3000, Error: 2.3199\n",
      "Step 4000, Error: 1.8907\n",
      "Reconstructed Rating Matrix (nR):\n",
      "[[5.05190077 2.76648854 5.87384372 0.99773949]\n",
      " [3.91919231 2.14730001 4.66525528 1.00115251]\n",
      " [1.12429081 0.63861746 3.57269645 4.96820493]\n",
      " [0.94058627 0.53340752 2.90376284 3.97799131]\n",
      " [2.7356666  1.51491825 4.84284058 4.02232845]]\n"
     ]
    }
   ],
   "source": [
    "# Perform matrix factorization to optimize matrices P and Q\n",
    "nP, nQ = matrix_factorization(R, P, Q, K)\n",
    "\n",
    "# Reconstruct the rating matrix using optimized matrices P and Q\n",
    "nR = np.dot(nP, nQ.T)\n",
    "\n",
    "# Print the reconstructed rating matrix\n",
    "print(\"Reconstructed Rating Matrix (nR):\")\n",
    "print(nR)\n"
   ]
  },
  {
   "cell_type": "code",
   "execution_count": 100,
   "id": "e59faa99",
   "metadata": {
    "colab": {
     "base_uri": "https://localhost:8080/",
     "height": 484
    },
    "executionInfo": {
     "elapsed": 1313,
     "status": "ok",
     "timestamp": 1718706858837,
     "user": {
      "displayName": "Kunal Guwalani",
      "userId": "06540083485482537728"
     },
     "user_tz": -330
    },
    "id": "e59faa99",
    "outputId": "3a83743d-73ec-4ee6-9f59-f134654693ed"
   },
   "outputs": [
    {
     "data": {
      "image/png": "[encoded data removed]",
      "text/plain": [
       "<Figure size 1400x700 with 2 Axes>"
      ]
     },
     "metadata": {},
     "output_type": "display_data"
    }
   ],
   "source": [
    "# Plotting the original and approximated matrices\n",
    "fig, axs = plt.subplots(1, 2, figsize=(14, 7))\n",
    "\n",
    "sns.heatmap(R, annot=True, fmt=\"g\", cmap='viridis', ax=axs[0], cbar=False)\n",
    "axs[0].set_title('Original Matrix R')\n",
    "axs[0].set_xlabel('Items')\n",
    "axs[0].set_ylabel('Users')\n",
    "\n",
    "sns.heatmap(nR, annot=True, fmt=\".2f\", cmap='viridis', ax=axs[1], cbar=False)\n",
    "axs[1].set_title('Approximated Matrix nR')\n",
    "axs[1].set_xlabel('Items')\n",
    "axs[1].set_ylabel('Users')\n",
    "\n",
    "plt.tight_layout()\n",
    "plt.show()"
   ]
  },
  {
   "cell_type": "markdown",
   "id": "498a09de",
   "metadata": {
    "id": "498a09de"
   },
   "source": [
    "__Observations:__\n",
    "    \n",
    "The heatmap visualization compares the original rating matrix \\( R \\) (left) and the reconstructed rating matrix \\( nR \\) (right) after matrix factorization. The x-axis represents items, and the y-axis represents users. Both heatmaps display the ratings, with color intensity indicating the rating values. This visual comparison helps in understanding how well the matrix factorization has approximated the original user-item interactions."
   ]
  },
  {
   "cell_type": "markdown",
   "id": "dBKeG259wtau",
   "metadata": {
    "id": "dBKeG259wtau"
   },
   "source": [
    "\n",
    "Matrix factorization helps in recommendation systems by decomposing the user-item interaction matrix into latent factors, reducing dimensionality, capturing hidden patterns, and predicting missing ratings to enhance recommendation accuracy. It is further applicable in personalized content recommendations, e-commerce product suggestions, and social network connections."
   ]
  },
  {
   "cell_type": "markdown",
   "id": "Ki6LTJWePXLP",
   "metadata": {
    "id": "Ki6LTJWePXLP"
   },
   "source": [
    "### __Singular Value Decomposition (SVD)__\n"
   ]
  },
  {
   "cell_type": "markdown",
   "id": "lIy50ElePTCo",
   "metadata": {
    "id": "lIy50ElePTCo"
   },
   "source": [
    "Singular Value Decomposition (SVD) is a matrix factorization technique useful in collaborative filtering for recommendation systems.\n"
   ]
  },
  {
   "cell_type": "markdown",
   "id": "Ld8ElEJ1PcHa",
   "metadata": {
    "id": "Ld8ElEJ1PcHa"
   },
   "source": [
    "1. **Matrix Representation**: Collaborative filtering uses a user-item interaction matrix where rows are users, columns are items, and entries are ratings. This matrix is often sparse.\n"
   ]
  },
  {
   "cell_type": "markdown",
   "id": "ga7Gn-ayPfAF",
   "metadata": {
    "id": "ga7Gn-ayPfAF"
   },
   "source": [
    "2. **Factorization**: SVD decomposes the matrix into three matrices:\n",
    "   - **U**: Represents users' relationships with latent factors (rows: users, columns: latent factors).\n",
    "   - **S**: A diagonal matrix with singular values indicating the importance of each latent factor.\n",
    "   - **V^T**: Represents items' relationships with latent factors (columns: items, rows: latent factors).\n"
   ]
  },
  {
   "cell_type": "markdown",
   "id": "FXxctom0Pi7i",
   "metadata": {
    "id": "FXxctom0Pi7i"
   },
   "source": [
    "3. **Reducing Dimensionality**: By truncating the number of singular values, SVD approximates the original matrix with a lower-dimensional representation, handling sparsity and capturing underlying patterns.\n"
   ]
  },
  {
   "cell_type": "markdown",
   "id": "oJWcbJXYPlj8",
   "metadata": {
    "id": "oJWcbJXYPlj8"
   },
   "source": [
    "4. **Reconstruction**: The original matrix is approximately reconstructed by multiplying \\( U \\), \\( S \\), and \\( V^T \\), resulting in predicted ratings.\n"
   ]
  },
  {
   "cell_type": "markdown",
   "id": "yOcBaKZBPsV2",
   "metadata": {
    "id": "yOcBaKZBPsV2"
   },
   "source": [
    "5. **Recommendations**: Recommendations are made by suggesting items with the highest predicted ratings for users, focusing on items they haven't interacted with yet.\n"
   ]
  },
  {
   "cell_type": "markdown",
   "id": "enssWi9QPuq1",
   "metadata": {
    "id": "enssWi9QPuq1"
   },
   "source": [
    "SVD identifies latent factors that explain user-item interactions, enabling recommendation systems to provide personalized suggestions based on past interactions.\n"
   ]
  },
  {
   "cell_type": "markdown",
   "id": "5_UlPVhyUVc8",
   "metadata": {
    "id": "5_UlPVhyUVc8"
   },
   "source": [
    "### Implementing SVD in Collaborative Filtering\n",
    "\n",
    "After understanding the theory behind Singular Value Decomposition (SVD) in collaborative filtering, let's implement this technique to build a recommendation system. We will use the MovieLens100K dataset (`u.data`), which contains 100,000 user ratings for various movies.\n",
    "\n",
    "#### Steps:\n",
    "\n",
    "1. **Import Libraries**: We start by importing the necessary libraries.\n",
    "2. **Load and Preprocess Data**: Load the dataset into a DataFrame, preprocess it by splitting into training and testing sets, and create user-item interaction matrices.\n",
    "3. **Matrix Factorization**: Perform SVD on the training data to decompose it into latent factors.\n",
    "4. **Reconstruction**: Reconstruct the original matrix using the decomposed matrices.\n",
    "5. **Evaluation**: Evaluate the performance of the recommendation system using RMSE.\n"
   ]
  },
  {
   "cell_type": "code",
   "execution_count": 101,
   "id": "41297d6c",
   "metadata": {
    "executionInfo": {
     "elapsed": 433,
     "status": "ok",
     "timestamp": 1718714345427,
     "user": {
      "displayName": "Aleena Raj",
      "userId": "16635257578699511263"
     },
     "user_tz": -330
    },
    "id": "41297d6c"
   },
   "outputs": [],
   "source": [
    "import pandas as pd\n",
    "import numpy as np"
   ]
  },
  {
   "cell_type": "code",
   "execution_count": 102,
   "id": "82f82465",
   "metadata": {
    "colab": {
     "base_uri": "https://localhost:8080/",
     "height": 206
    },
    "executionInfo": {
     "elapsed": 460,
     "status": "ok",
     "timestamp": 1718714349498,
     "user": {
      "displayName": "Aleena Raj",
      "userId": "16635257578699511263"
     },
     "user_tz": -330
    },
    "id": "82f82465",
    "outputId": "4a1bb08e-9f95-4c77-e459-983617891bca"
   },
   "outputs": [
    {
     "data": {
      "text/html": [
       "<div>\n",
       "<style scoped>\n",
       "    .dataframe tbody tr th:only-of-type {\n",
       "        vertical-align: middle;\n",
       "    }\n",
       "\n",
       "    .dataframe tbody tr th {\n",
       "        vertical-align: top;\n",
       "    }\n",
       "\n",
       "    .dataframe thead th {\n",
       "        text-align: right;\n",
       "    }\n",
       "</style>\n",
       "<table border=\"1\" class=\"dataframe\">\n",
       "  <thead>\n",
       "    <tr style=\"text-align: right;\">\n",
       "      <th></th>\n",
       "      <th>user_id</th>\n",
       "      <th>item_id</th>\n",
       "      <th>rating</th>\n",
       "      <th>timestamp</th>\n",
       "    </tr>\n",
       "  </thead>\n",
       "  <tbody>\n",
       "    <tr>\n",
       "      <th>0</th>\n",
       "      <td>196</td>\n",
       "      <td>242</td>\n",
       "      <td>3</td>\n",
       "      <td>881250949</td>\n",
       "    </tr>\n",
       "    <tr>\n",
       "      <th>1</th>\n",
       "      <td>186</td>\n",
       "      <td>302</td>\n",
       "      <td>3</td>\n",
       "      <td>891717742</td>\n",
       "    </tr>\n",
       "    <tr>\n",
       "      <th>2</th>\n",
       "      <td>22</td>\n",
       "      <td>377</td>\n",
       "      <td>1</td>\n",
       "      <td>878887116</td>\n",
       "    </tr>\n",
       "    <tr>\n",
       "      <th>3</th>\n",
       "      <td>244</td>\n",
       "      <td>51</td>\n",
       "      <td>2</td>\n",
       "      <td>880606923</td>\n",
       "    </tr>\n",
       "    <tr>\n",
       "      <th>4</th>\n",
       "      <td>166</td>\n",
       "      <td>346</td>\n",
       "      <td>1</td>\n",
       "      <td>886397596</td>\n",
       "    </tr>\n",
       "  </tbody>\n",
       "</table>\n",
       "</div>"
      ],
      "text/plain": [
       "   user_id  item_id  rating  timestamp\n",
       "0      196      242       3  881250949\n",
       "1      186      302       3  891717742\n",
       "2       22      377       1  878887116\n",
       "3      244       51       2  880606923\n",
       "4      166      346       1  886397596"
      ]
     },
     "execution_count": 102,
     "metadata": {},
     "output_type": "execute_result"
    }
   ],
   "source": [
    "# Define the column names for the DataFrame\n",
    "header = ['user_id', 'item_id', 'rating', 'timestamp']\n",
    "\n",
    "# Read the data from the file 'u.data' into a DataFrame using pandas\n",
    "# The data is tab-separated ('\\t'), and column names are provided by 'header'\n",
    "df = pd.read_csv('u.data', sep='\\t', names=header)\n",
    "\n",
    "# Display the first few rows of the DataFrame to check the data\n",
    "df.head()\n"
   ]
  },
  {
   "cell_type": "code",
   "execution_count": 104,
   "id": "55a3c83e",
   "metadata": {
    "executionInfo": {
     "elapsed": 476,
     "status": "ok",
     "timestamp": 1718714417463,
     "user": {
      "displayName": "Aleena Raj",
      "userId": "16635257578699511263"
     },
     "user_tz": -330
    },
    "id": "55a3c83e"
   },
   "outputs": [
    {
     "data": {
      "text/plain": [
       "943"
      ]
     },
     "metadata": {},
     "output_type": "display_data"
    },
    {
     "data": {
      "text/plain": [
       "1682"
      ]
     },
     "metadata": {},
     "output_type": "display_data"
    }
   ],
   "source": [
    "# Calculate the number of unique user IDs in the DataFrame\n",
    "# shape[0] returns the number of elements in the first dimension of the resulting array\n",
    "# unique() returns unique values of the 'user_id' column\n",
    "n_users = df.user_id.unique().shape[0]\n",
    "display(n_users)\n",
    "\n",
    "# Calculate the number of unique item IDs in the DataFrame\n",
    "# shape[0] returns the number of elements in the first dimension of the resulting array\n",
    "# unique() returns unique values of the 'item_id' column\n",
    "n_items = df.item_id.unique().shape[0]\n",
    "display(n_items)"
   ]
  },
  {
   "cell_type": "code",
   "execution_count": 105,
   "id": "57b56d7c",
   "metadata": {
    "executionInfo": {
     "elapsed": 2483,
     "status": "ok",
     "timestamp": 1718714362472,
     "user": {
      "displayName": "Aleena Raj",
      "userId": "16635257578699511263"
     },
     "user_tz": -330
    },
    "id": "57b56d7c"
   },
   "outputs": [],
   "source": [
    "# Import the train_test_split function from the sklearn.model_selection module\n",
    "from sklearn.model_selection import train_test_split\n",
    "\n",
    "# Split the DataFrame 'df' into training and testing datasets\n",
    "# The 'test_size' parameter specifies the proportion of the dataset to include in the test split\n",
    "train_data, test_data = train_test_split(df, test_size=0.25)"
   ]
  },
  {
   "cell_type": "markdown",
   "id": "8517d728",
   "metadata": {},
   "source": [
    "### Assemble the Dense Matrix for Matrix Factorization"
   ]
  },
  {
   "cell_type": "code",
   "execution_count": 106,
   "id": "df04a661",
   "metadata": {
    "id": "df04a661"
   },
   "outputs": [],
   "source": [
    "# Initialize a matrix with zeros of shape (n_users, n_items) for training data\n",
    "train_data_mat = np.zeros((n_users, n_items))\n",
    "\n",
    "# Iterate through each row of the training data DataFrame using itertuples()\n",
    "for line in train_data.itertuples():\n",
    "    # Assign the rating value (line[3]) to the corresponding position in the matrix\n",
    "    # Subtract 1 from user_id and item_id to account for zero-based indexing\n",
    "    train_data_mat[line[1]-1, line[2]-1] = line[3]\n",
    "\n",
    "# Initialize a matrix with zeros of shape (n_users, n_items) for testing data\n",
    "test_data_mat = np.zeros((n_users, n_items))\n",
    "\n",
    "# Iterate through each row of the testing data DataFrame using itertuples()\n",
    "for line in test_data.itertuples():\n",
    "    # Assign the rating value (line[3]) to the corresponding position in the matrix\n",
    "    # Subtract 1 from user_id and item_id to account for zero-based indexing\n",
    "    test_data_mat[line[1]-1, line[2]-1] = line[3]"
   ]
  },
  {
   "cell_type": "code",
   "execution_count": 107,
   "id": "33680034",
   "metadata": {
    "id": "33680034"
   },
   "outputs": [],
   "source": [
    "# Import the mean_squared_error function from the sklearn.metrics module\n",
    "from sklearn.metrics import mean_squared_error\n",
    "\n",
    "# Import the square root function from the math module\n",
    "from math import sqrt\n",
    "\n",
    "# Define a function named 'rmse' to calculate the Root Mean Squared Error (RMSE)\n",
    "# The function takes two parameters: 'prediction' and 'ground_truth'\n",
    "def rmse(prediction, ground_truth):\n",
    "    # Extract non-zero elements from 'prediction' and 'ground_truth'\n",
    "    prediction = prediction[ground_truth.nonzero()].flatten()\n",
    "    ground_truth = ground_truth[ground_truth.nonzero()].flatten()\n",
    "\n",
    "    # Calculate the Root Mean Squared Error (RMSE) between 'prediction' and 'ground_truth'\n",
    "    return sqrt(mean_squared_error(prediction, ground_truth))"
   ]
  },
  {
   "cell_type": "code",
   "execution_count": 108,
   "id": "d3c5e5f3",
   "metadata": {
    "colab": {
     "base_uri": "https://localhost:8080/"
    },
    "executionInfo": {
     "elapsed": 418,
     "status": "ok",
     "timestamp": 1718708151540,
     "user": {
      "displayName": "Aleena Raj",
      "userId": "16635257578699511263"
     },
     "user_tz": -330
    },
    "id": "d3c5e5f3",
    "outputId": "924c6e28-2eb4-4dbe-8a96-da50e496c8be"
   },
   "outputs": [
    {
     "name": "stdout",
     "output_type": "stream",
     "text": [
      "The sparsity level of MovieLens100K is 93.70%\n"
     ]
    }
   ],
   "source": [
    "# Calculate the sparsity of the MovieLens100K dataset\n",
    "# Sparsity is defined as 1 minus the density of the dataset\n",
    "# Density is calculated as the number of ratings provided divided by the total possible ratings\n",
    "sparsity = round(1.0 - len(df) / float(n_users * n_items), 3)\n",
    "\n",
    "# Print the sparsity level as a percentage\n",
    "print(f'The sparsity level of MovieLens100K is {sparsity * 100:.2f}%')"
   ]
  },
  {
   "cell_type": "markdown",
   "id": "4780a7e1",
   "metadata": {},
   "source": [
    "### Matrix Sparsity\n",
    "\n",
    "The user-item rating matrix for MovieLens100K is **93.7% sparse**.\n",
    "\n",
    "That means:\n",
    "- Only **6.3% of all possible user-movie pairs** have actual ratings.\n",
    "- Most of the matrix is **unknown**, which is exactly why we need algorithms like:\n",
    "  - Matrix Factorization\n",
    "  - KNN (Collaborative Filtering)\n",
    "  - Neural Recommenders\n",
    "\n",
    "High sparsity is a defining characteristic of real-world recommendation problems.\n"
   ]
  },
  {
   "cell_type": "markdown",
   "id": "a8e500d0",
   "metadata": {},
   "source": [
    "### SVD-Based Matrix Factorization\n",
    "\n",
    "Next, we apply truncated Singular Value Decompositions (SVDs) to our training rating matrix:\n",
    "\n",
    "- `train_data_mat ≈ U × Σ × Vᵀ`\n",
    "- Where:\n",
    "  - `U` captures latent user preferences\n",
    "  - `Vᵀ` captures latent item attributes\n",
    "  - `Σ` contains the top `k` singular values\n",
    "\n",
    "After reconstruction, we predict the full ratings matrix and evaluate performance on unseen ratings using RMSE.\n",
    "\n",
    "This approach is at the core of **latent factor collaborative filtering**, and is widely used in real-world recommendation engines.\n"
   ]
  },
  {
   "cell_type": "code",
   "execution_count": 109,
   "id": "f1b453eb",
   "metadata": {
    "colab": {
     "base_uri": "https://localhost:8080/"
    },
    "executionInfo": {
     "elapsed": 1216,
     "status": "ok",
     "timestamp": 1718708558978,
     "user": {
      "displayName": "Aleena Raj",
      "userId": "16635257578699511263"
     },
     "user_tz": -330
    },
    "id": "f1b453eb",
    "outputId": "65e69a11-9406-42a7-d085-70b54da3ac68"
   },
   "outputs": [
    {
     "name": "stdout",
     "output_type": "stream",
     "text": [
      "User-based collaborative filtering RMSE: 2.7249024170175953\n"
     ]
    }
   ],
   "source": [
    "# Import the required modules from scipy.sparse and scipy.sparse.linalg\n",
    "import scipy.sparse as sp\n",
    "from scipy.sparse.linalg import svds\n",
    "\n",
    "# Perform Singular Value Decomposition (SVD) on the training data matrix\n",
    "# 'k' specifies the number of singular values and vectors to compute\n",
    "u, s, vt = svds(train_data_mat, k=20)\n",
    "\n",
    "# Convert the singular values 's' into a diagonal matrix\n",
    "s_diag_matrix = np.diag(s)\n",
    "\n",
    "# Reconstruct the original matrix using the computed U, S, and V matrices\n",
    "X_pred = np.dot(np.dot(u, s_diag_matrix), vt)\n",
    "\n",
    "# Print the Root Mean Squared Error (RMSE) of the user-based collaborative filtering predictions\n",
    "print('User-based collaborative filtering RMSE: ' + str(rmse(X_pred, test_data_mat)))\n"
   ]
  },
  {
   "cell_type": "markdown",
   "id": "0d82bd07",
   "metadata": {
    "id": "0d82bd07"
   },
   "source": [
    "__Observations:__\n",
    "\n",
    "- Applying SVD for user-based collaborative filtering results in a root mean squared error (RMSE) of approximately 2.7.\n",
    "- This RMSE quantifies the average deviation between the predicted ratings and the actual ratings in the test dataset, demonstrating the effectiveness of SVD in predicting user preferences within this dataset.\n"
   ]
  },
  {
   "cell_type": "markdown",
   "id": "vmXRoY1FxKN8",
   "metadata": {
    "id": "vmXRoY1FxKN8"
   },
   "source": [
    "Singular value decomposition (SVD) helps in recommendation systems by decomposing the user-item interaction matrix into three matrices, capturing latent factors, and enabling the prediction of missing ratings for better recommendations. SVD reduces dimensionality and identifies hidden patterns, improving accuracy. It is also applicable in personalized content recommendations, e-commerce product suggestions, and social network connections."
   ]
  },
  {
   "cell_type": "markdown",
   "id": "61fd3d35",
   "metadata": {
    "id": "61fd3d35"
   },
   "source": [
    "## __1.3.2 Content Filtering__\n",
    "\n",
    "Content filtering relies on the attributes or characteristics of an item to suggest other items that match the user's preferences. This method is based on the resemblance between item and user features, utilizing information about a user and the items they have engaged with to predict the likelihood of a new interaction.\n",
    "\n",
    "For instance, if a content filtering recommender system observes that you enjoyed movies like __You've Got Mail__ and __Sleepless in Seattle__, it might recommend another movie with similar genres and/or cast, such as __Joe Versus the Volcano__.\n"
   ]
  },
  {
   "cell_type": "markdown",
   "id": "ca19da18",
   "metadata": {
    "id": "ca19da18"
   },
   "source": [
    "![link text](https://labcontent.simplicdn.net/data-content/content-assets/Data_and_AI/ML/updated/Lesson_08/Content_Filtering.jpg)"
   ]
  },
  {
   "cell_type": "code",
   "execution_count": 110,
   "id": "RtlOCDwve5zd",
   "metadata": {
    "colab": {
     "base_uri": "https://localhost:8080/"
    },
    "executionInfo": {
     "elapsed": 410,
     "status": "ok",
     "timestamp": 1718706962043,
     "user": {
      "displayName": "Kunal Guwalani",
      "userId": "06540083485482537728"
     },
     "user_tz": -330
    },
    "id": "RtlOCDwve5zd",
    "outputId": "5b84c76f-f562-4ec6-e179-a25e46330d46"
   },
   "outputs": [
    {
     "name": "stdout",
     "output_type": "stream",
     "text": [
      "User profile vector: [3.         2.33333333 2.66666667]\n",
      "Cosine similarity between user profile and new item: 0.8122769321068952\n"
     ]
    }
   ],
   "source": [
    "import numpy as np\n",
    "from sklearn.metrics.pairwise import cosine_similarity\n",
    "\n",
    "# Define item profiles (attributes: [genre, length, director])\n",
    "item_profiles = {\n",
    "    'Item1': np.array([1, 0, 1]),  # Example: Genre1, Length2, Director1\n",
    "    'Item2': np.array([0, 1, 1]),\n",
    "    'Item3': np.array([1, 1, 0]),\n",
    "}\n",
    "\n",
    "# User ratings for items (rating scale: 1-5)\n",
    "user_ratings = {\n",
    "    'Item1': 5,\n",
    "    'Item2': 3,\n",
    "    'Item3': 4,\n",
    "}\n",
    "\n",
    "# Construct user profile by averaging the attribute vectors of rated items\n",
    "user_profile = np.zeros(len(item_profiles['Item1']))\n",
    "rated_items = 0\n",
    "\n",
    "for item, rating in user_ratings.items():\n",
    "    user_profile += item_profiles[item] * rating\n",
    "    rated_items += 1\n",
    "\n",
    "user_profile /= rated_items\n",
    "\n",
    "print(\"User profile vector:\", user_profile)\n",
    "\n",
    "# New item to recommend (attributes)\n",
    "new_item_profile = np.array([1, 1, 0])  # Example: Genre1, Length2, Director1\n",
    "\n",
    "# Compute cosine similarity between user profile and new item profile\n",
    "similarity = cosine_similarity([user_profile], [new_item_profile])\n",
    "\n",
    "print(\"Cosine similarity between user profile and new item:\", similarity[0][0])\n"
   ]
  },
  {
   "cell_type": "markdown",
   "id": "iXxkwRqzyaQS",
   "metadata": {
    "id": "iXxkwRqzyaQS"
   },
   "source": [
    "**Observation:**\n",
    "\n",
    "The user profile vector [3.0, 2.33, 2.67] reflects the user's aggregated preferences across the given attributes. The cosine similarity between the user profile and the new item's profile [1, 1, 0] [1,1,0] is 0.812, indicating a strong match. Thus, the new item is recommended to the user, as it closely aligns with their preferences."
   ]
  },
  {
   "cell_type": "markdown",
   "id": "2936e21a",
   "metadata": {
    "id": "2936e21a"
   },
   "source": [
    "### __1.3.3 Hybrid Filtering__\n",
    "\n",
    "Hybrid recommendation systems combine techniques like collaborative filtering and content-based filtering to provide personalized recommendations.\n",
    "\n",
    "For instance, a movie recommendation system might analyze both user preferences (collaborative filtering) and movie attributes (content-based filtering) to suggest films, achieving more accurate and diverse recommendations.\n",
    "\n",
    "### Mathematical Concept for Hybrid Filtering\n",
    "\n",
    "Hybrid filtering can be implemented by combining the results from collaborative filtering and content-based filtering. Here is a simple approach:\n",
    "\n",
    "1. **Collaborative Filtering Score**:  \n",
    "   Compute the predicted rating for a user \\(u\\) and item \\(i\\) using collaborative filtering:\n",
    "   $$\n",
    "   \\text{score}_{\\text{CF}}(u, i)\n",
    "   $$\n",
    "\n",
    "2. **Content-Based Filtering Score**:  \n",
    "   Compute the predicted rating for a user \\(u\\) and item \\(i\\) using content-based filtering:\n",
    "   $$\n",
    "   \\text{score}_{\\text{CB}}(u, i)\n",
    "   $$\n",
    "\n",
    "3. **Hybrid Score**:  \n",
    "   Combine the scores from collaborative filtering and content-based filtering. A common method is to take a weighted average:\n",
    "   $$\n",
    "   \\text{score}_{\\text{Hybrid}}(u, i) = \\alpha \\cdot \\text{score}_{\\text{CF}}(u, i) + (1 - \\alpha) \\cdot \\text{score}_{\\text{CB}}(u, i)\n",
    "   $$\n",
    "   where $\\alpha$ is a parameter that balances the contributions of the two methods.\n",
    "\n",
    "This approach leverages the strengths of both collaborative and content-based filtering to provide more accurate and personalized recommendations.\n",
    "\n",
    "### Example\n",
    "\n",
    "Let's illustrate hybrid filtering with a simple coding example.\n",
    "\n"
   ]
  },
  {
   "cell_type": "code",
   "execution_count": 111,
   "id": "c6I15gh1jfzH",
   "metadata": {
    "colab": {
     "base_uri": "https://localhost:8080/"
    },
    "executionInfo": {
     "elapsed": 465,
     "status": "ok",
     "timestamp": 1718706967644,
     "user": {
      "displayName": "Kunal Guwalani",
      "userId": "06540083485482537728"
     },
     "user_tz": -330
    },
    "id": "c6I15gh1jfzH",
    "outputId": "01f164e8-961d-4fbe-bf5b-548866e96426"
   },
   "outputs": [
    {
     "name": "stdout",
     "output_type": "stream",
     "text": [
      "Collaborative Filtering Scores:\n",
      " [[4.  3.5 3. ]\n",
      " [2.5 4.  4.5]\n",
      " [3.5 4.5 5. ]]\n",
      "Content-Based Filtering Scores:\n",
      " [[3.5 3.  4. ]\n",
      " [3.  4.  4. ]\n",
      " [4.  4.5 3.5]]\n",
      "Hybrid Scores:\n",
      " [[3.75 3.25 3.5 ]\n",
      " [2.75 4.   4.25]\n",
      " [3.75 4.5  4.25]]\n"
     ]
    }
   ],
   "source": [
    "import numpy as np\n",
    "\n",
    "# Example collaborative filtering scores\n",
    "cf_scores = np.array([\n",
    "    [4.0, 3.5, 3.0],\n",
    "    [2.5, 4.0, 4.5],\n",
    "    [3.5, 4.5, 5.0]\n",
    "])\n",
    "\n",
    "# Example content-based filtering scores\n",
    "cb_scores = np.array([\n",
    "    [3.5, 3.0, 4.0],\n",
    "    [3.0, 4.0, 4.0],\n",
    "    [4.0, 4.5, 3.5]\n",
    "])\n",
    "\n",
    "# Combine the scores with a weighted average\n",
    "alpha = 0.5\n",
    "hybrid_scores = alpha * cf_scores + (1 - alpha) * cb_scores\n",
    "\n",
    "print(\"Collaborative Filtering Scores:\\n\", cf_scores)\n",
    "print(\"Content-Based Filtering Scores:\\n\", cb_scores)\n",
    "print(\"Hybrid Scores:\\n\", hybrid_scores)"
   ]
  },
  {
   "cell_type": "markdown",
   "id": "B-bkn-0wzXxH",
   "metadata": {
    "id": "B-bkn-0wzXxH"
   },
   "source": [
    "**Observation:**\n",
    "\n",
    "Hybrid scores blend the collaborative filtering and content-based filtering scores, showing balanced ratings for items. This technique is a comprehensive recommendation approach that considers both user interactions and item attributes."
   ]
  },
  {
   "cell_type": "markdown",
   "id": "AIWnyyOoz8nx",
   "metadata": {
    "id": "AIWnyyOoz8nx"
   },
   "source": [
    "**Further Use and Example:**\n",
    "\n",
    "Hybrid recommendation systems can be used in various applications to enhance recommendation accuracy by combining multiple recommendation techniques.\n",
    "\n",
    "**Example:**\n",
    "\n",
    "**E-commerce Platforms:**\n",
    "\n",
    "- **Scenario:** An online retail store wants to recommend products to users.\n",
    "\n",
    "- **Application:** The system uses collaborative filtering to leverage user purchase history and content-based filtering to analyze product descriptions. Combining these scores, the hybrid system can recommend products that similar users have bought and that match the user's browsing preferences."
   ]
  },
  {
   "cell_type": "markdown",
   "id": "792646f9",
   "metadata": {
    "id": "792646f9"
   },
   "source": [
    "### __1.4 Advanced Techniques in Recommendation Systems__\n",
    "\n",
    "\n",
    "\n"
   ]
  },
  {
   "cell_type": "markdown",
   "id": "75378a7b",
   "metadata": {
    "id": "75378a7b"
   },
   "source": [
    "### __1.4.1 GetTopN Function__\n",
    "\n",
    "The `GetTopN` function is commonly used in recommendation systems to retrieve the top N recommended items for each user. This is particularly useful for generating personalized recommendation lists.\n",
    "\n",
    "#### Usage\n",
    "\n",
    "The `GetTopN` function typically works by taking a matrix of predicted ratings and returning the top N items with the highest predicted ratings for each user. This helps in creating a ranked list of recommendations tailored to the user's preferences.\n"
   ]
  },
  {
   "cell_type": "code",
   "execution_count": 112,
   "id": "29b7dfd8",
   "metadata": {
    "colab": {
     "base_uri": "https://localhost:8080/"
    },
    "executionInfo": {
     "elapsed": 415,
     "status": "ok",
     "timestamp": 1718706971865,
     "user": {
      "displayName": "Kunal Guwalani",
      "userId": "06540083485482537728"
     },
     "user_tz": -330
    },
    "id": "29b7dfd8",
    "outputId": "d0c07962-194b-41aa-e7bf-c6e8bc597368"
   },
   "outputs": [
    {
     "name": "stdout",
     "output_type": "stream",
     "text": [
      "Top N Recommendations:\n",
      "User 0: Items [4 2 0]\n",
      "User 1: Items [3 1 2]\n",
      "User 2: Items [4 3 0]\n"
     ]
    }
   ],
   "source": [
    "import numpy as np\n",
    "\n",
    "def GetTopN(predictions, n=10):\n",
    "    top_n = {}\n",
    "    for user_id in range(predictions.shape[0]):\n",
    "        user_ratings = predictions[user_id]\n",
    "        top_n[user_id] = np.argsort(user_ratings)[::-1][:n]\n",
    "    return top_n\n",
    "\n",
    "# Example predicted ratings matrix (users x items)\n",
    "predicted_ratings = np.array([\n",
    "    [3.5, 2.0, 4.5, 1.0, 5.0],\n",
    "    [1.0, 4.0, 3.0, 4.5, 2.0],\n",
    "    [4.0, 2.5, 3.5, 4.0, 5.0],\n",
    "])\n",
    "\n",
    "# Get top 3 recommendations for each user\n",
    "top_n_recommendations = GetTopN(predicted_ratings, n=3)\n",
    "print(\"Top N Recommendations:\")\n",
    "for user, recommendations in top_n_recommendations.items():\n",
    "    print(f\"User {user}: Items {recommendations}\")\n"
   ]
  },
  {
   "cell_type": "markdown",
   "id": "zeVstVATL2fz",
   "metadata": {
    "id": "zeVstVATL2fz"
   },
   "source": [
    "### Observation\n",
    "\n",
    "In this example, the `GetTopN` function generates personalized recommendation lists by extracting the top N highest-rated items for each user from predicted ratings. The function sorts these ratings in descending order and selects the top N items, creating a dictionary of recommendations. This demonstrates how to efficiently transform a matrix of predicted ratings into actionable recommendation lists using sorting and indexing techniques."
   ]
  },
  {
   "cell_type": "markdown",
   "id": "rFghpxm8I_7y",
   "metadata": {
    "id": "rFghpxm8I_7y"
   },
   "source": [
    "### __1.4.2 Hit Rate__\n",
    "\n",
    "The Hit Rate is a metric used to evaluate the effectiveness of a recommendation system. It measures the proportion of users for whom the recommended list contains at least one relevant item.\n",
    "\n",
    "#### Usage\n",
    "\n",
    "The Hit Rate is calculated by dividing the number of users who received at least one relevant recommendation by the total number of users. It gives an indication of how well the recommendation system is performing in terms of hitting the target for each user.\n"
   ]
  },
  {
   "cell_type": "code",
   "execution_count": 113,
   "id": "nz4oaZ1bJENs",
   "metadata": {
    "colab": {
     "base_uri": "https://localhost:8080/"
    },
    "executionInfo": {
     "elapsed": 425,
     "status": "ok",
     "timestamp": 1718706975356,
     "user": {
      "displayName": "Kunal Guwalani",
      "userId": "06540083485482537728"
     },
     "user_tz": -330
    },
    "id": "nz4oaZ1bJENs",
    "outputId": "e753f8a9-d008-4ffe-9328-11a86c69e8e1"
   },
   "outputs": [
    {
     "name": "stdout",
     "output_type": "stream",
     "text": [
      "Hit Rate: 1.00\n"
     ]
    }
   ],
   "source": [
    "def HitRate(top_n_recommendations, true_ratings, threshold=3.5):\n",
    "    hits = 0\n",
    "    total_users = len(top_n_recommendations)\n",
    "\n",
    "    for user, recommendations in top_n_recommendations.items():\n",
    "        # Check if any of the recommended items are rated above the threshold by the user\n",
    "        if any(true_ratings[user, item] >= threshold for item in recommendations):\n",
    "            hits += 1\n",
    "\n",
    "    hit_rate = hits / total_users\n",
    "    return hit_rate\n",
    "\n",
    "# Example true ratings matrix (users x items)\n",
    "true_ratings = np.array([\n",
    "    [3.5, 2.0, 4.5, 1.0, 5.0],\n",
    "    [1.0, 4.0, 3.0, 4.5, 2.0],\n",
    "    [4.0, 2.5, 3.5, 4.0, 5.0],\n",
    "])\n",
    "\n",
    "# Calculate Hit Rate\n",
    "hit_rate = HitRate(top_n_recommendations, true_ratings, threshold=3.5)\n",
    "print(f\"Hit Rate: {hit_rate:.2f}\")\n"
   ]
  },
  {
   "cell_type": "markdown",
   "id": "2151As3eMCin",
   "metadata": {
    "id": "2151As3eMCin"
   },
   "source": [
    "### Observation\n",
    "\n",
    "In this example, the `HitRate` function calculates the effectiveness of recommendations by determining the proportion of users who have at least one recommended item rated above a specified threshold. It iterates through the top N recommendations for each user and checks if any recommended item meets the threshold. The function then computes the hit rate as the ratio of users with at least one relevant recommendation to the total number of users. This example shows how to evaluate the relevance of recommendations using a simple and intuitive metric."
   ]
  },
  {
   "cell_type": "markdown",
   "id": "DuiepwmUKiR9",
   "metadata": {
    "id": "DuiepwmUKiR9"
   },
   "source": [
    "## __1.5. Addressing Challenges in Recommendation Systems__"
   ]
  },
  {
   "cell_type": "markdown",
   "id": "99Lb0yXx5_vF",
   "metadata": {
    "id": "99Lb0yXx5_vF"
   },
   "source": [
    "### __1.5.1 Cold start problem__"
   ]
  },
  {
   "cell_type": "markdown",
   "id": "pAnrkKZ6J0z9",
   "metadata": {
    "id": "pAnrkKZ6J0z9"
   },
   "source": [
    "\n",
    "\n",
    "The cold start problem refers to a challenge encountered by recommender systems when they are unable to effectively make recommendations for new users or items with limited or no historical data. In other words, when there isn't enough information about a user's preferences or about newly added items, it becomes difficult for the recommender system to accurately predict what the user might like. This can result in less personalized or inaccurate recommendations until sufficient data is collected to better understand the user or item.\n"
   ]
  },
  {
   "cell_type": "markdown",
   "id": "F7js4i88J05A",
   "metadata": {
    "id": "F7js4i88J05A"
   },
   "source": [
    "#### Types of Cold Start Problems\n",
    "\n",
    "- **User Cold Start Problem**: This arises when there is almost no information available about the user, making it difficult to generate personalized recommendations.\n",
    "- **Item Cold Start Problem**: This occurs when there is almost no information available about a product, making it difficult to recommend it to users effectively.\n"
   ]
  },
  {
   "cell_type": "markdown",
   "id": "LgfTtQVVM4lU",
   "metadata": {
    "id": "LgfTtQVVM4lU"
   },
   "source": [
    "#### Reasons for Cold Start Problems\n",
    "\n",
    "- **Systematic Bootstrapping**: Starting the system with limited data makes it difficult to give accurate recommendations to new users or items.\n",
    "- **Low Interaction**: Minimal user engagement results in sparse data, making it difficult for the recommender system to understand preferences.\n",
    "- **New User**: Lack of historical data for new users hampers personalized recommendations until enough interaction data is collected.\n"
   ]
  },
  {
   "cell_type": "markdown",
   "id": "Sa9GQGKOM4nc",
   "metadata": {
    "id": "Sa9GQGKOM4nc"
   },
   "source": [
    "#### Mitigation Techniques\n",
    "\n",
    "Mitigation techniques refer to employing strategies to tackle challenges or lessen the effects of issues encountered within a system or process with the goal of improving performance or effectiveness. The following are the primary techniques employed for mitigation:\n",
    "\n",
    "- **Representative Approach**: Using samples or subsets of data that accurately reflect the characteristics of a larger dataset ensures reliable analysis and decision-making.\n",
    "- **Feature Mapping**: Transforming input variables into a different representation improves the performance or interpretability of machine learning models.\n",
    "- **Hybrid Approach**: Combining various methods or models aims to achieve superior performance or address diverse requirements effectively.\n"
   ]
  },
  {
   "cell_type": "markdown",
   "id": "A0R58b_fM40x",
   "metadata": {
    "id": "A0R58b_fM40x"
   },
   "source": [
    "### __1.5.2 Implicit and Explicit Feedback__\n",
    "\n",
    "In recommendation systems, implicit and explicit feedback are two types of signals used to understand user preferences.\n"
   ]
  },
  {
   "cell_type": "markdown",
   "id": "rqpLWZcfM43N",
   "metadata": {
    "id": "rqpLWZcfM43N"
   },
   "source": [
    "- **Explicit Feedback**: This refers to direct and clear indications of user preferences provided explicitly by the user. For example, ratings, reviews, likes, or dislikes expressed by users explicitly convey their opinions or preferences for certain items.\n",
    "- **Implicit Feedback**: This type of feedback is inferred from user behavior or interactions with the system without any explicit input from the user. It includes actions such as clicks, purchases, browsing history, time spent on items, or mouse movements. Implicit feedback relies on interpreting user actions to understand their preferences and interests.\n"
   ]
  },
  {
   "cell_type": "markdown",
   "id": "2c186107",
   "metadata": {
    "id": "2c186107"
   },
   "source": [
    "## __Conclusion__\n",
    "\n",
    "This lesson provided a comprehensive overview of recommendation systems, exploring various types, stages, and applications crucial for enhancing user experiences across multiple platforms. We delved into collaborative, content, and hybrid filtering methods, discussing their specific roles and implementations, including user-based and item-based approaches. The lesson also addressed challenges like the cold start problem and the use of accuracy metrics such as RMSE, MAE, and HitRate to evaluate system performance.\n",
    "\n",
    "By mastering the complexities of data processing and design considerations, you are well-prepared to create advanced, tailored recommendation systems that effectively meet varied user needs and preferences."
   ]
  }
 ],
 "metadata": {
  "colab": {
   "provenance": []
  },
  "kernelspec": {
   "display_name": "teach",
   "language": "python",
   "name": "python3"
  },
  "language_info": {
   "codemirror_mode": {
    "name": "ipython",
    "version": 3
   },
   "file_extension": ".py",
   "mimetype": "text/x-python",
   "name": "python",
   "nbconvert_exporter": "python",
   "pygments_lexer": "ipython3",
   "version": "3.13.5"
  }
 },
 "nbformat": 4,
 "nbformat_minor": 5
}
