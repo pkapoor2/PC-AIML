{
 "cells": [
  {
   "cell_type": "code",
   "execution_count": 5,
   "metadata": {},
   "outputs": [
    {
     "name": "stdout",
     "output_type": "stream",
     "text": [
      "Odd numbers: [37, 81, 75, 31, 53, 45, 99, 15, 27]\n",
      "Even numbers: [90, 24, 12, 18, 60, 72, 88, 66, 54, 78, 42]\n",
      "Next odd number: 37\n"
     ]
    }
   ],
   "source": [
    "numbers = [37,90,81,24,75,31,53,12,45,99,18,60,72,15,88,66,54,27,78,42]\n",
    "odds = list(filter(lambda x: x % 2 != 0, numbers))\n",
    "evens = list(filter(lambda x: x % 2 == 0, numbers))\n",
    "print(\"Odd numbers:\", odds)\n",
    "print(\"Even numbers:\", evens)\n",
    "og = filter(lambda x: x % 2 != 0, numbers)\n",
    "print(\"Next odd number:\", next(og))"
   ]
  },
  {
   "cell_type": "code",
   "execution_count": 8,
   "metadata": {},
   "outputs": [
    {
     "name": "stdout",
     "output_type": "stream",
     "text": [
      "Sum of numbers: 15\n",
      "Accumulated sum: [1, 3, 6, 10, 15]\n"
     ]
    }
   ],
   "source": [
    "from functools import reduce\n",
    "numbers = [1, 2, 3, 4, 5]\n",
    "res = reduce(lambda x, y: x + y, numbers)\n",
    "print(\"Sum of numbers:\", res)\n",
    "from itertools import accumulate\n",
    "numbers = [1, 2, 3, 4, 5]\n",
    "res = accumulate(numbers, lambda x, y: x + y)\n",
    "print(\"Accumulated sum:\", list(res))"
   ]
  },
  {
   "cell_type": "code",
   "execution_count": 24,
   "metadata": {},
   "outputs": [
    {
     "name": "stdout",
     "output_type": "stream",
     "text": [
      "Temperature 0.0 in Fahrenheit: 32.0\n",
      "Temperature 10.0 in Fahrenheit: 50.0\n",
      "Temperature 20.0 in Fahrenheit: 68.0\n",
      "Temperature 30.0 in Fahrenheit: 86.0\n",
      "Temperature 40.0 in Fahrenheit: 104.0\n",
      "Temperature 50.0 in Fahrenheit: 122.0\n",
      "Temperature 60.0 in Fahrenheit: 140.0\n",
      "Temperature 70.0 in Fahrenheit: 158.0\n",
      "Temperature 80.0 in Fahrenheit: 176.0\n",
      "Temperature 90.0 in Fahrenheit: 194.0\n",
      "Temperature 100.0 in Fahrenheit: 212.0\n"
     ]
    }
   ],
   "source": [
    "T= [0.0, 10.0, 20.0, 30.0, 40.0, 50.0, 60.0, 70.0, 80.0, 90.0, 100.0]\n",
    "f = lambda c: ((9.0/5.0) * c) + 32.0\n",
    "for x,y in zip(T,map(f, T)):\n",
    "    print(\"Temperature {} in Fahrenheit: {}\".format(x,y))"
   ]
  }
 ],
 "metadata": {
  "kernelspec": {
   "display_name": "Python 3",
   "language": "python",
   "name": "python3"
  },
  "language_info": {
   "codemirror_mode": {
    "name": "ipython",
    "version": 3
   },
   "file_extension": ".py",
   "mimetype": "text/x-python",
   "name": "python",
   "nbconvert_exporter": "python",
   "pygments_lexer": "ipython3",
   "version": "3.10.11"
  }
 },
 "nbformat": 4,
 "nbformat_minor": 2
}
