{
 "cells": [
  {
   "cell_type": "markdown",
   "metadata": {
    "id": "RXLA17HEB2mu"
   },
   "source": [
    "# __Assisted Practice: Configuring Neural Network and Activation Function__\n",
    "- Configuring a neural network involves setting various parameters and architectural choices to define the structure and behavior of the network.\n",
    "Let's understand how to configure neural network in Python.\n",
    "\n",
    "- An activation function determines the output of a neuron based on the weighted sum of its inputs, introducing non-linearity and enabling complex modeling in neural networks.\n",
    "Let's understand how to build a simple neural network in Python, considering the activation function as tanh.\n",
    "\n",
    "Let's understand how to build a perceptron-based classification model."
   ]
  },
  {
   "cell_type": "markdown",
   "metadata": {
    "id": "Pn1xur4f8S4U"
   },
   "source": [
    "## Steps to be followed:\n",
    "1. Import the required libraries\n",
    "2. Initialize the weights\n",
    "3. Update the weights\n",
    "4. Initialize the think function and neural network\n",
    "5. Train the neural network"
   ]
  },
  {
   "cell_type": "markdown",
   "metadata": {
    "id": "2l2fj6xLDNiO"
   },
   "source": [
    "### Step 1: Import the required libraries\n",
    "\n",
    "- Import the necessary modules for numerical computations and define functions for exponential calculations, array operations, random number generation, and matrix multiplication."
   ]
  },
  {
   "cell_type": "code",
   "execution_count": 1,
   "metadata": {
    "executionInfo": {
     "elapsed": 4,
     "status": "ok",
     "timestamp": 1719060828919,
     "user": {
      "displayName": "Aleena Raj",
      "userId": "16635257578699511263"
     },
     "user_tz": -330
    },
    "id": "ir_8tK9NDtcQ"
   },
   "outputs": [],
   "source": [
    "import numpy as np\n",
    "from numpy import exp, array, random, dot\n",
    "import matplotlib.pyplot as plt"
   ]
  },
  {
   "cell_type": "markdown",
   "metadata": {
    "id": "5GUp2vgJDwDW"
   },
   "source": [
    "### Step 2: Initialize the weights\n",
    "\n",
    "- Define a class with the name __NeuralNetwork__.\n",
    "- Seed the random number generator so it generates the same numbers every time the program runs.\n",
    "- Assign random weights to a 3X1 matrix, with values in the range __-1__ to __1__ and a mean of __0__.\n",
    "- Use the __tanh__ function to describe an S-shaped curve.\n",
    "\n",
    "\n",
    "\n",
    "### Step 3: Update the weights\n",
    "- Train the neural network through a process of trial and error.\n",
    "- Adjust the synaptic weights each time.\n",
    "- Pass the training set through a neural network (a single neuron).\n",
    "-  Calculate the error (the difference between the desired and predicted outputs).\n",
    "- Adjust the weights.\n",
    "\n",
    "\n"
   ]
  },
  {
   "cell_type": "code",
   "execution_count": 2,
   "metadata": {
    "executionInfo": {
     "elapsed": 388,
     "status": "ok",
     "timestamp": 1719061338036,
     "user": {
      "displayName": "Aleena Raj",
      "userId": "16635257578699511263"
     },
     "user_tz": -330
    },
    "id": "TdzG4wNUc5Zg"
   },
   "outputs": [],
   "source": [
    "class NeuralNetwork:\n",
    "    def __init__(self, n_inputs: int = 3, seed: int | None = 2):\n",
    "        if seed is not None:\n",
    "            np.random.seed(seed)\n",
    "        self.synaptic_weights = 2 * np.random.random((n_inputs, 1)) - 1\n",
    "        self.losses = []  # will be filled by train()\n",
    "\n",
    "    def _tanh(self, x):\n",
    "        return np.tanh(x)\n",
    "\n",
    "    def _tanh_derivative(self, activated_output):\n",
    "        # derivative given activated output a = tanh(z) -> 1 - a^2\n",
    "        return 1 - activated_output**2\n",
    "\n",
    "    def think(self, inputs):\n",
    "        X = np.atleast_2d(inputs)\n",
    "        return self._tanh(X @ self.synaptic_weights)\n",
    "\n",
    "    def train(self, X, y, epochs: int = 200, lr: float = 0.1, plot: bool = True):\n",
    "        \"\"\"\n",
    "        Train the model and (optionally) plot the MSE loss curve.\n",
    "\n",
    "        X: (n_samples, n_features)\n",
    "        y: (n_samples, 1)\n",
    "        \"\"\"\n",
    "        X = np.atleast_2d(X)\n",
    "        y = np.atleast_2d(y)\n",
    "        if y.shape[1] != 1:\n",
    "            raise ValueError(\"y must have shape (n_samples, 1)\")\n",
    "\n",
    "        self.losses = []\n",
    "\n",
    "        for _ in range(epochs):\n",
    "            out = self.think(X)                         # forward\n",
    "            err = y - out                               # error\n",
    "            self.losses.append(np.mean(err**2))         # track MSE\n",
    "            # gradient step\n",
    "            self.synaptic_weights += lr * (X.T @ (err * self._tanh_derivative(out)))\n",
    "\n",
    "        if plot:\n",
    "            plt.figure(figsize=(6,4))\n",
    "            plt.plot(range(epochs), self.losses, label=\"MSE Loss\")\n",
    "            plt.xlabel(\"Epoch\")\n",
    "            plt.ylabel(\"Loss\")\n",
    "            plt.title(\"Training Loss\")\n",
    "            plt.legend()\n",
    "            plt.grid(True)\n",
    "            plt.show()\n",
    "\n",
    "        return self.losses  # handy if you want to inspect or test"
   ]
  },
  {
   "cell_type": "markdown",
   "metadata": {},
   "source": [
    "> NOTE: We use the `class` object in this example to:\n",
    "- Encapsulate the state of parameters, no need to store them or pass them around, they belong to the parent class\n",
    "- Group related behavior such as initialization, forward pass, and backward pass\n",
    "- Reusability, multiple networks can be used from one class, just tweak the __init__ method"
   ]
  },
  {
   "cell_type": "markdown",
   "metadata": {
    "id": "IVDLS5RAIX5j"
   },
   "source": [
    "### Step 4: Initialize the think function and neural network\n",
    "- The __think__ function calculates the dot product between an array of inputs and the neural network's synaptic weights. It then applies the hyperbolic tangent activation function, __tanh__, to the result and returns the output.\n",
    "- The main code block creates an instance of the __NeuralNetwork__ class and prints the initial random values of the synaptic weights.\n",
    "- The **training_set_inputs** variable represents the input data for training the neural network.\n",
    "- The training set input is a 2D array where each row corresponds to a set of input values.\n",
    "- The **training_set_outputs** variable represents the corresponding output values for the training set.\n",
    "- The training set output is a 2D array where each row corresponds to the expected output for the corresponding input set."
   ]
  },
  {
   "cell_type": "code",
   "execution_count": 3,
   "metadata": {
    "colab": {
     "base_uri": "https://localhost:8080/"
    },
    "executionInfo": {
     "elapsed": 582,
     "status": "ok",
     "timestamp": 1719061343163,
     "user": {
      "displayName": "Aleena Raj",
      "userId": "16635257578699511263"
     },
     "user_tz": -330
    },
    "id": "yyHM7PAhIy1t",
    "outputId": "d89032dc-8b57-4e85-9ff8-96416e971bf9"
   },
   "outputs": [
    {
     "name": "stdout",
     "output_type": "stream",
     "text": [
      "Random starting synaptic weights:\n",
      "[[-0.1280102 ]\n",
      " [-0.94814754]\n",
      " [ 0.09932496]]\n"
     ]
    }
   ],
   "source": [
    "if __name__ == \"__main__\":\n",
    "    # Create an instance of the NeuralNetwork class\n",
    "    neural_network = NeuralNetwork()\n",
    "\n",
    "    # Print the initial random synaptic weights\n",
    "    print(\"Random starting synaptic weights:\")\n",
    "    print(neural_network.synaptic_weights)\n",
    "\n",
    "    # Define the training set inputs and outputs\n",
    "    training_set_inputs = np.array([[0, 0, 1], [1, 1, 1], [1, 0, 1], [0, 1, 1]])\n",
    "    training_set_outputs = np.array([[0, 1, 1, 0]]).T"
   ]
  },
  {
   "cell_type": "markdown",
   "metadata": {
    "id": "YTRdrtWAJc3Z"
   },
   "source": [
    "**Observations:**\n",
    "- The random starting synaptic weights are initialized with three values represented as a 2D array.\n",
    "- Each value in the array corresponds to the synaptic weight connecting the input neurons to the single output neuron of the neural network.\n",
    "- The values of the synaptic weights are randomly generated (given a seed to reproduce).\n",
    "\n"
   ]
  },
  {
   "cell_type": "markdown",
   "metadata": {
    "id": "7bIhQ047J7bs"
   },
   "source": [
    "### Step 5: Train the neural network\n",
    "- Train the neural network using training sets.\n",
    "- Perform training sets __100__ times and make small adjustments each time.\n",
    "- Test the neural network with a new situation."
   ]
  },
  {
   "cell_type": "code",
   "execution_count": 4,
   "metadata": {
    "colab": {
     "base_uri": "https://localhost:8080/"
    },
    "executionInfo": {
     "elapsed": 441,
     "status": "ok",
     "timestamp": 1719061348943,
     "user": {
      "displayName": "Aleena Raj",
      "userId": "16635257578699511263"
     },
     "user_tz": -330
    },
    "id": "V5XlZn08KQqU",
    "outputId": "f9c2a020-06d2-4299-9943-4ec1c1061ca9"
   },
   "outputs": [
    {
     "data": {
      "image/png": "[encoded data removed]",
      "text/plain": [
       "<Figure size 600x400 with 1 Axes>"
      ]
     },
     "metadata": {},
     "output_type": "display_data"
    },
    {
     "name": "stdout",
     "output_type": "stream",
     "text": [
      "New synaptic weights after training:\n",
      "[[ 1.48054446]\n",
      " [-0.01548013]\n",
      " [ 0.02767068]]\n",
      "Considering new situation [1, 0, 0] -> ?:\n",
      "[[0.90156995]]\n"
     ]
    }
   ],
   "source": [
    "    # Train the neural network with the training set\n",
    "    neural_network.train(training_set_inputs, training_set_outputs, 100)\n",
    "\n",
    "    # Print the new synaptic weights after training\n",
    "    print(\"New synaptic weights after training:\")\n",
    "    print(neural_network.synaptic_weights)\n",
    "\n",
    "    # Test the neural network with a new situation\n",
    "    print(\"Considering new situation [1, 0, 0] -> ?:\")\n",
    "    print(neural_network.think(np.array([1, 0, 0])))"
   ]
  },
  {
   "cell_type": "markdown",
   "metadata": {
    "id": "aV50T8szK0ht"
   },
   "source": [
    "**Observations:**\n",
    "\n",
    "- After training, the synaptic weights of the neural network are updated.\n",
    "- The updated synaptic weights are approximately $5.39440666$, $-0.1947217$, and $-0.34310257$.\n",
    "- The neural network is then provided with the new inputs of $1$, $0$, and $0$.\n",
    "- The predicted output by the neural network for these inputs is approximately $0.99995$.\n",
    "- The output represents the result of passing the inputs through the neural network after training, indicating the network's prediction or response.\n",
    "- The plot shows a rapid loss drop to near zero, then a flat line"
   ]
  }
 ],
 "metadata": {
  "colab": {
   "provenance": []
  },
  "kernelspec": {
   "display_name": "Python 3",
   "language": "python",
   "name": "python3"
  },
  "language_info": {
   "codemirror_mode": {
    "name": "ipython",
    "version": 3
   },
   "file_extension": ".py",
   "mimetype": "text/x-python",
   "name": "python",
   "nbconvert_exporter": "python",
   "pygments_lexer": "ipython3",
   "version": "3.10.11"
  }
 },
 "nbformat": 4,
 "nbformat_minor": 0
}
