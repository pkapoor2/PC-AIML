{
 "cells": [
  {
   "cell_type": "markdown",
   "id": "846b798a",
   "metadata": {},
   "source": [
    "\n",
    "# MNIST Hyperparameter Tuning with KerasTuner (RandomSearch)\n",
    "**Course:** Deep Learning  \n",
    "**Topic:** Single-layer dense classifier + hyperparameter tuning  \n",
    "**Dataset:** MNIST  \n",
    "**Author:** Jerome Benton  \n",
    "**Run time:** ~5–10 minutes on CPU (depending on trials)\n",
    "\n",
    "---\n",
    "\n",
    "### Learning Objectives\n",
    "By the end of this notebook you will be able to:\n",
    "- Build a **single-layer dense** neural network (softmax regression) for MNIST.\n",
    "- Use **KerasTuner RandomSearch** to tune model hyperparameters.\n",
    "- Compare a quick **baseline** to a tuned configuration.\n",
    "- Interpret tuner results and retrain the **best model** on the full training set.\n",
    "\n",
    "> Tip: This notebook is designed for **VS Code**. Cells are short and self-contained so you can step through them easily.\n"
   ]
  },
  {
   "cell_type": "markdown",
   "id": "45ea5e07",
   "metadata": {},
   "source": [
    "\n",
    "## 1) Setup\n",
    "Install and import dependencies. We use TensorFlow's Keras API and **KerasTuner** (imported as `keras_tuner`).\n"
   ]
  },
  {
   "cell_type": "code",
   "execution_count": 1,
   "id": "40718d53",
   "metadata": {},
   "outputs": [],
   "source": [
    "\n",
    "# If KerasTuner is missing, uncomment to install.\n",
    "# (It's named 'keras-tuner' on pip but imported as 'keras_tuner'.)\n",
    "# %pip install -q -U keras-tuner\n"
   ]
  },
  {
   "cell_type": "code",
   "execution_count": 2,
   "id": "e7c17ebb",
   "metadata": {},
   "outputs": [
    {
     "name": "stderr",
     "output_type": "stream",
     "text": [
      "2025-09-13 13:22:15.534499: I tensorflow/core/util/port.cc:153] oneDNN custom operations are on. You may see slightly different numerical results due to floating-point round-off errors from different computation orders. To turn them off, set the environment variable `TF_ENABLE_ONEDNN_OPTS=0`.\n",
      "2025-09-13 13:22:15.547907: E external/local_xla/xla/stream_executor/cuda/cuda_fft.cc:485] Unable to register cuFFT factory: Attempting to register factory for plugin cuFFT when one has already been registered\n",
      "2025-09-13 13:22:15.562970: E external/local_xla/xla/stream_executor/cuda/cuda_dnn.cc:8454] Unable to register cuDNN factory: Attempting to register factory for plugin cuDNN when one has already been registered\n",
      "2025-09-13 13:22:15.567283: E external/local_xla/xla/stream_executor/cuda/cuda_blas.cc:1452] Unable to register cuBLAS factory: Attempting to register factory for plugin cuBLAS when one has already been registered\n",
      "2025-09-13 13:22:15.578367: I tensorflow/core/platform/cpu_feature_guard.cc:210] This TensorFlow binary is optimized to use available CPU instructions in performance-critical operations.\n",
      "To enable the following instructions: AVX2 AVX512F AVX512_VNNI FMA, in other operations, rebuild TensorFlow with the appropriate compiler flags.\n",
      "2025-09-13 13:22:16.741261: W tensorflow/compiler/tf2tensorrt/utils/py_utils.cc:38] TF-TRT Warning: Could not find TensorRT\n"
     ]
    },
    {
     "name": "stdout",
     "output_type": "stream",
     "text": [
      "2.17.0\n"
     ]
    }
   ],
   "source": [
    "\n",
    "import os, random, numpy as np\n",
    "import tensorflow as tf\n",
    "\n",
    "# KerasTuner imports\n",
    "import keras_tuner as kt\n",
    "\n",
    "# Reproducibility\n",
    "SEED = 42\n",
    "tf.keras.utils.set_random_seed(SEED)\n",
    "np.random.seed(SEED)\n",
    "random.seed(SEED)\n",
    "\n",
    "print(tf.__version__)\n"
   ]
  },
  {
   "cell_type": "markdown",
   "id": "47fc598b",
   "metadata": {},
   "source": [
    "\n",
    "## 2) Load & preprocess MNIST\n",
    "We normalize pixel values to `[0, 1]` and **flatten** images to 784-dim vectors for a single dense layer.\n",
    "We'll also create a **train/validation/test** split.\n"
   ]
  },
  {
   "cell_type": "code",
   "execution_count": 3,
   "id": "0e9418bf",
   "metadata": {},
   "outputs": [
    {
     "data": {
      "text/plain": [
       "((50000, 784), (10000, 784), (10000, 784))"
      ]
     },
     "execution_count": 3,
     "metadata": {},
     "output_type": "execute_result"
    }
   ],
   "source": [
    "\n",
    "from tensorflow.keras.datasets import mnist\n",
    "\n",
    "# Load data\n",
    "(x_train, y_train), (x_test, y_test) = mnist.load_data()\n",
    "\n",
    "# Normalize to [0,1] and reshape to (n_samples, 784)\n",
    "x_train = (x_train.astype(\"float32\") / 255.0).reshape(-1, 28*28)\n",
    "x_test  = (x_test.astype(\"float32\") / 255.0).reshape(-1, 28*28)\n",
    "\n",
    "num_classes = 10\n",
    "input_dim = x_train.shape[1]\n",
    "\n",
    "# Create a validation split from the training data\n",
    "# We'll hold out 10,000 examples for validation\n",
    "x_val, y_val = x_train[-10000:], y_train[-10000:]\n",
    "x_train, y_train = x_train[:-10000], y_train[:-10000]\n",
    "\n",
    "x_train.shape, x_val.shape, x_test.shape\n"
   ]
  },
  {
   "cell_type": "markdown",
   "id": "222183bb",
   "metadata": {},
   "source": [
    "\n",
    "## 3) Quick baseline (no tuning)\n",
    "A single Dense → Softmax layer is essentially **multinomial logistic regression**.\n",
    "We will:\n",
    "- Use 10 units (one per class)\n",
    "- `adam` optimizer with default learning-rate\n",
    "- `sparse_categorical_crossentropy` loss\n",
    "\n",
    "This gives us a reference to beat.\n"
   ]
  },
  {
   "cell_type": "code",
   "execution_count": 4,
   "id": "e7dfcd4e",
   "metadata": {},
   "outputs": [
    {
     "name": "stderr",
     "output_type": "stream",
     "text": [
      "WARNING: All log messages before absl::InitializeLog() is called are written to STDERR\n",
      "I0000 00:00:1757787739.024984  492212 cuda_executor.cc:1001] could not open file to read NUMA node: /sys/bus/pci/devices/0000:01:00.0/numa_node\n",
      "Your kernel may have been built without NUMA support.\n",
      "2025-09-13 13:22:19.149741: W tensorflow/core/common_runtime/gpu/gpu_device.cc:2343] Cannot dlopen some GPU libraries. Please make sure the missing libraries mentioned above are installed properly if you would like to use GPU. Follow the guide at https://www.tensorflow.org/install/gpu for how to download and setup the required libraries for your platform.\n",
      "Skipping registering GPU devices...\n"
     ]
    },
    {
     "name": "stdout",
     "output_type": "stream",
     "text": [
      "Baseline val acc: 0.9235000014305115\n",
      "Baseline test acc: 0.9210000038146973\n"
     ]
    }
   ],
   "source": [
    "\n",
    "from tensorflow import keras\n",
    "from tensorflow.keras import layers\n",
    "\n",
    "def build_baseline(input_dim, num_classes=10):\n",
    "    model = keras.Sequential([\n",
    "        layers.Input(shape=(input_dim,)),\n",
    "        layers.Dense(num_classes, activation=\"softmax\")\n",
    "    ])\n",
    "    model.compile(\n",
    "        optimizer=\"adam\",\n",
    "        loss=\"sparse_categorical_crossentropy\",\n",
    "        metrics=[\"accuracy\"]\n",
    "    )\n",
    "    return model\n",
    "\n",
    "baseline = build_baseline(input_dim, num_classes)\n",
    "history_baseline = baseline.fit(\n",
    "    x_train, y_train,\n",
    "    validation_data=(x_val, y_val),\n",
    "    epochs=5,\n",
    "    batch_size=128,\n",
    "    verbose=0\n",
    ")\n",
    "\n",
    "print(\"Baseline val acc:\", history_baseline.history[\"val_accuracy\"][-1])\n",
    "test_loss, test_acc = baseline.evaluate(x_test, y_test, verbose=0)\n",
    "print(\"Baseline test acc:\", test_acc)\n"
   ]
  },
  {
   "cell_type": "markdown",
   "id": "ed97b4c7",
   "metadata": {},
   "source": [
    "\n",
    "### Plot baseline learning curve\n"
   ]
  },
  {
   "cell_type": "code",
   "execution_count": 5,
   "id": "0fec2065",
   "metadata": {},
   "outputs": [
    {
     "data": {
      "image/png": "[encoded data removed]",
      "text/plain": [
       "<Figure size 640x480 with 1 Axes>"
      ]
     },
     "metadata": {},
     "output_type": "display_data"
    }
   ],
   "source": [
    "\n",
    "import matplotlib.pyplot as plt\n",
    "\n",
    "plt.figure()\n",
    "plt.plot(history_baseline.history[\"accuracy\"], label=\"train_acc\")\n",
    "plt.plot(history_baseline.history[\"val_accuracy\"], label=\"val_acc\")\n",
    "plt.title(\"Baseline Accuracy\")\n",
    "plt.xlabel(\"Epoch\")\n",
    "plt.ylabel(\"Accuracy\")\n",
    "plt.legend()\n",
    "plt.show()\n"
   ]
  },
  {
   "cell_type": "markdown",
   "id": "141acbc8",
   "metadata": {},
   "source": [
    "\n",
    "## 4) KerasTuner: RandomSearch for a single-layer dense model\n",
    "Our **search space** (all in a single Dense layer before softmax):\n",
    "- `units`: number of hidden units *(0 means no hidden layer → pure softmax regression)*\n",
    "- `activation`: nonlinearity for the hidden layer (if `units > 0`)\n",
    "- `optimizer`: choice of optimizer\n",
    "- `learning_rate`: learning rate for the chosen optimizer\n",
    "\n",
    "We'll keep training settings fixed during search:\n",
    "- `batch_size = 128`\n",
    "- `epochs = 15`\n",
    "- `objective = 'val_accuracy'`\n",
    "- early stopping on validation loss\n"
   ]
  },
  {
   "cell_type": "code",
   "execution_count": 6,
   "id": "0aadd041",
   "metadata": {},
   "outputs": [],
   "source": [
    "\n",
    "def model_builder(hp: kt.HyperParameters) -> keras.Model:\n",
    "    units = hp.Int(\"units\", min_value=0, max_value=256, step=32)\n",
    "    activation = hp.Choice(\"activation\", values=[\"relu\", \"tanh\"])\n",
    "    optimizer_name = hp.Choice(\"optimizer\", values=[\"adam\", \"rmsprop\", \"sgd\"])\n",
    "    lr = hp.Choice(\"learning_rate\", values=[1e-2, 5e-3, 1e-3, 5e-4, 1e-4])\n",
    "\n",
    "    inputs = keras.Input(shape=(input_dim,))\n",
    "    x = inputs\n",
    "\n",
    "    # If units == 0, we skip hidden layer → softmax regression\n",
    "    if units > 0:\n",
    "        x = layers.Dense(units, activation=activation)(x)\n",
    "\n",
    "    outputs = layers.Dense(num_classes, activation=\"softmax\")(x)\n",
    "    model = keras.Model(inputs, outputs)\n",
    "\n",
    "    # Create optimizer with chosen learning rate\n",
    "    if optimizer_name == \"adam\":\n",
    "        optimizer = keras.optimizers.Adam(learning_rate=lr)\n",
    "    elif optimizer_name == \"rmsprop\":\n",
    "        optimizer = keras.optimizers.RMSprop(learning_rate=lr)\n",
    "    else:\n",
    "        optimizer = keras.optimizers.SGD(learning_rate=lr, momentum=0.0, nesterov=False)\n",
    "\n",
    "    model.compile(\n",
    "        optimizer=optimizer,\n",
    "        loss=\"sparse_categorical_crossentropy\",\n",
    "        metrics=[\"accuracy\"]\n",
    "    )\n",
    "    return model\n"
   ]
  },
  {
   "cell_type": "markdown",
   "id": "8b3e6cc2",
   "metadata": {},
   "source": [
    "\n",
    "### Run the tuner\n",
    "We try a small number of trials for classroom speed. Increase `max_trials` to search deeper.\n"
   ]
  },
  {
   "cell_type": "code",
   "execution_count": 7,
   "id": "ac6fc42f",
   "metadata": {},
   "outputs": [
    {
     "name": "stdout",
     "output_type": "stream",
     "text": [
      "Trial 12 Complete [00h 00m 09s]\n",
      "val_accuracy: 0.9322999715805054\n",
      "\n",
      "Best val_accuracy So Far: 0.9786999821662903\n",
      "Total elapsed time: 00h 02m 11s\n",
      "Results summary\n",
      "Results in kt_mnist/single_dense_random\n",
      "Showing 10 best trials\n",
      "Objective(name=\"val_accuracy\", direction=\"max\")\n",
      "\n",
      "Trial 09 summary\n",
      "Hyperparameters:\n",
      "units: 224\n",
      "activation: relu\n",
      "optimizer: adam\n",
      "learning_rate: 0.001\n",
      "Score: 0.9786999821662903\n",
      "\n",
      "Trial 04 summary\n",
      "Hyperparameters:\n",
      "units: 160\n",
      "activation: relu\n",
      "optimizer: adam\n",
      "learning_rate: 0.001\n",
      "Score: 0.9771000146865845\n",
      "\n",
      "Trial 08 summary\n",
      "Hyperparameters:\n",
      "units: 224\n",
      "activation: relu\n",
      "optimizer: rmsprop\n",
      "learning_rate: 0.0005\n",
      "Score: 0.9768999814987183\n",
      "\n",
      "Trial 00 summary\n",
      "Hyperparameters:\n",
      "units: 160\n",
      "activation: relu\n",
      "optimizer: rmsprop\n",
      "learning_rate: 0.005\n",
      "Score: 0.9749000072479248\n",
      "\n",
      "Trial 05 summary\n",
      "Hyperparameters:\n",
      "units: 256\n",
      "activation: relu\n",
      "optimizer: rmsprop\n",
      "learning_rate: 0.001\n",
      "Score: 0.9747999906539917\n",
      "\n",
      "Trial 01 summary\n",
      "Hyperparameters:\n",
      "units: 224\n",
      "activation: relu\n",
      "optimizer: rmsprop\n",
      "learning_rate: 0.01\n",
      "Score: 0.972100019454956\n",
      "\n",
      "Trial 07 summary\n",
      "Hyperparameters:\n",
      "units: 256\n",
      "activation: relu\n",
      "optimizer: adam\n",
      "learning_rate: 0.005\n",
      "Score: 0.9697999954223633\n",
      "\n",
      "Trial 11 summary\n",
      "Hyperparameters:\n",
      "units: 32\n",
      "activation: relu\n",
      "optimizer: rmsprop\n",
      "learning_rate: 0.0001\n",
      "Score: 0.9322999715805054\n",
      "\n",
      "Trial 03 summary\n",
      "Hyperparameters:\n",
      "units: 256\n",
      "activation: relu\n",
      "optimizer: sgd\n",
      "learning_rate: 0.01\n",
      "Score: 0.930899977684021\n",
      "\n",
      "Trial 10 summary\n",
      "Hyperparameters:\n",
      "units: 32\n",
      "activation: relu\n",
      "optimizer: sgd\n",
      "learning_rate: 0.01\n",
      "Score: 0.925000011920929\n"
     ]
    }
   ],
   "source": [
    "\n",
    "MAX_TRIALS = 12  # adjust for deeper/shallower search\n",
    "EXECUTIONS_PER_TRIAL = 1\n",
    "\n",
    "tuner = kt.RandomSearch(\n",
    "    hypermodel=model_builder,\n",
    "    objective=\"val_accuracy\",\n",
    "    max_trials=MAX_TRIALS,\n",
    "    executions_per_trial=EXECUTIONS_PER_TRIAL,\n",
    "    seed=SEED,\n",
    "    directory=\"kt_mnist\",\n",
    "    project_name=\"single_dense_random\"\n",
    ")\n",
    "\n",
    "early_stop = keras.callbacks.EarlyStopping(\n",
    "    monitor=\"val_loss\", patience=3, restore_best_weights=True\n",
    ")\n",
    "\n",
    "tuner.search_space_summary()\n",
    "\n",
    "tuner.search(\n",
    "    x_train, y_train,\n",
    "    epochs=15,\n",
    "    validation_data=(x_val, y_val),\n",
    "    batch_size=128,\n",
    "    callbacks=[early_stop],\n",
    "    verbose=1\n",
    ")\n",
    "\n",
    "tuner.results_summary()\n"
   ]
  },
  {
   "cell_type": "markdown",
   "id": "09f4088d",
   "metadata": {},
   "source": [
    "\n",
    "## 5) Evaluate the best model\n",
    "We extract the best hyperparameters, rebuild the model, and evaluate on the **held-out test** set.\n"
   ]
  },
  {
   "cell_type": "code",
   "execution_count": 8,
   "id": "885f1fff",
   "metadata": {},
   "outputs": [
    {
     "name": "stdout",
     "output_type": "stream",
     "text": [
      "Best hyperparameters:\n",
      "  units: 224\n",
      "  activation: relu\n",
      "  optimizer: adam\n",
      "  learning_rate: 0.001\n"
     ]
    },
    {
     "name": "stdout",
     "output_type": "stream",
     "text": [
      "Best model test accuracy: 0.9771\n"
     ]
    }
   ],
   "source": [
    "\n",
    "best_hp = tuner.get_best_hyperparameters(1)[0]\n",
    "print(\"Best hyperparameters:\")\n",
    "for p in best_hp.values.keys():\n",
    "    print(f\"  {p}: {best_hp.get(p)}\")\n",
    "\n",
    "best_model = tuner.hypermodel.build(best_hp)\n",
    "\n",
    "history_best = best_model.fit(\n",
    "    x_train, y_train,\n",
    "    validation_data=(x_val, y_val),\n",
    "    epochs=15,\n",
    "    batch_size=128,\n",
    "    callbacks=[early_stop],\n",
    "    verbose=0\n",
    ")\n",
    "\n",
    "test_loss, test_acc = best_model.evaluate(x_test, y_test, verbose=0)\n",
    "print(f\"Best model test accuracy: {test_acc:.4f}\")\n"
   ]
  },
  {
   "cell_type": "markdown",
   "id": "8eca8216",
   "metadata": {},
   "source": [
    "\n",
    "### Plot tuned model learning curve\n"
   ]
  },
  {
   "cell_type": "code",
   "execution_count": 9,
   "id": "39683bf4",
   "metadata": {},
   "outputs": [
    {
     "data": {
      "image/png": "[encoded data removed]",
      "text/plain": [
       "<Figure size 640x480 with 1 Axes>"
      ]
     },
     "metadata": {},
     "output_type": "display_data"
    }
   ],
   "source": [
    "\n",
    "plt.figure()\n",
    "plt.plot(history_best.history[\"accuracy\"], label=\"train_acc\")\n",
    "plt.plot(history_best.history[\"val_accuracy\"], label=\"val_acc\")\n",
    "plt.title(\"Tuned Model Accuracy\")\n",
    "plt.xlabel(\"Epoch\")\n",
    "plt.ylabel(\"Accuracy\")\n",
    "plt.legend()\n",
    "plt.show()\n"
   ]
  },
  {
   "cell_type": "markdown",
   "id": "347f873c",
   "metadata": {},
   "source": [
    "\n",
    "## 6) Baseline vs tuned: quick comparison\n"
   ]
  },
  {
   "cell_type": "code",
   "execution_count": 10,
   "id": "19917a9f",
   "metadata": {},
   "outputs": [
    {
     "name": "stdout",
     "output_type": "stream",
     "text": [
      "Baseline test acc: 0.9210\n",
      "Tuned    test acc: 0.9771\n",
      "Absolute improvement: 5.61 percentage points\n"
     ]
    }
   ],
   "source": [
    "\n",
    "baseline_test_acc = baseline.evaluate(x_test, y_test, verbose=0)[1]\n",
    "tuned_test_acc = best_model.evaluate(x_test, y_test, verbose=0)[1]\n",
    "\n",
    "print(f\"Baseline test acc: {baseline_test_acc:.4f}\")\n",
    "print(f\"Tuned    test acc: {tuned_test_acc:.4f}\")\n",
    "\n",
    "improvement = 100.0 * (tuned_test_acc - baseline_test_acc)\n",
    "print(f\"Absolute improvement: {improvement:.2f} percentage points\")\n"
   ]
  },
  {
   "cell_type": "markdown",
   "id": "89362e89",
   "metadata": {},
   "source": [
    "\n",
    "## 7) Extensions / Exercises\n",
    "- Add `l2` weight decay as a hyperparameter.\n",
    "- Tune `batch_size` by defining a custom `HyperModel` with a custom `fit()`.\n",
    "- Try **BayesianOptimization** or **Hyperband** in `keras_tuner`.\n",
    "- Compare single-layer vs. two-layer dense networks under the same budget.\n",
    "- Track experiments with CSVLogger and visualize trial-by-trial results.\n"
   ]
  }
 ],
 "metadata": {
  "kernelspec": {
   "display_name": "teach",
   "language": "python",
   "name": "python3"
  },
  "language_info": {
   "codemirror_mode": {
    "name": "ipython",
    "version": 3
   },
   "file_extension": ".py",
   "mimetype": "text/x-python",
   "name": "python",
   "nbconvert_exporter": "python",
   "pygments_lexer": "ipython3",
   "version": "3.12.3"
  }
 },
 "nbformat": 4,
 "nbformat_minor": 5
}
