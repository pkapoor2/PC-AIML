{
 "cells": [
  {
   "cell_type": "markdown",
   "metadata": {
    "id": "zaaQ96cwmsXy"
   },
   "source": [
    "# **Assisted Practice: MNIST Digit Classifier CNN with PyTorch**\n",
    "\n",
    "In this example, we develop and train a deep learning model utilizing the MNIST dataset, which comprises 28x28 grayscale images of handwritten digits from 0 to 9. The model, a fully connected neural network, is meticulously designed to classify these images into their respective digit categories. We employ PyTorch, a powerful and flexible deep learning framework, to facilitate our implementation."
   ]
  },
  {
   "cell_type": "markdown",
   "metadata": {
    "id": "CArxiwXJlT6y"
   },
   "source": [
    "## Steps to be followed:\n",
    "- Import necessary libraries\n",
    "- Data Transformation and Loading\n",
    "- Display Sample Image\n",
    "- Define the Neural Network\n",
    "- Set Up Loss Function and Optimize\n",
    "- Testing the Model\n",
    "- Display Prediction on Test Data"
   ]
  },
  {
   "cell_type": "markdown",
   "metadata": {
    "id": "hRaxmMQcjj4B"
   },
   "source": [
    "### Step 1: Import necessary libraries"
   ]
  },
  {
   "cell_type": "code",
   "execution_count": 1,
   "metadata": {
    "executionInfo": {
     "elapsed": 15903,
     "status": "ok",
     "timestamp": 1719129448329,
     "user": {
      "displayName": "Aleena Raj",
      "userId": "16635257578699511263"
     },
     "user_tz": -330
    },
    "id": "Zmr3grkYTsFK"
   },
   "outputs": [],
   "source": [
    "import torch\n",
    "import torchvision\n",
    "from torchvision import datasets, transforms\n",
    "import torch.nn as nn\n",
    "import torch.nn.functional as F\n",
    "import torch.optim as optim\n",
    "import matplotlib.pyplot as plt"
   ]
  },
  {
   "cell_type": "markdown",
   "metadata": {
    "id": "eprV1kVmjsyC"
   },
   "source": [
    "### Step 2: Data Transformation and Loading\n",
    "- Define transformations that convert image data to tensor and normalize it.\n",
    "- Load the MNIST dataset for training and testing.\n",
    "- Create DataLoader objects that provide batches of images and labels for training and testing, shuffling the training data to improve learning."
   ]
  },
  {
   "cell_type": "code",
   "execution_count": 2,
   "metadata": {
    "executionInfo": {
     "elapsed": 386,
     "status": "ok",
     "timestamp": 1719130732228,
     "user": {
      "displayName": "Aleena Raj",
      "userId": "16635257578699511263"
     },
     "user_tz": -330
    },
    "id": "6SEehL2lTvcu"
   },
   "outputs": [
    {
     "name": "stdout",
     "output_type": "stream",
     "text": [
      "Downloading http://yann.lecun.com/exdb/mnist/train-images-idx3-ubyte.gz\n",
      "Failed to download (trying next):\n",
      "HTTP Error 404: Not Found\n",
      "\n",
      "Downloading https://ossci-datasets.s3.amazonaws.com/mnist/train-images-idx3-ubyte.gz\n",
      "Downloading https://ossci-datasets.s3.amazonaws.com/mnist/train-images-idx3-ubyte.gz to ./data\\MNIST\\raw\\train-images-idx3-ubyte.gz\n"
     ]
    },
    {
     "name": "stderr",
     "output_type": "stream",
     "text": [
      "100%|██████████| 9.91M/9.91M [00:00<00:00, 10.7MB/s]\n"
     ]
    },
    {
     "name": "stdout",
     "output_type": "stream",
     "text": [
      "Extracting ./data\\MNIST\\raw\\train-images-idx3-ubyte.gz to ./data\\MNIST\\raw\n",
      "\n",
      "Downloading http://yann.lecun.com/exdb/mnist/train-labels-idx1-ubyte.gz\n",
      "Failed to download (trying next):\n",
      "HTTP Error 404: Not Found\n",
      "\n",
      "Downloading https://ossci-datasets.s3.amazonaws.com/mnist/train-labels-idx1-ubyte.gz\n",
      "Downloading https://ossci-datasets.s3.amazonaws.com/mnist/train-labels-idx1-ubyte.gz to ./data\\MNIST\\raw\\train-labels-idx1-ubyte.gz\n"
     ]
    },
    {
     "name": "stderr",
     "output_type": "stream",
     "text": [
      "100%|██████████| 28.9k/28.9k [00:00<00:00, 404kB/s]\n"
     ]
    },
    {
     "name": "stdout",
     "output_type": "stream",
     "text": [
      "Extracting ./data\\MNIST\\raw\\train-labels-idx1-ubyte.gz to ./data\\MNIST\\raw\n",
      "\n",
      "Downloading http://yann.lecun.com/exdb/mnist/t10k-images-idx3-ubyte.gz\n",
      "Failed to download (trying next):\n",
      "HTTP Error 404: Not Found\n",
      "\n",
      "Downloading https://ossci-datasets.s3.amazonaws.com/mnist/t10k-images-idx3-ubyte.gz\n",
      "Downloading https://ossci-datasets.s3.amazonaws.com/mnist/t10k-images-idx3-ubyte.gz to ./data\\MNIST\\raw\\t10k-images-idx3-ubyte.gz\n"
     ]
    },
    {
     "name": "stderr",
     "output_type": "stream",
     "text": [
      "100%|██████████| 1.65M/1.65M [00:00<00:00, 2.79MB/s]\n"
     ]
    },
    {
     "name": "stdout",
     "output_type": "stream",
     "text": [
      "Extracting ./data\\MNIST\\raw\\t10k-images-idx3-ubyte.gz to ./data\\MNIST\\raw\n",
      "\n",
      "Downloading http://yann.lecun.com/exdb/mnist/t10k-labels-idx1-ubyte.gz\n",
      "Failed to download (trying next):\n",
      "HTTP Error 404: Not Found\n",
      "\n",
      "Downloading https://ossci-datasets.s3.amazonaws.com/mnist/t10k-labels-idx1-ubyte.gz\n",
      "Downloading https://ossci-datasets.s3.amazonaws.com/mnist/t10k-labels-idx1-ubyte.gz to ./data\\MNIST\\raw\\t10k-labels-idx1-ubyte.gz\n"
     ]
    },
    {
     "name": "stderr",
     "output_type": "stream",
     "text": [
      "100%|██████████| 4.54k/4.54k [00:00<00:00, 4.73MB/s]"
     ]
    },
    {
     "name": "stdout",
     "output_type": "stream",
     "text": [
      "Extracting ./data\\MNIST\\raw\\t10k-labels-idx1-ubyte.gz to ./data\\MNIST\\raw\n",
      "\n"
     ]
    },
    {
     "name": "stderr",
     "output_type": "stream",
     "text": [
      "\n"
     ]
    }
   ],
   "source": [
    "# Data transformation and loading\n",
    "transform_nm = transforms.Compose([\n",
    "    transforms.ToTensor(),\n",
    "    transforms.Normalize((0.5,), (0.5,))\n",
    "])\n",
    "\n",
    "train_data_nm = datasets.MNIST(root='./data', train=True, transform=transform_nm, download=True)\n",
    "train_loader_nm = torch.utils.data.DataLoader(dataset=train_data_nm, batch_size=64, shuffle=True)\n",
    "\n",
    "test_data_nm = datasets.MNIST(root='./data', train=False, transform=transform_nm)\n",
    "test_loader_nm = torch.utils.data.DataLoader(dataset=test_data_nm, batch_size=64, shuffle=False)"
   ]
  },
  {
   "cell_type": "markdown",
   "metadata": {
    "id": "OYIgdFRjkGG3"
   },
   "source": [
    "### Step 3: Display Sample Image\n",
    "- Define a function to visualize a sample image from a data loader.\n",
    "- Plot an image from the training set to verify data loading and preprocessing."
   ]
  },
  {
   "cell_type": "code",
   "execution_count": 3,
   "metadata": {
    "colab": {
     "base_uri": "https://localhost:8080/",
     "height": 452
    },
    "executionInfo": {
     "elapsed": 1261,
     "status": "ok",
     "timestamp": 1719130735836,
     "user": {
      "displayName": "Aleena Raj",
      "userId": "16635257578699511263"
     },
     "user_tz": -330
    },
    "id": "jROz8T2NJUDh",
    "outputId": "0acbb7a0-95c2-4b0d-942f-0894179058c9"
   },
   "outputs": [
    {
     "data": {
      "image/png": "[encoded data removed]",
      "text/plain": [
       "<Figure size 640x480 with 1 Axes>"
      ]
     },
     "metadata": {},
     "output_type": "display_data"
    }
   ],
   "source": [
    "def display_sample_image_nm(loader_nm):\n",
    "    data_iter_nm = iter(loader_nm)\n",
    "    images_nm, labels_nm = next(data_iter_nm)\n",
    "    plt.imshow(images_nm[6].numpy().squeeze(), cmap='gray')\n",
    "    plt.title(f\"Sample Label: {labels_nm[6]}\")\n",
    "    plt.show()\n",
    "display_sample_image_nm(train_loader_nm)"
   ]
  },
  {
   "cell_type": "markdown",
   "metadata": {
    "id": "8R1CBCL6kPU5"
   },
   "source": [
    "### Step 4: Define the Neural Network\n",
    "- Define a classifier using the PyTorch Module class, comprising three fully connected layers.\n",
    "- Implement the forward pass where data is reshaped, passed through layers with ReLU activations, and a softmax layer is not applied since `nn.CrossEntropyLoss`() does this internally. Applying softmax explicitly before passing it to `nn.CrossEntropyLoss()` can lead to incorrect training dynamics\n",
    "- These dynamics can lead to models that do not learn effectively, generalize poorly on new data, or exhibit unstable training patterns."
   ]
  },
  {
   "cell_type": "code",
   "execution_count": 4,
   "metadata": {
    "executionInfo": {
     "elapsed": 420,
     "status": "ok",
     "timestamp": 1719130740266,
     "user": {
      "displayName": "Aleena Raj",
      "userId": "16635257578699511263"
     },
     "user_tz": -330
    },
    "id": "XWh_rtgkJdXw"
   },
   "outputs": [],
   "source": [
    "class MNISTClassifier(nn.Module):\n",
    "    def __init__(self):\n",
    "        super(MNISTClassifier, self).__init__()\n",
    "        self.fc1 = nn.Linear(28*28, 128)\n",
    "        self.fc2 = nn.Linear(128, 128)\n",
    "        self.fc3 = nn.Linear(128, 10)\n",
    "\n",
    "    def forward(self, x):\n",
    "        x = x.view(-1, 28*28)\n",
    "        x = F.relu(self.fc1(x))\n",
    "        x = F.relu(self.fc2(x))\n",
    "        x = self.fc3(x)\n",
    "        #x = F.softmax(self.fc3(x), dim=1)\n",
    "        return x"
   ]
  },
  {
   "cell_type": "markdown",
   "metadata": {
    "id": "Un-gs4gRkfm1"
   },
   "source": [
    "### Step 5: Set Up Loss Function and Optimize\n",
    "- **CrossEntropyLoss:** Used for multi-class classification tasks.\n",
    "- **Adam Optimizer:** A method for stochastic optimization with a set learning rate of 0.001."
   ]
  },
  {
   "cell_type": "code",
   "execution_count": 5,
   "metadata": {
    "executionInfo": {
     "elapsed": 390,
     "status": "ok",
     "timestamp": 1719130744764,
     "user": {
      "displayName": "Aleena Raj",
      "userId": "16635257578699511263"
     },
     "user_tz": -330
    },
    "id": "aerqDox8KcFF"
   },
   "outputs": [],
   "source": [
    "model = MNISTClassifier()\n",
    "criterion = nn.CrossEntropyLoss()\n",
    "optimizer = optim.Adam(model.parameters(), lr=0.001)"
   ]
  },
  {
   "cell_type": "markdown",
   "metadata": {
    "id": "pe64KDk2k6Qs"
   },
   "source": [
    "### Step 6: Training the Model and Save the model at each epoch\n",
    "\n",
    "\n",
    "- Train the model over multiple epochs, keeping track of loss and accuracy, adjusting weights using backpropagation."
   ]
  },
  {
   "cell_type": "code",
   "execution_count": 6,
   "metadata": {
    "colab": {
     "base_uri": "https://localhost:8080/"
    },
    "executionInfo": {
     "elapsed": 207965,
     "status": "ok",
     "timestamp": 1719130956438,
     "user": {
      "displayName": "Aleena Raj",
      "userId": "16635257578699511263"
     },
     "user_tz": -330
    },
    "id": "M-MHTEEwKfY5",
    "outputId": "04969051-79ca-4f89-da0f-6a97ae87d3ec"
   },
   "outputs": [
    {
     "name": "stdout",
     "output_type": "stream",
     "text": [
      "Epoch 1/10, Loss: 0.37481267722065387, Train Accuracy: 88.73%\n",
      "Model saved to ./mnist_model.pth\n",
      "Epoch 2/10, Loss: 0.17202637981631355, Train Accuracy: 94.79%\n",
      "Model saved to ./mnist_model.pth\n",
      "Epoch 3/10, Loss: 0.1267061657609859, Train Accuracy: 96.16%\n",
      "Model saved to ./mnist_model.pth\n",
      "Epoch 4/10, Loss: 0.09927949833292474, Train Accuracy: 96.91%\n",
      "Model saved to ./mnist_model.pth\n",
      "Epoch 5/10, Loss: 0.08712155936009833, Train Accuracy: 97.26%\n",
      "Model saved to ./mnist_model.pth\n",
      "Epoch 6/10, Loss: 0.07534124410953492, Train Accuracy: 97.61%\n",
      "Model saved to ./mnist_model.pth\n",
      "Epoch 7/10, Loss: 0.06566268131151787, Train Accuracy: 97.92%\n",
      "Model saved to ./mnist_model.pth\n",
      "Epoch 8/10, Loss: 0.059369419159036055, Train Accuracy: 98.07%\n",
      "Model saved to ./mnist_model.pth\n",
      "Epoch 9/10, Loss: 0.054660805524872944, Train Accuracy: 98.19%\n",
      "Model saved to ./mnist_model.pth\n",
      "Epoch 10/10, Loss: 0.0482834904636594, Train Accuracy: 98.41%\n",
      "Model saved to ./mnist_model.pth\n"
     ]
    }
   ],
   "source": [
    "# Define the path for saving the model\n",
    "model_path = './mnist_model.pth'\n",
    "\n",
    "num_epochs = 10\n",
    "for epoch in range(num_epochs):\n",
    "    model.train()\n",
    "    running_loss = 0.0\n",
    "    correct_train = 0\n",
    "    total_train = 0\n",
    "    for images_nm, labels_nm in train_loader_nm:\n",
    "        optimizer.zero_grad()\n",
    "        outputs_nm = model(images_nm)\n",
    "        loss = criterion(outputs_nm, labels_nm)\n",
    "        loss.backward()\n",
    "        optimizer.step()\n",
    "\n",
    "        running_loss += loss.item()\n",
    "        _, predicted_train = torch.max(outputs_nm.data, 1)\n",
    "        total_train += labels_nm.size(0)\n",
    "        correct_train += (predicted_train == labels_nm).sum().item()\n",
    "\n",
    "    training_accuracy = 100 * correct_train / total_train\n",
    "    print(f\"Epoch {epoch+1}/{num_epochs}, Loss: {running_loss/len(train_loader_nm)}, Train Accuracy: {training_accuracy:.2f}%\")\n",
    "\n",
    "    # Save the model at the end of each epoch\n",
    "    torch.save(model.state_dict(), model_path)\n",
    "    print(f\"Model saved to {model_path}\")"
   ]
  },
  {
   "cell_type": "markdown",
   "metadata": {
    "id": "Tve2oXNZk29d"
   },
   "source": [
    "### Step 7: Testing the Model\n",
    "- Evaluate the model on the test dataset without updating weights, calculating overall accuracy."
   ]
  },
  {
   "cell_type": "code",
   "execution_count": 7,
   "metadata": {
    "colab": {
     "base_uri": "https://localhost:8080/"
    },
    "executionInfo": {
     "elapsed": 2969,
     "status": "ok",
     "timestamp": 1719130262440,
     "user": {
      "displayName": "Aleena Raj",
      "userId": "16635257578699511263"
     },
     "user_tz": -330
    },
    "id": "1zEPRY82KiIP",
    "outputId": "6f7e1aec-a6ed-4c7c-ad06-f9344f350dd4"
   },
   "outputs": [
    {
     "name": "stdout",
     "output_type": "stream",
     "text": [
      "Model accuracy on test set: 97.1%\n"
     ]
    }
   ],
   "source": [
    "# Test the model\n",
    "model.eval()\n",
    "correct = 0\n",
    "total = 0\n",
    "with torch.no_grad():\n",
    "    for images_nm, labels_nm in test_loader_nm:\n",
    "        outputs_nm = model(images_nm)\n",
    "        _, predicted = torch.max(outputs_nm.data, 1)\n",
    "        total += labels_nm.size(0)\n",
    "        correct += (predicted == labels_nm).sum().item()\n",
    "\n",
    "accuracy = 100 * correct / total\n",
    "print(f\"Model accuracy on test set: {accuracy}%\")"
   ]
  },
  {
   "cell_type": "markdown",
   "metadata": {
    "id": "ialVeEgvlM6a"
   },
   "source": [
    "### Step 8: Display Prediction on Test Data"
   ]
  },
  {
   "cell_type": "code",
   "execution_count": 8,
   "metadata": {
    "colab": {
     "base_uri": "https://localhost:8080/",
     "height": 482
    },
    "executionInfo": {
     "elapsed": 1100,
     "status": "ok",
     "timestamp": 1719130438189,
     "user": {
      "displayName": "Aleena Raj",
      "userId": "16635257578699511263"
     },
     "user_tz": -330
    },
    "id": "Wc1M7aG2J5To",
    "outputId": "17f65a23-ac27-4fa8-e6ea-ffc3dbc9620a"
   },
   "outputs": [
    {
     "data": {
      "image/png": "[encoded data removed]",
      "text/plain": [
       "<Figure size 1200x600 with 2 Axes>"
      ]
     },
     "metadata": {},
     "output_type": "display_data"
    }
   ],
   "source": [
    "def display_prediction_nm(loader_nm):\n",
    "    model.eval()  # Ensure the model is in evaluation mode\n",
    "    data_iter_nm = iter(loader_nm)\n",
    "    images_nm, labels_nm = next(data_iter_nm)\n",
    "    outputs_nm = model(images_nm[:1])  # Get the output for the first image\n",
    "    _, predicted_nm = torch.max(outputs_nm, 1)\n",
    "\n",
    "    # Plotting\n",
    "    fig, ax = plt.subplots(1, 2, figsize=(12, 6))\n",
    "    ax[0].imshow(images_nm[0].numpy().squeeze(), cmap='gray')\n",
    "    ax[0].set_title(f\"Actual Label: {labels_nm[0]}\")\n",
    "    ax[0].axis('off')\n",
    "\n",
    "    ax[1].imshow(images_nm[0].numpy().squeeze(), cmap='gray')\n",
    "    ax[1].set_title(f\"Predicted Label: {predicted_nm.item()}\")\n",
    "    ax[1].axis('off')\n",
    "\n",
    "    plt.show()\n",
    "\n",
    "# Display prediction for the first image in the test set\n",
    "display_prediction_nm(test_loader_nm)\n"
   ]
  },
  {
   "cell_type": "code",
   "execution_count": null,
   "metadata": {
    "id": "aqApzPj_jGzD"
   },
   "outputs": [],
   "source": []
  }
 ],
 "metadata": {
  "colab": {
   "provenance": []
  },
  "kernelspec": {
   "display_name": "Python 3",
   "language": "python",
   "name": "python3"
  },
  "language_info": {
   "codemirror_mode": {
    "name": "ipython",
    "version": 3
   },
   "file_extension": ".py",
   "mimetype": "text/x-python",
   "name": "python",
   "nbconvert_exporter": "python",
   "pygments_lexer": "ipython3",
   "version": "3.10.11"
  }
 },
 "nbformat": 4,
 "nbformat_minor": 0
}
