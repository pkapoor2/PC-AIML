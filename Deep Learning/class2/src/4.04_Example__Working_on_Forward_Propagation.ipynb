{
 "cells": [
  {
   "cell_type": "markdown",
   "metadata": {
    "id": "K2arIzBldvIH"
   },
   "source": [
    "# __Working on Forward Propagation__\n",
    "In the context of neural networks, forward propagation refers to the process of passing input data through the network's layers one by one to compute the corresponding output. During forward propagation, each layer performs a series of mathematical operations, such as matrix multiplications and activation functions, to transform the input and generate an output. This process allows the network to make predictions or perform computations based on the given input data.\n",
    "\n",
    "Let us understand how forward propagation works."
   ]
  },
  {
   "cell_type": "markdown",
   "metadata": {
    "id": "U-ZYLRM2o4LP"
   },
   "source": [
    "## Steps to be followed:\n",
    "1. Import the required libraries\n",
    "2. Initialize the data and predicting the output\n",
    "3. Calculate the errors\n",
    "4. Calculate the sum of squared error\n",
    "\n",
    "\n",
    "\n"
   ]
  },
  {
   "cell_type": "markdown",
   "metadata": {
    "id": "Xx8UOmDJeIQt"
   },
   "source": [
    "### Step 1: Import the required libraries\n",
    "- Import NumPy package.\n",
    "- Import the Python package matplotlib, which sets the padding between and around the subplots as well as the figure size."
   ]
  },
  {
   "cell_type": "code",
   "execution_count": 1,
   "metadata": {
    "executionInfo": {
     "elapsed": 7,
     "status": "ok",
     "timestamp": 1719082088646,
     "user": {
      "displayName": "Ashish Jangid",
      "userId": "15170006874299393728"
     },
     "user_tz": -330
    },
    "id": "f3DtGsv3eu73"
   },
   "outputs": [],
   "source": [
    "# Import the required libraries\n",
    "import numpy as np\n",
    "import matplotlib.pyplot as plt"
   ]
  },
  {
   "cell_type": "markdown",
   "metadata": {
    "id": "udPXXLbzex5r"
   },
   "source": [
    "### Step 2: Initialize the data and predict the output\n",
    "- Initializing the data:\n",
    "  - Generate an array **x** with 11 random elements.\n",
    "  - Generate weights with 11 random elements.\n",
    "- Predicting the output:\n",
    "\n",
    "  - Predict the `y_pred` using the activation function.\n",
    "  - Print the predicted values `y_pred`.\n"
   ]
  },
  {
   "cell_type": "code",
   "execution_count": 2,
   "metadata": {
    "executionInfo": {
     "elapsed": 582,
     "status": "ok",
     "timestamp": 1719082118233,
     "user": {
      "displayName": "Ashish Jangid",
      "userId": "15170006874299393728"
     },
     "user_tz": -330
    },
    "id": "YHCoOorEXA7E"
   },
   "outputs": [],
   "source": [
    "# Initialize the data and network parameters\n",
    "x = np.random.rand(11)  # Random input data\n",
    "weights = np.random.rand(11)  # Random weights\n",
    "bias = np.random.rand(1)  # Random bias"
   ]
  },
  {
   "cell_type": "code",
   "execution_count": 3,
   "metadata": {
    "executionInfo": {
     "elapsed": 579,
     "status": "ok",
     "timestamp": 1719082217661,
     "user": {
      "displayName": "Ashish Jangid",
      "userId": "15170006874299393728"
     },
     "user_tz": -330
    },
    "id": "Za6kjRknSKyu"
   },
   "outputs": [],
   "source": [
    "# Define the activation function (ReLU)\n",
    "def relu(z):\n",
    "    return np.maximum(0, z)"
   ]
  },
  {
   "cell_type": "code",
   "execution_count": 4,
   "metadata": {
    "colab": {
     "base_uri": "https://localhost:8080/"
    },
    "executionInfo": {
     "elapsed": 513,
     "status": "ok",
     "timestamp": 1719082235135,
     "user": {
      "displayName": "Ashish Jangid",
      "userId": "15170006874299393728"
     },
     "user_tz": -330
    },
    "id": "Sr2TXJpVSPl1",
    "outputId": "22170b23-bc67-4ca3-9cb8-1911c1453c92"
   },
   "outputs": [
    {
     "name": "stdout",
     "output_type": "stream",
     "text": [
      "Predicted values (y_pred): [1.90152727]\n"
     ]
    }
   ],
   "source": [
    "# Perform forward propagation\n",
    "z = np.dot(weights, x) + bias  # Linear transformation\n",
    "y_pred = relu(z)  # Applying activation function\n",
    "print(\"Predicted values (y_pred):\", y_pred)"
   ]
  },
  {
   "cell_type": "markdown",
   "metadata": {
    "id": "sV1Fl8egTPIN"
   },
   "source": [
    "In forward propagation, the input x is linearly transformed by multiplying it with the network's weights and adding the bias `(z = np.dot(weights, x) + bias)`. The resulting value z is then passed through an activation function, such as ReLU `(y_pred = relu(z))`, to introduce non-linearity into the model. The final output, y_pred, is the predicted value after these transformations and activation."
   ]
  },
  {
   "cell_type": "code",
   "execution_count": 5,
   "metadata": {},
   "outputs": [
    {
     "data": {
      "image/png": "[encoded data removed]",
      "text/plain": [
       "<Figure size 800x500 with 1 Axes>"
      ]
     },
     "metadata": {},
     "output_type": "display_data"
    }
   ],
   "source": [
    "# Forward propagation visual: input -> linear -> activation -> output (conceptual diagram)\n",
    "import matplotlib.pyplot as plt\n",
    "\n",
    "plt.figure(figsize=(8, 5))\n",
    "\n",
    "# Helper to draw a labeled box\n",
    "def box(xy, text):\n",
    "    plt.annotate(\n",
    "        text, xy, xytext=xy,\n",
    "        bbox=dict(boxstyle=\"round,pad=0.6\"),\n",
    "        ha=\"center\", va=\"center\"\n",
    "    )\n",
    "\n",
    "# Nodes\n",
    "box((0.1, 0.5), \"Input x\")\n",
    "box((0.4, 0.5), \"Weights W\\nBias b\")\n",
    "box((0.7, 0.5), \"Linear z = W·x + b\")\n",
    "box((0.9, 0.5), \"Activation f(z)\\nOutput ŷ\")\n",
    "\n",
    "# Arrows\n",
    "plt.annotate(\"\", (0.35, 0.5), (0.15, 0.5), arrowprops=dict(arrowstyle=\"->\"))\n",
    "plt.annotate(\"\", (0.65, 0.5), (0.45, 0.5), arrowprops=dict(arrowstyle=\"->\"))\n",
    "plt.annotate(\"\", (0.85, 0.5), (0.75, 0.5), arrowprops=dict(arrowstyle=\"->\"))\n",
    "\n",
    "# Extras\n",
    "plt.text(0.4, 0.35, \"learnable parameters\", ha=\"center\")\n",
    "plt.axis(\"off\")\n",
    "plt.tight_layout()\n",
    "plt.show()\n"
   ]
  },
  {
   "cell_type": "code",
   "execution_count": 6,
   "metadata": {},
   "outputs": [
    {
     "data": {
      "image/png": "[encoded data removed]",
      "text/plain": [
       "<Figure size 900x500 with 1 Axes>"
      ]
     },
     "metadata": {},
     "output_type": "display_data"
    }
   ],
   "source": [
    "# Visualize per-feature contributions to the linear combination z\n",
    "import numpy as np\n",
    "import matplotlib.pyplot as plt\n",
    "\n",
    "# Fallback demo data if your notebook variables don't exist\n",
    "g = globals()\n",
    "if not all(k in g for k in [\"x\", \"weights\", \"bias\"]):\n",
    "    np.random.seed(0)\n",
    "    x = np.random.rand(10, 1)          # shape (features, 1)\n",
    "    weights = np.random.rand(1, 10)    # shape (1, features)\n",
    "    bias = np.random.rand(1)\n",
    "\n",
    "# Flatten to 1D for plotting\n",
    "x_flat = np.ravel(x)\n",
    "w_flat = np.ravel(weights)\n",
    "contrib = w_flat * x_flat\n",
    "z = np.sum(contrib) + float(np.ravel(bias)[0])\n",
    "\n",
    "idx = np.arange(len(x_flat))\n",
    "\n",
    "plt.figure(figsize=(9, 5))\n",
    "plt.bar(idx, x_flat, color=\"#6baed6\", label=\"Input x_i\")  # light blue\n",
    "plt.plot(idx, contrib, marker=\"o\", linewidth=2, color=\"#fd8d3c\", label=\"Weighted contribution w_i * x_i\")  # orange\n",
    "plt.title(f\"Per-feature contributions to z (sum(contrib)+b = {z:.3f})\")\n",
    "plt.xlabel(\"Feature index\")\n",
    "plt.ylabel(\"Value\")\n",
    "plt.legend()\n",
    "plt.tight_layout()\n",
    "plt.show()\n"
   ]
  },
  {
   "cell_type": "markdown",
   "metadata": {
    "id": "hahg48_GfjcX"
   },
   "source": [
    "### Step 3: Calculate the errors\n",
    "- Set the target value **y** to 1.\n",
    "- Calculate the absolute difference between the predicted values **y_pred** and the target value **y** to obtain the error. Print the error array and compute the sum of errors using the **sum()** function.\n"
   ]
  },
  {
   "cell_type": "code",
   "execution_count": 7,
   "metadata": {
    "colab": {
     "base_uri": "https://localhost:8080/"
    },
    "executionInfo": {
     "elapsed": 488,
     "status": "ok",
     "timestamp": 1719082286888,
     "user": {
      "displayName": "Ashish Jangid",
      "userId": "15170006874299393728"
     },
     "user_tz": -330
    },
    "id": "__lrIiqIZrd3",
    "outputId": "f9286526-46b3-4baa-af2b-b6bde5bbcf1f"
   },
   "outputs": [
    {
     "name": "stdout",
     "output_type": "stream",
     "text": [
      "Errors: [0.90152727]\n",
      "Sum of errors: 0.9015272734259516\n"
     ]
    }
   ],
   "source": [
    "# Calculate the errors\n",
    "y = 1  # Target value\n",
    "error = abs(y_pred - y)\n",
    "print(\"Errors:\", error)\n",
    "total_error = error.sum()\n",
    "print(\"Sum of errors:\", total_error)"
   ]
  },
  {
   "cell_type": "markdown",
   "metadata": {
    "id": "olhpgcXxf23F"
   },
   "source": [
    "**Observation**\n",
    "- The output represents the array of absolute differences between the predicted values **y_pred** and the target value **y** for each element in the array. The values in the array indicate the absolute errors for each corresponding element.\n",
    "\n",
    "- The sum of the errors, which is 2.89, represents the total accumulated error when summing up all the individual absolute differences between the predicted and target values."
   ]
  },
  {
   "cell_type": "markdown",
   "metadata": {
    "id": "z_rrHoWdgoY3"
   },
   "source": [
    "### Step 4: Calculate the sum of squared error\n",
    "- Calculate the sum of squared errors (SSE) by squaring the absolute differences between the predicted values **y_pred** and the target value **y** for each element in the array.\n",
    "\n",
    "The output **SSE** is an array that contains the squared errors for each corresponding element.\n",
    "\n",
    "The sum of the squared errors, obtained by calling **SSE.sum()**, represents the total accumulated squared error when summing up all the individual squared differences between the predicted and target values.\n"
   ]
  },
  {
   "cell_type": "code",
   "execution_count": 8,
   "metadata": {
    "colab": {
     "base_uri": "https://localhost:8080/"
    },
    "executionInfo": {
     "elapsed": 505,
     "status": "ok",
     "timestamp": 1719082308793,
     "user": {
      "displayName": "Ashish Jangid",
      "userId": "15170006874299393728"
     },
     "user_tz": -330
    },
    "id": "wyn0th2Ua8rI",
    "outputId": "7f131f7d-7634-4e1c-ff4c-ca401d904655"
   },
   "outputs": [
    {
     "name": "stdout",
     "output_type": "stream",
     "text": [
      "Squared errors (SSE): [0.81275142]\n",
      "Sum of squared errors (SSE): 0.8127514247308305\n"
     ]
    }
   ],
   "source": [
    "# Calculate the sum of squared error\n",
    "SSE = (y_pred - y)**2\n",
    "print(\"Squared errors (SSE):\", SSE)\n",
    "total_SSE = SSE.sum()\n",
    "print(\"Sum of squared errors (SSE):\", total_SSE)"
   ]
  },
  {
   "cell_type": "markdown",
   "metadata": {
    "id": "jhv5TzHFg53M"
   },
   "source": [
    "**Observation**\n",
    "- The output represents the sum of squared errors (SSE) calculated from the squared differences between the predicted values and the target value for each element in the array."
   ]
  },
  {
   "cell_type": "code",
   "execution_count": null,
   "metadata": {
    "id": "lDzyVWd6wEzY"
   },
   "outputs": [],
   "source": []
  }
 ],
 "metadata": {
  "colab": {
   "provenance": []
  },
  "kernelspec": {
   "display_name": "Python 3",
   "language": "python",
   "name": "python3"
  },
  "language_info": {
   "codemirror_mode": {
    "name": "ipython",
    "version": 3
   },
   "file_extension": ".py",
   "mimetype": "text/x-python",
   "name": "python",
   "nbconvert_exporter": "python",
   "pygments_lexer": "ipython3",
   "version": "3.10.11"
  }
 },
 "nbformat": 4,
 "nbformat_minor": 0
}
