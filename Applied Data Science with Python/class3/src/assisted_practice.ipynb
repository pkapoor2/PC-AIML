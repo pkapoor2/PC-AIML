{
 "cells": [
  {
   "cell_type": "markdown",
   "id": "1e7473d1",
   "metadata": {},
   "source": [
    "### __Dataset:__\n",
    "__Sample sales data__\n",
    "\n",
    "sales_data = [120, 150, 130, 170, 160, 180, 140]\n",
    "\n",
    "days_of_week = ['Monday', 'Tuesday', 'Wednesday', 'Thursday', 'Friday', 'Saturday', 'Sunday']\n",
    "\n",
    "## __Steps to Perform__\n",
    "\n",
    "1. Create a Pandas Series for sales data\n",
    "- Use a list of daily sales figures to create a Pandas Series\n",
    "- Assign days of the week as the index\n",
    "2. Access and manipulate sales data\n",
    "- Access sales data for specific days using index labels\n",
    "- Calculate total sales for the week\n",
    "- Identify the day with the highest and lowest sales\n",
    "   \n",
    "3. Basic analysis of sales data\n",
    "- Calculate the average sales for the week\n",
    "- Determine the days with sales figures significantly different from the average"
   ]
  },
  {
   "cell_type": "code",
   "execution_count": 6,
   "id": "9d90d3fb",
   "metadata": {},
   "outputs": [
    {
     "name": "stdout",
     "output_type": "stream",
     "text": [
      "           Sales\n",
      "Monday       120\n",
      "Tuesday      150\n",
      "Wednesday    130\n",
      "Thursday     170\n",
      "Friday       160\n",
      "Saturday     180\n",
      "Sunday       140\n"
     ]
    }
   ],
   "source": [
    "import pandas as pd\n",
    "sales_data = [120, 150, 130, 170, 160, 180, 140]\n",
    "days_of_week = ['Monday', 'Tuesday', 'Wednesday', 'Thursday', 'Friday', 'Saturday', 'Sunday']\n",
    "sales_df = pd.DataFrame(sales_data, index=days_of_week, columns=['Sales'])\n",
    "print(sales_df)\n"
   ]
  },
  {
   "cell_type": "code",
   "execution_count": 10,
   "id": "cfaf8e6f",
   "metadata": {},
   "outputs": [
    {
     "name": "stdout",
     "output_type": "stream",
     "text": [
      "Sales    120\n",
      "Name: Monday, dtype: int64\n",
      "Sales    130\n",
      "Name: Wednesday, dtype: int64\n",
      "Total sales for the week: 1050\n",
      "Max sales for the week: 180\n",
      "Min sales for the week: 120\n",
      "Saturday\n",
      "Monday\n"
     ]
    }
   ],
   "source": [
    "# sales on a day of the week\n",
    "print(sales_df.loc['Monday'])  # Accessing sales on Monday\n",
    "print(sales_df.loc['Wednesday'])  # Accessing sales on Wednesday\n",
    "#calculating total sales for the week\n",
    "total_sales = sales_df['Sales'].sum()\n",
    "print(f'Total sales for the week: {total_sales}')\n",
    "#max/min sales for the week\n",
    "max_sales = sales_df['Sales'].max()\n",
    "min_sales = sales_df['Sales'].min()\n",
    "print(f'Max sales for the week: {max_sales}')\n",
    "print(f'Min sales for the week: {min_sales}')\n",
    "#print dsays max min sales\n",
    "print(sales_df[sales_df['Sales'] == max_sales].index[0])  # Day with max sales\n",
    "print(sales_df[sales_df['Sales'] == min_sales].index[0])  # Day with min sales\n"
   ]
  },
  {
   "cell_type": "code",
   "execution_count": 18,
   "id": "40150623",
   "metadata": {},
   "outputs": [
    {
     "name": "stdout",
     "output_type": "stream",
     "text": [
      "Average sales for the week: 150.0\n",
      "Sales difference from average: Monday       30.0\n",
      "Tuesday       0.0\n",
      "Wednesday    20.0\n",
      "Thursday     20.0\n",
      "Friday       10.0\n",
      "Saturday     30.0\n",
      "Sunday       10.0\n",
      "Name: Sales, dtype: float64\n",
      "Standard deviation of sales: 21.602468994692867\n",
      "Days with sales greater than or equal to one standard deviation from the average:\n",
      "Monday      30.0\n",
      "Saturday    30.0\n",
      "Name: Sales, dtype: float64\n"
     ]
    }
   ],
   "source": [
    "#average sales for the week\n",
    "average_sales = sales_df['Sales'].mean()\n",
    "print(f'Average sales for the week: {average_sales}')\n",
    "#sales with max diff from average\n",
    "sales_diff = abs(sales_df['Sales'] - average_sales)\n",
    "print(f'Sales difference from average: {sales_diff}')\n",
    "#day with max diff from average\n",
    "sales_std = sales_df['Sales'].std()\n",
    "print(f'Standard deviation of sales: {sales_std}')\n",
    "#days with sales greater than or equal to one standard deviation from the average\n",
    "print(f'Days with sales greater than or equal to one standard deviation from the average:')\n",
    "max_diff_sales = sales_diff[sales_diff >= sales_std]    \n",
    "print(max_diff_sales)\n"
   ]
  }
 ],
 "metadata": {
  "kernelspec": {
   "display_name": "Python 3",
   "language": "python",
   "name": "python3"
  },
  "language_info": {
   "codemirror_mode": {
    "name": "ipython",
    "version": 3
   },
   "file_extension": ".py",
   "mimetype": "text/x-python",
   "name": "python",
   "nbconvert_exporter": "python",
   "pygments_lexer": "ipython3",
   "version": "3.10.11"
  }
 },
 "nbformat": 4,
 "nbformat_minor": 5
}
