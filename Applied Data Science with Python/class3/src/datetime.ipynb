{
 "cells": [
  {
   "cell_type": "code",
   "execution_count": null,
   "id": "95d06b6c",
   "metadata": {},
   "outputs": [
    {
     "name": "stdout",
     "output_type": "stream",
     "text": [
      "2023-10-01 12:00:00\n",
      "2025-04-27 10:18:30.085492\n",
      "2023-10-01 12:00:00\n",
      "DatetimeIndex(['2025-04-27 10:15:10.426317', '2025-04-28 10:15:10.426317',\n",
      "               '2025-04-29 10:15:10.426317', '2025-04-30 10:15:10.426317',\n",
      "               '2025-05-01 10:15:10.426317', '2025-05-02 10:15:10.426317',\n",
      "               '2025-05-03 10:15:10.426317'],\n",
      "              dtype='datetime64[ns]', freq='D')\n",
      "Date: 2025-04-27 10:15:10.426317, Year: 2025, Month: 4, Day: 27, Hour: 10, Minute: 15, Second: 10\n",
      "Date: 2025-04-28 10:15:10.426317, Year: 2025, Month: 4, Day: 28, Hour: 10, Minute: 15, Second: 10\n",
      "Date: 2025-04-29 10:15:10.426317, Year: 2025, Month: 4, Day: 29, Hour: 10, Minute: 15, Second: 10\n",
      "Date: 2025-04-30 10:15:10.426317, Year: 2025, Month: 4, Day: 30, Hour: 10, Minute: 15, Second: 10\n",
      "Date: 2025-05-01 10:15:10.426317, Year: 2025, Month: 5, Day: 1, Hour: 10, Minute: 15, Second: 10\n",
      "Date: 2025-05-02 10:15:10.426317, Year: 2025, Month: 5, Day: 2, Hour: 10, Minute: 15, Second: 10\n",
      "Date: 2025-05-03 10:15:10.426317, Year: 2025, Month: 5, Day: 3, Hour: 10, Minute: 15, Second: 10\n"
     ]
    }
   ],
   "source": [
    "import pandas as pd\n",
    "\n",
    "#date time examples\n",
    "#date time example 1\n",
    "date_time = pd.to_datetime('2023-10-01 12:00:00')\n",
    "print(date_time)  # Output: 2023-10-01 12:00:00\n",
    "#store current time in pd\n",
    "current_time = pd.to_datetime('now')\n",
    "print(current_time)  # Output: current date and time\n",
    "current_time_pd = pd.to_datetime(current_time)\n",
    "#add 6 days to current time\n",
    "cur_6days_date_time = current_time + pd.Timedelta(days=6)\n",
    "print(date_time)  # Output: current date and time\n",
    "date_range = pd.date_range(start=cuurent_time_pd, end=cur_6days_date_time, freq='D')\n",
    "print(date_range)  # Output: date range from current time to 6 days later\n",
    "#extract date and time components\n",
    "for date in date_range:\n",
    "    print(f\"Date: {date}, Year: {date.year}, Month: {date.month}, Day: {date.day}, Hour: {date.hour}, Minute: {date.minute}, Second: {date.second}\")\n"
   ]
  },
  {
   "cell_type": "code",
   "execution_count": 17,
   "id": "095db019",
   "metadata": {},
   "outputs": [
    {
     "name": "stdout",
     "output_type": "stream",
     "text": [
      "Date: 2025-04-27 10:15:10.426317, Is weekend: 1\n",
      "Date: 2025-04-28 10:15:10.426317, Is weekend: 0\n",
      "Date: 2025-04-29 10:15:10.426317, Is weekend: 0\n",
      "Date: 2025-04-30 10:15:10.426317, Is weekend: 0\n",
      "Date: 2025-05-01 10:15:10.426317, Is weekend: 0\n",
      "Date: 2025-05-02 10:15:10.426317, Is weekend: 0\n",
      "Date: 2025-05-03 10:15:10.426317, Is weekend: 1\n"
     ]
    }
   ],
   "source": [
    "for date in date_range:\n",
    "    print(f\"Date: {date}, Is weekend: {date.weekday()//5}\")\n"
   ]
  },
  {
   "cell_type": "code",
   "execution_count": 25,
   "id": "9d75e02d",
   "metadata": {},
   "outputs": [
    {
     "name": "stdout",
     "output_type": "stream",
     "text": [
      "                 date  data1  data2\n",
      "0 2023-10-01 00:00:00      0      5\n",
      "1 2023-10-01 01:00:00      1      6\n",
      "2 2023-10-01 02:00:00      2      7\n",
      "3 2023-10-01 03:00:00      3      8\n",
      "4 2023-10-01 04:00:00      4      9\n",
      "0 days 01:00:00\n",
      "                 date  data1  data2            new_date\n",
      "0 2023-10-01 00:00:00      0      5 2023-10-01 01:00:00\n",
      "1 2023-10-01 01:00:00      1      6 2023-10-01 02:00:00\n",
      "2 2023-10-01 02:00:00      2      7 2023-10-01 03:00:00\n",
      "3 2023-10-01 03:00:00      3      8 2023-10-01 04:00:00\n",
      "4 2023-10-01 04:00:00      4      9 2023-10-01 05:00:00\n"
     ]
    },
    {
     "name": "stderr",
     "output_type": "stream",
     "text": [
      "C:\\Users\\prate\\AppData\\Local\\Temp\\ipykernel_24404\\2303623229.py:2: FutureWarning: 'H' is deprecated and will be removed in a future version, please use 'h' instead.\n",
      "  \"date\": pd.date_range(start='2023-10-01', periods=5, freq='H'),\n"
     ]
    }
   ],
   "source": [
    "data = {\n",
    "    \"date\": pd.date_range(start='2023-10-01', periods=5, freq='H'),\n",
    "    \"data1\": range(5),\n",
    "    \"data2\": range(5, 10)\n",
    "}\n",
    "p_data = pd.DataFrame(data)\n",
    "print(p_data)  # Output: DataFrame with date and data columns\n",
    "\n",
    "time_delta = pd.Timedelta(hours=1)\n",
    "print(time_delta)  # Output: Timedelta('0 days 01:00:00')\n",
    "#add time delta to date\n",
    "p_data['new_date'] = p_data['date'] + time_delta\n",
    "print(p_data)  # Output: DataFrame with new date column\n"
   ]
  }
 ],
 "metadata": {
  "kernelspec": {
   "display_name": "Python 3",
   "language": "python",
   "name": "python3"
  },
  "language_info": {
   "codemirror_mode": {
    "name": "ipython",
    "version": 3
   },
   "file_extension": ".py",
   "mimetype": "text/x-python",
   "name": "python",
   "nbconvert_exporter": "python",
   "pygments_lexer": "ipython3",
   "version": "3.10.11"
  }
 },
 "nbformat": 4,
 "nbformat_minor": 5
}
