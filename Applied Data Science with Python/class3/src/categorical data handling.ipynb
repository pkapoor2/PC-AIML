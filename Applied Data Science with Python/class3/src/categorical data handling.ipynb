{
 "cells": [
  {
   "cell_type": "code",
   "execution_count": 7,
   "id": "e226dfbf",
   "metadata": {},
   "outputs": [
    {
     "name": "stdout",
     "output_type": "stream",
     "text": [
      "   Cat_A  Cat_B  Cat_C\n",
      "0   True  False  False\n",
      "1  False   True  False\n",
      "2  False  False   True\n",
      "3   True  False  False\n",
      "4  False   True  False\n",
      "5  False  False   True\n",
      "  Category  Category_labels\n",
      "0        A                0\n",
      "1        B                1\n",
      "2        C                2\n",
      "3        A                0\n",
      "4        B                1\n",
      "5        C                2\n",
      "  Category  Category_onehot\n",
      "0        A                0\n",
      "1        B                1\n",
      "2        C                2\n",
      "3        A                0\n",
      "4        B                1\n",
      "5        C                2\n"
     ]
    }
   ],
   "source": [
    "import pandas as pd\n",
    "\n",
    "df = pd.DataFrame({\n",
    "    'Category': ['A', 'B', 'C', 'A', 'B', 'C']})\n",
    "dummy_df = pd.get_dummies(df, columns=['Category'], prefix='Cat')\n",
    "print(dummy_df)\n",
    "# label encoding\n",
    "df['Category_labels'] = df['Category'].astype('category').cat.codes\n",
    "print(df[['Category', 'Category_labels']])\n",
    "# one-hot encoding\n",
    "df['Category_onehot'] = df['Category'].astype('category').cat.codes\n",
    "print(df[['Category', 'Category_onehot']])\n"
   ]
  }
 ],
 "metadata": {
  "kernelspec": {
   "display_name": "Python 3",
   "language": "python",
   "name": "python3"
  },
  "language_info": {
   "codemirror_mode": {
    "name": "ipython",
    "version": 3
   },
   "file_extension": ".py",
   "mimetype": "text/x-python",
   "name": "python",
   "nbconvert_exporter": "python",
   "pygments_lexer": "ipython3",
   "version": "3.10.11"
  }
 },
 "nbformat": 4,
 "nbformat_minor": 5
}
