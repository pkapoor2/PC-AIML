{
 "cells": [
  {
   "cell_type": "code",
   "execution_count": 3,
   "id": "63c3ee48",
   "metadata": {},
   "outputs": [
    {
     "name": "stdout",
     "output_type": "stream",
     "text": [
      "0    1\n",
      "1    2\n",
      "2    3\n",
      "3    4\n",
      "4    5\n",
      "dtype: int64\n",
      "a    1\n",
      "b    2\n",
      "c    3\n",
      "d    4\n",
      "e    5\n",
      "dtype: int64\n",
      "a    1\n",
      "b    2\n",
      "c    3\n",
      "dtype: int64\n",
      "1\n",
      "1\n",
      "2\n"
     ]
    }
   ],
   "source": [
    "# Install pandas if not already installed\n",
    "#%pip install pandas\n",
    "\n",
    "import pandas as pd\n",
    "\n",
    "#series is a one-dimensional array-like object that can hold any data type\n",
    "data = [1,2,3,4,5]\n",
    "series = pd.Series(data)\n",
    "print(series)\n",
    "#create a series with a specific index\n",
    "index = ['a', 'b', 'c', 'd', 'e']\n",
    "series_with_index = pd.Series(data, index=index)\n",
    "print(series_with_index)\n",
    "\n",
    "#creating a series from a dictionary\n",
    "data_dict = {'a': 1, 'b': 2, 'c': 3}\n",
    "series_from_dict = pd.Series(data_dict)\n",
    "print(series_from_dict)\n",
    "#accessing elements in a series\n",
    "print(series[0])  # Access by index position\n",
    "print(series_with_index['a'])  # Access by index label\n",
    "print(series_from_dict['b'])  # Access by index label\n",
    "#modifying elements in a series\n"
   ]
  },
  {
   "cell_type": "code",
   "execution_count": 4,
   "id": "9a59f2d7",
   "metadata": {},
   "outputs": [
    {
     "name": "stdout",
     "output_type": "stream",
     "text": [
      "5\n",
      "(5,)\n",
      "int64\n",
      "RangeIndex(start=0, stop=5, step=1)\n",
      "[1 2 3 4 5]\n",
      "count    5.000000\n",
      "mean     3.000000\n",
      "std      1.581139\n",
      "min      1.000000\n",
      "25%      2.000000\n",
      "50%      3.000000\n",
      "75%      4.000000\n",
      "max      5.000000\n",
      "dtype: float64\n"
     ]
    }
   ],
   "source": [
    "#basic information about a o pandas series\n",
    "print(series.size)  # Size of the series\n",
    "print(series.shape)  # Shape of the series\n",
    "print(series.dtype)  # Data type of the series\n",
    "print(series.index)  # Index of the series\n",
    "print(series.values)  # Values of the series\n",
    "print(series.describe())  # Summary statistics of the series\n"
   ]
  },
  {
   "cell_type": "code",
   "execution_count": 8,
   "id": "c0018f9a",
   "metadata": {},
   "outputs": [
    {
     "name": "stdout",
     "output_type": "stream",
     "text": [
      "0    11\n",
      "1    12\n",
      "2    13\n",
      "3    14\n",
      "4    15\n",
      "dtype: int64\n",
      "0     1\n",
      "1     4\n",
      "2     9\n",
      "3    16\n",
      "4    25\n",
      "dtype: int64\n",
      "a     True\n",
      "b     True\n",
      "c     True\n",
      "d    False\n",
      "e    False\n",
      "dtype: bool\n"
     ]
    },
    {
     "name": "stderr",
     "output_type": "stream",
     "text": [
      "C:\\Users\\prate\\AppData\\Local\\Temp\\ipykernel_36640\\1762299704.py:4: FutureWarning: Operation between non boolean Series with different indexes will no longer return a boolean result in a future version. Cast both Series to object type to maintain the prior behavior.\n",
      "  print(series_from_dict | series_with_index)  # Add two series together\n"
     ]
    }
   ],
   "source": [
    "#basic operations on a series\n",
    "print(series + 10)  # Add 10 to each element\n",
    "print(series**2)\n",
    "print(series_from_dict | series_with_index)  # Add two series together\n"
   ]
  },
  {
   "cell_type": "code",
   "execution_count": 10,
   "id": "506b685e",
   "metadata": {},
   "outputs": [
    {
     "name": "stdout",
     "output_type": "stream",
     "text": [
      "d    3\n",
      "a    1\n",
      "c    4\n",
      "b    2\n",
      "dtype: int64\n",
      "a    1\n",
      "b    2\n",
      "c    4\n",
      "d    3\n",
      "dtype: int64\n",
      "a    1\n",
      "b    2\n",
      "d    3\n",
      "c    4\n",
      "dtype: int64\n"
     ]
    }
   ],
   "source": [
    "#unsorted series\n",
    "unsorted_series = pd.Series([3, 1, 4, 2], index=['d', 'a', 'c', 'b'])\n",
    "print(unsorted_series)\n",
    "#sorting a series\n",
    "print(unsorted_series.sort_index())  # Sort by index\n",
    "print(unsorted_series.sort_values())  # Sort by values\n"
   ]
  },
  {
   "cell_type": "code",
   "execution_count": 12,
   "id": "5712db96",
   "metadata": {},
   "outputs": [
    {
     "name": "stdout",
     "output_type": "stream",
     "text": [
      "Mapped Series using map():\n",
      "0       red\n",
      "1    yellow\n",
      "2       red\n",
      "3       NaN\n",
      "dtype: object\n",
      "Mapped Series using replace():\n",
      "0       red\n",
      "1    yellow\n",
      "2       red\n",
      "3      date\n",
      "dtype: object\n",
      "Mapped Series using map() with fillna():\n",
      "0        red\n",
      "1     yellow\n",
      "2        red\n",
      "3    unknown\n",
      "dtype: object\n"
     ]
    }
   ],
   "source": [
    "#map vs replace examples\n",
    "# Create a sample series\n",
    "fruits = pd.Series(['apple', 'banana', 'cherry', 'date'])\n",
    "vegitable = pd.Series(['carrot', 'broccoli', 'spinach', 'potato', 'raddish'])\n",
    "# Create a mapping dictionary\n",
    "mapping = {'apple': 'red', 'banana': 'yellow', 'cherry': 'red'}\n",
    "# Use map to apply the mapping\n",
    "mapped_series = fruits.map(mapping)\n",
    "print(\"Mapped Series using map():\")\n",
    "print(mapped_series)\n",
    "# Use replace to apply the mapping\n",
    "replaced_series = fruits.replace(mapping)\n",
    "print(\"Mapped Series using replace():\")\n",
    "print(replaced_series)\n",
    "#swap missing numbers during map with \"unknown\"\n",
    "mapped_series = fruits.map(mapping).fillna('unknown')\n",
    "print(\"Mapped Series using map() with fillna():\")\n",
    "print(mapped_series)\n"
   ]
  },
  {
   "cell_type": "code",
   "execution_count": 15,
   "id": "99199e07",
   "metadata": {},
   "outputs": [
    {
     "name": "stdout",
     "output_type": "stream",
     "text": [
      "a    1\n",
      "b    2\n",
      "c    3\n",
      "dtype: int64\n",
      "c    3\n",
      "dtype: int64\n",
      "a    1\n",
      "dtype: int64\n",
      "0    1.0\n",
      "1    2.0\n",
      "2    NaN\n",
      "3    4.0\n",
      "4    NaN\n",
      "dtype: float64\n",
      "0    False\n",
      "1    False\n",
      "2     True\n",
      "3    False\n",
      "4     True\n",
      "dtype: bool\n",
      "0     True\n",
      "1     True\n",
      "2    False\n",
      "3     True\n",
      "4    False\n",
      "dtype: bool\n",
      "0    1.0\n",
      "1    2.0\n",
      "3    4.0\n",
      "dtype: float64\n"
     ]
    }
   ],
   "source": [
    "data = {'a': 1, 'b': 2, 'c': 3}\n",
    "# Create a Series from the dictionary\n",
    "series = pd.Series(data)\n",
    "# Print the Series\n",
    "print(series)\n",
    "# search all number > 2\n",
    "print(series[series > 2])\n",
    "# search all number < 2\n",
    "print(series[series < 2])\n",
    "# Create a Series with NaN values\n",
    "nan_series = pd.Series([1, 2, None, 4, None])\n",
    "# Print the Series with NaN values\n",
    "print(nan_series)\n",
    "# Check for NaN values\n",
    "print(nan_series.isna())\n",
    "# Check for non-NaN values\n",
    "print(nan_series.notna())\n",
    "# filter and print non-NaN values\n",
    "print(nan_series[nan_series.notna()])"
   ]
  },
  {
   "cell_type": "code",
   "execution_count": null,
   "id": "cc52b8ff",
   "metadata": {},
   "outputs": [
    {
     "name": "stdout",
     "output_type": "stream",
     "text": [
      "0     apple\n",
      "1    banana\n",
      "2    cherry\n",
      "3      date\n",
      "dtype: object\n",
      "Uppercase Series:\n",
      "0     APPLE\n",
      "1    BANANA\n",
      "2    CHERRY\n",
      "3      DATE\n",
      "dtype: object\n",
      "Lowercase Series:\n",
      "0     apple\n",
      "1    banana\n",
      "2    cherry\n",
      "3      date\n",
      "dtype: object\n",
      "Contains 'a' Series:\n",
      "0     True\n",
      "1     True\n",
      "2    False\n",
      "3     True\n",
      "dtype: bool\n",
      "Replaced Series:\n",
      "0     opple\n",
      "1    bonono\n",
      "2    cherry\n",
      "3      dote\n",
      "dtype: object\n",
      "First Occurrence Series:\n",
      "0    0\n",
      "1    1\n",
      "2   -1\n",
      "3    1\n",
      "dtype: int64\n"
     ]
    }
   ],
   "source": [
    "#string operations on a series\n",
    "# Create a Series of strings\n",
    "string_series = pd.Series(['apple', 'banana', 'cherry', 'date'])\n",
    "# Print the Series\n",
    "print(string_series)\n",
    "# Convert to uppercase\n",
    "uppercase_series = string_series.str.upper()\n",
    "print(\"Uppercase Series:\")\n",
    "print(uppercase_series)\n",
    "# Convert to lowercase\n",
    "lowercase_series = string_series.str.lower()\n",
    "print(\"Lowercase Series:\")\n",
    "print(lowercase_series)\n",
    "# Check if each string contains the letter 'a'\n",
    "contains_a_series = string_series.str.contains('a')\n",
    "print(\"Contains 'a' Series:\")\n",
    "print(contains_a_series)\n",
    "# Replace 'a' with 'o'\n",
    "replaced_series = string_series.str.replace('a', 'o')\n",
    "print(\"Replaced Series:\")\n",
    "print(replaced_series)\n"
   ]
  },
  {
   "cell_type": "code",
   "execution_count": null,
   "id": "6fc313c4",
   "metadata": {},
   "outputs": [
    {
     "name": "stdout",
     "output_type": "stream",
     "text": [
      "First Occurrence Series:\n",
      "0    0\n",
      "1    1\n",
      "2   -1\n",
      "3    1\n",
      "dtype: int64\n"
     ]
    }
   ],
   "source": [
    "#location of the first occurrence of 'a'\n",
    "first_occurrence_series = string_series.str.find('a')\n",
    "print(\"First Occurrence Series:\")\n",
    "print(first_occurrence_series)\n"
   ]
  },
  {
   "cell_type": "code",
   "execution_count": 21,
   "id": "7d19badf",
   "metadata": {},
   "outputs": [
    {
     "name": "stdout",
     "output_type": "stream",
     "text": [
      "0    10\n",
      "1    20\n",
      "2    30\n",
      "3    40\n",
      "4    50\n",
      "dtype: int64\n",
      "First Three Elements:\n",
      "0    10\n",
      "1    20\n",
      "2    30\n",
      "dtype: int64\n",
      "Last Two Elements:\n",
      "3    40\n",
      "4    50\n",
      "dtype: int64\n",
      "Elements at Specific Indices:\n",
      "0    10\n",
      "2    30\n",
      "4    50\n",
      "dtype: int64\n",
      "Elements using iloc:\n",
      "1    20\n",
      "2    30\n",
      "3    40\n",
      "dtype: int64\n"
     ]
    }
   ],
   "source": [
    "#index based querying\n",
    "# Create a Series of numbers\n",
    "number_series = pd.Series([10, 20, 30, 40, 50])\n",
    "# Print the Series\n",
    "print(number_series)\n",
    "# Access the first three elements using index-based querying\n",
    "first_three_elements = number_series[:3]\n",
    "print(\"First Three Elements:\")\n",
    "print(first_three_elements)\n",
    "# Access the last two elements using index-based querying\n",
    "last_two_elements = number_series[-2:]\n",
    "print(\"Last Two Elements:\")\n",
    "print(last_two_elements)\n",
    "# Access elements at specific indices\n",
    "specific_indices = number_series[[0, 2, 4]]\n",
    "print(\"Elements at Specific Indices:\")\n",
    "print(specific_indices)\n",
    "# using iloc for index-based querying\n",
    "iloc_series = number_series.iloc[1:4]  # Access elements from index 1 to 3\n",
    "print(\"Elements using iloc:\")\n",
    "print(iloc_series)\n"
   ]
  },
  {
   "cell_type": "code",
   "execution_count": 19,
   "id": "bba3cf8f",
   "metadata": {},
   "outputs": [
    {
     "name": "stdout",
     "output_type": "stream",
     "text": [
      "Custom Index Series:\n",
      "a    10\n",
      "b    20\n",
      "c    30\n",
      "dtype: int64\n",
      "Accessing elements using loc:\n",
      "10\n",
      "a    10\n",
      "c    30\n",
      "dtype: int64\n"
     ]
    }
   ],
   "source": [
    "#loc method example\n",
    "# Create a Series with custom index\n",
    "custom_index_series = pd.Series([10, 20, 30], index=['a', 'b', 'c'])\n",
    "# Print the Series\n",
    "print(\"Custom Index Series:\")\n",
    "print(custom_index_series) \n",
    "# Access elements using loc\n",
    "print(\"Accessing elements using loc:\")\n",
    "print(custom_index_series.loc['a'])  # Access by index label\n",
    "print(custom_index_series.loc[['a', 'c']])  # Access multiple index labels\n",
    "# Access a range of index labels\n"
   ]
  },
  {
   "cell_type": "code",
   "execution_count": null,
   "id": "c1b8dd62",
   "metadata": {},
   "outputs": [],
   "source": []
  },
  {
   "cell_type": "code",
   "execution_count": null,
   "id": "8c187df7",
   "metadata": {},
   "outputs": [],
   "source": []
  }
 ],
 "metadata": {
  "kernelspec": {
   "display_name": "Python 3",
   "language": "python",
   "name": "python3"
  },
  "language_info": {
   "codemirror_mode": {
    "name": "ipython",
    "version": 3
   },
   "file_extension": ".py",
   "mimetype": "text/x-python",
   "name": "python",
   "nbconvert_exporter": "python",
   "pygments_lexer": "ipython3",
   "version": "3.10.11"
  }
 },
 "nbformat": 4,
 "nbformat_minor": 5
}
