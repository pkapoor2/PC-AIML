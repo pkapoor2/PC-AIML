{
 "cells": [
  {
   "cell_type": "markdown",
   "id": "6004589c-c4ea-42d5-b1f6-a1fb517bc96d",
   "metadata": {
    "id": "6004589c-c4ea-42d5-b1f6-a1fb517bc96d"
   },
   "source": [
    "# __Feature Engineering__"
   ]
  },
  {
   "cell_type": "markdown",
   "id": "c0e6dae8-8222-4c33-a420-dbc66b671ea7",
   "metadata": {
    "id": "c0e6dae8-8222-4c33-a420-dbc66b671ea7"
   },
   "source": [
    "## __Agenda__"
   ]
  },
  {
   "cell_type": "markdown",
   "id": "49c6ddfd-1245-47de-af27-e9ee04aa76b7",
   "metadata": {
    "id": "49c6ddfd-1245-47de-af27-e9ee04aa76b7"
   },
   "source": [
    "- Introduction to Feature Engineering\n",
    "- Feature Engineering Methods\n",
    "- Transforming Variables\n",
    "  * Log Transformation\n",
    "  * Square Root Transformation\n",
    "  * Box-Cox Transformation\n",
    "- Features Scaling\n",
    "- Label Encoding\n",
    "- One Hot Encoding\n",
    "- Hashing\n",
    "    * Hashlib Module\n",
    "- Grouping Operations"
   ]
  },
  {
   "cell_type": "markdown",
   "id": "06c504ca-dddb-45c1-8ac6-bc08c3040eb5",
   "metadata": {
    "id": "06c504ca-dddb-45c1-8ac6-bc08c3040eb5"
   },
   "source": [
    "## __1. Introduction to Feature Engineering__\n",
    "It refers to the process of selecting, modifying, or creating new features (variables) from the raw data to improve the performance of machine learning models.\n",
    "- It involves transforming the data into a more suitable format, making it easier for models to learn patterns and make accurate predictions.\n",
    "- It is a critical step in the data preprocessing pipeline and plays a key role in the success of machine learning projects.\n",
    "\n"
   ]
  },
  {
   "cell_type": "markdown",
   "id": "ffb329e1-8059-4dfb-ac65-24a512f83108",
   "metadata": {
    "id": "ffb329e1-8059-4dfb-ac65-24a512f83108"
   },
   "source": [
    "## __2. Feature Engineering Methods__\n",
    "\n",
    "They introduce the concept of creating new features through mathematical operations, transformations, or combining existing variables.\n",
    "\n",
    "![link text](https://labcontent.simplicdn.net/data-content/content-assets/Data_and_AI/ADSP_Images/Lesson_10_Feature_Engineering/Feature_Engineering_Methods.png)\n",
    "\n",
    "__Note:__ The __Data Wrangling__ lesson extensively addresses various feature engineering methods, including outlier handling, imputation, and data cleaning. Any aspects not covered in that lesson but deemed essential for feature engineering are comprehensively discussed here."
   ]
  },
  {
   "cell_type": "code",
   "execution_count": 6,
   "id": "edffd67e-bf28-439f-8079-4c6d4c3ff647",
   "metadata": {
    "id": "edffd67e-bf28-439f-8079-4c6d4c3ff647"
   },
   "outputs": [
    {
     "data": {
      "text/html": [
       "<div>\n",
       "<style scoped>\n",
       "    .dataframe tbody tr th:only-of-type {\n",
       "        vertical-align: middle;\n",
       "    }\n",
       "\n",
       "    .dataframe tbody tr th {\n",
       "        vertical-align: top;\n",
       "    }\n",
       "\n",
       "    .dataframe thead th {\n",
       "        text-align: right;\n",
       "    }\n",
       "</style>\n",
       "<table border=\"1\" class=\"dataframe\">\n",
       "  <thead>\n",
       "    <tr style=\"text-align: right;\">\n",
       "      <th></th>\n",
       "      <th>total_rooms</th>\n",
       "      <th>bedrooms</th>\n",
       "      <th>bathrooms</th>\n",
       "    </tr>\n",
       "  </thead>\n",
       "  <tbody>\n",
       "    <tr>\n",
       "      <th>0</th>\n",
       "      <td>4.50</td>\n",
       "      <td>3.0</td>\n",
       "      <td>1.50</td>\n",
       "    </tr>\n",
       "    <tr>\n",
       "      <th>1</th>\n",
       "      <td>7.50</td>\n",
       "      <td>5.0</td>\n",
       "      <td>2.50</td>\n",
       "    </tr>\n",
       "    <tr>\n",
       "      <th>2</th>\n",
       "      <td>5.00</td>\n",
       "      <td>3.0</td>\n",
       "      <td>2.00</td>\n",
       "    </tr>\n",
       "    <tr>\n",
       "      <th>3</th>\n",
       "      <td>5.25</td>\n",
       "      <td>3.0</td>\n",
       "      <td>2.25</td>\n",
       "    </tr>\n",
       "    <tr>\n",
       "      <th>4</th>\n",
       "      <td>6.50</td>\n",
       "      <td>4.0</td>\n",
       "      <td>2.50</td>\n",
       "    </tr>\n",
       "  </tbody>\n",
       "</table>\n",
       "</div>"
      ],
      "text/plain": [
       "   total_rooms  bedrooms  bathrooms\n",
       "0         4.50       3.0       1.50\n",
       "1         7.50       5.0       2.50\n",
       "2         5.00       3.0       2.00\n",
       "3         5.25       3.0       2.25\n",
       "4         6.50       4.0       2.50"
      ]
     },
     "execution_count": 6,
     "metadata": {},
     "output_type": "execute_result"
    }
   ],
   "source": [
    "import pandas as pd\n",
    "import numpy as np\n",
    "df= pd.read_csv(\"../datasets/HousePrices.csv\")\n",
    "# Example: Creating a new feature 'total_rooms' by adding bedrooms and bathrooms\n",
    "df['total_rooms'] = df['bedrooms'] + df['bathrooms']\n",
    "df[['total_rooms','bedrooms','bathrooms']].head()"
   ]
  },
  {
   "cell_type": "markdown",
   "id": "60f77a79-5b60-42fb-9e75-edc69945b9ea",
   "metadata": {
    "id": "60f77a79-5b60-42fb-9e75-edc69945b9ea"
   },
   "source": [
    "## __3. Transforming Variables__\n",
    "Transforming variables is a crucial aspect of feature engineering that involves modifying the scale, distribution, or nature of variables to meet certain assumptions or to make them more suitable for analysis or modeling.\n",
    "- Here are a few common techniques for transforming variables:\n",
    "1. Log transformation\n",
    "2. Square root transformation\n",
    "3. Box-cox transformation\n"
   ]
  },
  {
   "cell_type": "markdown",
   "id": "5385cc69-a2a8-44ee-9a0f-ca7b89cf512d",
   "metadata": {
    "id": "5385cc69-a2a8-44ee-9a0f-ca7b89cf512d"
   },
   "source": [
    "### __3.1 Log Transformation__\n",
    "\n",
    "Log transformation is useful for handling skewed data or reducing the impact of outliers. It applies the natural logarithm to the variable values and makes highly skewed distributions less skewed."
   ]
  },
  {
   "cell_type": "code",
   "execution_count": 8,
   "id": "58418f94-2e06-4c65-8c8c-b43590b52c51",
   "metadata": {
    "colab": {
     "base_uri": "https://localhost:8080/"
    },
    "executionInfo": {
     "elapsed": 7,
     "status": "ok",
     "timestamp": 1716269838764,
     "user": {
      "displayName": "Ashish Jangid",
      "userId": "15170006874299393728"
     },
     "user_tz": -330
    },
    "id": "58418f94-2e06-4c65-8c8c-b43590b52c51",
    "outputId": "94021f89-312c-43ae-d3cf-60ca3a8d2bae"
   },
   "outputs": [],
   "source": [
    "# Logarithmic transformation of the 'price' column\n",
    "df['log_price'] = np.log1p(df['price'])"
   ]
  },
  {
   "cell_type": "markdown",
   "id": "53c5f6b1-f95d-4e8f-9208-d47722069a2b",
   "metadata": {
    "id": "53c5f6b1-f95d-4e8f-9208-d47722069a2b"
   },
   "source": [
    "### __3.2 Square Root Transformation__\n",
    "Square root transformation, like log transformation, effectively stabilizes variance and addresses skewed distributions. Although it's gentler than log transformation, it achieves the same objective."
   ]
  },
  {
   "cell_type": "code",
   "execution_count": 9,
   "id": "a1d238bd-fe47-4466-95ac-2fcc4fd1b0ea",
   "metadata": {
    "colab": {
     "base_uri": "https://localhost:8080/"
    },
    "executionInfo": {
     "elapsed": 4,
     "status": "ok",
     "timestamp": 1716269843273,
     "user": {
      "displayName": "Ashish Jangid",
      "userId": "15170006874299393728"
     },
     "user_tz": -330
    },
    "id": "a1d238bd-fe47-4466-95ac-2fcc4fd1b0ea",
    "outputId": "f233767f-817a-4843-acba-aab4177c71f9"
   },
   "outputs": [
    {
     "name": "stdout",
     "output_type": "stream",
     "text": [
      "DataFrame with square root transformed 'price':\n",
      "             price  SquareRoot_price\n",
      "0     3.130000e+05        559.464029\n",
      "1     2.384000e+06       1544.020725\n",
      "2     3.420000e+05        584.807661\n",
      "3     4.200000e+05        648.074070\n",
      "4     5.500000e+05        741.619849\n",
      "...            ...               ...\n",
      "4595  3.081667e+05        555.127613\n",
      "4596  5.343333e+05        730.981076\n",
      "4597  4.169042e+05        645.681165\n",
      "4598  2.034000e+05        450.998891\n",
      "4599  2.206000e+05        469.680743\n",
      "\n",
      "[4600 rows x 2 columns]\n"
     ]
    }
   ],
   "source": [
    "# Square root transforming the 'price' variable\n",
    "df['SquareRoot_price'] = np.sqrt(df['price'])\n",
    "\n",
    "# Displaying the DataFrame with the new feature\n",
    "print(\"DataFrame with square root transformed 'price':\")\n",
    "print(df[['price', 'SquareRoot_price']])"
   ]
  },
  {
   "cell_type": "markdown",
   "id": "ba5a74c0-bcb0-45e3-b16f-74a5255c6f3f",
   "metadata": {
    "id": "ba5a74c0-bcb0-45e3-b16f-74a5255c6f3f"
   },
   "source": [
    "### __3.3 Box-Cox Transformation__\n",
    "\n",
    "The box-cox transformation is a family of power transformations that includes log and square root transformations.\n",
    "- It can handle a broader range of data distributions.\n",
    "\n",
    "- Ensuring positive data is crucial for the Box-Cox transformation because it involves taking the logarithm, which is undefined for zero or negative values. Adding a constant helps avoid mathematical errors and ensures the transformation can be applied effectively."
   ]
  },
  {
   "cell_type": "code",
   "execution_count": 10,
   "id": "7dcae436-c68f-495a-af02-b62f3c19e678",
   "metadata": {
    "colab": {
     "base_uri": "https://localhost:8080/"
    },
    "executionInfo": {
     "elapsed": 762,
     "status": "ok",
     "timestamp": 1716269848042,
     "user": {
      "displayName": "Ashish Jangid",
      "userId": "15170006874299393728"
     },
     "user_tz": -330
    },
    "id": "7dcae436-c68f-495a-af02-b62f3c19e678",
    "outputId": "9af713c5-663a-41fd-b44e-4fb29c579268"
   },
   "outputs": [
    {
     "name": "stdout",
     "output_type": "stream",
     "text": [
      "DataFrame with box-cox transformed price:\n",
      "      sqft_living  BoxCox_Price\n",
      "0            1340      8.270694\n",
      "1            3650      9.609815\n",
      "2            1930      8.752432\n",
      "3            2000      8.799829\n",
      "4            1940      8.759304\n",
      "...           ...           ...\n",
      "4595         1510      8.427671\n",
      "4596         1460      8.383344\n",
      "4597         3010      9.348240\n",
      "4598         2090      8.858475\n",
      "4599         1490      8.410112\n",
      "\n",
      "[4600 rows x 2 columns]\n"
     ]
    }
   ],
   "source": [
    "from scipy.stats import boxcox\n",
    "\n",
    "# Applying Box-Cox transformation to 'sales' variable\n",
    "df['BoxCox_Price'], _ = boxcox(df['sqft_living'])\n",
    "\n",
    "# Displaying the DataFrame with the Box-Cox transformed 'sales' variable\n",
    "print(\"DataFrame with box-cox transformed price:\")\n",
    "print(df[['sqft_living', 'BoxCox_Price']])"
   ]
  },
  {
   "cell_type": "markdown",
   "id": "19d1e372-7022-4409-8992-6be1828315aa",
   "metadata": {
    "id": "19d1e372-7022-4409-8992-6be1828315aa"
   },
   "source": [
    "## __4. Feature Scaling__\n",
    "Feature scaling is a technique used in machine learning and data preprocessing to standardize or normalize the range of independent variables or features of a dataset.\n",
    "\n",
    "- Min-max scaling transforms data to a specific range, typically between 0 and 1, preserving the relative differences between values. This normalization technique is ideal for datasets with known bounds, ensuring that all values are rescaled proportionally to fit within the specified range.\n",
    "\n",
    "- Standard scaling is preferable for normally distributed data to maintain mean-centeredness and consistent standard deviations.\n",
    "\n",
    "![link text](https://labcontent.simplicdn.net/data-content/content-assets/Data_and_AI/ADSP_Images/Lesson_10_Feature_Engineering/Label_Encoding.png)"
   ]
  },
  {
   "cell_type": "code",
   "execution_count": null,
   "id": "0498b1b5-89f8-4a51-8226-62e50fccc4ca",
   "metadata": {
    "colab": {
     "base_uri": "https://localhost:8080/"
    },
    "executionInfo": {
     "elapsed": 6,
     "status": "ok",
     "timestamp": 1716269852885,
     "user": {
      "displayName": "Ashish Jangid",
      "userId": "15170006874299393728"
     },
     "user_tz": -330
    },
    "id": "0498b1b5-89f8-4a51-8226-62e50fccc4ca",
    "outputId": "0c31c52c-f81b-44e5-aabb-59f5fee24508"
   },
   "outputs": [
    {
     "name": "stdout",
     "output_type": "stream",
     "text": [
      "                     date         price  bedrooms  bathrooms  sqft_living  \\\n",
      "0     2014-05-02 00:00:00  3.130000e+05       3.0       1.50     0.073652   \n",
      "1     2014-05-02 00:00:00  2.384000e+06       5.0       2.50     0.249051   \n",
      "2     2014-05-02 00:00:00  3.420000e+05       3.0       2.00     0.118451   \n",
      "3     2014-05-02 00:00:00  4.200000e+05       3.0       2.25     0.123766   \n",
      "4     2014-05-02 00:00:00  5.500000e+05       4.0       2.50     0.119210   \n",
      "...                   ...           ...       ...        ...          ...   \n",
      "4595  2014-07-09 00:00:00  3.081667e+05       3.0       1.75     0.086560   \n",
      "4596  2014-07-09 00:00:00  5.343333e+05       3.0       2.50     0.082764   \n",
      "4597  2014-07-09 00:00:00  4.169042e+05       3.0       2.50     0.200456   \n",
      "4598  2014-07-10 00:00:00  2.034000e+05       4.0       2.00     0.130600   \n",
      "4599  2014-07-10 00:00:00  2.206000e+05       3.0       2.50     0.085042   \n",
      "\n",
      "      sqft_lot  floors  waterfront  view  condition  ...  yr_built  \\\n",
      "0     0.006775     1.5           0     0          3  ...      1955   \n",
      "1     0.007835     2.0           0     4          5  ...      1921   \n",
      "2     0.010534     1.0           0     0          4  ...      1966   \n",
      "3     0.006885     1.0           0     0          4  ...      1963   \n",
      "4     0.009186     1.0           0     0          4  ...      1976   \n",
      "...        ...     ...         ...   ...        ...  ...       ...   \n",
      "4595  0.005330     1.0           0     0          4  ...      1954   \n",
      "4596  0.006460     2.0           0     0          3  ...      1983   \n",
      "4597  0.005939     2.0           0     0          3  ...      2009   \n",
      "4598  0.005581     1.0           0     0          3  ...      1974   \n",
      "4599  0.006952     2.0           0     0          4  ...      1990   \n",
      "\n",
      "      yr_renovated                    street       city  statezip country  \\\n",
      "0             2005      18810 Densmore Ave N  Shoreline  WA 98133     USA   \n",
      "1                0           709 W Blaine St    Seattle  WA 98119     USA   \n",
      "2                0  26206-26214 143rd Ave SE       Kent  WA 98042     USA   \n",
      "3                0           857 170th Pl NE   Bellevue  WA 98008     USA   \n",
      "4             1992         9105 170th Ave NE    Redmond  WA 98052     USA   \n",
      "...            ...                       ...        ...       ...     ...   \n",
      "4595          1979            501 N 143rd St    Seattle  WA 98133     USA   \n",
      "4596          2009          14855 SE 10th Pl   Bellevue  WA 98007     USA   \n",
      "4597             0          759 Ilwaco Pl NE     Renton  WA 98059     USA   \n",
      "4598             0         5148 S Creston St    Seattle  WA 98178     USA   \n",
      "4599             0         18717 SE 258th St  Covington  WA 98042     USA   \n",
      "\n",
      "     total_rooms  log_price  SquareRoot_price  BoxCox_Price  \n",
      "0           4.50  12.653958        559.464029      8.270696  \n",
      "1           7.50  14.684290       1544.020725      9.609817  \n",
      "2           5.00  12.742566        584.807661      8.752434  \n",
      "3           5.25  12.948010        648.074070      8.799831  \n",
      "4           6.50  13.217674        741.619849      8.759306  \n",
      "...          ...        ...               ...           ...  \n",
      "4595        4.75  12.638396        555.127613      8.427673  \n",
      "4596        5.50  13.188775        730.981076      8.383346  \n",
      "4597        5.50  12.940612        645.681165      9.348243  \n",
      "4598        6.00  12.222930        450.998891      8.858477  \n",
      "4599        5.50  12.304106        469.680743      8.410115  \n",
      "\n",
      "[4600 rows x 22 columns]\n"
     ]
    }
   ],
   "source": [
    "from sklearn.preprocessing import MinMaxScaler\n",
    "\n",
    "# Scaling numeric features using min-max scaling\n",
    "scaler = MinMaxScaler()\n",
    "df[['sqft_living', 'sqft_lot']] = scaler.fit_transform(df[['sqft_living', 'sqft_lot']])\n",
    "print(df)"
   ]
  },
  {
   "cell_type": "markdown",
   "id": "e73fdece-9785-4328-b7ff-d2d7ab134d04",
   "metadata": {
    "id": "e73fdece-9785-4328-b7ff-d2d7ab134d04"
   },
   "source": [
    "## __5. Label Encoding__\n",
    "\n",
    "Label encoding is a technique used to convert categorical labels into a numeric format, making it suitable for machine learning algorithms that require numerical input.\n",
    "- In label encoding, each unique category is assigned an integer value.\n",
    "- This is particularly useful when dealing with ordinal categorical data, where the order of categories matters."
   ]
  },
  {
   "cell_type": "code",
   "execution_count": 11,
   "id": "ace0740a-4f5e-4596-a0ee-e249ae996d27",
   "metadata": {
    "colab": {
     "base_uri": "https://localhost:8080/"
    },
    "executionInfo": {
     "elapsed": 600,
     "status": "ok",
     "timestamp": 1716269858830,
     "user": {
      "displayName": "Ashish Jangid",
      "userId": "15170006874299393728"
     },
     "user_tz": -330
    },
    "id": "ace0740a-4f5e-4596-a0ee-e249ae996d27",
    "outputId": "79bcf335-ea3f-4cc3-f617-986ada21ef08"
   },
   "outputs": [
    {
     "name": "stdout",
     "output_type": "stream",
     "text": [
      "Original DataFrame:\n",
      "     size\n",
      "0   small\n",
      "1  medium\n",
      "2   large\n",
      "3  medium\n",
      "4   small\n",
      "\n",
      "DataFrame after label encoding:\n",
      "     size  size_encoded\n",
      "0   small             2\n",
      "1  medium             1\n",
      "2   large             0\n",
      "3  medium             1\n",
      "4   small             2\n"
     ]
    }
   ],
   "source": [
    "import pandas as pd\n",
    "from sklearn.preprocessing import LabelEncoder\n",
    "\n",
    "# Sample DataFrame\n",
    "data = {'size': ['small', 'medium', 'large', 'medium', 'small']}\n",
    "df1 = pd.DataFrame(data)\n",
    "\n",
    "# Before label encoding\n",
    "print(\"Original DataFrame:\")\n",
    "print(df1)\n",
    "\n",
    "# Apply label encoding\n",
    "label_encoder = LabelEncoder()\n",
    "df1['size_encoded'] = label_encoder.fit_transform(df1['size'])\n",
    "\n",
    "# After label encoding\n",
    "print(\"\\nDataFrame after label encoding:\")\n",
    "print(df1)"
   ]
  },
  {
   "cell_type": "code",
   "execution_count": 12,
   "id": "536f106b-6958-4902-829c-959762efdf21",
   "metadata": {
    "colab": {
     "base_uri": "https://localhost:8080/"
    },
    "executionInfo": {
     "elapsed": 6,
     "status": "ok",
     "timestamp": 1716269861768,
     "user": {
      "displayName": "Ashish Jangid",
      "userId": "15170006874299393728"
     },
     "user_tz": -330
    },
    "id": "536f106b-6958-4902-829c-959762efdf21",
    "outputId": "7da4ad86-4407-463d-f238-c5b676e56371"
   },
   "outputs": [
    {
     "name": "stdout",
     "output_type": "stream",
     "text": [
      "                     date         price  bedrooms  bathrooms  sqft_living  \\\n",
      "0     2014-05-02 00:00:00  3.130000e+05       3.0       1.50         1340   \n",
      "1     2014-05-02 00:00:00  2.384000e+06       5.0       2.50         3650   \n",
      "2     2014-05-02 00:00:00  3.420000e+05       3.0       2.00         1930   \n",
      "3     2014-05-02 00:00:00  4.200000e+05       3.0       2.25         2000   \n",
      "4     2014-05-02 00:00:00  5.500000e+05       4.0       2.50         1940   \n",
      "...                   ...           ...       ...        ...          ...   \n",
      "4595  2014-07-09 00:00:00  3.081667e+05       3.0       1.75         1510   \n",
      "4596  2014-07-09 00:00:00  5.343333e+05       3.0       2.50         1460   \n",
      "4597  2014-07-09 00:00:00  4.169042e+05       3.0       2.50         3010   \n",
      "4598  2014-07-10 00:00:00  2.034000e+05       4.0       2.00         2090   \n",
      "4599  2014-07-10 00:00:00  2.206000e+05       3.0       2.50         1490   \n",
      "\n",
      "      sqft_lot  floors  waterfront  view  condition  ...  yr_renovated  \\\n",
      "0         7912     1.5           0     0          3  ...          2005   \n",
      "1         9050     2.0           0     4          5  ...             0   \n",
      "2        11947     1.0           0     0          4  ...             0   \n",
      "3         8030     1.0           0     0          4  ...             0   \n",
      "4        10500     1.0           0     0          4  ...          1992   \n",
      "...        ...     ...         ...   ...        ...  ...           ...   \n",
      "4595      6360     1.0           0     0          4  ...          1979   \n",
      "4596      7573     2.0           0     0          3  ...          2009   \n",
      "4597      7014     2.0           0     0          3  ...             0   \n",
      "4598      6630     1.0           0     0          3  ...             0   \n",
      "4599      8102     2.0           0     0          4  ...             0   \n",
      "\n",
      "                        street       city  statezip country total_rooms  \\\n",
      "0         18810 Densmore Ave N  Shoreline  WA 98133     USA        4.50   \n",
      "1              709 W Blaine St    Seattle  WA 98119     USA        7.50   \n",
      "2     26206-26214 143rd Ave SE       Kent  WA 98042     USA        5.00   \n",
      "3              857 170th Pl NE   Bellevue  WA 98008     USA        5.25   \n",
      "4            9105 170th Ave NE    Redmond  WA 98052     USA        6.50   \n",
      "...                        ...        ...       ...     ...         ...   \n",
      "4595            501 N 143rd St    Seattle  WA 98133     USA        4.75   \n",
      "4596          14855 SE 10th Pl   Bellevue  WA 98007     USA        5.50   \n",
      "4597          759 Ilwaco Pl NE     Renton  WA 98059     USA        5.50   \n",
      "4598         5148 S Creston St    Seattle  WA 98178     USA        6.00   \n",
      "4599         18717 SE 258th St  Covington  WA 98042     USA        5.50   \n",
      "\n",
      "      log_price SquareRoot_price  BoxCox_Price  city_encoded  \n",
      "0     12.653962       559.464029      8.270694            36  \n",
      "1     14.684291      1544.020725      9.609815            35  \n",
      "2     12.742569       584.807661      8.752432            18  \n",
      "3     12.948012       648.074070      8.799829             3  \n",
      "4     13.217675       741.619849      8.759304            31  \n",
      "...         ...              ...           ...           ...  \n",
      "4595  12.638399       555.127613      8.427671            35  \n",
      "4596  13.188777       730.981076      8.383344             3  \n",
      "4597  12.940614       645.681165      9.348240            32  \n",
      "4598  12.222935       450.998891      8.858475            35  \n",
      "4599  12.304111       469.680743      8.410112             9  \n",
      "\n",
      "[4600 rows x 23 columns]\n"
     ]
    }
   ],
   "source": [
    "# Demonstrating label encoding using csv file\n",
    "from sklearn.preprocessing import LabelEncoder\n",
    "\n",
    "# Label encoding for the 'city' column\n",
    "label_encoder = LabelEncoder()\n",
    "df['city_encoded'] = label_encoder.fit_transform(df['city'])\n",
    "print(df)"
   ]
  },
  {
   "cell_type": "markdown",
   "id": "16314969-492f-448d-943b-c14b62573090",
   "metadata": {
    "id": "16314969-492f-448d-943b-c14b62573090"
   },
   "source": [
    "## __6. One-Hot Encoding__\n",
    "\n",
    "One-hot encoding is a technique to represent categorical variables as binary vectors.\n",
    "- It is particularly useful when dealing with nominal categorical data, where there is no inherent order among categories.\n",
    "- In one-hot encoding, each unique category is transformed into a binary column, and only one column in each set of binary columns is _hot_ (or 1) to indicate the presence of that category.\n",
    "\n",
    "- It increases dataset dimensionality, facilitating categorical data representation. However, it can lead to increased complexity and computational overhead."
   ]
  },
  {
   "cell_type": "code",
   "execution_count": 13,
   "id": "28d868ac-01f9-466c-a4b5-7e773139f4e8",
   "metadata": {
    "colab": {
     "base_uri": "https://localhost:8080/"
    },
    "executionInfo": {
     "elapsed": 5,
     "status": "ok",
     "timestamp": 1716269865698,
     "user": {
      "displayName": "Ashish Jangid",
      "userId": "15170006874299393728"
     },
     "user_tz": -330
    },
    "id": "28d868ac-01f9-466c-a4b5-7e773139f4e8",
    "outputId": "e29fdc38-ab2e-45e0-d588-3d04e4e0cc3b"
   },
   "outputs": [
    {
     "name": "stdout",
     "output_type": "stream",
     "text": [
      "Original DataFrame:\n",
      "   color\n",
      "0    red\n",
      "1   blue\n",
      "2  green\n",
      "3    red\n",
      "4  green\n",
      "\n",
      "DataFrame after one-hot encoding:\n",
      "   color_blue  color_green  color_red\n",
      "0       False        False       True\n",
      "1        True        False      False\n",
      "2       False         True      False\n",
      "3       False        False       True\n",
      "4       False         True      False\n"
     ]
    }
   ],
   "source": [
    "import pandas as pd\n",
    "\n",
    "# Sample DataFrame\n",
    "data = {'color': ['red', 'blue', 'green', 'red', 'green']}\n",
    "df2 = pd.DataFrame(data)\n",
    "\n",
    "# Before one-hot encoding\n",
    "print(\"Original DataFrame:\")\n",
    "print(df2)\n",
    "\n",
    "# Apply one-hot encoding\n",
    "df2_encoded = pd.get_dummies(df2, columns=['color'], prefix='color')\n",
    "\n",
    "# After one-hot encoding\n",
    "print(\"\\nDataFrame after one-hot encoding:\")\n",
    "print(df2_encoded)"
   ]
  },
  {
   "cell_type": "code",
   "execution_count": 15,
   "id": "447b65d6-eeef-459a-ad4f-29c27f365fe7",
   "metadata": {
    "colab": {
     "base_uri": "https://localhost:8080/"
    },
    "executionInfo": {
     "elapsed": 7,
     "status": "ok",
     "timestamp": 1716269869094,
     "user": {
      "displayName": "Ashish Jangid",
      "userId": "15170006874299393728"
     },
     "user_tz": -330
    },
    "id": "447b65d6-eeef-459a-ad4f-29c27f365fe7",
    "outputId": "065175a5-2868-4217-b2db-f7973c9e38ae"
   },
   "outputs": [
    {
     "name": "stdout",
     "output_type": "stream",
     "text": [
      "\n",
      "DataFrame after one-hot encoding:\n",
      "   price_0.0  price_7800.0  price_80000.0  price_83000.0  price_83300.0  \\\n",
      "0      False         False          False          False          False   \n",
      "1      False         False          False          False          False   \n",
      "2      False         False          False          False          False   \n",
      "3      False         False          False          False          False   \n",
      "4      False         False          False          False          False   \n",
      "\n",
      "   price_84350.0  price_87500.0  price_90000.0  price_100000.0  \\\n",
      "0          False          False          False           False   \n",
      "1          False          False          False           False   \n",
      "2          False          False          False           False   \n",
      "3          False          False          False           False   \n",
      "4          False          False          False           False   \n",
      "\n",
      "   price_102500.0  ...  price_3000000.0  price_3100000.0  price_3200000.0  \\\n",
      "0           False  ...            False            False            False   \n",
      "1           False  ...            False            False            False   \n",
      "2           False  ...            False            False            False   \n",
      "3           False  ...            False            False            False   \n",
      "4           False  ...            False            False            False   \n",
      "\n",
      "   price_3710000.0  price_3800000.0  price_4489000.0  price_4668000.0  \\\n",
      "0            False            False            False            False   \n",
      "1            False            False            False            False   \n",
      "2            False            False            False            False   \n",
      "3            False            False            False            False   \n",
      "4            False            False            False            False   \n",
      "\n",
      "   price_7062500.0  price_12899000.0  price_26590000.0  \n",
      "0            False             False             False  \n",
      "1            False             False             False  \n",
      "2            False             False             False  \n",
      "3            False             False             False  \n",
      "4            False             False             False  \n",
      "\n",
      "[5 rows x 1741 columns]\n"
     ]
    }
   ],
   "source": [
    "# Demonstrating one-hot encoding using csv file\n",
    "# One-Hot Encoding for the 'view' column\n",
    "df_encode = pd.get_dummies(df, columns=['price'], prefix='price')\n",
    "\n",
    "# After one-hot encoding\n",
    "print(\"\\nDataFrame after one-hot encoding:\")\n",
    "# columns starting with 'price'\n",
    "price_columns = [col for col in df_encode.columns if col.startswith('price')]\n",
    "print(df_encode[price_columns].head())"
   ]
  },
  {
   "cell_type": "markdown",
   "id": "bd7e8803-6738-4bd4-8d4d-17fe0c293496",
   "metadata": {
    "id": "bd7e8803-6738-4bd4-8d4d-17fe0c293496"
   },
   "source": [
    "## __7. Hashing__\n",
    "\n",
    "It is a technique to convert input data (of variable length) into a fixed-length string of characters, typically a hash code.\n",
    "- The hash function takes an input (or message) and returns a fixed-size string of characters, which is typically a hexadecimal number.\n",
    "- It is commonly used for indexing data structures, checking data integrity, and hashing passwords.\n",
    "\n",
    "\n",
    "![link text](https://labcontent.simplicdn.net/data-content/content-assets/Data_and_AI/ADSP_Images/Updated_Images/Lesson_10/10_01/Lesson_10_Feature_EngineeringHashing.jpg)"
   ]
  },
  {
   "cell_type": "code",
   "execution_count": 27,
   "id": "dbd85344-7c27-4c3f-9bfd-3d26f799d12d",
   "metadata": {
    "colab": {
     "base_uri": "https://localhost:8080/"
    },
    "executionInfo": {
     "elapsed": 518,
     "status": "ok",
     "timestamp": 1716269874154,
     "user": {
      "displayName": "Ashish Jangid",
      "userId": "15170006874299393728"
     },
     "user_tz": -330
    },
    "id": "dbd85344-7c27-4c3f-9bfd-3d26f799d12d",
    "outputId": "ac487e12-62e4-4718-bb64-4398038064fc"
   },
   "outputs": [
    {
     "name": "stdout",
     "output_type": "stream",
     "text": [
      "Hash value of 'Hello, Hashing!': 6902354176310358115\n",
      "Hash value of 'Hello, Hashing!': 6902354176310358115\n"
     ]
    }
   ],
   "source": [
    "# Example of hashing in Python\n",
    "data = \"Hello, Hashing!\"\n",
    "data2 = \"Hello, Hashing!\"  # Same data to demonstrate hash consistency \n",
    "\n",
    "# Using the hash() function\n",
    "hash_value = hash(data)\n",
    "hash_value2 = hash(data2)  # Should be the same as hash_value\n",
    "print(f\"Hash value of '{data}': {hash_value}\")\n",
    "print(f\"Hash value of '{data2}': {hash_value2}\")"
   ]
  },
  {
   "cell_type": "code",
   "execution_count": null,
   "id": "76e70ba0",
   "metadata": {},
   "outputs": [
    {
     "data": {
      "image/png": "[encoded data removed]",
      "text/plain": [
       "<Figure size 640x480 with 1 Axes>"
      ]
     },
     "metadata": {},
     "output_type": "display_data"
    }
   ],
   "source": [
    "#hash of all alphanumeric characters\n",
    "import string\n",
    "\n",
    "values = []\n",
    "for b in string.ascii_letters + string.digits:\n",
    "    for c in string.ascii_letters + string.digits:\n",
    "        values.append({b+c:hash(b+c)})\n",
    "  xsnccnxszc    \n"
   ]
  },
  {
   "cell_type": "code",
   "execution_count": 24,
   "id": "a068e16b-7c03-45eb-898f-f9669635169c",
   "metadata": {
    "colab": {
     "base_uri": "https://localhost:8080/",
     "height": 808
    },
    "executionInfo": {
     "elapsed": 8,
     "status": "ok",
     "timestamp": 1716269876663,
     "user": {
      "displayName": "Ashish Jangid",
      "userId": "15170006874299393728"
     },
     "user_tz": -330
    },
    "id": "a068e16b-7c03-45eb-898f-f9669635169c",
    "outputId": "0cedf1a0-6519-475c-c0e1-f0b8f64cff4a"
   },
   "outputs": [
    {
     "data": {
      "text/html": [
       "<div>\n",
       "<style scoped>\n",
       "    .dataframe tbody tr th:only-of-type {\n",
       "        vertical-align: middle;\n",
       "    }\n",
       "\n",
       "    .dataframe tbody tr th {\n",
       "        vertical-align: top;\n",
       "    }\n",
       "\n",
       "    .dataframe thead th {\n",
       "        text-align: right;\n",
       "    }\n",
       "</style>\n",
       "<table border=\"1\" class=\"dataframe\">\n",
       "  <thead>\n",
       "    <tr style=\"text-align: right;\">\n",
       "      <th></th>\n",
       "      <th>street</th>\n",
       "      <th>street_hashed</th>\n",
       "    </tr>\n",
       "  </thead>\n",
       "  <tbody>\n",
       "    <tr>\n",
       "      <th>0</th>\n",
       "      <td>18810 Densmore Ave N</td>\n",
       "      <td>405713274431342405</td>\n",
       "    </tr>\n",
       "    <tr>\n",
       "      <th>1</th>\n",
       "      <td>709 W Blaine St</td>\n",
       "      <td>-1674902621803980124</td>\n",
       "    </tr>\n",
       "    <tr>\n",
       "      <th>2</th>\n",
       "      <td>26206-26214 143rd Ave SE</td>\n",
       "      <td>3603070726606122854</td>\n",
       "    </tr>\n",
       "    <tr>\n",
       "      <th>3</th>\n",
       "      <td>857 170th Pl NE</td>\n",
       "      <td>5360753186583807011</td>\n",
       "    </tr>\n",
       "    <tr>\n",
       "      <th>4</th>\n",
       "      <td>9105 170th Ave NE</td>\n",
       "      <td>8952249570488153599</td>\n",
       "    </tr>\n",
       "  </tbody>\n",
       "</table>\n",
       "</div>"
      ],
      "text/plain": [
       "                     street        street_hashed\n",
       "0      18810 Densmore Ave N   405713274431342405\n",
       "1           709 W Blaine St -1674902621803980124\n",
       "2  26206-26214 143rd Ave SE  3603070726606122854\n",
       "3           857 170th Pl NE  5360753186583807011\n",
       "4         9105 170th Ave NE  8952249570488153599"
      ]
     },
     "execution_count": 24,
     "metadata": {},
     "output_type": "execute_result"
    }
   ],
   "source": [
    "# Demonstrating hashing using csv file\n",
    "# Hashing for the 'street' column\n",
    "df['street_hashed'] = df['street'].apply(hash)\n",
    "df[['street', 'street_hashed']].head()"
   ]
  },
  {
   "cell_type": "markdown",
   "id": "db03b4ab-82d6-4a0c-86b4-7b32b034b3f2",
   "metadata": {
    "id": "db03b4ab-82d6-4a0c-86b4-7b32b034b3f2"
   },
   "source": [
    "### __7.1 Hashlib Module__"
   ]
  },
  {
   "cell_type": "markdown",
   "id": "a398d9e5-14c3-45d7-a4d9-b2cf85995f88",
   "metadata": {
    "id": "a398d9e5-14c3-45d7-a4d9-b2cf85995f88"
   },
   "source": [
    "The hashlib module in Python is used for generating hash values. It offers interfaces to different cryptographic hash algorithms like MD5, SHA-1, SHA-256, SHA-384, and SHA-512.\n",
    "\n",
    "- It enables the efficient use of hash functions, ensuring secure computations.\n",
    "- It provides reliability for hash-related operations.\n",
    "- It is widey used for cryptographic operations, data integrity, and password hashing.\n",
    "- It ensures convenience and robustness.\n",
    "\n"
   ]
  },
  {
   "cell_type": "markdown",
   "id": "dcaeb609-1e18-4eb3-b39f-24f7d75645ba",
   "metadata": {
    "id": "dcaeb609-1e18-4eb3-b39f-24f7d75645ba"
   },
   "source": [
    "Cryptographic hash algorithms vary in hash size and security levels.\n",
    "\n",
    "- For tasks where security is not a critical concern, you can opt for MD5 or SHA-1. However, it's important to note that both algorithms are deprecated due to vulnerabilities.\n",
    "\n",
    "- For security-sensitive applications, it's advisable to prioritize SHA-256, SHA-384, or SHA-512 due to their stronger security and larger hash sizes."
   ]
  },
  {
   "cell_type": "code",
   "execution_count": 28,
   "id": "692086e9-2122-4a25-8311-6484a4b77d3c",
   "metadata": {
    "colab": {
     "base_uri": "https://localhost:8080/"
    },
    "executionInfo": {
     "elapsed": 1585,
     "status": "ok",
     "timestamp": 1716269997651,
     "user": {
      "displayName": "Ashish Jangid",
      "userId": "15170006874299393728"
     },
     "user_tz": -330
    },
    "id": "692086e9-2122-4a25-8311-6484a4b77d3c",
    "outputId": "3bfd6933-5dd4-4193-a622-55a711e5f8b8",
    "tags": []
   },
   "outputs": [
    {
     "name": "stdout",
     "output_type": "stream",
     "text": [
      "Original data: Hello, world! \n",
      "\n",
      "MD5 Hash: 6cd3556deb0da54bca060b4c39479839\n",
      "SHA-1 Hash: 943a702d06f34599aee1f8da8ef9f7296031d699\n",
      "SHA-256 Hash: 315f5bdb76d078c43b8ac0064e4a0164612b1fce77c869345bfc94c75894edd3\n",
      "SHA-384 Hash: 55bc556b0d2fe0fce582ba5fe07baafff035653638c7ac0d5494c2a64c0bea1cc57331c7c12a45cdbca7f4c34a089eeb\n",
      "SHA-512 Hash: c1527cd893c124773d811911970c8fe6e857d6df5dc9226bd8a160614c0cd963a4ddea2b94bb7d36021ef9d865d5cea294a82dd49a0bb269f51f6e7a57f79421\n"
     ]
    }
   ],
   "source": [
    "# Example of hashlib module in Python\n",
    "import hashlib\n",
    "\n",
    "# Input data\n",
    "data = b'Hello, world!'\n",
    "print(f\"Original data: {data.decode()} \\n\")\n",
    "\n",
    "# Calculate MD5 hash\n",
    "md5_hash = hashlib.md5(data).hexdigest()\n",
    "print(\"MD5 Hash:\", md5_hash)\n",
    "\n",
    "# Calculate SHA-1 hash\n",
    "sha1_hash = hashlib.sha1(data).hexdigest()\n",
    "print(\"SHA-1 Hash:\", sha1_hash)\n",
    "\n",
    "# Calculate SHA-256 hash\n",
    "sha256_hash = hashlib.sha256(data).hexdigest()\n",
    "print(\"SHA-256 Hash:\", sha256_hash)\n",
    "\n",
    "# Calculate SHA-384 hash\n",
    "sha384_hash = hashlib.sha384(data).hexdigest()\n",
    "print(\"SHA-384 Hash:\", sha384_hash)\n",
    "\n",
    "# Calculate SHA-512 hash\n",
    "sha512_hash = hashlib.sha512(data).hexdigest()\n",
    "print(\"SHA-512 Hash:\", sha512_hash)\n"
   ]
  },
  {
   "cell_type": "markdown",
   "id": "2a63d937-3a4c-480c-a9f5-89c8b0289eb5",
   "metadata": {
    "id": "2a63d937-3a4c-480c-a9f5-89c8b0289eb5"
   },
   "source": [
    "In this example, the `hashlib` module is imported and input data is provided in bytes format. Hash values are then computed using the md5(), sha1(), sha256(), sha384(), and sha512() functions, and their hexadecimal representations are obtained using hexdigest()."
   ]
  },
  {
   "cell_type": "code",
   "execution_count": null,
   "id": "d36b3a3d-d303-47b0-bac7-d25ee90e5e2b",
   "metadata": {
    "colab": {
     "base_uri": "https://localhost:8080/",
     "height": 791
    },
    "executionInfo": {
     "elapsed": 676,
     "status": "ok",
     "timestamp": 1716270006108,
     "user": {
      "displayName": "Ashish Jangid",
      "userId": "15170006874299393728"
     },
     "user_tz": -330
    },
    "id": "d36b3a3d-d303-47b0-bac7-d25ee90e5e2b",
    "outputId": "35c914c5-e46a-4304-ce55-dbc6547e28c0",
    "tags": []
   },
   "outputs": [
    {
     "data": {
      "application/vnd.google.colaboratory.intrinsic+json": {
       "type": "dataframe",
       "variable_name": "df"
      },
      "text/html": [
       "\n",
       "  <div id=\"df-b5894fbd-a4bc-4e79-9ec2-e297e47f4641\" class=\"colab-df-container\">\n",
       "    <div>\n",
       "<style scoped>\n",
       "    .dataframe tbody tr th:only-of-type {\n",
       "        vertical-align: middle;\n",
       "    }\n",
       "\n",
       "    .dataframe tbody tr th {\n",
       "        vertical-align: top;\n",
       "    }\n",
       "\n",
       "    .dataframe thead th {\n",
       "        text-align: right;\n",
       "    }\n",
       "</style>\n",
       "<table border=\"1\" class=\"dataframe\">\n",
       "  <thead>\n",
       "    <tr style=\"text-align: right;\">\n",
       "      <th></th>\n",
       "      <th>date</th>\n",
       "      <th>price</th>\n",
       "      <th>bedrooms</th>\n",
       "      <th>bathrooms</th>\n",
       "      <th>sqft_living</th>\n",
       "      <th>sqft_lot</th>\n",
       "      <th>floors</th>\n",
       "      <th>waterfront</th>\n",
       "      <th>view</th>\n",
       "      <th>condition</th>\n",
       "      <th>...</th>\n",
       "      <th>city</th>\n",
       "      <th>statezip</th>\n",
       "      <th>country</th>\n",
       "      <th>total_rooms</th>\n",
       "      <th>log_price</th>\n",
       "      <th>SquareRoot_price</th>\n",
       "      <th>BoxCox_Price</th>\n",
       "      <th>city_encoded</th>\n",
       "      <th>street_hashed</th>\n",
       "      <th>hashed_street</th>\n",
       "    </tr>\n",
       "  </thead>\n",
       "  <tbody>\n",
       "    <tr>\n",
       "      <th>0</th>\n",
       "      <td>2014-05-02 00:00:00</td>\n",
       "      <td>3.130000e+05</td>\n",
       "      <td>3.0</td>\n",
       "      <td>1.50</td>\n",
       "      <td>0.073652</td>\n",
       "      <td>0.006775</td>\n",
       "      <td>1.5</td>\n",
       "      <td>0</td>\n",
       "      <td>0</td>\n",
       "      <td>3</td>\n",
       "      <td>...</td>\n",
       "      <td>Shoreline</td>\n",
       "      <td>WA 98133</td>\n",
       "      <td>USA</td>\n",
       "      <td>4.50</td>\n",
       "      <td>12.653958</td>\n",
       "      <td>559.464029</td>\n",
       "      <td>8.270696</td>\n",
       "      <td>36</td>\n",
       "      <td>2021877174032672019</td>\n",
       "      <td>6dfce6ba342c1453d53f4fbad459190f</td>\n",
       "    </tr>\n",
       "    <tr>\n",
       "      <th>1</th>\n",
       "      <td>2014-05-02 00:00:00</td>\n",
       "      <td>2.384000e+06</td>\n",
       "      <td>5.0</td>\n",
       "      <td>2.50</td>\n",
       "      <td>0.249051</td>\n",
       "      <td>0.007835</td>\n",
       "      <td>2.0</td>\n",
       "      <td>0</td>\n",
       "      <td>4</td>\n",
       "      <td>5</td>\n",
       "      <td>...</td>\n",
       "      <td>Seattle</td>\n",
       "      <td>WA 98119</td>\n",
       "      <td>USA</td>\n",
       "      <td>7.50</td>\n",
       "      <td>14.684290</td>\n",
       "      <td>1544.020725</td>\n",
       "      <td>9.609817</td>\n",
       "      <td>35</td>\n",
       "      <td>4070734395574380164</td>\n",
       "      <td>eca9bb465b9b6f538c3c8354f463a914</td>\n",
       "    </tr>\n",
       "    <tr>\n",
       "      <th>2</th>\n",
       "      <td>2014-05-02 00:00:00</td>\n",
       "      <td>3.420000e+05</td>\n",
       "      <td>3.0</td>\n",
       "      <td>2.00</td>\n",
       "      <td>0.118451</td>\n",
       "      <td>0.010534</td>\n",
       "      <td>1.0</td>\n",
       "      <td>0</td>\n",
       "      <td>0</td>\n",
       "      <td>4</td>\n",
       "      <td>...</td>\n",
       "      <td>Kent</td>\n",
       "      <td>WA 98042</td>\n",
       "      <td>USA</td>\n",
       "      <td>5.00</td>\n",
       "      <td>12.742566</td>\n",
       "      <td>584.807661</td>\n",
       "      <td>8.752434</td>\n",
       "      <td>18</td>\n",
       "      <td>-9179646594530173851</td>\n",
       "      <td>f28aaaaf79810e27de8be497f141e983</td>\n",
       "    </tr>\n",
       "    <tr>\n",
       "      <th>3</th>\n",
       "      <td>2014-05-02 00:00:00</td>\n",
       "      <td>4.200000e+05</td>\n",
       "      <td>3.0</td>\n",
       "      <td>2.25</td>\n",
       "      <td>0.123766</td>\n",
       "      <td>0.006885</td>\n",
       "      <td>1.0</td>\n",
       "      <td>0</td>\n",
       "      <td>0</td>\n",
       "      <td>4</td>\n",
       "      <td>...</td>\n",
       "      <td>Bellevue</td>\n",
       "      <td>WA 98008</td>\n",
       "      <td>USA</td>\n",
       "      <td>5.25</td>\n",
       "      <td>12.948010</td>\n",
       "      <td>648.074070</td>\n",
       "      <td>8.799831</td>\n",
       "      <td>3</td>\n",
       "      <td>-16290869267942771</td>\n",
       "      <td>57b51c9b4274c3310f4bb6ee86e238fa</td>\n",
       "    </tr>\n",
       "    <tr>\n",
       "      <th>4</th>\n",
       "      <td>2014-05-02 00:00:00</td>\n",
       "      <td>5.500000e+05</td>\n",
       "      <td>4.0</td>\n",
       "      <td>2.50</td>\n",
       "      <td>0.119210</td>\n",
       "      <td>0.009186</td>\n",
       "      <td>1.0</td>\n",
       "      <td>0</td>\n",
       "      <td>0</td>\n",
       "      <td>4</td>\n",
       "      <td>...</td>\n",
       "      <td>Redmond</td>\n",
       "      <td>WA 98052</td>\n",
       "      <td>USA</td>\n",
       "      <td>6.50</td>\n",
       "      <td>13.217674</td>\n",
       "      <td>741.619849</td>\n",
       "      <td>8.759306</td>\n",
       "      <td>31</td>\n",
       "      <td>-279380569284871021</td>\n",
       "      <td>0f4f6aaeea3eca19264763a7b472d25c</td>\n",
       "    </tr>\n",
       "    <tr>\n",
       "      <th>...</th>\n",
       "      <td>...</td>\n",
       "      <td>...</td>\n",
       "      <td>...</td>\n",
       "      <td>...</td>\n",
       "      <td>...</td>\n",
       "      <td>...</td>\n",
       "      <td>...</td>\n",
       "      <td>...</td>\n",
       "      <td>...</td>\n",
       "      <td>...</td>\n",
       "      <td>...</td>\n",
       "      <td>...</td>\n",
       "      <td>...</td>\n",
       "      <td>...</td>\n",
       "      <td>...</td>\n",
       "      <td>...</td>\n",
       "      <td>...</td>\n",
       "      <td>...</td>\n",
       "      <td>...</td>\n",
       "      <td>...</td>\n",
       "      <td>...</td>\n",
       "    </tr>\n",
       "    <tr>\n",
       "      <th>4595</th>\n",
       "      <td>2014-07-09 00:00:00</td>\n",
       "      <td>3.081667e+05</td>\n",
       "      <td>3.0</td>\n",
       "      <td>1.75</td>\n",
       "      <td>0.086560</td>\n",
       "      <td>0.005330</td>\n",
       "      <td>1.0</td>\n",
       "      <td>0</td>\n",
       "      <td>0</td>\n",
       "      <td>4</td>\n",
       "      <td>...</td>\n",
       "      <td>Seattle</td>\n",
       "      <td>WA 98133</td>\n",
       "      <td>USA</td>\n",
       "      <td>4.75</td>\n",
       "      <td>12.638396</td>\n",
       "      <td>555.127613</td>\n",
       "      <td>8.427673</td>\n",
       "      <td>35</td>\n",
       "      <td>3580965019239552760</td>\n",
       "      <td>379a041108472c400b0bf6b7d74a8a7d</td>\n",
       "    </tr>\n",
       "    <tr>\n",
       "      <th>4596</th>\n",
       "      <td>2014-07-09 00:00:00</td>\n",
       "      <td>5.343333e+05</td>\n",
       "      <td>3.0</td>\n",
       "      <td>2.50</td>\n",
       "      <td>0.082764</td>\n",
       "      <td>0.006460</td>\n",
       "      <td>2.0</td>\n",
       "      <td>0</td>\n",
       "      <td>0</td>\n",
       "      <td>3</td>\n",
       "      <td>...</td>\n",
       "      <td>Bellevue</td>\n",
       "      <td>WA 98007</td>\n",
       "      <td>USA</td>\n",
       "      <td>5.50</td>\n",
       "      <td>13.188775</td>\n",
       "      <td>730.981076</td>\n",
       "      <td>8.383346</td>\n",
       "      <td>3</td>\n",
       "      <td>4686450218275427890</td>\n",
       "      <td>0ea89e25733395d9b2b939faac4177e7</td>\n",
       "    </tr>\n",
       "    <tr>\n",
       "      <th>4597</th>\n",
       "      <td>2014-07-09 00:00:00</td>\n",
       "      <td>4.169042e+05</td>\n",
       "      <td>3.0</td>\n",
       "      <td>2.50</td>\n",
       "      <td>0.200456</td>\n",
       "      <td>0.005939</td>\n",
       "      <td>2.0</td>\n",
       "      <td>0</td>\n",
       "      <td>0</td>\n",
       "      <td>3</td>\n",
       "      <td>...</td>\n",
       "      <td>Renton</td>\n",
       "      <td>WA 98059</td>\n",
       "      <td>USA</td>\n",
       "      <td>5.50</td>\n",
       "      <td>12.940612</td>\n",
       "      <td>645.681165</td>\n",
       "      <td>9.348243</td>\n",
       "      <td>32</td>\n",
       "      <td>2248810511676913836</td>\n",
       "      <td>1eb91d567557f6eeba1710631b73dc3c</td>\n",
       "    </tr>\n",
       "    <tr>\n",
       "      <th>4598</th>\n",
       "      <td>2014-07-10 00:00:00</td>\n",
       "      <td>2.034000e+05</td>\n",
       "      <td>4.0</td>\n",
       "      <td>2.00</td>\n",
       "      <td>0.130600</td>\n",
       "      <td>0.005581</td>\n",
       "      <td>1.0</td>\n",
       "      <td>0</td>\n",
       "      <td>0</td>\n",
       "      <td>3</td>\n",
       "      <td>...</td>\n",
       "      <td>Seattle</td>\n",
       "      <td>WA 98178</td>\n",
       "      <td>USA</td>\n",
       "      <td>6.00</td>\n",
       "      <td>12.222930</td>\n",
       "      <td>450.998891</td>\n",
       "      <td>8.858477</td>\n",
       "      <td>35</td>\n",
       "      <td>-952104547317441014</td>\n",
       "      <td>72a210cd0de2505e5b5b40b6897fe46e</td>\n",
       "    </tr>\n",
       "    <tr>\n",
       "      <th>4599</th>\n",
       "      <td>2014-07-10 00:00:00</td>\n",
       "      <td>2.206000e+05</td>\n",
       "      <td>3.0</td>\n",
       "      <td>2.50</td>\n",
       "      <td>0.085042</td>\n",
       "      <td>0.006952</td>\n",
       "      <td>2.0</td>\n",
       "      <td>0</td>\n",
       "      <td>0</td>\n",
       "      <td>4</td>\n",
       "      <td>...</td>\n",
       "      <td>Covington</td>\n",
       "      <td>WA 98042</td>\n",
       "      <td>USA</td>\n",
       "      <td>5.50</td>\n",
       "      <td>12.304106</td>\n",
       "      <td>469.680743</td>\n",
       "      <td>8.410115</td>\n",
       "      <td>9</td>\n",
       "      <td>6723927633460808243</td>\n",
       "      <td>df66c097c750a3c252a462c8a17c0061</td>\n",
       "    </tr>\n",
       "  </tbody>\n",
       "</table>\n",
       "<p>4600 rows × 25 columns</p>\n",
       "</div>\n",
       "    <div class=\"colab-df-buttons\">\n",
       "\n",
       "  <div class=\"colab-df-container\">\n",
       "    <button class=\"colab-df-convert\" onclick=\"convertToInteractive('df-b5894fbd-a4bc-4e79-9ec2-e297e47f4641')\"\n",
       "            title=\"Convert this dataframe to an interactive table.\"\n",
       "            style=\"display:none;\">\n",
       "\n",
       "  <svg xmlns=\"http://www.w3.org/2000/svg\" height=\"24px\" viewBox=\"0 -960 960 960\">\n",
       "    <path d=\"M120-120v-720h720v720H120Zm60-500h600v-160H180v160Zm220 220h160v-160H400v160Zm0 220h160v-160H400v160ZM180-400h160v-160H180v160Zm440 0h160v-160H620v160ZM180-180h160v-160H180v160Zm440 0h160v-160H620v160Z\"/>\n",
       "  </svg>\n",
       "    </button>\n",
       "\n",
       "  <style>\n",
       "    .colab-df-container {\n",
       "      display:flex;\n",
       "      gap: 12px;\n",
       "    }\n",
       "\n",
       "    .colab-df-convert {\n",
       "      background-color: #E8F0FE;\n",
       "      border: none;\n",
       "      border-radius: 50%;\n",
       "      cursor: pointer;\n",
       "      display: none;\n",
       "      fill: #1967D2;\n",
       "      height: 32px;\n",
       "      padding: 0 0 0 0;\n",
       "      width: 32px;\n",
       "    }\n",
       "\n",
       "    .colab-df-convert:hover {\n",
       "      background-color: #E2EBFA;\n",
       "      box-shadow: 0px 1px 2px rgba(60, 64, 67, 0.3), 0px 1px 3px 1px rgba(60, 64, 67, 0.15);\n",
       "      fill: #174EA6;\n",
       "    }\n",
       "\n",
       "    .colab-df-buttons div {\n",
       "      margin-bottom: 4px;\n",
       "    }\n",
       "\n",
       "    [theme=dark] .colab-df-convert {\n",
       "      background-color: #3B4455;\n",
       "      fill: #D2E3FC;\n",
       "    }\n",
       "\n",
       "    [theme=dark] .colab-df-convert:hover {\n",
       "      background-color: #434B5C;\n",
       "      box-shadow: 0px 1px 3px 1px rgba(0, 0, 0, 0.15);\n",
       "      filter: drop-shadow(0px 1px 2px rgba(0, 0, 0, 0.3));\n",
       "      fill: #FFFFFF;\n",
       "    }\n",
       "  </style>\n",
       "\n",
       "    <script>\n",
       "      const buttonEl =\n",
       "        document.querySelector('#df-b5894fbd-a4bc-4e79-9ec2-e297e47f4641 button.colab-df-convert');\n",
       "      buttonEl.style.display =\n",
       "        google.colab.kernel.accessAllowed ? 'block' : 'none';\n",
       "\n",
       "      async function convertToInteractive(key) {\n",
       "        const element = document.querySelector('#df-b5894fbd-a4bc-4e79-9ec2-e297e47f4641');\n",
       "        const dataTable =\n",
       "          await google.colab.kernel.invokeFunction('convertToInteractive',\n",
       "                                                    [key], {});\n",
       "        if (!dataTable) return;\n",
       "\n",
       "        const docLinkHtml = 'Like what you see? Visit the ' +\n",
       "          '<a target=\"_blank\" href=https://colab.research.google.com/notebooks/data_table.ipynb>data table notebook</a>'\n",
       "          + ' to learn more about interactive tables.';\n",
       "        element.innerHTML = '';\n",
       "        dataTable['output_type'] = 'display_data';\n",
       "        await google.colab.output.renderOutput(dataTable, element);\n",
       "        const docLink = document.createElement('div');\n",
       "        docLink.innerHTML = docLinkHtml;\n",
       "        element.appendChild(docLink);\n",
       "      }\n",
       "    </script>\n",
       "  </div>\n",
       "\n",
       "\n",
       "<div id=\"df-d5806245-8f42-4800-a63f-758fc14fa070\">\n",
       "  <button class=\"colab-df-quickchart\" onclick=\"quickchart('df-d5806245-8f42-4800-a63f-758fc14fa070')\"\n",
       "            title=\"Suggest charts\"\n",
       "            style=\"display:none;\">\n",
       "\n",
       "<svg xmlns=\"http://www.w3.org/2000/svg\" height=\"24px\"viewBox=\"0 0 24 24\"\n",
       "     width=\"24px\">\n",
       "    <g>\n",
       "        <path d=\"M19 3H5c-1.1 0-2 .9-2 2v14c0 1.1.9 2 2 2h14c1.1 0 2-.9 2-2V5c0-1.1-.9-2-2-2zM9 17H7v-7h2v7zm4 0h-2V7h2v10zm4 0h-2v-4h2v4z\"/>\n",
       "    </g>\n",
       "</svg>\n",
       "  </button>\n",
       "\n",
       "<style>\n",
       "  .colab-df-quickchart {\n",
       "      --bg-color: #E8F0FE;\n",
       "      --fill-color: #1967D2;\n",
       "      --hover-bg-color: #E2EBFA;\n",
       "      --hover-fill-color: #174EA6;\n",
       "      --disabled-fill-color: #AAA;\n",
       "      --disabled-bg-color: #DDD;\n",
       "  }\n",
       "\n",
       "  [theme=dark] .colab-df-quickchart {\n",
       "      --bg-color: #3B4455;\n",
       "      --fill-color: #D2E3FC;\n",
       "      --hover-bg-color: #434B5C;\n",
       "      --hover-fill-color: #FFFFFF;\n",
       "      --disabled-bg-color: #3B4455;\n",
       "      --disabled-fill-color: #666;\n",
       "  }\n",
       "\n",
       "  .colab-df-quickchart {\n",
       "    background-color: var(--bg-color);\n",
       "    border: none;\n",
       "    border-radius: 50%;\n",
       "    cursor: pointer;\n",
       "    display: none;\n",
       "    fill: var(--fill-color);\n",
       "    height: 32px;\n",
       "    padding: 0;\n",
       "    width: 32px;\n",
       "  }\n",
       "\n",
       "  .colab-df-quickchart:hover {\n",
       "    background-color: var(--hover-bg-color);\n",
       "    box-shadow: 0 1px 2px rgba(60, 64, 67, 0.3), 0 1px 3px 1px rgba(60, 64, 67, 0.15);\n",
       "    fill: var(--button-hover-fill-color);\n",
       "  }\n",
       "\n",
       "  .colab-df-quickchart-complete:disabled,\n",
       "  .colab-df-quickchart-complete:disabled:hover {\n",
       "    background-color: var(--disabled-bg-color);\n",
       "    fill: var(--disabled-fill-color);\n",
       "    box-shadow: none;\n",
       "  }\n",
       "\n",
       "  .colab-df-spinner {\n",
       "    border: 2px solid var(--fill-color);\n",
       "    border-color: transparent;\n",
       "    border-bottom-color: var(--fill-color);\n",
       "    animation:\n",
       "      spin 1s steps(1) infinite;\n",
       "  }\n",
       "\n",
       "  @keyframes spin {\n",
       "    0% {\n",
       "      border-color: transparent;\n",
       "      border-bottom-color: var(--fill-color);\n",
       "      border-left-color: var(--fill-color);\n",
       "    }\n",
       "    20% {\n",
       "      border-color: transparent;\n",
       "      border-left-color: var(--fill-color);\n",
       "      border-top-color: var(--fill-color);\n",
       "    }\n",
       "    30% {\n",
       "      border-color: transparent;\n",
       "      border-left-color: var(--fill-color);\n",
       "      border-top-color: var(--fill-color);\n",
       "      border-right-color: var(--fill-color);\n",
       "    }\n",
       "    40% {\n",
       "      border-color: transparent;\n",
       "      border-right-color: var(--fill-color);\n",
       "      border-top-color: var(--fill-color);\n",
       "    }\n",
       "    60% {\n",
       "      border-color: transparent;\n",
       "      border-right-color: var(--fill-color);\n",
       "    }\n",
       "    80% {\n",
       "      border-color: transparent;\n",
       "      border-right-color: var(--fill-color);\n",
       "      border-bottom-color: var(--fill-color);\n",
       "    }\n",
       "    90% {\n",
       "      border-color: transparent;\n",
       "      border-bottom-color: var(--fill-color);\n",
       "    }\n",
       "  }\n",
       "</style>\n",
       "\n",
       "  <script>\n",
       "    async function quickchart(key) {\n",
       "      const quickchartButtonEl =\n",
       "        document.querySelector('#' + key + ' button');\n",
       "      quickchartButtonEl.disabled = true;  // To prevent multiple clicks.\n",
       "      quickchartButtonEl.classList.add('colab-df-spinner');\n",
       "      try {\n",
       "        const charts = await google.colab.kernel.invokeFunction(\n",
       "            'suggestCharts', [key], {});\n",
       "      } catch (error) {\n",
       "        console.error('Error during call to suggestCharts:', error);\n",
       "      }\n",
       "      quickchartButtonEl.classList.remove('colab-df-spinner');\n",
       "      quickchartButtonEl.classList.add('colab-df-quickchart-complete');\n",
       "    }\n",
       "    (() => {\n",
       "      let quickchartButtonEl =\n",
       "        document.querySelector('#df-d5806245-8f42-4800-a63f-758fc14fa070 button');\n",
       "      quickchartButtonEl.style.display =\n",
       "        google.colab.kernel.accessAllowed ? 'block' : 'none';\n",
       "    })();\n",
       "  </script>\n",
       "</div>\n",
       "    </div>\n",
       "  </div>\n"
      ],
      "text/plain": [
       "                     date         price  bedrooms  bathrooms  sqft_living  \\\n",
       "0     2014-05-02 00:00:00  3.130000e+05       3.0       1.50     0.073652   \n",
       "1     2014-05-02 00:00:00  2.384000e+06       5.0       2.50     0.249051   \n",
       "2     2014-05-02 00:00:00  3.420000e+05       3.0       2.00     0.118451   \n",
       "3     2014-05-02 00:00:00  4.200000e+05       3.0       2.25     0.123766   \n",
       "4     2014-05-02 00:00:00  5.500000e+05       4.0       2.50     0.119210   \n",
       "...                   ...           ...       ...        ...          ...   \n",
       "4595  2014-07-09 00:00:00  3.081667e+05       3.0       1.75     0.086560   \n",
       "4596  2014-07-09 00:00:00  5.343333e+05       3.0       2.50     0.082764   \n",
       "4597  2014-07-09 00:00:00  4.169042e+05       3.0       2.50     0.200456   \n",
       "4598  2014-07-10 00:00:00  2.034000e+05       4.0       2.00     0.130600   \n",
       "4599  2014-07-10 00:00:00  2.206000e+05       3.0       2.50     0.085042   \n",
       "\n",
       "      sqft_lot  floors  waterfront  view  condition  ...       city  statezip  \\\n",
       "0     0.006775     1.5           0     0          3  ...  Shoreline  WA 98133   \n",
       "1     0.007835     2.0           0     4          5  ...    Seattle  WA 98119   \n",
       "2     0.010534     1.0           0     0          4  ...       Kent  WA 98042   \n",
       "3     0.006885     1.0           0     0          4  ...   Bellevue  WA 98008   \n",
       "4     0.009186     1.0           0     0          4  ...    Redmond  WA 98052   \n",
       "...        ...     ...         ...   ...        ...  ...        ...       ...   \n",
       "4595  0.005330     1.0           0     0          4  ...    Seattle  WA 98133   \n",
       "4596  0.006460     2.0           0     0          3  ...   Bellevue  WA 98007   \n",
       "4597  0.005939     2.0           0     0          3  ...     Renton  WA 98059   \n",
       "4598  0.005581     1.0           0     0          3  ...    Seattle  WA 98178   \n",
       "4599  0.006952     2.0           0     0          4  ...  Covington  WA 98042   \n",
       "\n",
       "      country  total_rooms  log_price SquareRoot_price BoxCox_Price  \\\n",
       "0         USA         4.50  12.653958       559.464029     8.270696   \n",
       "1         USA         7.50  14.684290      1544.020725     9.609817   \n",
       "2         USA         5.00  12.742566       584.807661     8.752434   \n",
       "3         USA         5.25  12.948010       648.074070     8.799831   \n",
       "4         USA         6.50  13.217674       741.619849     8.759306   \n",
       "...       ...          ...        ...              ...          ...   \n",
       "4595      USA         4.75  12.638396       555.127613     8.427673   \n",
       "4596      USA         5.50  13.188775       730.981076     8.383346   \n",
       "4597      USA         5.50  12.940612       645.681165     9.348243   \n",
       "4598      USA         6.00  12.222930       450.998891     8.858477   \n",
       "4599      USA         5.50  12.304106       469.680743     8.410115   \n",
       "\n",
       "     city_encoded        street_hashed                     hashed_street  \n",
       "0              36  2021877174032672019  6dfce6ba342c1453d53f4fbad459190f  \n",
       "1              35  4070734395574380164  eca9bb465b9b6f538c3c8354f463a914  \n",
       "2              18 -9179646594530173851  f28aaaaf79810e27de8be497f141e983  \n",
       "3               3   -16290869267942771  57b51c9b4274c3310f4bb6ee86e238fa  \n",
       "4              31  -279380569284871021  0f4f6aaeea3eca19264763a7b472d25c  \n",
       "...           ...                  ...                               ...  \n",
       "4595           35  3580965019239552760  379a041108472c400b0bf6b7d74a8a7d  \n",
       "4596            3  4686450218275427890  0ea89e25733395d9b2b939faac4177e7  \n",
       "4597           32  2248810511676913836  1eb91d567557f6eeba1710631b73dc3c  \n",
       "4598           35  -952104547317441014  72a210cd0de2505e5b5b40b6897fe46e  \n",
       "4599            9  6723927633460808243  df66c097c750a3c252a462c8a17c0061  \n",
       "\n",
       "[4600 rows x 25 columns]"
      ]
     },
     "execution_count": 13,
     "metadata": {},
     "output_type": "execute_result"
    }
   ],
   "source": [
    "# Demonstrating MD5 hash function using csv file for the 'street' column\n",
    "\n",
    "street_column = df['street']\n",
    "hashed_streets = street_column.apply(lambda x: hashlib.md5(x.encode()).hexdigest())\n",
    "\n",
    "# Replace the original street values with hash values\n",
    "df['hashed_street'] = hashed_streets\n",
    "\n",
    "# Optionally, write the updated DataFrame back to a CSV file\n",
    "df.to_csv('hashed_file.csv', index=False)\n",
    "\n",
    "df"
   ]
  },
  {
   "cell_type": "markdown",
   "id": "329ce2cf-fdc1-4f75-9031-3dd3b37e974a",
   "metadata": {
    "id": "329ce2cf-fdc1-4f75-9031-3dd3b37e974a"
   },
   "source": [
    "## __8. Grouping Operations__\n",
    "\n",
    "Grouping operations involve splitting a dataset into groups based on some criteria, applying a function to each group independently, and then combining the results.\n",
    "- This is a crucial step in data analysis and manipulation, allowing for insights into the data at a more granular level.\n",
    "- Grouping operations are commonly combined with aggregate functions to summarize data within each group."
   ]
  },
  {
   "cell_type": "code",
   "execution_count": 36,
   "id": "af0ca380-12a3-4756-91f2-743357d18a99",
   "metadata": {
    "colab": {
     "base_uri": "https://localhost:8080/"
    },
    "executionInfo": {
     "elapsed": 1640,
     "status": "ok",
     "timestamp": 1716270012769,
     "user": {
      "displayName": "Ashish Jangid",
      "userId": "15170006874299393728"
     },
     "user_tz": -330
    },
    "id": "af0ca380-12a3-4756-91f2-743357d18a99",
    "outputId": "c3718202-a13e-4b8d-9592-7390071eee16"
   },
   "outputs": [
    {
     "name": "stdout",
     "output_type": "stream",
     "text": [
      "Original DataFrame:\n",
      "      Category  Revenue\n",
      "0  Electronics      500\n",
      "1     Clothing      300\n",
      "2  Electronics      700\n",
      "3     Clothing      400\n",
      "4  Electronics      600\n",
      "\n",
      "Grouped DataFrame with total revenue:\n",
      "      Category  Revenue\n",
      "0     Clothing      700\n",
      "1  Electronics     1800\n"
     ]
    }
   ],
   "source": [
    "import pandas as pd\n",
    "\n",
    "# Sample DataFrame\n",
    "data = {'Category': ['Electronics', 'Clothing', 'Electronics', 'Clothing', 'Electronics'],\n",
    "        'Revenue': [500, 300, 700, 400, 600]}\n",
    "\n",
    "df3 = pd.DataFrame(data)\n",
    "\n",
    "# Grouping by 'Category' and calculating total revenue for each category\n",
    "grouped_df3 = df3.groupby('Category')['Revenue'].sum().reset_index()\n",
    "\n",
    "print(\"Original DataFrame:\")\n",
    "print(df3)\n",
    "print(\"\\nGrouped DataFrame with total revenue:\")\n",
    "print(grouped_df3)"
   ]
  },
  {
   "cell_type": "code",
   "execution_count": 37,
   "id": "dbf8eb54-aff5-4322-ba3f-761ffb5956cb",
   "metadata": {
    "colab": {
     "base_uri": "https://localhost:8080/"
    },
    "executionInfo": {
     "elapsed": 612,
     "status": "ok",
     "timestamp": 1716270017567,
     "user": {
      "displayName": "Ashish Jangid",
      "userId": "15170006874299393728"
     },
     "user_tz": -330
    },
    "id": "dbf8eb54-aff5-4322-ba3f-761ffb5956cb",
    "outputId": "f959423d-99ae-4f0e-edf6-ccb8d83251d3"
   },
   "outputs": [
    {
     "name": "stdout",
     "output_type": "stream",
     "text": [
      "                   city         price\n",
      "0                Algona  2.072880e+05\n",
      "1                Auburn  2.993404e+05\n",
      "2    Beaux Arts Village  7.450000e+05\n",
      "3              Bellevue  8.471807e+05\n",
      "4         Black Diamond  3.396056e+05\n",
      "5               Bothell  4.814419e+05\n",
      "6                Burien  3.489472e+05\n",
      "7             Carnation  5.087520e+05\n",
      "8            Clyde Hill  1.321945e+06\n",
      "9             Covington  2.962304e+05\n",
      "10           Des Moines  3.049925e+05\n",
      "11               Duvall  4.039941e+05\n",
      "12             Enumclaw  3.076146e+05\n",
      "13            Fall City  6.926818e+05\n",
      "14          Federal Way  2.898877e+05\n",
      "15  Inglewood-Finn Hill  4.250000e+05\n",
      "16             Issaquah  5.961637e+05\n",
      "17              Kenmore  4.474940e+05\n",
      "18                 Kent  4.394924e+05\n",
      "19             Kirkland  6.515836e+05\n",
      "20     Lake Forest Park  4.484750e+05\n",
      "21         Maple Valley  3.364749e+05\n",
      "22               Medina  2.046559e+06\n",
      "23        Mercer Island  1.123818e+06\n",
      "24               Milton  2.850000e+05\n",
      "25            Newcastle  6.660467e+05\n",
      "26        Normandy Park  5.067931e+05\n",
      "27           North Bend  3.995657e+05\n",
      "28              Pacific  2.252333e+05\n",
      "29              Preston  5.624500e+05\n",
      "30           Ravensdale  5.140714e+05\n",
      "31              Redmond  6.676495e+05\n",
      "32               Renton  3.770410e+05\n",
      "33            Sammamish  6.869176e+05\n",
      "34               SeaTac  2.452906e+05\n",
      "35              Seattle  5.798375e+05\n",
      "36            Shoreline  4.203924e+05\n",
      "37            Skykomish  2.330000e+05\n",
      "38           Snoqualmie  5.363053e+05\n",
      "39      Snoqualmie Pass  5.250000e+05\n",
      "40              Tukwila  3.082901e+05\n",
      "41               Vashon  4.725569e+05\n",
      "42          Woodinville  6.095650e+05\n",
      "43         Yarrow Point  1.194838e+06\n"
     ]
    }
   ],
   "source": [
    "# Grouping by 'city' and calculating the average price\n",
    "df_grouped = df.groupby('city')['price'].mean().reset_index()\n",
    "print(df_grouped)"
   ]
  },
  {
   "cell_type": "code",
   "execution_count": null,
   "id": "aeb3feb1",
   "metadata": {
    "colab": {
     "base_uri": "https://localhost:8080/"
    },
    "executionInfo": {
     "elapsed": 698,
     "status": "ok",
     "timestamp": 1716270021933,
     "user": {
      "displayName": "Ashish Jangid",
      "userId": "15170006874299393728"
     },
     "user_tz": -330
    },
    "id": "aeb3feb1",
    "outputId": "967f9c44-a283-499d-ff7b-1b4137283222"
   },
   "outputs": [
    {
     "name": "stdout",
     "output_type": "stream",
     "text": [
      "                   city       price\n",
      "0                Algona    262000.0\n",
      "1                Auburn    900000.0\n",
      "2    Beaux Arts Village    745000.0\n",
      "3              Bellevue   7062500.0\n",
      "4         Black Diamond    650000.0\n",
      "5               Bothell    749995.0\n",
      "6                Burien   1035000.0\n",
      "7             Carnation   1680000.0\n",
      "8            Clyde Hill   3800000.0\n",
      "9             Covington   2199900.0\n",
      "10           Des Moines    950000.0\n",
      "11               Duvall    955000.0\n",
      "12             Enumclaw    687000.0\n",
      "13            Fall City   1600000.0\n",
      "14          Federal Way    819000.0\n",
      "15  Inglewood-Finn Hill    425000.0\n",
      "16             Issaquah   2238888.0\n",
      "17              Kenmore   1120000.0\n",
      "18                 Kent  26590000.0\n",
      "19             Kirkland   3000000.0\n",
      "20     Lake Forest Park    790000.0\n",
      "21         Maple Valley    725000.0\n",
      "22               Medina   3710000.0\n",
      "23        Mercer Island   4668000.0\n",
      "24               Milton    320000.0\n",
      "25            Newcastle   1200000.0\n",
      "26        Normandy Park   1309500.0\n",
      "27           North Bend    845000.0\n",
      "28              Pacific    260000.0\n",
      "29              Preston    685000.0\n",
      "30           Ravensdale    792500.0\n",
      "31              Redmond   2280000.0\n",
      "32               Renton   1135250.0\n",
      "33            Sammamish   2400000.0\n",
      "34               SeaTac    489000.0\n",
      "35              Seattle  12899000.0\n",
      "36            Shoreline   2005000.0\n",
      "37            Skykomish    415000.0\n",
      "38           Snoqualmie   1149000.0\n",
      "39      Snoqualmie Pass    525000.0\n",
      "40              Tukwila   2110000.0\n",
      "41               Vashon    849900.0\n",
      "42          Woodinville   1820000.0\n",
      "43         Yarrow Point   1901000.0\n"
     ]
    }
   ],
   "source": [
    "# Grouping by 'city' and calculating the maximum price\n",
    "df_max_price = df.groupby('city')['price'].max().reset_index()\n",
    "print(df_max_price)"
   ]
  },
  {
   "cell_type": "code",
   "execution_count": null,
   "id": "83434279",
   "metadata": {
    "colab": {
     "base_uri": "https://localhost:8080/"
    },
    "executionInfo": {
     "elapsed": 540,
     "status": "ok",
     "timestamp": 1716270027633,
     "user": {
      "displayName": "Ashish Jangid",
      "userId": "15170006874299393728"
     },
     "user_tz": -330
    },
    "id": "83434279",
    "outputId": "c4b1a422-94f7-479c-e7d2-1d92f2d38189"
   },
   "outputs": [
    {
     "name": "stdout",
     "output_type": "stream",
     "text": [
      "                   city          price\n",
      "0                Algona  100000.000000\n",
      "1                Auburn       0.000000\n",
      "2    Beaux Arts Village  745000.000000\n",
      "3              Bellevue       0.000000\n",
      "4         Black Diamond       0.000000\n",
      "5               Bothell  347000.000000\n",
      "6                Burien       0.000000\n",
      "7             Carnation   80000.000000\n",
      "8            Clyde Hill       0.000000\n",
      "9             Covington       0.000000\n",
      "10           Des Moines  140000.000000\n",
      "11               Duvall  117833.333333\n",
      "12             Enumclaw       0.000000\n",
      "13            Fall City  275000.000000\n",
      "14          Federal Way       0.000000\n",
      "15  Inglewood-Finn Hill  425000.000000\n",
      "16             Issaquah       0.000000\n",
      "17              Kenmore       0.000000\n",
      "18                 Kent       0.000000\n",
      "19             Kirkland   90000.000000\n",
      "20     Lake Forest Park       0.000000\n",
      "21         Maple Valley       0.000000\n",
      "22               Medina  188000.000000\n",
      "23        Mercer Island       0.000000\n",
      "24               Milton  250000.000000\n",
      "25            Newcastle  339900.000000\n",
      "26        Normandy Park       0.000000\n",
      "27           North Bend  240000.000000\n",
      "28              Pacific  174000.000000\n",
      "29              Preston  439900.000000\n",
      "30           Ravensdale  225000.000000\n",
      "31              Redmond  170000.000000\n",
      "32               Renton       0.000000\n",
      "33            Sammamish       0.000000\n",
      "34               SeaTac       0.000000\n",
      "35              Seattle       0.000000\n",
      "36            Shoreline  176225.000000\n",
      "37            Skykomish  134000.000000\n",
      "38           Snoqualmie       0.000000\n",
      "39      Snoqualmie Pass  525000.000000\n",
      "40              Tukwila    7800.000000\n",
      "41               Vashon  160000.000000\n",
      "42          Woodinville       0.000000\n",
      "43         Yarrow Point   84350.000000\n"
     ]
    }
   ],
   "source": [
    "# Grouping by 'city' and calculating the minimum price\n",
    "df_min_price = df.groupby('city')['price'].min().reset_index()\n",
    "print(df_min_price)"
   ]
  },
  {
   "cell_type": "markdown",
   "id": "e159bb60-8e57-4d82-b8d8-16a7f30d7180",
   "metadata": {
    "id": "e159bb60-8e57-4d82-b8d8-16a7f30d7180"
   },
   "source": [
    "# __Assisted Practice__"
   ]
  },
  {
   "cell_type": "markdown",
   "id": "5b49f2ff-f63d-43a5-ac32-f76893c7f143",
   "metadata": {
    "id": "5b49f2ff-f63d-43a5-ac32-f76893c7f143"
   },
   "source": [
    "## __Problem Statement:__\n",
    "A botanical research team is conducting a comprehensive analysis of iris flowers, aiming to derive valuable insights from their characteristics. The team wants to explore feature engineering techniques to understand and visualize the relationships within the Iris dataset."
   ]
  },
  {
   "cell_type": "markdown",
   "id": "0f61c7ac-2613-4d4d-b979-d6a31a0e92f2",
   "metadata": {
    "id": "0f61c7ac-2613-4d4d-b979-d6a31a0e92f2"
   },
   "source": [
    "## __Steps to perform:__\n",
    "- Understand the Dataset: Get familiar with the Iris dataset and its features\n",
    "- Engineer Features: Create new features like the sepal and petal areas\n",
    "- Transform Variables: If the features are not normally distributed, apply transformations\n",
    "- Scale Features: Use Min-max scaling or standard scaling to scale the features\n",
    "- Encode Labels: Convert the categorical data (species) into numerical data using label encoding\n",
    "- One Hot Encoding: Apply one-hot encoding to the species feature and compare it with label encoding"
   ]
  },
  {
   "cell_type": "code",
   "execution_count": null,
   "id": "2b21cc31-ba78-422b-8fa3-8b58cdabebcf",
   "metadata": {
    "id": "2b21cc31-ba78-422b-8fa3-8b58cdabebcf"
   },
   "outputs": [],
   "source": []
  }
 ],
 "metadata": {
  "colab": {
   "provenance": []
  },
  "kernelspec": {
   "display_name": "Python 3",
   "language": "python",
   "name": "python3"
  },
  "language_info": {
   "codemirror_mode": {
    "name": "ipython",
    "version": 3
   },
   "file_extension": ".py",
   "mimetype": "text/x-python",
   "name": "python",
   "nbconvert_exporter": "python",
   "pygments_lexer": "ipython3",
   "version": "3.10.11"
  }
 },
 "nbformat": 4,
 "nbformat_minor": 5
}
