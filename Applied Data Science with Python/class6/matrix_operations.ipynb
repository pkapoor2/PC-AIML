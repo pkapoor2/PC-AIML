{
 "cells": [
  {
   "cell_type": "code",
   "execution_count": 3,
   "id": "8c36de7b",
   "metadata": {},
   "outputs": [
    {
     "name": "stdout",
     "output_type": "stream",
     "text": [
      "Determinant of 2x2 matrix: -2\n",
      "Determinant of 3x3 matrix: 0\n",
      "Determinant of 4x4 matrix: 0\n",
      "Determinant of 1x1 matrix: 0\n",
      "Determinant of 5x5 matrix: 0\n"
     ]
    }
   ],
   "source": [
    "#calculate determinate of a matrix\n",
    "#implement a function\n",
    "#that takes a matrix as input and returns its determinant\n",
    "#use recursion to calculate the determinant of a matrix\n",
    "#the determinant of a 2x2 matrix is ad-bc\n",
    "#the determinant of a 3x3 matrix is a(ei-fh)-b(di-fg)+c(dh-eg)\n",
    "#the determinant of a 4x4 matrix is a(ei-fh)-b(di-fg)+c(dh-eg)+d(ef-gh)\n",
    "\n",
    "def determinant(matrix):\n",
    "    #base case for 2x2 matrix\n",
    "    if len(matrix) == 2:\n",
    "        return matrix[0][0] * matrix[1][1] - matrix[0][1] * matrix[1][0]\n",
    "    #base case for 3x3 matrix\n",
    "    elif len(matrix) == 3:\n",
    "        return (matrix[0][0] * (matrix[1][1] * matrix[2][2] - matrix[1][2] * matrix[2][1]) -\n",
    "                matrix[0][1] * (matrix[1][0] * matrix[2][2] - matrix[1][2] * matrix[2][0]) +\n",
    "                matrix[0][2] * (matrix[1][0] * matrix[2][1] - matrix[1][1] * matrix[2][0]))\n",
    "    #recursive case for larger matrices\n",
    "    else:\n",
    "        det = 0\n",
    "        for c in range(len(matrix)):\n",
    "            det += ((-1) ** c) * matrix[0][c] * determinant([row[:c] + row[c+1:] for row in matrix[1:]])\n",
    "        return det\n",
    "\n",
    "matrix_2x2 = [[1, 2], [3, 4]]\n",
    "matrix_3x3 = [[1, 2, 3], [4, 5, 6], [7, 8, 9]]\n",
    "matrix_4x4 = [[1, 2, 3, 4], [5, 6, 7, 8], [9, 10, 11, 12], [13, 14, 15, 16]]\n",
    "print(\"Determinant of 2x2 matrix:\", determinant(matrix_2x2)) # -2\n",
    "print(\"Determinant of 3x3 matrix:\", determinant(matrix_3x3)) # 0\n",
    "print(\"Determinant of 4x4 matrix:\", determinant(matrix_4x4)) # 0\n",
    "print(\"Determinant of 1x1 matrix:\", determinant([[5]])) # 5\n",
    "print(\"Determinant of 5x5 matrix:\", determinant([[1, 2, 3, 4, 5], [6, 7, 8, 9, 10], [11, 12, 13, 14, 15], [16, 17, 18, 19, 20], [21, 22, 23, 24, 25]])) #0\n",
    "\n"
   ]
  },
  {
   "cell_type": "code",
   "execution_count": null,
   "id": "423d1dd2",
   "metadata": {},
   "outputs": [
    {
     "name": "stdout",
     "output_type": "stream",
     "text": [
      "Matrix A + Matrix B =\n",
      " [[ 6  8]\n",
      " [10 12]]\n",
      "Matrix A * Matrix B =\n",
      " [[ 5 12]\n",
      " [21 32]]\n",
      "Transpose of Matrix A =\n",
      " [[1 3]\n",
      " [2 4]]\n",
      "Inverse of Matrix A =\n",
      " [[-2.   1. ]\n",
      " [ 1.5 -0.5]]\n",
      "Determinant of Matrix A =\n",
      " -2.0000000000000004\n",
      "Eigenvalues of Matrix A =\n",
      " [-0.37228132  5.37228132]\n",
      "Eigenvectors of Matrix A =\n",
      " [[-0.82456484 -0.41597356]\n",
      " [ 0.56576746 -0.90937671]]\n"
     ]
    }
   ],
   "source": [
    "import numpy as np\n",
    "\n",
    "#add matirx using numpy\n",
    "matrixA = np.array([[1, 2], \n",
    "                    [3, 4]])\n",
    "matrixB = np.array([[5, 6],\n",
    "                    [7, 8]])\n",
    "matrixC = np.add(matrixA, matrixB)\n",
    "print(\"Matrix A + Matrix B =\\n\", matrixC)\n",
    "#multiply matrix using numpy\n",
    "matrixA = np.array([[1, 2], \n",
    "                    [3, 4]])\n",
    "matrixB = np.array([[5, 6], \n",
    "                    [7, 8]])\n",
    "matrixC = np.multiply(matrixA, matrixB)\n",
    "print(\"Matrix A * Matrix B =\\n\", matrixC)\n",
    "#transpose matrix using numpy\n",
    "matrixA = np.array([[1, 2], [3, 4]])\n",
    "matrixB = np.transpose(matrixA)\n",
    "print(\"Transpose of Matrix A =\\n\", matrixB)\n",
    "#inverse matrix using numpy\n",
    "matrixA = np.array([[1, 2], [3, 4]])\n",
    "matrixB = np.linalg.inv(matrixA)\n",
    "print(\"Inverse of Matrix A =\\n\", matrixB)\n",
    "#determinant of matrix using numpy\n",
    "matrixA = np.array([[1, 2], [3, 4]])\n",
    "det = np.linalg.det(matrixA)\n",
    "print(\"Determinant of Matrix A =\\n\", det)\n",
    "#eigenvalues and eigenvectors of matrix using numpy\n",
    "matrixA = np.array([[1, 2], [3, 4]])\n",
    "eigenvalues, eigenvectors = np.linalg.eig(matrixA)\n",
    "print(\"Eigenvalues of Matrix A =\\n\", eigenvalues)\n",
    "print(\"Eigenvectors of Matrix A =\\n\", eigenvectors)\n"
   ]
  },
  {
   "cell_type": "code",
   "execution_count": null,
   "id": "3f691acc",
   "metadata": {},
   "outputs": [
    {
     "data": {
      "text/plain": [
       "array([[19, 22],\n",
       "       [43, 50]])"
      ]
     },
     "execution_count": 10,
     "metadata": {},
     "output_type": "execute_result"
    }
   ],
   "source": [
    "matrixA = np.array([[1, 2], \n",
    "                    [3, 4]])\n",
    "matrixB = np.array([[5, 6], \n",
    "                    [7, 8]])\n",
    "\n",
    "#cross product of two matrices using numpy using operator @\n",
    "matrixA @ matrixB"
   ]
  }
 ],
 "metadata": {
  "kernelspec": {
   "display_name": "Python 3",
   "language": "python",
   "name": "python3"
  },
  "language_info": {
   "codemirror_mode": {
    "name": "ipython",
    "version": 3
   },
   "file_extension": ".py",
   "mimetype": "text/x-python",
   "name": "python",
   "nbconvert_exporter": "python",
   "pygments_lexer": "ipython3",
   "version": "3.10.11"
  }
 },
 "nbformat": 4,
 "nbformat_minor": 5
}
