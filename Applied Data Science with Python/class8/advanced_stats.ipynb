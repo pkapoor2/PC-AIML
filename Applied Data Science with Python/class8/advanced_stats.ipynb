{
 "cells": [
  {
   "cell_type": "markdown",
   "id": "db509a67",
   "metadata": {},
   "source": [
    "null hypothesis examples"
   ]
  },
  {
   "cell_type": "markdown",
   "id": "b7747c85",
   "metadata": {},
   "source": [
    "single sample"
   ]
  },
  {
   "cell_type": "code",
   "execution_count": 3,
   "id": "4de54015",
   "metadata": {},
   "outputs": [
    {
     "name": "stdout",
     "output_type": "stream",
     "text": [
      "   ages\n",
      "0    34\n",
      "1    45\n",
      "2    65\n",
      "3    78\n",
      "4    32\n",
      "T-statistic: 2.8550527233384186\n",
      "P-value: 0.01012962422249864\n",
      "Reject the null hypothesis: The mean age is significantly different from 30.\n",
      "Mean Age: 43.75\n"
     ]
    }
   ],
   "source": [
    "import pandas as pd\n",
    "from scipy import stats\n",
    "\n",
    "df = pd.read_csv('Dataset/Ages.csv')\n",
    "#p-value is the probability of observing the data given that the null hypothesis is true\n",
    "# Null Hypothesis: The mean age of the population is 30\n",
    "print(df.head())\n",
    "t_statistic, p_value = stats.ttest_1samp(df['ages'], 30)\n",
    "print(f'T-statistic: {t_statistic}')\n",
    "print(f'P-value: {p_value}')\n",
    "# If p-value < 0.05, we reject the null hypothesis\n",
    "if p_value < 0.05:\n",
    "    print(\"Reject the null hypothesis: The mean age is significantly different from 30.\")\n",
    "else:\n",
    "    print(\"Fail to reject the null hypothesis: The mean age is not significantly different from 30.\")\n",
    "# Output the mean age for reference\n",
    "mean_age = df['ages'].mean()\n",
    "print(f'Mean Age: {mean_age}')\n"
   ]
  },
  {
   "cell_type": "code",
   "execution_count": 4,
   "id": "cec8f8e7",
   "metadata": {},
   "outputs": [
    {
     "data": {
      "text/html": [
       "<div>\n",
       "<style scoped>\n",
       "    .dataframe tbody tr th:only-of-type {\n",
       "        vertical-align: middle;\n",
       "    }\n",
       "\n",
       "    .dataframe tbody tr th {\n",
       "        vertical-align: top;\n",
       "    }\n",
       "\n",
       "    .dataframe thead th {\n",
       "        text-align: right;\n",
       "    }\n",
       "</style>\n",
       "<table border=\"1\" class=\"dataframe\">\n",
       "  <thead>\n",
       "    <tr style=\"text-align: right;\">\n",
       "      <th></th>\n",
       "      <th>patient</th>\n",
       "      <th>bp_before</th>\n",
       "      <th>bp_after</th>\n",
       "    </tr>\n",
       "  </thead>\n",
       "  <tbody>\n",
       "    <tr>\n",
       "      <th>count</th>\n",
       "      <td>120.000000</td>\n",
       "      <td>120.000000</td>\n",
       "      <td>120.000000</td>\n",
       "    </tr>\n",
       "    <tr>\n",
       "      <th>mean</th>\n",
       "      <td>60.500000</td>\n",
       "      <td>156.450000</td>\n",
       "      <td>151.358333</td>\n",
       "    </tr>\n",
       "    <tr>\n",
       "      <th>std</th>\n",
       "      <td>34.785054</td>\n",
       "      <td>11.389845</td>\n",
       "      <td>14.177622</td>\n",
       "    </tr>\n",
       "    <tr>\n",
       "      <th>min</th>\n",
       "      <td>1.000000</td>\n",
       "      <td>138.000000</td>\n",
       "      <td>125.000000</td>\n",
       "    </tr>\n",
       "    <tr>\n",
       "      <th>25%</th>\n",
       "      <td>30.750000</td>\n",
       "      <td>147.000000</td>\n",
       "      <td>140.750000</td>\n",
       "    </tr>\n",
       "    <tr>\n",
       "      <th>50%</th>\n",
       "      <td>60.500000</td>\n",
       "      <td>154.500000</td>\n",
       "      <td>149.500000</td>\n",
       "    </tr>\n",
       "    <tr>\n",
       "      <th>75%</th>\n",
       "      <td>90.250000</td>\n",
       "      <td>164.000000</td>\n",
       "      <td>161.000000</td>\n",
       "    </tr>\n",
       "    <tr>\n",
       "      <th>max</th>\n",
       "      <td>120.000000</td>\n",
       "      <td>185.000000</td>\n",
       "      <td>185.000000</td>\n",
       "    </tr>\n",
       "  </tbody>\n",
       "</table>\n",
       "</div>"
      ],
      "text/plain": [
       "          patient   bp_before    bp_after\n",
       "count  120.000000  120.000000  120.000000\n",
       "mean    60.500000  156.450000  151.358333\n",
       "std     34.785054   11.389845   14.177622\n",
       "min      1.000000  138.000000  125.000000\n",
       "25%     30.750000  147.000000  140.750000\n",
       "50%     60.500000  154.500000  149.500000\n",
       "75%     90.250000  164.000000  161.000000\n",
       "max    120.000000  185.000000  185.000000"
      ]
     },
     "execution_count": 4,
     "metadata": {},
     "output_type": "execute_result"
    }
   ],
   "source": [
    "df = pd.read_csv('Dataset/blood_pressure.csv')\n",
    "df.describe()"
   ]
  },
  {
   "cell_type": "markdown",
   "id": "efe0ed48",
   "metadata": {},
   "source": [
    "2 samples"
   ]
  },
  {
   "cell_type": "code",
   "execution_count": 5,
   "id": "5b579d25",
   "metadata": {},
   "outputs": [
    {
     "name": "stdout",
     "output_type": "stream",
     "text": [
      "T-statistic: 3.0669836819036274\n",
      "P-value: 0.002412277478078891\n",
      "Reject the null hypothesis: The means of blood pressure before and after treatment are significantly different.\n"
     ]
    }
   ],
   "source": [
    "# Perform a two-sample t-test to compare the means of two independent groups\n",
    "t_statistic, p_value = stats.ttest_ind(df['bp_before'], df['bp_after'])\n",
    "print(f'T-statistic: {t_statistic}')\n",
    "print(f'P-value: {p_value}')\n",
    "# If p-value < 0.05, we reject the null hypothesis that the means are equal\n",
    "if p_value < 0.05:\n",
    "    print(\"Reject the null hypothesis: The means of blood pressure before and after treatment are significantly different.\")\n",
    "else:\n",
    "    print(\"Fail to reject the null hypothesis: The means of blood pressure before and after treatment are not significantly different.\")\n",
    "# Output the means for reference\n"
   ]
  },
  {
   "cell_type": "markdown",
   "id": "b0b11fc1",
   "metadata": {},
   "source": [
    "independent 2 samples"
   ]
  },
  {
   "cell_type": "code",
   "execution_count": 6,
   "id": "46774270",
   "metadata": {},
   "outputs": [
    {
     "data": {
      "text/html": [
       "<div>\n",
       "<style scoped>\n",
       "    .dataframe tbody tr th:only-of-type {\n",
       "        vertical-align: middle;\n",
       "    }\n",
       "\n",
       "    .dataframe tbody tr th {\n",
       "        vertical-align: top;\n",
       "    }\n",
       "\n",
       "    .dataframe thead th {\n",
       "        text-align: right;\n",
       "    }\n",
       "</style>\n",
       "<table border=\"1\" class=\"dataframe\">\n",
       "  <thead>\n",
       "    <tr style=\"text-align: right;\">\n",
       "      <th></th>\n",
       "      <th>EmployeeID</th>\n",
       "      <th>Satisfaction_Score</th>\n",
       "      <th>Department</th>\n",
       "    </tr>\n",
       "  </thead>\n",
       "  <tbody>\n",
       "    <tr>\n",
       "      <th>0</th>\n",
       "      <td>1</td>\n",
       "      <td>45</td>\n",
       "      <td>Marketing</td>\n",
       "    </tr>\n",
       "    <tr>\n",
       "      <th>1</th>\n",
       "      <td>2</td>\n",
       "      <td>48</td>\n",
       "      <td>Marketing</td>\n",
       "    </tr>\n",
       "    <tr>\n",
       "      <th>2</th>\n",
       "      <td>3</td>\n",
       "      <td>65</td>\n",
       "      <td>Marketing</td>\n",
       "    </tr>\n",
       "    <tr>\n",
       "      <th>3</th>\n",
       "      <td>4</td>\n",
       "      <td>68</td>\n",
       "      <td>Marketing</td>\n",
       "    </tr>\n",
       "    <tr>\n",
       "      <th>4</th>\n",
       "      <td>5</td>\n",
       "      <td>68</td>\n",
       "      <td>Sales</td>\n",
       "    </tr>\n",
       "  </tbody>\n",
       "</table>\n",
       "</div>"
      ],
      "text/plain": [
       "   EmployeeID  Satisfaction_Score Department\n",
       "0           1                  45  Marketing\n",
       "1           2                  48  Marketing\n",
       "2           3                  65  Marketing\n",
       "3           4                  68  Marketing\n",
       "4           5                  68      Sales"
      ]
     },
     "execution_count": 6,
     "metadata": {},
     "output_type": "execute_result"
    }
   ],
   "source": [
    "df = pd.read_csv('Dataset/employee_satisfaction.csv')\n",
    "df.head()\n",
    "#perdorm a 2 sample t-test to compare the means of two independent groups\n"
   ]
  },
  {
   "cell_type": "code",
   "execution_count": 9,
   "id": "ec58ab8c",
   "metadata": {},
   "outputs": [
    {
     "name": "stdout",
     "output_type": "stream",
     "text": [
      "T-statistic: 0.12632332074774358\n",
      "P-value: 0.8997348065487794\n",
      "Fail to reject the null hypothesis: The means of employee satisfaction in Marketing and Sales are not significantly different.\n",
      "Mean Satisfaction in Marketing: 49.63636363636363\n",
      "Mean Satisfaction in Sales: 48.910714285714285\n"
     ]
    }
   ],
   "source": [
    "#perdorm a 2 sample t-test to compare the means of two independent Departments Marketing and Sales\n",
    "t_statistic, p_value = stats.ttest_ind(df[df['Department'] == 'Marketing']['Satisfaction_Score'],\n",
    "                                       df[df['Department'] == 'Sales']['Satisfaction_Score'])\n",
    "print(f'T-statistic: {t_statistic}')\n",
    "print(f'P-value: {p_value}')\n",
    "# If p-value < 0.05, we reject the null hypothesis that the means are equal\n",
    "if p_value < 0.05:\n",
    "    print(\"Reject the null hypothesis: The means of employee satisfaction in Marketing and Sales are significantly different.\")\n",
    "else:\n",
    "    print(\"Fail to reject the null hypothesis: The means of employee satisfaction in Marketing and Sales are not significantly different.\")\n",
    "# Output the means for reference\n",
    "mean_marketing = df[df['Department'] == 'Marketing']['Satisfaction_Score'].mean()\n",
    "mean_sales = df[df['Department'] == 'Sales']['Satisfaction_Score'].mean()\n",
    "print(f'Mean Satisfaction in Marketing: {mean_marketing}')\n",
    "print(f'Mean Satisfaction in Sales: {mean_sales}')\n"
   ]
  },
  {
   "cell_type": "markdown",
   "id": "d489262d",
   "metadata": {},
   "source": [
    "z test"
   ]
  },
  {
   "cell_type": "code",
   "execution_count": 63,
   "id": "4c35d9ba",
   "metadata": {},
   "outputs": [
    {
     "name": "stdout",
     "output_type": "stream",
     "text": [
      "mean=112.02 stdv=14.92\n",
      "p_value=0.0000000086 alpha=0.0500000000\n",
      "z-score=5.64\n",
      "Reject null Hypothesis\n"
     ]
    }
   ],
   "source": [
    "# import the libraries\n",
    "import math\n",
    "import numpy as np\n",
    "from numpy.random import randn\n",
    "from statsmodels.stats.weightstats import ztest\n",
    "\n",
    "# Generate a random array of 50 numbers having mean 110 and standard deviation of 15\n",
    "# similar to the IQ scores data\n",
    "mean_iq = 110\n",
    "sd_iq = 15  # true population standard deviation of IQ scores\n",
    "alpha =0.05\n",
    "null_mean =100\n",
    "data = sd_iq*randn(50)+mean_iq\n",
    "# Print mean and SD\n",
    "print('mean=%.2f stdv=%.2f' % (np.mean(data), np.std(data)))\n",
    "\n",
    "# Now you perform the test, and in this function, you passed data in the value parameter\n",
    "# You passed mean value in the null hypothesis and will check if the mean is larger in the\n",
    "# alternative hypothesis\n",
    "\n",
    "ztest_Score, p_value= ztest(data,value = null_mean, alternative='larger')\n",
    "# The function outputs a p_value and z-score corresponding to that value, you compare the\n",
    "# p-value with alpha, and if it is greater than alpha, then you do fail to reject the null hypothesis else you reject it.\n",
    "\n",
    "# Print the p-value and alpha\n",
    "alpha = 0.05\n",
    "print('p_value=%.10f' % (p_value), 'alpha=%.10f' % (alpha))\n",
    "\n",
    "# print the z-score\n",
    "print('z-score=%.2f' % (ztest_Score))   \n",
    "\n",
    "\n",
    "if(p_value < alpha):\n",
    "    print(\"Reject null Hypothesis\")\n",
    "else:\n",
    "    print(\"Fail to Reject null Hypothesis\")"
   ]
  },
  {
   "cell_type": "markdown",
   "id": "29e43670",
   "metadata": {},
   "source": [
    "chi distribution"
   ]
  },
  {
   "cell_type": "code",
   "execution_count": 65,
   "id": "c2de6360",
   "metadata": {},
   "outputs": [
    {
     "name": "stdout",
     "output_type": "stream",
     "text": [
      "Chi2 Statistic: 0.27157465150403504\n",
      "P-value: 0.873028283380073\n",
      "Fail to reject the null hypothesis: The distributions are not significantly different.\n"
     ]
    }
   ],
   "source": [
    "from scipy.stats import chi2_contingency\n",
    "import numpy as np\n",
    "\n",
    "data = np.array([[10, 20, 30], [6, 9, 17]])\n",
    "\n",
    "chi2, p_value, dof, expected = chi2_contingency(data)\n",
    "print(f'Chi2 Statistic: {chi2}')\n",
    "print(f'P-value: {p_value}')\n",
    "# If p-value < 0.05, we reject the null hypothesis that the distributions are independent\n",
    "if p_value < 0.05:\n",
    "    print(\"Reject the null hypothesis: The distributions are significantly different.\")\n",
    "else:\n",
    "    print(\"Fail to reject the null hypothesis: The distributions are not significantly different.\")\n",
    "\n"
   ]
  },
  {
   "cell_type": "code",
   "execution_count": 66,
   "id": "0106dcc4",
   "metadata": {},
   "outputs": [
    {
     "name": "stdout",
     "output_type": "stream",
     "text": [
      "p-value: 0.005595003173072841\n",
      "Reject null hypothesis - significant relationship exists.\n"
     ]
    }
   ],
   "source": [
    "# More dramatic snack choice differences\n",
    "data = [[10, 20, 30],   # Greenwood\n",
    "        [ 9,  1,  8]]   # Riverdale\n",
    "\n",
    "stat, p_value, dof, expected = chi2_contingency(data)\n",
    "\n",
    "print(\"p-value:\", p_value)\n",
    "if p_value < 0.05:\n",
    "    print(\"Reject null hypothesis - significant relationship exists.\")\n",
    "else:\n",
    "    print(\"Fail to reject null hypothesis - no significant relationship.\")\n"
   ]
  },
  {
   "cell_type": "markdown",
   "id": "6acd4011",
   "metadata": {},
   "source": [
    "### __12.1 Chi-Square Test and Independence Test__"
   ]
  },
  {
   "cell_type": "code",
   "execution_count": 67,
   "id": "6e317021",
   "metadata": {},
   "outputs": [
    {
     "name": "stdout",
     "output_type": "stream",
     "text": [
      "Chi-Square Statistic = 18.75\n",
      "Degrees of Freedom = 4\n",
      "P-value = 0.0009\n",
      "Reject null hypothesis - social media preference depends on age group.\n"
     ]
    }
   ],
   "source": [
    "import numpy as np\n",
    "from scipy.stats import chi2_contingency\n",
    "\n",
    "# Contingency table (observed counts)\n",
    "data = np.array([\n",
    "    [10, 5, 15],   # Age 18–29\n",
    "    [10, 15, 5],   # Age 30–49\n",
    "    [5, 20, 5]     # Age 50+\n",
    "])\n",
    "\n",
    "# Perform chi-square test of independence\n",
    "stat, p_value, dof, expected = chi2_contingency(data)\n",
    "\n",
    "# Print results\n",
    "print(f\"Chi-Square Statistic = {stat:.2f}\")\n",
    "print(f\"Degrees of Freedom = {dof}\")\n",
    "print(f\"P-value = {p_value:.4f}\")\n",
    "\n",
    "if p_value < 0.05:\n",
    "    print(\"Reject null hypothesis - social media preference depends on age group.\")\n",
    "else:\n",
    "    print(\"Fail to reject null hypothesis - no significant relationship.\")\n"
   ]
  },
  {
   "cell_type": "markdown",
   "id": "8078edc7",
   "metadata": {},
   "source": [
    "### ANOVA"
   ]
  },
  {
   "cell_type": "markdown",
   "id": "f6fe309f",
   "metadata": {},
   "source": [
    "one way anova"
   ]
  },
  {
   "cell_type": "code",
   "execution_count": 71,
   "id": "872aafb1",
   "metadata": {},
   "outputs": [
    {
     "data": {
      "text/html": [
       "<div>\n",
       "<style scoped>\n",
       "    .dataframe tbody tr th:only-of-type {\n",
       "        vertical-align: middle;\n",
       "    }\n",
       "\n",
       "    .dataframe tbody tr th {\n",
       "        vertical-align: top;\n",
       "    }\n",
       "\n",
       "    .dataframe thead th {\n",
       "        text-align: right;\n",
       "    }\n",
       "</style>\n",
       "<table border=\"1\" class=\"dataframe\">\n",
       "  <thead>\n",
       "    <tr style=\"text-align: right;\">\n",
       "      <th></th>\n",
       "      <th>weight</th>\n",
       "      <th>group</th>\n",
       "    </tr>\n",
       "  </thead>\n",
       "  <tbody>\n",
       "    <tr>\n",
       "      <th>0</th>\n",
       "      <td>4.17</td>\n",
       "      <td>ctrl</td>\n",
       "    </tr>\n",
       "    <tr>\n",
       "      <th>1</th>\n",
       "      <td>5.58</td>\n",
       "      <td>ctrl</td>\n",
       "    </tr>\n",
       "    <tr>\n",
       "      <th>2</th>\n",
       "      <td>5.18</td>\n",
       "      <td>ctrl</td>\n",
       "    </tr>\n",
       "    <tr>\n",
       "      <th>3</th>\n",
       "      <td>6.11</td>\n",
       "      <td>ctrl</td>\n",
       "    </tr>\n",
       "    <tr>\n",
       "      <th>4</th>\n",
       "      <td>4.50</td>\n",
       "      <td>ctrl</td>\n",
       "    </tr>\n",
       "  </tbody>\n",
       "</table>\n",
       "</div>"
      ],
      "text/plain": [
       "   weight group\n",
       "0    4.17  ctrl\n",
       "1    5.58  ctrl\n",
       "2    5.18  ctrl\n",
       "3    6.11  ctrl\n",
       "4    4.50  ctrl"
      ]
     },
     "execution_count": 71,
     "metadata": {},
     "output_type": "execute_result"
    }
   ],
   "source": [
    "import pandas as pd\n",
    "from scipy import stats\n",
    "from statsmodels.stats import weightstats as stests\n",
    "df = pd.read_csv('Dataset/plant.csv')\n",
    "df.drop(columns=['Unnamed: 0'], inplace=True)\n",
    "df.head()\n"
   ]
  },
  {
   "cell_type": "code",
   "execution_count": 72,
   "id": "24c0fbee",
   "metadata": {},
   "outputs": [
    {
     "data": {
      "text/plain": [
       "group\n",
       "ctrl    10\n",
       "trt1    10\n",
       "trt2    10\n",
       "Name: count, dtype: int64"
      ]
     },
     "execution_count": 72,
     "metadata": {},
     "output_type": "execute_result"
    }
   ],
   "source": [
    "df['group'].value_counts()"
   ]
  },
  {
   "cell_type": "code",
   "execution_count": 73,
   "id": "f78f8c1e",
   "metadata": {},
   "outputs": [
    {
     "data": {
      "text/html": [
       "<div>\n",
       "<style scoped>\n",
       "    .dataframe tbody tr th:only-of-type {\n",
       "        vertical-align: middle;\n",
       "    }\n",
       "\n",
       "    .dataframe tbody tr th {\n",
       "        vertical-align: top;\n",
       "    }\n",
       "\n",
       "    .dataframe thead th {\n",
       "        text-align: right;\n",
       "    }\n",
       "</style>\n",
       "<table border=\"1\" class=\"dataframe\">\n",
       "  <thead>\n",
       "    <tr style=\"text-align: right;\">\n",
       "      <th></th>\n",
       "      <th>weight</th>\n",
       "    </tr>\n",
       "  </thead>\n",
       "  <tbody>\n",
       "    <tr>\n",
       "      <th>count</th>\n",
       "      <td>30.000000</td>\n",
       "    </tr>\n",
       "    <tr>\n",
       "      <th>mean</th>\n",
       "      <td>5.073000</td>\n",
       "    </tr>\n",
       "    <tr>\n",
       "      <th>std</th>\n",
       "      <td>0.701192</td>\n",
       "    </tr>\n",
       "    <tr>\n",
       "      <th>min</th>\n",
       "      <td>3.590000</td>\n",
       "    </tr>\n",
       "    <tr>\n",
       "      <th>25%</th>\n",
       "      <td>4.550000</td>\n",
       "    </tr>\n",
       "    <tr>\n",
       "      <th>50%</th>\n",
       "      <td>5.155000</td>\n",
       "    </tr>\n",
       "    <tr>\n",
       "      <th>75%</th>\n",
       "      <td>5.530000</td>\n",
       "    </tr>\n",
       "    <tr>\n",
       "      <th>max</th>\n",
       "      <td>6.310000</td>\n",
       "    </tr>\n",
       "  </tbody>\n",
       "</table>\n",
       "</div>"
      ],
      "text/plain": [
       "          weight\n",
       "count  30.000000\n",
       "mean    5.073000\n",
       "std     0.701192\n",
       "min     3.590000\n",
       "25%     4.550000\n",
       "50%     5.155000\n",
       "75%     5.530000\n",
       "max     6.310000"
      ]
     },
     "execution_count": 73,
     "metadata": {},
     "output_type": "execute_result"
    }
   ],
   "source": [
    "df.describe()"
   ]
  },
  {
   "cell_type": "code",
   "execution_count": 74,
   "id": "784d7d1d",
   "metadata": {},
   "outputs": [
    {
     "name": "stdout",
     "output_type": "stream",
     "text": [
      "p-value for significance is:  0.015909958325622895\n",
      "Reject the null hypothesis\n"
     ]
    }
   ],
   "source": [
    "df = df[['weight','group']]\n",
    "groups = pd.unique(df.group.values)\n",
    "data = {grp:df['weight'][df.group == grp] for grp in groups}\n",
    "\n",
    "F, p = stats.f_oneway(data['ctrl'], data['trt1'], data['trt2'])\n",
    "print(\"p-value for significance is: \", p)\n",
    "if p<0.05:\n",
    "    print(\"Reject the null hypothesis\")\n",
    "else:\n",
    "    print(\"Fail to reject null hypothesis\")"
   ]
  },
  {
   "cell_type": "markdown",
   "id": "f8f88c94",
   "metadata": {},
   "source": [
    "2 way anova"
   ]
  },
  {
   "cell_type": "code",
   "execution_count": 75,
   "id": "5590a608",
   "metadata": {},
   "outputs": [
    {
     "data": {
      "text/html": [
       "<div>\n",
       "<style scoped>\n",
       "    .dataframe tbody tr th:only-of-type {\n",
       "        vertical-align: middle;\n",
       "    }\n",
       "\n",
       "    .dataframe tbody tr th {\n",
       "        vertical-align: top;\n",
       "    }\n",
       "\n",
       "    .dataframe thead th {\n",
       "        text-align: right;\n",
       "    }\n",
       "</style>\n",
       "<table border=\"1\" class=\"dataframe\">\n",
       "  <thead>\n",
       "    <tr style=\"text-align: right;\">\n",
       "      <th></th>\n",
       "      <th>Fert</th>\n",
       "      <th>Water</th>\n",
       "      <th>Yield</th>\n",
       "    </tr>\n",
       "  </thead>\n",
       "  <tbody>\n",
       "    <tr>\n",
       "      <th>0</th>\n",
       "      <td>A</td>\n",
       "      <td>High</td>\n",
       "      <td>27.4</td>\n",
       "    </tr>\n",
       "    <tr>\n",
       "      <th>1</th>\n",
       "      <td>A</td>\n",
       "      <td>High</td>\n",
       "      <td>33.6</td>\n",
       "    </tr>\n",
       "    <tr>\n",
       "      <th>2</th>\n",
       "      <td>A</td>\n",
       "      <td>High</td>\n",
       "      <td>29.8</td>\n",
       "    </tr>\n",
       "    <tr>\n",
       "      <th>3</th>\n",
       "      <td>A</td>\n",
       "      <td>High</td>\n",
       "      <td>35.2</td>\n",
       "    </tr>\n",
       "    <tr>\n",
       "      <th>4</th>\n",
       "      <td>A</td>\n",
       "      <td>High</td>\n",
       "      <td>33.0</td>\n",
       "    </tr>\n",
       "  </tbody>\n",
       "</table>\n",
       "</div>"
      ],
      "text/plain": [
       "  Fert Water  Yield\n",
       "0    A  High   27.4\n",
       "1    A  High   33.6\n",
       "2    A  High   29.8\n",
       "3    A  High   35.2\n",
       "4    A  High   33.0"
      ]
     },
     "execution_count": 75,
     "metadata": {},
     "output_type": "execute_result"
    }
   ],
   "source": [
    "# Import the necessary libraries\n",
    "import statsmodels.api as sm\n",
    "from statsmodels.formula.api import ols\n",
    "\n",
    "# Load the crop_yield.csv dataset\n",
    "df_anova2 = pd.read_csv(\"Dataset/crop_yield.csv\")\n",
    "df_anova2.head()"
   ]
  },
  {
   "cell_type": "code",
   "execution_count": 76,
   "id": "e466f3ff",
   "metadata": {},
   "outputs": [
    {
     "data": {
      "text/plain": [
       "Fert  Water\n",
       "A     High     5\n",
       "      Low      5\n",
       "B     High     5\n",
       "      Low      5\n",
       "Name: count, dtype: int64"
      ]
     },
     "execution_count": 76,
     "metadata": {},
     "output_type": "execute_result"
    }
   ],
   "source": [
    "df_anova2[['Fert', 'Water']].value_counts()"
   ]
  },
  {
   "cell_type": "code",
   "execution_count": 77,
   "id": "262dfee8",
   "metadata": {},
   "outputs": [
    {
     "data": {
      "text/html": [
       "<div>\n",
       "<style scoped>\n",
       "    .dataframe tbody tr th:only-of-type {\n",
       "        vertical-align: middle;\n",
       "    }\n",
       "\n",
       "    .dataframe tbody tr th {\n",
       "        vertical-align: top;\n",
       "    }\n",
       "\n",
       "    .dataframe thead th {\n",
       "        text-align: right;\n",
       "    }\n",
       "</style>\n",
       "<table border=\"1\" class=\"dataframe\">\n",
       "  <thead>\n",
       "    <tr style=\"text-align: right;\">\n",
       "      <th></th>\n",
       "      <th>Yield</th>\n",
       "    </tr>\n",
       "  </thead>\n",
       "  <tbody>\n",
       "    <tr>\n",
       "      <th>count</th>\n",
       "      <td>20.000000</td>\n",
       "    </tr>\n",
       "    <tr>\n",
       "      <th>mean</th>\n",
       "      <td>29.040000</td>\n",
       "    </tr>\n",
       "    <tr>\n",
       "      <th>std</th>\n",
       "      <td>4.230516</td>\n",
       "    </tr>\n",
       "    <tr>\n",
       "      <th>min</th>\n",
       "      <td>19.400000</td>\n",
       "    </tr>\n",
       "    <tr>\n",
       "      <th>25%</th>\n",
       "      <td>26.400000</td>\n",
       "    </tr>\n",
       "    <tr>\n",
       "      <th>50%</th>\n",
       "      <td>29.600000</td>\n",
       "    </tr>\n",
       "    <tr>\n",
       "      <th>75%</th>\n",
       "      <td>32.400000</td>\n",
       "    </tr>\n",
       "    <tr>\n",
       "      <th>max</th>\n",
       "      <td>35.200000</td>\n",
       "    </tr>\n",
       "  </tbody>\n",
       "</table>\n",
       "</div>"
      ],
      "text/plain": [
       "           Yield\n",
       "count  20.000000\n",
       "mean   29.040000\n",
       "std     4.230516\n",
       "min    19.400000\n",
       "25%    26.400000\n",
       "50%    29.600000\n",
       "75%    32.400000\n",
       "max    35.200000"
      ]
     },
     "execution_count": 77,
     "metadata": {},
     "output_type": "execute_result"
    }
   ],
   "source": [
    "df_anova2.describe()"
   ]
  },
  {
   "cell_type": "code",
   "execution_count": 78,
   "id": "12e58d76",
   "metadata": {},
   "outputs": [
    {
     "name": "stdout",
     "output_type": "stream",
     "text": [
      "Overall model F( 3, 16) =  4.112, p =  0.0243\n",
      "\n",
      "                    sum_sq    df         F    PR(>F)\n",
      "C(Fert)            69.192   1.0  5.766000  0.028847\n",
      "C(Water)           63.368   1.0  5.280667  0.035386\n",
      "C(Fert):C(Water)   15.488   1.0  1.290667  0.272656\n",
      "Residual          192.000  16.0       NaN       NaN\n"
     ]
    }
   ],
   "source": [
    "# Fit the model\n",
    "model = ols('Yield ~ C(Fert)*C(Water)', df_anova2).fit()\n",
    "\n",
    "# Print the overall model\n",
    "print(f\"Overall model F({model.df_model: .0f},{model.df_resid: .0f}) = {model.fvalue: .3f}, p = {model.f_pvalue: .4f}\")\n",
    "\n",
    "# Perform ANOVA and print the table\n",
    "res = sm.stats.anova_lm(model, typ= 2) # ANOVA 2-way\n",
    "print('\\n', res)"
   ]
  },
  {
   "cell_type": "code",
   "execution_count": 83,
   "id": "0bd5494e",
   "metadata": {},
   "outputs": [],
   "source": [
    "df_anova2['Residual']=model.resid"
   ]
  },
  {
   "cell_type": "code",
   "execution_count": 84,
   "id": "610d7f03",
   "metadata": {},
   "outputs": [
    {
     "data": {
      "image/png": "[encoded data removed]",
      "text/plain": [
       "<Figure size 600x600 with 1 Axes>"
      ]
     },
     "metadata": {},
     "output_type": "display_data"
    }
   ],
   "source": [
    "import scipy.stats as stats\n",
    "import matplotlib.pyplot as plt\n",
    "\n",
    "# Q-Q plot of residuals from the model\n",
    "plt.figure(figsize=(6, 6))\n",
    "stats.probplot(df_anova2['Residual'], dist=\"norm\", plot=plt)\n",
    "plt.title(\"Q-Q Plot of ANOVA Residuals\")\n",
    "plt.grid(True)\n",
    "plt.show()"
   ]
  },
  {
   "cell_type": "markdown",
   "id": "2b0f6942",
   "metadata": {},
   "source": [
    "### F-Distribution"
   ]
  },
  {
   "cell_type": "code",
   "execution_count": 91,
   "id": "67266cd6",
   "metadata": {},
   "outputs": [
    {
     "data": {
      "image/png": "[encoded data removed]",
      "text/plain": [
       "<Figure size 640x480 with 1 Axes>"
      ]
     },
     "metadata": {},
     "output_type": "display_data"
    }
   ],
   "source": [
    "#pdf of F-distribution\n",
    "import numpy as np\n",
    "import matplotlib.pyplot as plt\n",
    "\n",
    "# Parameters for the F-distribution\n",
    "dof1 = 2  # degrees of freedom for the numerator\n",
    "dof2 = 10  # degrees of freedom for the denominator\n",
    "\n",
    "x = np.linspace(0, 5, 1000)\n",
    "# Calculate the PDF of the F-distribution\n",
    "for dof1, dof2 in [(2, 10), (5, 20), (10, 30), (100,100)]:\n",
    "    pdf = stats.f.pdf(x, dof1, dof2)\n",
    "    # Plot the PDF\n",
    "    plt.plot(x, pdf, label=f'F({dof1}, {dof2})')\n",
    "plt.title('PDF of F-distribution')\n",
    "plt.xlabel('x')\n",
    "plt.ylabel('Probability Density')\n",
    "plt.legend()\n",
    "plt.grid()\n",
    "plt.show()\n"
   ]
  },
  {
   "cell_type": "markdown",
   "id": "d9c0f7be",
   "metadata": {},
   "source": [
    "##  F-Test for Equality of Variances"
   ]
  },
  {
   "cell_type": "markdown",
   "id": "b4ba4952",
   "metadata": {},
   "source": [
    "same Variance"
   ]
  },
  {
   "cell_type": "code",
   "execution_count": 131,
   "id": "73fa2229",
   "metadata": {},
   "outputs": [
    {
     "name": "stdout",
     "output_type": "stream",
     "text": [
      "0.0007903766695266379\n",
      "F-test Statistic: 4.639735225275414\n",
      "P-value: 0.0007903766695266379\n",
      "Reject the null hypothesis: The variances are significantly different.\n"
     ]
    }
   ],
   "source": [
    "import random\n",
    "from scipy.stats import f\n",
    "random.seed()\n",
    "\n",
    "# Generate data with same std\n",
    "x = np.array([random.gauss(100,15) for x in range(20)])\n",
    "y = np.array([random.gauss(100,15) for x in range(20)])\n",
    "\n",
    "# Calculate f_test_statistic\n",
    "f_test_stat = np.var(x,ddof=1) / np.var(y,ddof = 1)\n",
    "\n",
    "dfn = x.size - 1\n",
    "dfd = y.size - 1\n",
    "\n",
    "# Calculate p value\n",
    "p_value = 1 - f.cdf(f_test_stat,dfn,dfd)\n",
    "\n",
    "print(p_value)\n",
    "# Print the F-test statistic and p-value\n",
    "print(f'F-test Statistic: {f_test_stat}')\n",
    "print(f'P-value: {p_value}')\n",
    "# Determine if we reject the null hypothesis\n",
    "if p_value < 0.05:\n",
    "    print(\"Reject the null hypothesis: The variances are significantly different.\")\n",
    "else:\n",
    "    print(\"Fail to reject the null hypothesis: The variances are not significantly different.\")\n",
    "# Import the necessary libraries"
   ]
  },
  {
   "cell_type": "markdown",
   "id": "88bbd4e4",
   "metadata": {},
   "source": [
    "## __Exercise: Determine the Percentage of Defective User Data__"
   ]
  },
  {
   "cell_type": "code",
   "execution_count": 133,
   "id": "e211fe5b",
   "metadata": {},
   "outputs": [],
   "source": [
    "import scipy as sp\n"
   ]
  },
  {
   "cell_type": "code",
   "execution_count": 134,
   "id": "d199df03",
   "metadata": {},
   "outputs": [
    {
     "data": {
      "text/html": [
       "<div>\n",
       "<style scoped>\n",
       "    .dataframe tbody tr th:only-of-type {\n",
       "        vertical-align: middle;\n",
       "    }\n",
       "\n",
       "    .dataframe tbody tr th {\n",
       "        vertical-align: top;\n",
       "    }\n",
       "\n",
       "    .dataframe thead th {\n",
       "        text-align: right;\n",
       "    }\n",
       "</style>\n",
       "<table border=\"1\" class=\"dataframe\">\n",
       "  <thead>\n",
       "    <tr style=\"text-align: right;\">\n",
       "      <th></th>\n",
       "      <th>Phillippines</th>\n",
       "      <th>Indonesia</th>\n",
       "      <th>Malta</th>\n",
       "      <th>India</th>\n",
       "    </tr>\n",
       "  </thead>\n",
       "  <tbody>\n",
       "    <tr>\n",
       "      <th>0</th>\n",
       "      <td>Error Free</td>\n",
       "      <td>Error Free</td>\n",
       "      <td>Defective</td>\n",
       "      <td>Error Free</td>\n",
       "    </tr>\n",
       "    <tr>\n",
       "      <th>1</th>\n",
       "      <td>Error Free</td>\n",
       "      <td>Error Free</td>\n",
       "      <td>Error Free</td>\n",
       "      <td>Defective</td>\n",
       "    </tr>\n",
       "    <tr>\n",
       "      <th>2</th>\n",
       "      <td>Error Free</td>\n",
       "      <td>Defective</td>\n",
       "      <td>Defective</td>\n",
       "      <td>Error Free</td>\n",
       "    </tr>\n",
       "    <tr>\n",
       "      <th>3</th>\n",
       "      <td>Error Free</td>\n",
       "      <td>Error Free</td>\n",
       "      <td>Error Free</td>\n",
       "      <td>Error Free</td>\n",
       "    </tr>\n",
       "    <tr>\n",
       "      <th>4</th>\n",
       "      <td>Error Free</td>\n",
       "      <td>Error Free</td>\n",
       "      <td>Defective</td>\n",
       "      <td>Error Free</td>\n",
       "    </tr>\n",
       "  </tbody>\n",
       "</table>\n",
       "</div>"
      ],
      "text/plain": [
       "  Phillippines   Indonesia       Malta       India\n",
       "0   Error Free  Error Free   Defective  Error Free\n",
       "1   Error Free  Error Free  Error Free   Defective\n",
       "2   Error Free   Defective   Defective  Error Free\n",
       "3   Error Free  Error Free  Error Free  Error Free\n",
       "4   Error Free  Error Free   Defective  Error Free"
      ]
     },
     "execution_count": 134,
     "metadata": {},
     "output_type": "execute_result"
    }
   ],
   "source": [
    "customer = pd.read_csv('Dataset/Customer+OrderForm.csv')\n",
    "customer.head()"
   ]
  },
  {
   "cell_type": "code",
   "execution_count": 135,
   "id": "56f0d6b4",
   "metadata": {},
   "outputs": [
    {
     "data": {
      "text/html": [
       "<div>\n",
       "<style scoped>\n",
       "    .dataframe tbody tr th:only-of-type {\n",
       "        vertical-align: middle;\n",
       "    }\n",
       "\n",
       "    .dataframe tbody tr th {\n",
       "        vertical-align: top;\n",
       "    }\n",
       "\n",
       "    .dataframe thead th {\n",
       "        text-align: right;\n",
       "    }\n",
       "</style>\n",
       "<table border=\"1\" class=\"dataframe\">\n",
       "  <thead>\n",
       "    <tr style=\"text-align: right;\">\n",
       "      <th></th>\n",
       "      <th>Phillippines</th>\n",
       "      <th>Indonesia</th>\n",
       "      <th>Malta</th>\n",
       "      <th>India</th>\n",
       "    </tr>\n",
       "  </thead>\n",
       "  <tbody>\n",
       "    <tr>\n",
       "      <th>count</th>\n",
       "      <td>300</td>\n",
       "      <td>300</td>\n",
       "      <td>300</td>\n",
       "      <td>300</td>\n",
       "    </tr>\n",
       "    <tr>\n",
       "      <th>unique</th>\n",
       "      <td>2</td>\n",
       "      <td>2</td>\n",
       "      <td>2</td>\n",
       "      <td>2</td>\n",
       "    </tr>\n",
       "    <tr>\n",
       "      <th>top</th>\n",
       "      <td>Error Free</td>\n",
       "      <td>Error Free</td>\n",
       "      <td>Error Free</td>\n",
       "      <td>Error Free</td>\n",
       "    </tr>\n",
       "    <tr>\n",
       "      <th>freq</th>\n",
       "      <td>271</td>\n",
       "      <td>267</td>\n",
       "      <td>269</td>\n",
       "      <td>280</td>\n",
       "    </tr>\n",
       "  </tbody>\n",
       "</table>\n",
       "</div>"
      ],
      "text/plain": [
       "       Phillippines   Indonesia       Malta       India\n",
       "count           300         300         300         300\n",
       "unique            2           2           2           2\n",
       "top      Error Free  Error Free  Error Free  Error Free\n",
       "freq            271         267         269         280"
      ]
     },
     "execution_count": 135,
     "metadata": {},
     "output_type": "execute_result"
    }
   ],
   "source": [
    "customer.describe()"
   ]
  },
  {
   "cell_type": "code",
   "execution_count": 136,
   "id": "c52a8dfb",
   "metadata": {},
   "outputs": [
    {
     "data": {
      "text/html": [
       "<div>\n",
       "<style scoped>\n",
       "    .dataframe tbody tr th:only-of-type {\n",
       "        vertical-align: middle;\n",
       "    }\n",
       "\n",
       "    .dataframe tbody tr th {\n",
       "        vertical-align: top;\n",
       "    }\n",
       "\n",
       "    .dataframe thead th {\n",
       "        text-align: right;\n",
       "    }\n",
       "</style>\n",
       "<table border=\"1\" class=\"dataframe\">\n",
       "  <thead>\n",
       "    <tr style=\"text-align: right;\">\n",
       "      <th></th>\n",
       "      <th>Phillippines</th>\n",
       "      <th>Indonesia</th>\n",
       "      <th>Malta</th>\n",
       "      <th>India</th>\n",
       "    </tr>\n",
       "  </thead>\n",
       "  <tbody>\n",
       "    <tr>\n",
       "      <th>count</th>\n",
       "      <td>300</td>\n",
       "      <td>300</td>\n",
       "      <td>300</td>\n",
       "      <td>300</td>\n",
       "    </tr>\n",
       "    <tr>\n",
       "      <th>unique</th>\n",
       "      <td>2</td>\n",
       "      <td>2</td>\n",
       "      <td>2</td>\n",
       "      <td>2</td>\n",
       "    </tr>\n",
       "    <tr>\n",
       "      <th>top</th>\n",
       "      <td>Error Free</td>\n",
       "      <td>Error Free</td>\n",
       "      <td>Error Free</td>\n",
       "      <td>Error Free</td>\n",
       "    </tr>\n",
       "    <tr>\n",
       "      <th>freq</th>\n",
       "      <td>271</td>\n",
       "      <td>267</td>\n",
       "      <td>269</td>\n",
       "      <td>280</td>\n",
       "    </tr>\n",
       "  </tbody>\n",
       "</table>\n",
       "</div>"
      ],
      "text/plain": [
       "       Phillippines   Indonesia       Malta       India\n",
       "count           300         300         300         300\n",
       "unique            2           2           2           2\n",
       "top      Error Free  Error Free  Error Free  Error Free\n",
       "freq            271         267         269         280"
      ]
     },
     "execution_count": 136,
     "metadata": {},
     "output_type": "execute_result"
    }
   ],
   "source": [
    "customer_cleaned = customer.dropna()\n",
    "customer_cleaned.describe()\n"
   ]
  },
  {
   "cell_type": "code",
   "execution_count": 145,
   "id": "9656a426",
   "metadata": {},
   "outputs": [
    {
     "name": "stdout",
     "output_type": "stream",
     "text": [
      "            Phillippines  Indonesia  Malta  India\n",
      "Error Free           271        267    269    280\n",
      "Defective             29         33     31     20\n"
     ]
    }
   ],
   "source": [
    "customer_categories = customer_cleaned['India'].value_counts()\n",
    "# create a table for the catagories across  Phillippines,Indonesia,Malta,India countries, dont use cross tabulation\n",
    "table = pd.DataFrame({\n",
    "    'Phillippines': [customer_cleaned['Phillippines'].value_counts().get('Error Free', 0),\n",
    "                     customer_cleaned['Phillippines'].value_counts().get('Defective', 0)],\n",
    "    'Indonesia': [customer_cleaned['Indonesia'].value_counts().get('Error Free', 0),\n",
    "                  customer_cleaned['Indonesia'].value_counts().get('Defective', 0)],\n",
    "    'Malta': [customer_cleaned['Malta'].value_counts().get('Error Free', 0),\n",
    "              customer_cleaned['Malta'].value_counts().get('Defective', 0)],\n",
    "    'India': [customer_cleaned['India'].value_counts().get('Error Free', 0),\n",
    "              customer_cleaned['India'].value_counts().get('Defective', 0)]\n",
    "}, index=['Error Free', 'Defective'])\n",
    "print(table)\n",
    "\n",
    "\n"
   ]
  },
  {
   "cell_type": "code",
   "execution_count": 148,
   "id": "e2e0e628",
   "metadata": {},
   "outputs": [
    {
     "name": "stdout",
     "output_type": "stream",
     "text": [
      "Chi-Square Statistic: 3.858960685820355\n",
      "P-value: 0.2771020991233135\n",
      "Degrees of Freedom: 3\n",
      "Fail to reject the null hypothesis: The distributions are not significantly different.\n"
     ]
    }
   ],
   "source": [
    "#categorical variables\n",
    "from scipy.stats import chi2_contingency\n",
    "# Perform the Chi-Square test\n",
    "chi2, p_value, dof, expected = chi2_contingency(table)\n",
    "print(f'Chi-Square Statistic: {chi2}')\n",
    "print(f'P-value: {p_value}')\n",
    "print(f'Degrees of Freedom: {dof}')\n",
    "# If p-value < 0.05, we reject the null hypothesis that the distributions are independent\n",
    "if p_value < 0.05:\n",
    "    print(\"Reject the null hypothesis: The distributions are significantly different.\")\n",
    "else:\n",
    "    print(\"Fail to reject the null hypothesis: The distributions are not significantly different.\")\n"
   ]
  }
 ],
 "metadata": {
  "kernelspec": {
   "display_name": "Python 3",
   "language": "python",
   "name": "python3"
  },
  "language_info": {
   "codemirror_mode": {
    "name": "ipython",
    "version": 3
   },
   "file_extension": ".py",
   "mimetype": "text/x-python",
   "name": "python",
   "nbconvert_exporter": "python",
   "pygments_lexer": "ipython3",
   "version": "3.10.11"
  }
 },
 "nbformat": 4,
 "nbformat_minor": 5
}
