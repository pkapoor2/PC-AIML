{
 "cells": [
  {
   "cell_type": "markdown",
   "id": "88c2a2e2",
   "metadata": {},
   "source": [
    "# Applied Data Science with Python: \n",
    "# Incremental Capstone 1 Session 3"
   ]
  },
  {
   "cell_type": "markdown",
   "id": "299f9622",
   "metadata": {},
   "source": [
    "### Project Statement: Develop a comprehensive solution for data aggregation, wrangling, and visualization using a healthcare dataset for the Aura platform. The goal is to effectively manage and process complex healthcare data to enable insightful analysis and enhance data-driven decision-making capabilities within Aura.\n"
   ]
  },
  {
   "cell_type": "markdown",
   "id": "96fa09e3",
   "metadata": {},
   "source": [
    "### Variable Descriptions\n",
    "\n",
    "| **Variable**   | **Description**                                                                 | **Type** |\n",
    "|----------------|---------------------------------------------------------------------------------|---------------|\n",
    "| `visits`       | Number of physician office visits                                               | numeric         |\n",
    "| `nvisits`      | Number of non-physician office visits                                           | numeric         |\n",
    "| `ovisits`      | Number of physician hospital outpatient visits                                  | numeric         |\n",
    "| `novisits`     | Number of non-physician hospital outpatient visits                              | numeric         |\n",
    "| `emergency`    | Emergency room visits                                                           | numeric         |\n",
    "| `health`       | Factor indicating self-perceived health                                         | categorical        |\n",
    "| `chronic`      | Number of chronic conditions                                                    | numeric         |\n",
    "| `adl`          | Factor indicating whether the individual has a condition that limits activities of daily living | categorical        |\n",
    "| `region`       | Factor indicating region                                                        | categorical        |\n",
    "| `age`          | Age in years (divided by 10)                                                    | numeric       |\n",
    "| `hospital`     | Number of hospital stays                                                        | numeric         |\n",
    "| `gender`       | Factor indicating gender                                                        | categorical        |\n",
    "| `school`       | Number of years of education                                                    | numeric         |\n",
    "| `employed`     | Factor. Is the individual employed?                                             | categorical        |\n",
    "| `medicaid`     | Factor. Is the individual covered by Medicaid?                                  | categorical        |\n",
    "| `married`      | Factor. Is the individual married?                                              | categorical        |\n",
    "| `income`       | Family income in USD 10,000                                                     | numeric       |\n",
    "| `insurance`    | Factor. Is the individual covered by private insurance?                         | categorical        |"
   ]
  },
  {
   "cell_type": "markdown",
   "id": "2621009a",
   "metadata": {},
   "source": [
    "## Two Huge Problems With This Dataset\n",
    "\n",
    "1. Medicare: there is no explicit variable for __Medicare__. This is a significant omission, especially when analyzing individuals aged 65 and over — who, in the U.S., are generally eligible for Medicare. As a result, some individuals who appear uninsured may in fact be covered by Medicare, but are either:\n",
    "- Captured under a generic `insurance` category\n",
    "- Misclassified due to self-reporting, question ambiguity, or cognitive factors\n",
    "\n",
    "2. Class Imbalance: In classification problems, it's important to check for **class imbalance** — when one category appears much more frequently than another. In this dataset, 90% of respondents are marked as `employed = no` and only 10% as `yes`, so models using this dataset may learn to always predict 'no' and still appear accurate, even though they're failing to detect the minority class. There are numerous class imbalances in this dataset, so tread carefully."
   ]
  },
  {
   "cell_type": "markdown",
   "id": "16e59987",
   "metadata": {},
   "source": [
    "### Session 3 Tasks\n",
    "1. Import relevant Python libraries.\n",
    "2. Import the CSV file – NSMES1988updated.csv into a dataframe.\n",
    "3. Identify the different data types: numerical and categorical.\n",
    "4. Perform a detailed data pivoting including the features `Health` and `Region` and report your findings.\n",
    "5. Perform analysis based on the following criteria: Different types of visits, Gender, Marital Status, School, Income, Employment Status, Insurance, and Medicaid.\n",
    "6. Explore and analyze the dataset to gain insights into how different factors relate to each other within the dataset. Group the data according to specific demographic and economic criteria below, and create a series of distribution tables by considering the instructions below:\n",
    "- __Age and Gender Distribution__: Generate a table to view the number of individuals within each age group, separated by gender.\n",
    "- __Health Status by Gender__: Create a distribution table that categorizes individuals by their health status, differentiated by gender.\n",
    "- __Income Distribution by Gender__: Compile a table to examine the income distribution across genders.\n",
    "- __Regional Income Distribution__: Prepare a table to display the income distribution across various regions.\n",
    "- __Age-wise Income Analysis__: Develop a table to analyze the relationship between age and income.\n",
    "7. Report your findings.\n"
   ]
  },
  {
   "cell_type": "markdown",
   "id": "0947925a",
   "metadata": {},
   "source": [
    "### Task 1: Import relevant Python libraries."
   ]
  },
  {
   "cell_type": "code",
   "execution_count": null,
   "id": "59effe50",
   "metadata": {
    "vscode": {
     "languageId": "plaintext"
    }
   },
   "outputs": [],
   "source": []
  },
  {
   "cell_type": "markdown",
   "id": "4c8af448",
   "metadata": {},
   "source": [
    "### Task 2: Import the CSV file – NSMES1988updated.csv into a dataframe."
   ]
  },
  {
   "cell_type": "code",
   "execution_count": null,
   "id": "e485f5a7",
   "metadata": {
    "vscode": {
     "languageId": "plaintext"
    }
   },
   "outputs": [],
   "source": []
  },
  {
   "cell_type": "markdown",
   "id": "879d381c",
   "metadata": {},
   "source": [
    "### Task 3: Identify the different data types: numerical and categorical."
   ]
  },
  {
   "cell_type": "code",
   "execution_count": null,
   "id": "ebf06487",
   "metadata": {
    "vscode": {
     "languageId": "plaintext"
    }
   },
   "outputs": [],
   "source": []
  },
  {
   "cell_type": "markdown",
   "id": "d76ce97d",
   "metadata": {},
   "source": [
    "### Task 4: Perform a detailed data pivoting including the features `Health` and `Region` and report your findings."
   ]
  },
  {
   "cell_type": "code",
   "execution_count": null,
   "id": "0ef1c6eb",
   "metadata": {
    "vscode": {
     "languageId": "plaintext"
    }
   },
   "outputs": [],
   "source": []
  },
  {
   "cell_type": "markdown",
   "id": "b934a50e",
   "metadata": {},
   "source": [
    "### Task 5: Perform analysis based on the following criteria: Different types of visits, Gender, Marital Status, School, Income, Employment Status, Insurance, and Medicaid."
   ]
  },
  {
   "cell_type": "code",
   "execution_count": null,
   "id": "8d1240ec",
   "metadata": {
    "vscode": {
     "languageId": "plaintext"
    }
   },
   "outputs": [],
   "source": []
  },
  {
   "cell_type": "markdown",
   "id": "a8a66114",
   "metadata": {},
   "source": [
    "### Task 6: Explore and analyze the dataset to gain insights into how different factors relate to each other within the dataset. Group the data according to specific demographic and economic criteria below, and create a series of distribution tables by considering the instructions below:"
   ]
  },
  {
   "cell_type": "markdown",
   "id": "4117ace5",
   "metadata": {},
   "source": [
    "- __Age and Gender Distribution__: Generate a table to view the number of individuals within each age group, separated by gender."
   ]
  },
  {
   "cell_type": "code",
   "execution_count": null,
   "id": "6800b46f",
   "metadata": {
    "vscode": {
     "languageId": "plaintext"
    }
   },
   "outputs": [],
   "source": []
  },
  {
   "cell_type": "markdown",
   "id": "60c133dd",
   "metadata": {},
   "source": [
    "- __Health Status by Gender__: Create a distribution table that categorizes individuals by their health status, differentiated by gender."
   ]
  },
  {
   "cell_type": "code",
   "execution_count": null,
   "id": "3e515e4a",
   "metadata": {
    "vscode": {
     "languageId": "plaintext"
    }
   },
   "outputs": [],
   "source": []
  },
  {
   "cell_type": "markdown",
   "id": "6e5798f5",
   "metadata": {},
   "source": [
    "- __Income Distribution by Gender__: Compile a table to examine the income distribution across genders."
   ]
  },
  {
   "cell_type": "code",
   "execution_count": null,
   "id": "cd23d2da",
   "metadata": {
    "vscode": {
     "languageId": "plaintext"
    }
   },
   "outputs": [],
   "source": []
  },
  {
   "cell_type": "markdown",
   "id": "cda5af47",
   "metadata": {},
   "source": [
    "- __Regional Income Distribution__: Prepare a table to display the income distribution across various regions."
   ]
  },
  {
   "cell_type": "code",
   "execution_count": null,
   "id": "ac831bdc",
   "metadata": {
    "vscode": {
     "languageId": "plaintext"
    }
   },
   "outputs": [],
   "source": []
  },
  {
   "cell_type": "markdown",
   "id": "cf8c7785",
   "metadata": {},
   "source": [
    "- __Age-wise Income Analysis__: Develop a table to analyze the relationship between age and income."
   ]
  },
  {
   "cell_type": "code",
   "execution_count": null,
   "id": "f902aed3",
   "metadata": {
    "vscode": {
     "languageId": "plaintext"
    }
   },
   "outputs": [],
   "source": []
  },
  {
   "cell_type": "markdown",
   "id": "4dfacdc6",
   "metadata": {},
   "source": [
    "### Task 7: Report your findings."
   ]
  },
  {
   "cell_type": "markdown",
   "id": "b5cb0500",
   "metadata": {},
   "source": []
  }
 ],
 "metadata": {
  "kernelspec": {
   "display_name": "teach",
   "language": "python",
   "name": "python3"
  },
  "language_info": {
   "name": "python",
   "version": "3.12.10"
  }
 },
 "nbformat": 4,
 "nbformat_minor": 5
}
