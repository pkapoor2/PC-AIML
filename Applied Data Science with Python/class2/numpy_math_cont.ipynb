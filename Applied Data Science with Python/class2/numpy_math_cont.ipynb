{
 "cells": [
  {
   "cell_type": "code",
   "execution_count": 7,
   "id": "c9674b00",
   "metadata": {},
   "outputs": [
    {
     "name": "stdout",
     "output_type": "stream",
     "text": [
      "[[ 5  7  9]\n",
      " [11 13 15]]\n",
      "[[     1     32    729]\n",
      " [  2401  32768 531441]]\n",
      "[[ 4 10 18]\n",
      " [28 40 54]]\n",
      "[[0.25 0.4  0.5 ]\n",
      " [1.75 1.6  1.5 ]]\n"
     ]
    }
   ],
   "source": [
    "import numpy as np\n",
    "\n",
    "a = np.array([[1, 2, 3],[7, 8, 9]]) # 2D array\n",
    "b = np.array([4, 5, 6]) \n",
    "c = a + b # sum\n",
    "print(c)\n",
    "c = a ** b # pow\n",
    "print(c)\n",
    "c = a * b # product\n",
    "print(c)\n",
    "c = a / b # division\n",
    "print(c)\n"
   ]
  },
  {
   "cell_type": "code",
   "execution_count": 11,
   "id": "e964beff",
   "metadata": {},
   "outputs": [
    {
     "name": "stdout",
     "output_type": "stream",
     "text": [
      "[4. 5. 6.]\n",
      "[2. 5. 8.]\n",
      "5.0\n",
      "5.0\n",
      "2.581988897471611\n",
      "6.666666666666667\n"
     ]
    }
   ],
   "source": [
    "array = np.array([[1, 2, 3],[4, 5, 6],[7,8,9]])\n",
    "\n",
    "#average\n",
    "average = np.average(array, axis=0) #average of each column\n",
    "print(average)\n",
    "average = np.average(array, axis=1) #average of each row\n",
    "print(average)\n",
    "#mean\n",
    "mean = np.mean(array)\n",
    "print(mean)\n",
    "#median\n",
    "median = np.median(array)\n",
    "print(median)\n",
    "#std\n",
    "std = np.std(array)\n",
    "print(std)\n",
    "#variance\n",
    "variance = np.var(array)\n",
    "print(variance)\n"
   ]
  },
  {
   "cell_type": "code",
   "execution_count": 15,
   "id": "83d72540",
   "metadata": {},
   "outputs": [
    {
     "name": "stdout",
     "output_type": "stream",
     "text": [
      "['ad' 'bb' 'ccf']\n",
      "['aaa' 'bbb' 'cccccc']\n",
      "[False  True False]\n",
      "[1 1 2]\n",
      "[list(['a']) list(['b']) list(['cc'])]\n",
      "['a' 'b' 'c-c']\n",
      "['A' 'b' 'cc']\n",
      "['a' 'b' 'cc']\n",
      "['A' 'B' 'CC']\n",
      "['a' 'b' 'cc']\n",
      "['A' 'B' 'Cc']\n"
     ]
    }
   ],
   "source": [
    "#string manipulation\n",
    "x = np.array(['a', 'b', 'cc'])\n",
    "y = np.array(['d', 'b', 'f'])\n",
    "z = np.char.add(x, y) #concatenate\n",
    "print(z)\n",
    "z= np.char.multiply(x, 3) #repeat\n",
    "print(z)\n",
    "#string comparison\n",
    "z = np.char.equal(x, y) #compare\n",
    "print(z)\n",
    "#string length\n",
    "z = np.char.str_len(x) #length\n",
    "print(z)\n",
    "#string split\n",
    "z = np.char.split(x) #split\n",
    "print(z)\n",
    "#string join\n",
    "z = np.char.join('-', x) #join\n",
    "print(z)\n",
    "#string replace\n",
    "z = np.char.replace(x, 'a', 'A') #replace\n",
    "print(z)\n",
    "z= np.char.strip(x) #strip\n",
    "print(z)\n",
    "#string upper and lower\n",
    "z = np.char.upper(x) #upper\n",
    "print(z)\n",
    "z = np.char.lower(x) #lower\n",
    "print(z)\n",
    "#string capitalize\n",
    "z = np.char.capitalize(x) #capitalize\n",
    "print(z)"
   ]
  },
  {
   "cell_type": "code",
   "execution_count": 16,
   "id": "e33aa904",
   "metadata": {},
   "outputs": [
    {
     "name": "stdout",
     "output_type": "stream",
     "text": [
      "1\n",
      "2\n",
      "4\n",
      "5\n",
      "9\n",
      "8\n",
      "[[1 2]\n",
      " [4 5]]\n",
      "[[5 6]\n",
      " [8 9]]\n"
     ]
    }
   ],
   "source": [
    "#indexing and slicing\n",
    "a = np.array([[1, 2, 3],[4, 5, 6],[7,8,9]])\n",
    "print(a[0, 0]) #first element\n",
    "print(a[0, 1]) #second element\n",
    "print(a[1, 0]) #fourth element\n",
    "print(a[1, 1]) #fifth element\n",
    "#negative indexing\n",
    "print(a[-1, -1]) #last element\n",
    "print(a[-1, -2]) #second last element\n",
    "#SLICING\n",
    "print(a[0:2, 0:2]) #first two rows and first two columns\n",
    "print(a[1:3, 1:3]) #last two rows and last two columns\n"
   ]
  }
 ],
 "metadata": {
  "kernelspec": {
   "display_name": "Python 3",
   "language": "python",
   "name": "python3"
  },
  "language_info": {
   "codemirror_mode": {
    "name": "ipython",
    "version": 3
   },
   "file_extension": ".py",
   "mimetype": "text/x-python",
   "name": "python",
   "nbconvert_exporter": "python",
   "pygments_lexer": "ipython3",
   "version": "3.10.11"
  }
 },
 "nbformat": 4,
 "nbformat_minor": 5
}
