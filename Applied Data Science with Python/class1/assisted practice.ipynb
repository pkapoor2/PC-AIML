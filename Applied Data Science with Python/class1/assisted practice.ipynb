{
 "cells": [
  {
   "cell_type": "code",
   "execution_count": 54,
   "id": "3bae6781",
   "metadata": {},
   "outputs": [],
   "source": [
    "import random\n",
    "import numpy as np\n",
    "#indexing the lazy way\n",
    "def rnd_idx(shape,negative=False):\n",
    "    \"\"\"Generate random indices for a given shape.\"\"\"\n",
    "    if negative:\n",
    "        return tuple(random.randrange(s)-s for s in shape)\n",
    "    else:\n",
    "        return tuple(random.randrange(s) for s in shape)\n",
    "def rnd_idx_gen(shape,negative=False):\n",
    "    \"\"\"Generate random indices for a given shape.\"\"\"\n",
    "    used = set()\n",
    "    while len(used) < np.prod(shape):\n",
    "        idx = rnd_idx(shape,negative)\n",
    "        if idx not in used:\n",
    "            used.add(idx)\n",
    "            yield idx\n",
    "# generate 1d,2d,3d arrays\n",
    "arr = np.array([1, 2, 3,4,5,6,7,8,9,10,11,12])\n",
    "a = arr.reshape(12)\n",
    "b = arr.reshape(3,4)\n",
    "c = arr.reshape(2,2,3)\n"
   ]
  },
  {
   "cell_type": "code",
   "execution_count": 55,
   "id": "20bf2b9d",
   "metadata": {},
   "outputs": [
    {
     "name": "stdout",
     "output_type": "stream",
     "text": [
      "positive indexing\n",
      "elem at (7,): 8\n",
      "elem at (5,): 6\n",
      "elem at (0,): 1\n",
      "elem at (3,): 4\n",
      "elem at (11,): 12\n",
      "elem at (9,): 10\n",
      "elem at (8,): 9\n",
      "elem at (4,): 5\n",
      "elem at (6,): 7\n",
      "elem at (10,): 11\n",
      "elem at (1,): 2\n",
      "elem at (2,): 3\n",
      "===\n",
      "elem at (0, 0): 1\n",
      "elem at (0, 2): 3\n",
      "elem at (1, 2): 7\n",
      "elem at (2, 2): 11\n",
      "elem at (0, 3): 4\n",
      "elem at (2, 0): 9\n",
      "elem at (1, 1): 6\n",
      "elem at (2, 1): 10\n",
      "elem at (1, 3): 8\n",
      "elem at (0, 1): 2\n",
      "elem at (2, 3): 12\n",
      "elem at (1, 0): 5\n",
      "===\n",
      "elem at (1, 1, 2): 12\n",
      "elem at (1, 1, 0): 10\n",
      "elem at (0, 1, 0): 4\n",
      "elem at (1, 0, 1): 8\n",
      "elem at (0, 0, 1): 2\n",
      "elem at (1, 1, 1): 11\n",
      "elem at (1, 0, 2): 9\n",
      "elem at (1, 0, 0): 7\n",
      "elem at (0, 1, 2): 6\n",
      "elem at (0, 1, 1): 5\n",
      "elem at (0, 0, 0): 1\n",
      "elem at (0, 0, 2): 3\n",
      "======\n"
     ]
    }
   ],
   "source": [
    "#positive indexing\n",
    "print(\"positive indexing\")\n",
    "list(map(lambda loc: print(f\"elem at {loc}: {a[loc]}\"), rnd_idx_gen(a.shape)))\n",
    "print(\"===\")\n",
    "list(map(lambda loc: print(f\"elem at {loc}: {b[loc]}\"), rnd_idx_gen(b.shape)))\n",
    "print(\"===\")\n",
    "list(map(lambda loc: print(f\"elem at {loc}: {c[loc]}\"), rnd_idx_gen(c.shape)))\n",
    "print(\"======\")"
   ]
  },
  {
   "cell_type": "code",
   "execution_count": 56,
   "id": "fe77fc7e",
   "metadata": {},
   "outputs": [
    {
     "name": "stdout",
     "output_type": "stream",
     "text": [
      "negative indexing\n",
      "elem at (-10,): 3\n",
      "elem at (-11,): 2\n",
      "elem at (-5,): 8\n",
      "elem at (-8,): 5\n",
      "elem at (-4,): 9\n",
      "elem at (-6,): 7\n",
      "elem at (-12,): 1\n",
      "elem at (-3,): 10\n",
      "elem at (-7,): 6\n",
      "elem at (-1,): 12\n",
      "elem at (-2,): 11\n",
      "elem at (-9,): 4\n",
      "===\n",
      "elem at (-2, -2): 7\n",
      "elem at (-1, -2): 11\n",
      "elem at (-1, -1): 12\n",
      "elem at (-3, -4): 1\n",
      "elem at (-2, -1): 8\n",
      "elem at (-3, -2): 3\n",
      "elem at (-1, -4): 9\n",
      "elem at (-1, -3): 10\n",
      "elem at (-2, -4): 5\n",
      "elem at (-3, -1): 4\n",
      "elem at (-3, -3): 2\n",
      "elem at (-2, -3): 6\n",
      "===\n",
      "elem at (-2, -2, -3): 1\n",
      "elem at (-1, -2, -3): 7\n",
      "elem at (-2, -2, -1): 3\n",
      "elem at (-1, -2, -2): 8\n",
      "elem at (-1, -1, -3): 10\n",
      "elem at (-2, -1, -3): 4\n",
      "elem at (-2, -2, -2): 2\n",
      "elem at (-1, -1, -2): 11\n",
      "elem at (-2, -1, -1): 6\n",
      "elem at (-1, -2, -1): 9\n",
      "elem at (-2, -1, -2): 5\n",
      "elem at (-1, -1, -1): 12\n",
      "======\n"
     ]
    }
   ],
   "source": [
    "##negative indexing the lazy way\n",
    "print(\"negative indexing\")\n",
    "list(map(lambda loc: print(f\"elem at {loc}: {a[loc]}\"), rnd_idx_gen(a.shape,negative=True)))\n",
    "print(\"===\")\n",
    "list(map(lambda loc: print(f\"elem at {loc}: {b[loc]}\"), rnd_idx_gen(b.shape,negative=True)))\n",
    "print(\"===\")\n",
    "list(map(lambda loc: print(f\"elem at {loc}: {c[loc]}\"), rnd_idx_gen(c.shape,negative=True)))\n",
    "print(\"======\")"
   ]
  },
  {
   "cell_type": "code",
   "execution_count": 57,
   "id": "fe6157f2",
   "metadata": {},
   "outputs": [
    {
     "name": "stdout",
     "output_type": "stream",
     "text": [
      "slicing\n",
      "[4]\n",
      "(1,)\n",
      "[[5 6 7 8]]\n",
      "(1, 4)\n",
      "[[1 2]\n",
      " [5 6]]\n",
      "(2, 2)\n",
      "======\n"
     ]
    }
   ],
   "source": [
    "#slicing\n",
    "print(\"slicing\")\n",
    "print(a[3:4])\n",
    "print(a[3:4].shape)\n",
    "print(b[1:2])\n",
    "print(b[1:2].shape)\n",
    "print(b[0:2,0:2])\n",
    "print(b[0:2,0:2].shape)\n",
    "\n",
    "print(\"======\")"
   ]
  },
  {
   "cell_type": "code",
   "execution_count": 39,
   "id": "934c12e6",
   "metadata": {},
   "outputs": [
    {
     "name": "stdout",
     "output_type": "stream",
     "text": [
      "[ 1  2  3  4  5  6  7  8  9 10 11 12]\n",
      "[1 2 3]\n"
     ]
    }
   ],
   "source": [
    "print(a)\n",
    "print(a[0:3])"
   ]
  },
  {
   "cell_type": "code",
   "execution_count": 48,
   "id": "6b24f1de",
   "metadata": {},
   "outputs": [
    {
     "name": "stdout",
     "output_type": "stream",
     "text": [
      "12\n",
      "1\n"
     ]
    }
   ],
   "source": [
    "print(a[-1])\n",
    "print(a[-12])"
   ]
  }
 ],
 "metadata": {
  "kernelspec": {
   "display_name": "Python 3",
   "language": "python",
   "name": "python3"
  },
  "language_info": {
   "codemirror_mode": {
    "name": "ipython",
    "version": 3
   },
   "file_extension": ".py",
   "mimetype": "text/x-python",
   "name": "python",
   "nbconvert_exporter": "python",
   "pygments_lexer": "ipython3",
   "version": "3.10.11"
  }
 },
 "nbformat": 4,
 "nbformat_minor": 5
}
