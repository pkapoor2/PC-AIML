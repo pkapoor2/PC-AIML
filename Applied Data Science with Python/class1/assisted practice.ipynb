{
 "cells": [
  {
   "cell_type": "code",
   "execution_count": null,
   "id": "3bae6781",
   "metadata": {},
   "outputs": [
    {
     "name": "stdout",
     "output_type": "stream",
     "text": [
      "elem at (3,): 4\n",
      "elem at (0, 3): 4\n",
      "elem at (1, 1, 2): 12\n"
     ]
    }
   ],
   "source": [
    "import random\n",
    "import numpy as np\n",
    "\n",
    "def rnd_idx_gen(shape):\n",
    "    \"\"\"Generate random indices for a given shape.\"\"\"\n",
    "    return tuple(random.randrange(s) for s in shape)\n",
    "\n",
    "a = np.array([1, 2, 3,4,5,6,7,8,9,10])\n",
    "b = np.array([[1, 2, 3, 4], [5, 6, 7, 8], [9, 10, 11, 12]])  \n",
    "c = np.array([[[1, 2, 3], [4, 5, 6]], [[7, 8, 9], [10, 11, 12]]])\n",
    "a_loc = rnd_idx_gen(a.shape)\n",
    "b_loc = rnd_idx_gen(b.shape)\n",
    "c_loc = rnd_idx_gen(c.shape)\n",
    "print(f\"elem at {a_loc}: {a[a_loc]}\")\n",
    "print(f\"elem at {b_loc}: {b[b_loc]}\")\n",
    "print(f\"elem at {c_loc}: {c[c_loc]}\")"
   ]
  }
 ],
 "metadata": {
  "kernelspec": {
   "display_name": "Python 3",
   "language": "python",
   "name": "python3"
  },
  "language_info": {
   "codemirror_mode": {
    "name": "ipython",
    "version": 3
   },
   "file_extension": ".py",
   "mimetype": "text/x-python",
   "name": "python",
   "nbconvert_exporter": "python",
   "pygments_lexer": "ipython3",
   "version": "3.10.11"
  }
 },
 "nbformat": 4,
 "nbformat_minor": 5
}
