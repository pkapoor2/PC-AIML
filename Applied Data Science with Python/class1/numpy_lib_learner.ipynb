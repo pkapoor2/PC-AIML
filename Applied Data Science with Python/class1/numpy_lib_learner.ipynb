{
 "cells": [
  {
   "cell_type": "code",
   "execution_count": null,
   "id": "ef5ade85",
   "metadata": {},
   "outputs": [],
   "source": []
  },
  {
   "cell_type": "code",
   "execution_count": 3,
   "id": "9bb66a7e",
   "metadata": {},
   "outputs": [
    {
     "name": "stdout",
     "output_type": "stream",
     "text": [
      "[1 2 3 4 5]\n",
      "<class 'numpy.ndarray'>\n",
      "(5,)\n",
      "int32\n",
      "5\n",
      "1\n",
      "4\n",
      "[1 2 3 4 5]\n",
      "(5,)\n"
     ]
    }
   ],
   "source": [
    "import numpy as np\n",
    "\n",
    "arr = np.array([1, 2, 3, 4, 5])\n",
    "print(arr)\n",
    "print(type(arr))\n",
    "print(arr.shape)\n",
    "print(arr.dtype)\n",
    "print(arr.size)\n",
    "print(arr.ndim)\n",
    "print(arr.itemsize) \n",
    "print(arr.T)\n",
    "print(arr.T.shape)"
   ]
  },
  {
   "cell_type": "code",
   "execution_count": 30,
   "id": "8d5b4569",
   "metadata": {},
   "outputs": [],
   "source": [
    "def print_array(arr, type=0):\n",
    "    if type == 0:\n",
    "        print(f\"Array: {arr}, size: {arr.size}, itemsize: {arr.itemsize}, shape: {arr.shape}, ndim: {arr.ndim}\")\n",
    "    elif type == 1:\n",
    "        print(f\"dtype: {arr.dtype}, size: {arr.size}, itemsize: {arr.itemsize}, shape: {arr.shape}, ndim: {arr.ndim}\")\n",
    "    elif type == 2:\n",
    "        print(f\"shape: {arr.shape}, ndim: {arr.ndim}\")    "
   ]
  },
  {
   "cell_type": "code",
   "execution_count": null,
   "id": "2505f2d7",
   "metadata": {},
   "outputs": [
    {
     "name": "stdout",
     "output_type": "stream",
     "text": [
      "Array: 24, size: 1, itemsize: 4, shape: (), ndim: 0\n",
      "Array: [1 3 5], size: 3, itemsize: 4, shape: (3,), ndim: 1\n",
      "Array: [[1]\n",
      " [3]\n",
      " [5]], size: 3, itemsize: 4, shape: (3, 1), ndim: 2\n",
      "Array: [[[1]\n",
      "  [3]\n",
      "  [5]]], size: 3, itemsize: 4, shape: (1, 3, 1), ndim: 3\n",
      "Array: [[ 1  3  5]\n",
      " [ 2  4  6]\n",
      " [ 3  7 11]], size: 9, itemsize: 4, shape: (3, 3), ndim: 2\n"
     ]
    }
   ],
   "source": [
    "arr0 = np.array(24)\n",
    "print_array(arr0)\n",
    "arr0 = np.array([1,3,5])\n",
    "print_array(arr0)\n",
    "arr0 = np.array([[1],[3],[5]])\n",
    "print_array(arr0)\n",
    "arr0 = np.array([[[1],[3],[5]]])\n",
    "print_array(arr0)\n",
    "arr0 = np.array([[1,3,5],[2,4,6],[3,7,11]])\n",
    "print_array(arr0)\n",
    "\n",
    "\n"
   ]
  },
  {
   "cell_type": "code",
   "execution_count": 23,
   "id": "759063ef",
   "metadata": {},
   "outputs": [
    {
     "name": "stdout",
     "output_type": "stream",
     "text": [
      "dtype: int32, size: 9, itemsize: 4, shape: (3, 3), ndim: 2\n",
      "dtype: int64, size: 9, itemsize: 8, shape: (3, 3), ndim: 2\n",
      "dtype: int16, size: 9, itemsize: 2, shape: (3, 3), ndim: 2\n"
     ]
    }
   ],
   "source": [
    "arr1 = np.array([[1,3,5],[2,4,6],[3,7,11]], dtype=np.int32)\n",
    "print_array(arr1,1)\n",
    "arr1 = np.array([[1,3,5],[2,4,6],[3,7,11]], dtype=np.int64)\n",
    "print_array(arr1,1)\n",
    "arr1 = np.array([[1,3,5],[2,4,6],[3,7,11]], dtype=np.int16)\n",
    "print_array(arr1,1)\n"
   ]
  },
  {
   "cell_type": "code",
   "execution_count": 26,
   "id": "e3f82c91",
   "metadata": {},
   "outputs": [],
   "source": [
    "from itertools import product\n",
    "\n",
    "def get_pairs(target):\n",
    "    \"\"\"\n",
    "    Generate pairs (x, y) such that x * y == target.\n",
    "    \"\"\"\n",
    "    candidates = range(1, target + 1)\n",
    "    return list(filter(lambda pair: pair[0] * pair[1] == target, product(candidates, candidates)))\n"
   ]
  },
  {
   "cell_type": "code",
   "execution_count": null,
   "id": "d8bf6b9a",
   "metadata": {},
   "outputs": [
    {
     "name": "stdout",
     "output_type": "stream",
     "text": [
      "Reshaped array to (1, 12):\n",
      "[[ 1  2  3  4  5  6  7  8  9 10 11 12]]\n",
      "shape: (1, 12), ndim: 2\n",
      "Reshaped array to (2, 6):\n",
      "[[ 1  2  3  4  5  6]\n",
      " [ 7  8  9 10 11 12]]\n",
      "shape: (2, 6), ndim: 2\n",
      "Reshaped array to (3, 4):\n",
      "[[ 1  2  3  4]\n",
      " [ 5  6  7  8]\n",
      " [ 9 10 11 12]]\n",
      "shape: (3, 4), ndim: 2\n",
      "Reshaped array to (4, 3):\n",
      "[[ 1  2  3]\n",
      " [ 4  5  6]\n",
      " [ 7  8  9]\n",
      " [10 11 12]]\n",
      "shape: (4, 3), ndim: 2\n",
      "Reshaped array to (6, 2):\n",
      "[[ 1  2]\n",
      " [ 3  4]\n",
      " [ 5  6]\n",
      " [ 7  8]\n",
      " [ 9 10]\n",
      " [11 12]]\n",
      "shape: (6, 2), ndim: 2\n",
      "Reshaped array to (12, 1):\n",
      "[[ 1]\n",
      " [ 2]\n",
      " [ 3]\n",
      " [ 4]\n",
      " [ 5]\n",
      " [ 6]\n",
      " [ 7]\n",
      " [ 8]\n",
      " [ 9]\n",
      " [10]\n",
      " [11]\n",
      " [12]]\n",
      "shape: (12, 1), ndim: 2\n",
      "Flattened array:\n",
      "[ 1  2  3  4  5  6  7  8  9 10 11 12]\n",
      "shape: (12,), ndim: 1\n"
     ]
    }
   ],
   "source": [
    "arr = np.array([1,2,3,4,5,6,7,8,9,10,11,12], dtype=np.int32)\n",
    "print(arr)\n",
    "print_array(arr,2)\n",
    "for pair in get_pairs(arr.size):\n",
    "    arr = arr.reshape(pair)\n",
    "    print(f\"Reshaped array to {pair}:\")\n",
    "    print(arr)\n",
    "    print_array(arr,2)\n",
    "arr = arr.flatten()\n",
    "print(f\"Flattened array:\")\n",
    "print(arr)\n",
    "print_array(arr,2)"
   ]
  }
 ],
 "metadata": {
  "kernelspec": {
   "display_name": "Python 3",
   "language": "python",
   "name": "python3"
  },
  "language_info": {
   "codemirror_mode": {
    "name": "ipython",
    "version": 3
   },
   "file_extension": ".py",
   "mimetype": "text/x-python",
   "name": "python",
   "nbconvert_exporter": "python",
   "pygments_lexer": "ipython3",
   "version": "3.10.11"
  }
 },
 "nbformat": 4,
 "nbformat_minor": 5
}
